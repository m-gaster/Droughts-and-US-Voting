{
 "cells": [
  {
   "cell_type": "markdown",
   "metadata": {
    "heading_collapsed": true
   },
   "source": [
    "## Notes for reader"
   ]
  },
  {
   "cell_type": "markdown",
   "metadata": {
    "hidden": true
   },
   "source": [
    "* To install Geopandas (finally...), you probably need to create a new conda environment and install geopandas there.\n",
    "    * I used the following commands in Anaconda prompt running as admin, on windows: \n",
    "        * \"conda install -n base nb_conda_kernels\"\n",
    "        * \"conda create -n geopandas_env geopandas ipykernel\"\n",
    "            * \"geopandas_env\" (in the above line)) is just what I named my new environment, you can name it whatever you want\n",
    "        * Finally, switch the kernel in your Jupyter notebook"
   ]
  },
  {
   "cell_type": "markdown",
   "metadata": {
    "heading_collapsed": true
   },
   "source": [
    "## Notes for me"
   ]
  },
  {
   "cell_type": "markdown",
   "metadata": {
    "hidden": true
   },
   "source": [
    "* From *Weather Anomalies...*:\n",
    "    * \"Farm labor is shielded from agricultural losses as we find an almost one-to-one increase in subsidy payments for weather-induced reduction in agricultural yields.\"\n",
    "    * During years when agriculture is doing well, non-farm employment is also expanding, while years with bad yields coincide with contractions in non-farm employment\n",
    "    * **\"For counties in the Corn Belt, the MEDIAN FRACTION OF EMPLOYMENT IN AGRICULTURE is 4.6% according to the 2000 decennial Census, based on data from Table QT-P30 of the Census 2000 summary file 3 (factfinder.census.gov).\"**\n",
    "    * \"We exclude all counties west of the 100 degree meridian and the state of Florida, as agriculture in those areas is heavily dependent on subsidized irrigation (see Reisner (1993) and Schlenker, Hanemann & Fisher (2005)).\"\n",
    "    * We label counties in the following 13 states Corn Belt counties: Illinois, Indiana, Iowa, Kansas, Kentucky, Michigan, Minnesota, Missouri, Nebraska, North Dakota, Ohio, South Dakota, and Wisconsin. 16 Counties outside these states that lie east of the 100 degree meridian except Florida are labeled the non-Corn Belt areas\n",
    "    \n",
    "* lee butler moretti 2004 \n",
    "    * show that congresspeople have a lot of say in how they vote; are not strictly indebted to / in line with their voters\n",
    "    \n",
    "* Kerwin Charles, Stephens showed that (higher employment and/or higher income in an area) ==> lower voter turnout for non-presidential elections"
   ]
  },
  {
   "cell_type": "markdown",
   "metadata": {
    "heading_collapsed": true
   },
   "source": [
    "## Thoughts"
   ]
  },
  {
   "cell_type": "markdown",
   "metadata": {
    "hidden": true
   },
   "source": [
    "* Compare most agricultural districts to completely non-agricultural ones\n",
    "    * Maybe use corn belt specifically (following *Weather Anomalies, Crop Yields, and Migration in the US Corn Belt*)\n",
    "    \n",
    "* should I cluster my standard errors at the state level?"
   ]
  },
  {
   "cell_type": "markdown",
   "metadata": {
    "heading_collapsed": true
   },
   "source": [
    "# Summary:"
   ]
  },
  {
   "cell_type": "markdown",
   "metadata": {
    "hidden": true
   },
   "source": [
    "## \n",
    "\n",
    "This work follows Bruckner and Ciccone (2011), who found that the negative exogenous economic shocks which followed droughts in sub-Saharan Africa were solid contributors to / predictors of democratic revolutions. \n",
    "\n",
    "I attempt to establish a relationship between droughts (again serving as negative exogenous economic shocks) and political change, which might take any of the following forms:\n",
    "* Increased votes for a specific pro-farmer party (will have to investigate whether democrats or republicans are viewed as pro-farmer.)\n",
    "* Increased probability of an incumbent losing\n",
    "* Increased votes for the Democratic party, who generally favor greater redistribution (see: Acemoglu & Robinson)\n",
    "\n",
    "  \n",
    "  \n",
    " newline\n",
    "\n",
    "The equation of interest takes the form \\begin{equation} Y_{i,t} = \\alpha \\, * Drought_{i,t} + \\beta'X_{i,t} + \\phi_{i,t} + \\psi_{i,t} + u_{i,t} \\end{equation}\n",
    "\n",
    "where \n",
    "* $Y_{i,t} = $ our outcome of interest - either vote share for a particular party; probability of an incumbent losing; etc.\n",
    "* $\\alpha = $ the effect of drought on the outcome of interest\n",
    "* $X_{i,t} = $ characteristics of the district at time *t*, such as income, farming as a share of GDP, average farm size, etc.\n",
    "* $\\phi_{i,t} = $ district fixed effects\n",
    "* $\\psi_{i,t} = $ time fixed effects\n",
    "\n",
    "include willingness to elect other party? years since change of power? avg years for incumbent to stay in power?"
   ]
  },
  {
   "cell_type": "markdown",
   "metadata": {
    "heading_collapsed": true
   },
   "source": [
    "# Non-Geo Data Import and Cleaning"
   ]
  },
  {
   "cell_type": "markdown",
   "metadata": {
    "heading_collapsed": true,
    "hidden": true
   },
   "source": [
    "## Import and Setup"
   ]
  },
  {
   "cell_type": "code",
   "execution_count": 685,
   "metadata": {
    "hidden": true
   },
   "outputs": [],
   "source": [
    "import pandas as pd\n",
    "import numpy as np"
   ]
  },
  {
   "cell_type": "code",
   "execution_count": 686,
   "metadata": {
    "hidden": true
   },
   "outputs": [
    {
     "data": {
      "text/html": [
       "<style>.container { width:95% !important; }</style>"
      ],
      "text/plain": [
       "<IPython.core.display.HTML object>"
      ]
     },
     "metadata": {},
     "output_type": "display_data"
    }
   ],
   "source": [
    "pd.set_option('display.max_columns', 1000)\n",
    "pd.set_option('display.max_rows', 1000)\n",
    "pd.set_option('display.max_colwidth', 199)\n",
    "pd.options.display.float_format = '{:.2f}'.format\n",
    "\n",
    "from IPython.core.display import display, HTML\n",
    "display(HTML(\"<style>.container { width:95% !important; }</style>\"))"
   ]
  },
  {
   "cell_type": "markdown",
   "metadata": {
    "heading_collapsed": true,
    "hidden": true
   },
   "source": [
    "## Denote \"BASE_YEAR\" variable\n",
    "\n",
    "This is the first year where we have data available for all datasets in the analysis (with a few years for margin of error)"
   ]
  },
  {
   "cell_type": "code",
   "execution_count": 687,
   "metadata": {
    "hidden": true
   },
   "outputs": [],
   "source": [
    "BASE_YEAR = 1998\n",
    "\n",
    "# currently strictest year limitation comes from the drought dataset "
   ]
  },
  {
   "cell_type": "markdown",
   "metadata": {
    "heading_collapsed": true,
    "hidden": true
   },
   "source": [
    "## Market Value by District Data\n",
    "\n",
    "Note: Due to data/time limitations, I'm assuming that congressional districts that are currently highly agricultural were also highly agricultural over the period I examine. This is one place to expand my analysis when I have more time"
   ]
  },
  {
   "cell_type": "code",
   "execution_count": 688,
   "metadata": {
    "hidden": true
   },
   "outputs": [],
   "source": [
    "# from \n",
    "# https://www.nass.usda.gov/Publications/AgCensus/2012/Online_Resources/Congressional_District_Rankings/ , and\n",
    "# https://www.nass.usda.gov/Publications/AgCensus/2017/Online_Resources/Congressional_District_Rankings/\n",
    "farm_census_2012 = pd.read_csv(r\"C:\\Users\\mikha\\OneDrive\\Desktop\\Dropbox\\MIKHAEL NEW\\mikhael school\\Grad School\\Master's\\Term 2 Classes\\544\\Replication\\My Addition\\Mkt Value of Agr Products Sold\\2012.csv\")\n",
    "farm_census_2017 = pd.read_csv(r\"C:\\Users\\mikha\\OneDrive\\Desktop\\Dropbox\\MIKHAEL NEW\\mikhael school\\Grad School\\Master's\\Term 2 Classes\\544\\Replication\\My Addition\\Mkt Value of Agr Products Sold\\2017.csv\")\n",
    "\n",
    "farm_census_2012['year'] = 2012\n",
    "farm_census_2017['year'] = 2017\n",
    "\n",
    "# merge 2012 and 2017\n",
    "farm_census = pd.concat([farm_census_2012, farm_census_2017])\n",
    "\n",
    "#delete old dataframes\n",
    "del farm_census_2012, farm_census_2017"
   ]
  },
  {
   "cell_type": "markdown",
   "metadata": {
    "hidden": true
   },
   "source": [
    "### Replace \"AT LARGE\" districts with 0"
   ]
  },
  {
   "cell_type": "code",
   "execution_count": 689,
   "metadata": {
    "hidden": true
   },
   "outputs": [],
   "source": [
    "# temp_district = [x for x in farm_census['district']]\n",
    "# temp_district = [x.replace('AT LARGE', '0') for x in temp_district]\n",
    "# farm_census['district'] = temp_district\n",
    "\n",
    "farm_census['district'] = farm_census['district'].astype(str).replace('At Large', '0')\n",
    "\n",
    "farm_census['district'] = pd.to_numeric(farm_census['district'])"
   ]
  },
  {
   "cell_type": "markdown",
   "metadata": {
    "hidden": true
   },
   "source": [
    "### Collapse years into averages"
   ]
  },
  {
   "cell_type": "code",
   "execution_count": 690,
   "metadata": {
    "hidden": true
   },
   "outputs": [],
   "source": [
    "farm_census = farm_census.groupby(['state', 'district']).mean().reset_index()"
   ]
  },
  {
   "cell_type": "markdown",
   "metadata": {
    "hidden": true
   },
   "source": [
    "### Size of Farm\n",
    "\n",
    "This district average is a rough proxy, since we know nothing about the *distributions* of gdp per farm (e.g. there may be tons of small farms and one giant farm; or a bunch of medium-sized ones)"
   ]
  },
  {
   "cell_type": "code",
   "execution_count": 691,
   "metadata": {
    "hidden": true
   },
   "outputs": [],
   "source": [
    "#create farm_size var (gdp per farm)\n",
    "farm_census['farm_size'] = farm_census['value'] / farm_census['farms']"
   ]
  },
  {
   "cell_type": "markdown",
   "metadata": {
    "hidden": true
   },
   "source": [
    "### Rename some columns (useful after merging with *elec_df*)"
   ]
  },
  {
   "cell_type": "code",
   "execution_count": 692,
   "metadata": {
    "hidden": true
   },
   "outputs": [],
   "source": [
    "farm_census = farm_census.rename(columns={'value': 'agricultural_gdp', 'farms':'num_farms'})"
   ]
  },
  {
   "cell_type": "markdown",
   "metadata": {
    "hidden": true
   },
   "source": [
    "### Some Text Cleaning\n",
    "\n",
    "Need to deal with \"At-Large\" here"
   ]
  },
  {
   "cell_type": "code",
   "execution_count": 693,
   "metadata": {
    "hidden": true
   },
   "outputs": [
    {
     "name": "stderr",
     "output_type": "stream",
     "text": [
      "<ipython-input-693-456c1417a07c>:5: FutureWarning: The default value of regex will change from True to False in a future version.\n",
      "  farm_census['state'] = farm_census['state'].str.replace('\\d+', '')\n"
     ]
    }
   ],
   "source": [
    "# upper-case\n",
    "farm_census = farm_census.applymap(lambda s:s.upper() if type(s) == str else s)\n",
    "\n",
    "#remove non-alphabet characters\n",
    "farm_census['state'] = farm_census['state'].str.replace('\\d+', '')\n",
    "farm_census['state'] = farm_census['state'].str.replace('/', '')\n",
    "\n",
    "#delete \"rank\" of district in terms of agricultural output\n",
    "del farm_census['rank']"
   ]
  },
  {
   "cell_type": "code",
   "execution_count": 694,
   "metadata": {
    "hidden": true
   },
   "outputs": [],
   "source": [
    "# narrow down districts we can focus the analysis on\n",
    "agricultural_districts = {state.upper():set() for state in farm_census['state']}"
   ]
  },
  {
   "cell_type": "code",
   "execution_count": 695,
   "metadata": {
    "hidden": true
   },
   "outputs": [],
   "source": [
    "#this should now be redundant but ya never know\n",
    "\n",
    "for state_dist in list(zip(farm_census['state'], farm_census['district'])):\n",
    "    if state_dist[1] != 'AT LARGE':\n",
    "        agricultural_districts[state_dist[0]].add(int(state_dist[1]))\n",
    "    else:\n",
    "        agricultural_districts[state_dist[0]].add(state_dist[1])"
   ]
  },
  {
   "cell_type": "markdown",
   "metadata": {
    "heading_collapsed": true,
    "hidden": true
   },
   "source": [
    "## Election Data (House of Rep's)\n",
    "\n",
    "Include Senate data (same source)? Only catch is it isn't as specific to the agricultural districts. Could still be useful as a baseline.\n",
    "\n",
    "**TO DO**\n",
    "* Denote who won each election\n",
    "    * Create \"years in seat\" variable\n",
    "* Figure out whether to use pre-1998 data for incumbency\n",
    "* Figure out \"At Large\" stuff\n",
    "    * Note: \"At Large\" districts arenare denoted with zeros\n",
    "* There are \"NaNs\" in the data (under candidate name)"
   ]
  },
  {
   "cell_type": "code",
   "execution_count": 696,
   "metadata": {
    "hidden": true
   },
   "outputs": [],
   "source": [
    "# from https://electionlab.mit.edu/data \n",
    "elec_df = pd.read_csv(r\"C:\\Users\\mikha\\OneDrive\\Desktop\\Dropbox\\MIKHAEL NEW\\mikhael school\\Grad School\\Master's\\Term 2 Classes\\544\\Replication\\My Addition\\1976-2018 US House Election Data.csv\", engine='python')"
   ]
  },
  {
   "cell_type": "markdown",
   "metadata": {
    "hidden": true
   },
   "source": [
    "### Uppercase"
   ]
  },
  {
   "cell_type": "code",
   "execution_count": 697,
   "metadata": {
    "hidden": true
   },
   "outputs": [],
   "source": [
    "elec_df = elec_df.applymap(lambda s:s.upper() if type(s) == str else s)"
   ]
  },
  {
   "cell_type": "markdown",
   "metadata": {
    "hidden": true
   },
   "source": [
    "### Drop Unecessary Data Features and Observations"
   ]
  },
  {
   "cell_type": "code",
   "execution_count": 698,
   "metadata": {
    "hidden": true
   },
   "outputs": [],
   "source": [
    "# #drop if before 1998\n",
    "# elec_df = elec_df[elec_df['year'] >= 1998]\n",
    "\n",
    "#drop useless columns (one unique value and/or irrelevant info)\n",
    "elec_df.drop(['office', 'mode', 'version'], axis=1, inplace=True)\n",
    "\n",
    "#drop if not general election (other possibilites are primary or blank). This only drops ~90/30000 obs\n",
    "elec_df = elec_df[elec_df['stage']=='GEN']\n",
    "\n",
    "# drop runoffs - only 8 obs. Note that ~9k / 30k obs are \"NA\" under \"runoff\"\n",
    "elec_df = elec_df[elec_df['runoff']!='TRUE']"
   ]
  },
  {
   "cell_type": "markdown",
   "metadata": {
    "hidden": true
   },
   "source": [
    "### Denote presidential election years"
   ]
  },
  {
   "cell_type": "code",
   "execution_count": 699,
   "metadata": {
    "hidden": true
   },
   "outputs": [],
   "source": [
    "elec_df['DPres'] = elec_df['year'] % 4 == 0"
   ]
  },
  {
   "cell_type": "markdown",
   "metadata": {
    "hidden": true
   },
   "source": [
    "### Bring district agricultural data into elec_df"
   ]
  },
  {
   "cell_type": "markdown",
   "metadata": {
    "hidden": true
   },
   "source": [
    "#### Old"
   ]
  },
  {
   "cell_type": "code",
   "execution_count": 700,
   "metadata": {
    "hidden": true
   },
   "outputs": [
    {
     "data": {
      "text/plain": [
       "4"
      ]
     },
     "execution_count": 700,
     "metadata": {},
     "output_type": "execute_result"
    }
   ],
   "source": [
    "farm_census['district'].iloc[0]"
   ]
  },
  {
   "cell_type": "code",
   "execution_count": 701,
   "metadata": {
    "hidden": true
   },
   "outputs": [
    {
     "data": {
      "text/html": [
       "<div>\n",
       "<style scoped>\n",
       "    .dataframe tbody tr th:only-of-type {\n",
       "        vertical-align: middle;\n",
       "    }\n",
       "\n",
       "    .dataframe tbody tr th {\n",
       "        vertical-align: top;\n",
       "    }\n",
       "\n",
       "    .dataframe thead th {\n",
       "        text-align: right;\n",
       "    }\n",
       "</style>\n",
       "<table border=\"1\" class=\"dataframe\">\n",
       "  <thead>\n",
       "    <tr style=\"text-align: right;\">\n",
       "      <th></th>\n",
       "      <th>state</th>\n",
       "      <th>district</th>\n",
       "      <th>agricultural_gdp</th>\n",
       "      <th>num_farms</th>\n",
       "      <th>year</th>\n",
       "      <th>farm_size</th>\n",
       "    </tr>\n",
       "  </thead>\n",
       "  <tbody>\n",
       "    <tr>\n",
       "      <th>0</th>\n",
       "      <td>ALABAMA</td>\n",
       "      <td>4</td>\n",
       "      <td>2025841.00</td>\n",
       "      <td>11912.00</td>\n",
       "      <td>2014.50</td>\n",
       "      <td>170.07</td>\n",
       "    </tr>\n",
       "  </tbody>\n",
       "</table>\n",
       "</div>"
      ],
      "text/plain": [
       "     state  district  agricultural_gdp  num_farms    year  farm_size\n",
       "0  ALABAMA         4        2025841.00   11912.00 2014.50     170.07"
      ]
     },
     "execution_count": 701,
     "metadata": {},
     "output_type": "execute_result"
    }
   ],
   "source": [
    "farm_census[(farm_census['state']=='ALABAMA')]"
   ]
  },
  {
   "cell_type": "code",
   "execution_count": 702,
   "metadata": {
    "hidden": true,
    "scrolled": true
   },
   "outputs": [
    {
     "data": {
      "text/plain": [
       "4"
      ]
     },
     "execution_count": 702,
     "metadata": {},
     "output_type": "execute_result"
    }
   ],
   "source": [
    "farm_census[(farm_census['state']=='ALABAMA') & (farm_census['district']==4)]['district'].tolist()[0]"
   ]
  },
  {
   "cell_type": "code",
   "execution_count": 703,
   "metadata": {
    "hidden": true
   },
   "outputs": [],
   "source": [
    "# DENOTE WHETHER OR NOT IS A BIG AGRICULTURAL DISTRICT (that we have economic/agricultural data for)\n",
    "\n",
    "# this loop just appends 0 or 1 to the vector \"agricultural_obs\" if we have economic/agricultural data for that district\n",
    "agricultural_obs = []\n",
    "agricultural_gdp = []\n",
    "num_farms = []\n",
    "farm_size = []\n",
    "\n",
    "for i, row in elec_df.iterrows():\n",
    "    if row['state'] in agricultural_districts and row['district'] in agricultural_districts[row['state']]:\n",
    "        agricultural_obs.append(1)\n",
    "        agricultural_gdp.append(farm_census[ (farm_census['state']==row['state']) & (farm_census['district']==row['district']) ]['agricultural_gdp'].tolist()[0])\n",
    "        num_farms.append(farm_census[ (farm_census['state']==row['state']) & (farm_census['district']==row['district']) ]['num_farms'].tolist()[0])\n",
    "        farm_size.append(farm_census[ (farm_census['state']==row['state']) & (farm_census['district']==row['district']) ]['farm_size'].tolist()[0])\n",
    "    else:\n",
    "        agricultural_obs.append(0)\n",
    "        agricultural_gdp.append(0)\n",
    "        num_farms.append(0)\n",
    "        farm_size.append(0)\n",
    "\n",
    "# here we bring this vector into the df        \n",
    "elec_df['agricultural'] = agricultural_obs\n",
    "elec_df['agricultural_gdp'] = agricultural_gdp\n",
    "elec_df['num_farms'] = num_farms\n",
    "elec_df['farm_size'] = farm_size\n",
    "\n",
    "del agricultural_obs\n",
    "del agricultural_gdp\n",
    "del num_farms\n",
    "del farm_size"
   ]
  },
  {
   "cell_type": "markdown",
   "metadata": {
    "hidden": true
   },
   "source": [
    "### Who won, and by how much? Incumbent? Year on year change? Party voteshares?"
   ]
  },
  {
   "cell_type": "code",
   "execution_count": 704,
   "metadata": {
    "hidden": true
   },
   "outputs": [],
   "source": [
    "#voting dict is structured as voting_dict[state][year][district][candidate][votes]\n",
    "\n",
    "def div_by_zero(x,y):\n",
    "    if y!=0:\n",
    "        return x/y\n",
    "    else:\n",
    "        return 0\n",
    "\n",
    "voting_dict = {}\n",
    "for state in set(elec_df['state']):\n",
    "    voting_dict[state] = {}\n",
    "    for year in set(elec_df['year']):\n",
    "        voting_dict[state][year] = {}\n",
    "\n",
    "\n",
    "\n",
    "#do NOT combine following two loops into 2 lines. Otherwise, dict entries are overwritten for every new line that's iterated over\n",
    "for i, row in elec_df.iterrows():\n",
    "    voting_dict[ row['state'] ][ row['year'] ][ row['district'] ] = {}\n",
    "\n",
    "for i, row in elec_df.iterrows():\n",
    "    voting_dict[ row['state'] ][ row['year'] ][ row['district'] ] [row['candidate']] = {\n",
    "        'candidatevotes':row['candidatevotes'], 'totalvotes':row['totalvotes'],\n",
    "        'voteshare':div_by_zero(row['candidatevotes'],row['totalvotes']),\n",
    "        'Repub_voteshare':np.nan, 'Dem_voteshare':np.nan,\n",
    "        'D_republican':row['party']=='REPUBLICAN', 'D_democrat':row['party']=='DEMOCRAT'\n",
    "    }\n",
    "\n",
    "    \n",
    "    \n",
    "# note: the following loops look redundant (and maybe are) but need to be run separately so that previous loops can fully finish\n",
    "\n",
    "    \n",
    "#find winner of each election\n",
    "for state in voting_dict:\n",
    "    for year in voting_dict[state]:\n",
    "        for district in voting_dict[state][year]:\n",
    "            for candidate in voting_dict[state][year][district]:\n",
    "                \n",
    "                if voting_dict[state][year][district][candidate]['voteshare'] == max([voting_dict[state][year][district][can]['voteshare'] for can in voting_dict[state][year][district]]):\n",
    "                    voting_dict[state][year][district][candidate]['winner'] = 1\n",
    "                else:\n",
    "                    voting_dict[state][year][district][candidate]['winner'] = 0\n",
    "\n",
    "                    \n",
    "# create dem, repub voteshare entries (useful later) \n",
    "for state in voting_dict:\n",
    "    for year in voting_dict[state]:\n",
    "        for district in voting_dict[state][year]:\n",
    "            for candidate in voting_dict[state][year][district]:\n",
    "                \n",
    "                if voting_dict[state][year][district][candidate]['D_republican'] == 1: \n",
    "                    for cans in voting_dict[state][year][district]: # setting all candidates in this election to have republic voteshare = this candidate's voteshare\n",
    "                        voting_dict[state][year][district][cans]['Repub_voteshare'] = voting_dict[state][year][district][candidate]['voteshare']\n",
    "                \n",
    "                if voting_dict[state][year][district][candidate]['D_democrat'] == 1: \n",
    "                    for cans in voting_dict[state][year][district]: # setting all candidates in this election to have dem voteshare = this candidate's voteshare\n",
    "                        voting_dict[state][year][district][cans]['Dem_voteshare'] = voting_dict[state][year][district][candidate]['voteshare']\n",
    "                    \n",
    "                    \n",
    "# find change in voting share from last election. also create \"incumbent\" field\n",
    "for state in voting_dict:\n",
    "    for year in voting_dict[state]:\n",
    "        for district in voting_dict[state][year]:\n",
    "            for candidate in voting_dict[state][year][district]:\n",
    "                \n",
    "                try: #here I subtract voteshare this year from voteshare in the last election (2 years prior). if this is their first election, var set to nan\n",
    "                    voting_dict[state][year][district][candidate]['votesharediff'] = voting_dict[state][year][district][candidate]['voteshare'] - voting_dict[state][year - 2][district][candidate]['voteshare']\n",
    "                    voting_dict[state][year][district][candidate]['incumbent'] = 1\n",
    "                except:\n",
    "                    voting_dict[state][year][district][candidate]['votesharediff'] = np.nan\n",
    "                    voting_dict[state][year][district][candidate]['incumbent'] = 0\n",
    "                \n",
    "                \n",
    "# find total election turnout\n",
    "for state in voting_dict:\n",
    "    for year in voting_dict[state]:\n",
    "        for district in voting_dict[state][year]:\n",
    "            for candidate in voting_dict[state][year][district]:\n",
    "                \n",
    "                voting_dict[state][year][district][candidate]['total turnout'] = sum([voting_dict[state][year][district][can]['totalvotes'] for can in voting_dict[state][year][district]])"
   ]
  },
  {
   "cell_type": "markdown",
   "metadata": {
    "hidden": true
   },
   "source": [
    "### Bring \"voting_dict\" info into elec_df"
   ]
  },
  {
   "cell_type": "code",
   "execution_count": 705,
   "metadata": {
    "hidden": true
   },
   "outputs": [],
   "source": [
    "winner = []\n",
    "incumbent = []\n",
    "share_diff = []\n",
    "voteshare = []\n",
    "totalturnout = []\n",
    "repub_voteshare = []\n",
    "dem_voteshare = []\n",
    "\n",
    "for i, row in elec_df.iterrows():\n",
    "    winner.append(voting_dict[row['state']][row['year']][row['district']][row['candidate']]['winner'])\n",
    "    incumbent.append(voting_dict[row['state']][row['year']][row['district']][row['candidate']]['incumbent'])\n",
    "    share_diff.append(voting_dict[row['state']][row['year']][row['district']][row['candidate']]['votesharediff'])\n",
    "    voteshare.append(voting_dict[row['state']][row['year']][row['district']][row['candidate']]['voteshare'])\n",
    "    totalturnout.append(voting_dict[row['state']][row['year']][row['district']][row['candidate']]['totalvotes'])\n",
    "    repub_voteshare.append(voting_dict[row['state']][row['year']][row['district']][row['candidate']]['Repub_voteshare'])\n",
    "    dem_voteshare.append(voting_dict[row['state']][row['year']][row['district']][row['candidate']]['Dem_voteshare'])\n",
    "    \n",
    "\n",
    "    \n",
    "elec_df['winner'] = winner\n",
    "elec_df['incumbent'] = incumbent\n",
    "elec_df['share_diff'] = share_diff\n",
    "elec_df['voteshare'] = voteshare\n",
    "elec_df['totalturnout'] = totalturnout\n",
    "elec_df['Dem_voteshare'] = dem_voteshare\n",
    "elec_df['Repub_voteshare'] = repub_voteshare"
   ]
  },
  {
   "cell_type": "markdown",
   "metadata": {
    "hidden": true
   },
   "source": [
    "### Crucial to drop non-major parties *after* creating \"voting_dict\"\n",
    "\n",
    "Otherwise vote share will be incorrectly totalled"
   ]
  },
  {
   "cell_type": "code",
   "execution_count": 706,
   "metadata": {
    "code_folding": [],
    "hidden": true
   },
   "outputs": [],
   "source": [
    "#drop if not Democratic, Republican, or Libertarian candidate\n",
    "elec_df = elec_df[elec_df['party'].isin(['DEMOCRAT','REPUBLICAN', 'LIBERTARIAN'])]"
   ]
  },
  {
   "cell_type": "markdown",
   "metadata": {
    "heading_collapsed": true,
    "hidden": true
   },
   "source": [
    "## Create state to abbreviation dictionary"
   ]
  },
  {
   "cell_type": "code",
   "execution_count": 707,
   "metadata": {
    "hidden": true
   },
   "outputs": [],
   "source": [
    "state_abbrev_dict = {**elec_df.set_index('state')['state_po'].to_dict(), **elec_df.set_index('state_po')['state'].to_dict()}"
   ]
  },
  {
   "cell_type": "markdown",
   "metadata": {
    "hidden": true
   },
   "source": [
    "## Drought Data"
   ]
  },
  {
   "cell_type": "code",
   "execution_count": 708,
   "metadata": {
    "hidden": true
   },
   "outputs": [],
   "source": [
    "# from https://droughtmonitor.unl.edu/Data/DataDownload/ComprehensiveStatistics.aspx\n",
    "# data description here (under \"Excel\") https://droughtmonitor.unl.edu/Data/Metadata.aspx\n",
    "\n",
    "drought_df = pd.read_csv(r\"C:\\Users\\mikha\\OneDrive\\Desktop\\Dropbox\\MIKHAEL NEW\\mikhael school\\Grad School\\Master's\\Term 2 Classes\\544\\Replication\\My Addition\\Drought Data.csv\")"
   ]
  },
  {
   "cell_type": "markdown",
   "metadata": {
    "hidden": true
   },
   "source": [
    "### Rename column from \"None\" to \"No_drought\" to avoid code issues"
   ]
  },
  {
   "cell_type": "code",
   "execution_count": 709,
   "metadata": {
    "hidden": true
   },
   "outputs": [],
   "source": [
    "drought_df.rename(columns={'None':'No_drought'}, inplace=True)"
   ]
  },
  {
   "cell_type": "markdown",
   "metadata": {
    "hidden": true
   },
   "source": [
    "### Uppercase"
   ]
  },
  {
   "cell_type": "code",
   "execution_count": 710,
   "metadata": {
    "hidden": true
   },
   "outputs": [],
   "source": [
    "drought_df = drought_df.applymap(lambda s:s.upper() if type(s) == str else s)"
   ]
  },
  {
   "cell_type": "markdown",
   "metadata": {
    "hidden": true
   },
   "source": [
    "### Create \"year\" var"
   ]
  },
  {
   "cell_type": "code",
   "execution_count": 711,
   "metadata": {
    "hidden": true
   },
   "outputs": [],
   "source": [
    "drought_df['year'] = drought_df['ValidStart'].astype(str).str[:4].astype(int)"
   ]
  },
  {
   "cell_type": "markdown",
   "metadata": {
    "hidden": true
   },
   "source": [
    "### Convert date strings to datetime objects"
   ]
  },
  {
   "cell_type": "code",
   "execution_count": 712,
   "metadata": {
    "hidden": true
   },
   "outputs": [],
   "source": [
    "drought_df['ValidStart'] = pd.to_datetime(drought_df['ValidStart'])\n",
    "drought_df['ValidEnd'] = pd.to_datetime(drought_df['ValidEnd'])"
   ]
  },
  {
   "cell_type": "markdown",
   "metadata": {
    "hidden": true
   },
   "source": [
    "### Drop some redundant fields"
   ]
  },
  {
   "cell_type": "code",
   "execution_count": 713,
   "metadata": {
    "hidden": true
   },
   "outputs": [],
   "source": [
    "drought_df.drop(['MapDate', 'FIPS', 'StatisticFormatID'], axis=1, inplace=True)"
   ]
  },
  {
   "cell_type": "markdown",
   "metadata": {
    "hidden": true
   },
   "source": [
    "### Replace county name suffixes"
   ]
  },
  {
   "cell_type": "code",
   "execution_count": 714,
   "metadata": {
    "hidden": true
   },
   "outputs": [],
   "source": [
    "county_stopwords = [' COUNTY', ' CENSUS AREA', ' MUNICIPIO', ' PARISH', ' CITY', ' BOROUGH', ' MUNICIPALITY']\n",
    "\n",
    "for word in county_stopwords:\n",
    "    drought_df['County'] = drought_df['County'].str.replace(word,'')"
   ]
  },
  {
   "cell_type": "markdown",
   "metadata": {
    "hidden": true
   },
   "source": [
    "### Create \"next congressional period start year\" var"
   ]
  },
  {
   "cell_type": "code",
   "execution_count": 715,
   "metadata": {
    "hidden": true
   },
   "outputs": [],
   "source": [
    "drought_df['next congressional period start year'] = drought_df['year'] + drought_df['year'] % 2"
   ]
  },
  {
   "cell_type": "markdown",
   "metadata": {
    "hidden": true
   },
   "source": [
    "### Take yearly averages per county"
   ]
  },
  {
   "cell_type": "code",
   "execution_count": 716,
   "metadata": {
    "hidden": true
   },
   "outputs": [],
   "source": [
    "drought_df = drought_df.groupby(['State', 'County', 'next congressional period start year']).mean()\n",
    "del drought_df['year']"
   ]
  },
  {
   "cell_type": "markdown",
   "metadata": {
    "hidden": true
   },
   "source": [
    "### Reset indices so that .loc will work\n",
    "\n",
    "For some reason I have to do this"
   ]
  },
  {
   "cell_type": "code",
   "execution_count": 717,
   "metadata": {
    "hidden": true
   },
   "outputs": [],
   "source": [
    "drought_df.reset_index(inplace=True)\n",
    "\n",
    "drought_df.set_index(['State', 'next congressional period start year', 'County'], inplace=True)"
   ]
  },
  {
   "cell_type": "markdown",
   "metadata": {
    "hidden": true
   },
   "source": [
    "### Confirm that drought is roughly balanced over years"
   ]
  },
  {
   "cell_type": "code",
   "execution_count": 718,
   "metadata": {
    "hidden": true
   },
   "outputs": [
    {
     "data": {
      "text/plain": [
       "<AxesSubplot:xlabel='next congressional period start year'>"
      ]
     },
     "execution_count": 718,
     "metadata": {},
     "output_type": "execute_result"
    },
    {
     "data": {
      "image/png": "[encoded data removed]",
      "text/plain": [
       "<Figure size 432x288 with 1 Axes>"
      ]
     },
     "metadata": {
      "needs_background": "light"
     },
     "output_type": "display_data"
    }
   ],
   "source": [
    "drought_df.reset_index().groupby(['next congressional period start year']).mean().plot()"
   ]
  },
  {
   "cell_type": "markdown",
   "metadata": {
    "hidden": true
   },
   "source": [
    "### Looking at autocorrelation of drought severity"
   ]
  },
  {
   "cell_type": "markdown",
   "metadata": {},
   "source": [
    "# Geo Data Import and Cleaning"
   ]
  },
  {
   "cell_type": "code",
   "execution_count": 719,
   "metadata": {},
   "outputs": [],
   "source": [
    "import geopandas as gpd\n",
    "import shapely\n",
    "from shapely.geometry import Polygon\n",
    "from descartes import PolygonPatch"
   ]
  },
  {
   "cell_type": "markdown",
   "metadata": {},
   "source": [
    "## US County Shapefiles\n",
    "\n",
    "from https://www.census.gov/geographies/mapping-files/time-series/geo/carto-boundary-file.html  \n",
    "under \"County\"  \n",
    "filename \"cb_2018_us_county_500k.zip\"\n",
    "\n",
    "should maybe redo this with higher granularity (but probably won't change much)"
   ]
  },
  {
   "cell_type": "code",
   "execution_count": 720,
   "metadata": {},
   "outputs": [],
   "source": [
    "county_shp = gpd.read_file(r\"C:\\Users\\mikha\\OneDrive\\Desktop\\Dropbox\\MIKHAEL NEW\\mikhael school\\Grad School\\Master's\\Term 2 Classes\\544\\Replication\\My Addition\\County Shapefiles (2018)\\cb_2018_us_county_500k.shp\")"
   ]
  },
  {
   "cell_type": "markdown",
   "metadata": {},
   "source": [
    "### Uppercase"
   ]
  },
  {
   "cell_type": "code",
   "execution_count": 721,
   "metadata": {},
   "outputs": [],
   "source": [
    "county_shp = county_shp.applymap(lambda s:s.upper() if type(s) == str else s)"
   ]
  },
  {
   "cell_type": "code",
   "execution_count": 722,
   "metadata": {},
   "outputs": [],
   "source": [
    "county_shp['STATEFP'] = county_shp['STATEFP'].astype('int64')\n",
    "county_shp['COUNTYFP'] = county_shp['COUNTYFP'].astype('int64')\n",
    "county_shp['COUNTYNS'] = county_shp['COUNTYNS'].astype('int64')\n",
    "county_shp['GEOID'] = county_shp['GEOID'].astype('int64')\n",
    "county_shp['ALAND'] = county_shp['ALAND'].astype('int64')\n",
    "county_shp['AWATER'] = county_shp['AWATER'].astype('int64')\n",
    "\n",
    "#drop DC - it doesn't have any congressional rep's\n",
    "county_shp = county_shp[county_shp['STATEFP'] != 11]"
   ]
  },
  {
   "cell_type": "markdown",
   "metadata": {},
   "source": [
    "### Refine some county name entries"
   ]
  },
  {
   "cell_type": "code",
   "execution_count": 723,
   "metadata": {},
   "outputs": [],
   "source": [
    "# fix some county name problems (e.g. 'st.'-->'saint')\n",
    "\n",
    "county_shp['NAME'] = [x.replace('ST.', 'SAINT').replace('LASALLE','LA SALLE') for x in county_shp['NAME']]\n",
    "\n",
    "county_shp['NAME'] = county_shp['NAME'].astype(str).replace('ST.','SAINT').replace('LASALLE','LA SALLE')\n",
    "\n",
    "for word in county_stopwords:\n",
    "    county_shp['NAME'] = [x.replace(word,'') for x in county_shp['NAME']]"
   ]
  },
  {
   "cell_type": "markdown",
   "metadata": {},
   "source": [
    "### Convert county_shp['STATEFP'] to state"
   ]
  },
  {
   "cell_type": "code",
   "execution_count": 724,
   "metadata": {},
   "outputs": [],
   "source": [
    "state_to_fips = pd.read_csv(r\"C:\\Users\\mikha\\OneDrive\\Desktop\\Dropbox\\MIKHAEL NEW\\mikhael school\\Grad School\\Master's\\Term 2 Classes\\544\\Replication\\My Addition\\State to FIPS Conversion.csv\")"
   ]
  },
  {
   "cell_type": "code",
   "execution_count": 725,
   "metadata": {},
   "outputs": [],
   "source": [
    "# create a dictionary mapping FIPS codes to US States\n",
    "\n",
    "fips_to_state_dict = {}\n",
    "\n",
    "for i,row in state_to_fips.iterrows():\n",
    "    fips_to_state_dict[row['FIPS']] = row['State']"
   ]
  },
  {
   "cell_type": "code",
   "execution_count": 726,
   "metadata": {},
   "outputs": [],
   "source": [
    "county_shp['state'] = county_shp['STATEFP'].apply(lambda x: fips_to_state_dict[x])"
   ]
  },
  {
   "cell_type": "code",
   "execution_count": 727,
   "metadata": {},
   "outputs": [],
   "source": [
    "county_shp = county_shp.applymap(lambda s:s.upper() if type(s) == str else s)"
   ]
  },
  {
   "cell_type": "markdown",
   "metadata": {},
   "source": [
    "## Congressional District Shapefiles\n",
    "\n",
    "source: http://cdmaps.polisci.ucla.edu/\n",
    "\n",
    "**NOTE**: AT-LARGE DISTRICTS ARE DENOTED WITH ZEROS - **THESE NEED TO BE DEALT WITH!!!**\n",
    "\n",
    "**NOTE**: TRY TO FIND DATA FOR 2018 AND 2020\n",
    "\n",
    "can get districts back to 2011 here (in R) https://rdrr.io/cran/tigris/man/congressional_districts.html "
   ]
  },
  {
   "cell_type": "markdown",
   "metadata": {},
   "source": [
    "### Import"
   ]
  },
  {
   "cell_type": "code",
   "execution_count": 728,
   "metadata": {},
   "outputs": [],
   "source": [
    "congress_2015_2017 = gpd.read_file(r\"C:\\Users\\mikha\\OneDrive\\Desktop\\Dropbox\\MIKHAEL NEW\\mikhael school\\Grad School\\Master's\\Term 2 Classes\\544\\Replication\\My Addition\\Congressional District Shapefiles\\114th - J 2015 - J 2017\\districtShapes\\districts114.shp\")\n",
    "congress_2013_2014 = gpd.read_file(r\"C:\\Users\\mikha\\OneDrive\\Desktop\\Dropbox\\MIKHAEL NEW\\mikhael school\\Grad School\\Master's\\Term 2 Classes\\544\\Replication\\My Addition\\Congressional District Shapefiles\\113th - J 2013 to D 2014\\districtShapes\\districts113.shp\")\n",
    "congress_2011_2013 = gpd.read_file(r\"C:\\Users\\mikha\\OneDrive\\Desktop\\Dropbox\\MIKHAEL NEW\\mikhael school\\Grad School\\Master's\\Term 2 Classes\\544\\Replication\\My Addition\\Congressional District Shapefiles\\112th - J 2011 - J 2013\\districtShapes\\districts112.shp\")\n",
    "congress_2009_2010 = gpd.read_file(r\"C:\\Users\\mikha\\OneDrive\\Desktop\\Dropbox\\MIKHAEL NEW\\mikhael school\\Grad School\\Master's\\Term 2 Classes\\544\\Replication\\My Addition\\Congressional District Shapefiles\\111th - J 2009 - D 2010\\districtShapes\\districts111.shp\")\n",
    "congress_2007_2009 = gpd.read_file(r\"C:\\Users\\mikha\\OneDrive\\Desktop\\Dropbox\\MIKHAEL NEW\\mikhael school\\Grad School\\Master's\\Term 2 Classes\\544\\Replication\\My Addition\\Congressional District Shapefiles\\110th - J 2007 - J 2009\\districtShapes\\districts110.shp\")\n",
    "congress_2005_2006 = gpd.read_file(r\"C:\\Users\\mikha\\OneDrive\\Desktop\\Dropbox\\MIKHAEL NEW\\mikhael school\\Grad School\\Master's\\Term 2 Classes\\544\\Replication\\My Addition\\Congressional District Shapefiles\\109th - J 2005 - D 2006\\districtShapes\\districts109.shp\")\n",
    "congress_2003_2005 = gpd.read_file(r\"C:\\Users\\mikha\\OneDrive\\Desktop\\Dropbox\\MIKHAEL NEW\\mikhael school\\Grad School\\Master's\\Term 2 Classes\\544\\Replication\\My Addition\\Congressional District Shapefiles\\108th -\\districts108.shp\")\n",
    "congress_2001_2002 = gpd.read_file(r\"C:\\Users\\mikha\\OneDrive\\Desktop\\Dropbox\\MIKHAEL NEW\\mikhael school\\Grad School\\Master's\\Term 2 Classes\\544\\Replication\\My Addition\\Congressional District Shapefiles\\107th - J 2001 - N 2002\\districtShapes\\districts107.shp\")\n",
    "congress_1999_2000 = gpd.read_file(r\"C:\\Users\\mikha\\OneDrive\\Desktop\\Dropbox\\MIKHAEL NEW\\mikhael school\\Grad School\\Master's\\Term 2 Classes\\544\\Replication\\My Addition\\Congressional District Shapefiles\\106th - J 1999 - D 2000\\districtShapes\\districts106.shp\")\n",
    "congress_1997_1998 = gpd.read_file(r\"C:\\Users\\mikha\\OneDrive\\Desktop\\Dropbox\\MIKHAEL NEW\\mikhael school\\Grad School\\Master's\\Term 2 Classes\\544\\Replication\\My Addition\\Congressional District Shapefiles\\105th - J 1997 - D 1998\\districtShapes\\districts105.shp\")"
   ]
  },
  {
   "cell_type": "markdown",
   "metadata": {},
   "source": [
    "### Merge into one DF"
   ]
  },
  {
   "cell_type": "code",
   "execution_count": 729,
   "metadata": {},
   "outputs": [],
   "source": [
    "congress_2015_2017['election year'] = 2014\n",
    "congress_2013_2014['election year'] = 2012\n",
    "congress_2011_2013['election year'] = 2010\n",
    "congress_2009_2010['election year'] = 2008\n",
    "congress_2007_2009['election year'] = 2006\n",
    "congress_2005_2006['election year'] = 2004\n",
    "congress_2003_2005['election year'] = 2002\n",
    "congress_2001_2002['election year'] = 2000\n",
    "congress_1999_2000['election year'] = 1998\n",
    "congress_1997_1998['election year'] = 1996\n",
    "\n",
    "merged_district_df = pd.concat([congress_1997_1998, congress_1999_2000, congress_2001_2002,\n",
    "                          congress_2003_2005, congress_2005_2006, congress_2007_2009,\n",
    "                          congress_2009_2010, congress_2011_2013, congress_2013_2014,\n",
    "                          congress_2015_2017], ignore_index=True)\n",
    "\n",
    "merged_district_df.columns = ['state',\n",
    " 'ID',\n",
    " 'district',\n",
    " 'STARTCONG',\n",
    " 'ENDCONG',\n",
    " 'DISTRICTSI',\n",
    " 'COUNTY',\n",
    " 'PAGE',\n",
    " 'LAW',\n",
    " 'NOTE',\n",
    " 'BESTDEC',\n",
    " 'RNOTE',\n",
    " 'FROMCOUNTY',\n",
    " 'LASTCHANGE',\n",
    " 'FINALNOTE',\n",
    " 'geometry',\n",
    " 'election year']"
   ]
  },
  {
   "cell_type": "markdown",
   "metadata": {},
   "source": [
    "## Drop districts with invalid geometry"
   ]
  },
  {
   "cell_type": "code",
   "execution_count": 730,
   "metadata": {},
   "outputs": [],
   "source": [
    "# drop NaN geometry\n",
    "merged_district_df = merged_district_df[merged_district_df['geometry'].isna()==False]"
   ]
  },
  {
   "cell_type": "code",
   "execution_count": 731,
   "metadata": {},
   "outputs": [],
   "source": [
    "merged_district_df = merged_district_df[merged_district_df['geometry'].is_valid == True]"
   ]
  },
  {
   "cell_type": "markdown",
   "metadata": {},
   "source": [
    "### Convert district to integer"
   ]
  },
  {
   "cell_type": "code",
   "execution_count": 732,
   "metadata": {},
   "outputs": [],
   "source": [
    "merged_district_df['district'] = merged_district_df['district'].astype(int)"
   ]
  },
  {
   "cell_type": "markdown",
   "metadata": {},
   "source": [
    "### Uppercase"
   ]
  },
  {
   "cell_type": "code",
   "execution_count": 733,
   "metadata": {},
   "outputs": [],
   "source": [
    "merged_district_df = merged_district_df.applymap(lambda s:s.upper() if type(s) == str else s)"
   ]
  },
  {
   "cell_type": "markdown",
   "metadata": {},
   "source": [
    "## County boundary changes\n",
    "\n",
    "Not worrying about these now - 41/3000+ counties changed borders over this 20 year period (roughly 1%)\n",
    "\n",
    "**NOTE:MAYBE SHOULD JUST DROP THESE (AND MAKE A DF OF ALL DROPPED COUNTIES WITH REASONS FOR DROPPING)**"
   ]
  },
  {
   "cell_type": "code",
   "execution_count": 734,
   "metadata": {},
   "outputs": [],
   "source": [
    "county_changes_shp = gpd.read_file(r\"C:\\Users\\mikha\\OneDrive\\Desktop\\Dropbox\\MIKHAEL NEW\\mikhael school\\Grad School\\Master's\\Term 2 Classes\\544\\Replication\\My Addition\\Historical County Shapefiles\\US_AtlasHCB_Counties_Gen001\\US_HistCounties_Gen001_Shapefile\\US_HistCounties_Gen001.shp\")"
   ]
  },
  {
   "cell_type": "code",
   "execution_count": 735,
   "metadata": {},
   "outputs": [],
   "source": [
    "county_changes_shp['year'] = county_changes_shp['START_DATE'].astype(str).str[:4].astype(int)"
   ]
  },
  {
   "cell_type": "markdown",
   "metadata": {},
   "source": [
    "### Drop all obs for years we don't have data (pre-BASE_YEAR) "
   ]
  },
  {
   "cell_type": "code",
   "execution_count": 736,
   "metadata": {},
   "outputs": [],
   "source": [
    "county_changes_shp = county_changes_shp[county_changes_shp['year'] >= BASE_YEAR]"
   ]
  },
  {
   "cell_type": "code",
   "execution_count": 737,
   "metadata": {},
   "outputs": [
    {
     "name": "stdout",
     "output_type": "stream",
     "text": [
      "There are 41 changes to US Counties from 1998 to present\n"
     ]
    }
   ],
   "source": [
    "print(f\"There are {len(county_changes_shp)} changes to US Counties from {BASE_YEAR} to present\")"
   ]
  },
  {
   "cell_type": "markdown",
   "metadata": {},
   "source": [
    "### Still have to do something with the changes in county boundaries\n",
    "\n",
    "Maybe just drop them? There are very few, should be fine if it isn't in one of our $\\approx 60$ agricultural congressional districts"
   ]
  },
  {
   "cell_type": "markdown",
   "metadata": {},
   "source": [
    "### Uppercase"
   ]
  },
  {
   "cell_type": "code",
   "execution_count": 738,
   "metadata": {},
   "outputs": [],
   "source": [
    "county_changes_shp = county_changes_shp.applymap(lambda s:s.upper() if type(s) == str else s)"
   ]
  },
  {
   "cell_type": "code",
   "execution_count": 739,
   "metadata": {},
   "outputs": [
    {
     "data": {
      "text/plain": [
       "4284"
      ]
     },
     "execution_count": 739,
     "metadata": {},
     "output_type": "execute_result"
    }
   ],
   "source": [
    "len(merged_district_df)"
   ]
  },
  {
   "cell_type": "code",
   "execution_count": 740,
   "metadata": {
    "scrolled": true
   },
   "outputs": [],
   "source": [
    "# merged_district_df = merged_district_df[merged_district_df['geometry'].is_valid == True]"
   ]
  },
  {
   "cell_type": "markdown",
   "metadata": {},
   "source": [
    "## Create dictionaries for counties in district & districts in county\n",
    "\n",
    "**THIS IS NOT WORKING RIGHT NOW!!!!!!!!!!!!!!!!!!!!!!!!! (see double-checks)**"
   ]
  },
  {
   "cell_type": "code",
   "execution_count": 741,
   "metadata": {},
   "outputs": [],
   "source": [
    "from tqdm import tqdm"
   ]
  },
  {
   "cell_type": "code",
   "execution_count": null,
   "metadata": {},
   "outputs": [
    {
     "name": "stderr",
     "output_type": "stream",
     "text": [
      " 57%|██████████████████████████████████████████████▊                                   | 28/49 [19:30<26:17, 75.11s/it]"
     ]
    }
   ],
   "source": [
    "# counties_in_district_dict[state][year][district] = list of counties in that cong. district. specifically, (county_x, county x as % of district y land area)\n",
    "# districts_from_county_dict[state][year][county] = list of cong. districts that this county is a part of\n",
    "\n",
    "counties_in_district_dict = {}\n",
    "districts_from_county_dict = {}\n",
    "\n",
    "for state in tqdm(list(set(merged_district_df['state']))): #nothing special about this df - it's just a list of states\n",
    "    counties_in_district_dict[state] = {}\n",
    "    districts_from_county_dict[state] = {}\n",
    "    \n",
    "    for year in list(set(elec_df['year'])):\n",
    "        if 2000 <= year <= 2014: #limit to years we have data for\n",
    "            counties_in_district_dict[state][year] = {}\n",
    "            districts_from_county_dict[state][year] = {}\n",
    "\n",
    "            for county in county_shp[county_shp['state']==state]['NAME']:\n",
    "                districts_from_county_dict[state][year][county] = []\n",
    "\n",
    "            for district in list(set(merged_district_df[(merged_district_df['state']==state) & (merged_district_df['election year']==year)]['district'])): #loop over all districts from the state and year\n",
    "                counties_in_district_dict[state][year][district] = []\n",
    "\n",
    "                #iterate only over same state in both dfs (county and district), otherwise this would probably take forever\n",
    "                for i1,district_row in merged_district_df[(merged_district_df['state']==state) & (merged_district_df['election year']==year) & (merged_district_df['district']==district)].iterrows():\n",
    "                    for i2,county_row in county_shp[county_shp['state']==state].iterrows():\n",
    "\n",
    "                        if district_row['geometry'].intersects(county_row['geometry']):\n",
    "                            intersec = district_row['geometry'].intersection(county_row['geometry']).area\n",
    "                            intersection_over_district_area = intersec / district_row['geometry'].area\n",
    "                            intersection_over_county_area = intersec / county_row['geometry'].area\n",
    "\n",
    "                            counties_in_district_dict[state][year][district].append(tuple([county_row['NAME'], intersection_over_district_area])) #add name, (area of county & district overlap) / (total district area) as tuple. this is the list of counties that are in a district, with county overlap as a percentage of district area\n",
    "                            districts_from_county_dict[state][year][county_row['NAME']].append(tuple([district, intersection_over_county_area])) #add name, (area of county & district overlap) / (total county area) as tuple. this is the list of districts that are in a county, with district overlap as a percentage of county area"
   ]
  },
  {
   "cell_type": "markdown",
   "metadata": {},
   "source": [
    "### Double-check that each county's district areas sum to $\\approx$ 1\n",
    "\n",
    "**SHOULD REMOVE THESE FROM ANALYSIS IF I CANT FIGURE OUT WHAT CAUSES THEM**\n",
    "\n",
    "Maybe county shps are less precise than districts'?"
   ]
  },
  {
   "cell_type": "code",
   "execution_count": null,
   "metadata": {
    "scrolled": true
   },
   "outputs": [],
   "source": [
    "counties_that_dont_belong = {'state':[], 'year':[], 'county':[], 'pct coverage':[]}\n",
    "\n",
    "for state in districts_from_county_dict:\n",
    "    for year in districts_from_county_dict[state]:\n",
    "        if 2000 <= year <= 2014:\n",
    "            for county in districts_from_county_dict[state][year]:\n",
    "                if not .95 <= sum([x[1] for x in districts_from_county_dict[state][year][county]]) <= 1.01:\n",
    "#                     print(state, year, county, sum([x[1] for x in districts_from_county_dict[state][year][county]]))\n",
    "                    counties_that_dont_belong['state'].append(state)\n",
    "                    counties_that_dont_belong['year'].append(year)                \n",
    "                    counties_that_dont_belong['county'].append(county)                \n",
    "                    counties_that_dont_belong['pct coverage'].append(sum([x[1] for x in districts_from_county_dict[state][year][county]]))                \n",
    "                \n",
    "messed_up_counties = pd.DataFrame(counties_that_dont_belong)"
   ]
  },
  {
   "cell_type": "code",
   "execution_count": null,
   "metadata": {},
   "outputs": [],
   "source": [
    "print(f'there are {len(messed_up_counties)} messed up county observations out of approx {round(len(county_shp)*(2014-2000)/2)}, or {100 * len(messed_up_counties) / round(len(county_shp)*(2014-2000)/2)}%')"
   ]
  },
  {
   "cell_type": "markdown",
   "metadata": {},
   "source": [
    "so roughly 2/3 counties are screwed up... weird because counties in districts appear to be totalled up correctly"
   ]
  },
  {
   "cell_type": "markdown",
   "metadata": {},
   "source": [
    "### Double-check that each district's counties sum up to $\\approx 1$\n",
    "\n",
    "looks good :)"
   ]
  },
  {
   "cell_type": "code",
   "execution_count": null,
   "metadata": {},
   "outputs": [],
   "source": [
    "for state in counties_in_district_dict:\n",
    "    for year in counties_in_district_dict[state]:\n",
    "        for district in counties_in_district_dict[state][year]:\n",
    "            if sum([x[1] for x in counties_in_district_dict[state][year][district]]) <= .98 or sum([x[1] for x in counties_in_district_dict[state][year][district]]) > 1.01:\n",
    "                print(state, year, district, sum([x[1] for x in counties_in_district_dict[state][year][district]]))"
   ]
  },
  {
   "cell_type": "markdown",
   "metadata": {
    "heading_collapsed": true
   },
   "source": [
    "# Trends in Congressional Voting Analysis (dependent var)\n",
    "\n",
    "Idea: conduct a regression for each district over the years.\n",
    "\n",
    "**Should do this for republican, democrat shares too - will be easy**"
   ]
  },
  {
   "cell_type": "markdown",
   "metadata": {
    "heading_collapsed": true,
    "hidden": true
   },
   "source": [
    "### Import"
   ]
  },
  {
   "cell_type": "code",
   "execution_count": 512,
   "metadata": {
    "hidden": true
   },
   "outputs": [],
   "source": [
    "import statsmodels.api as sm\n",
    "import statsmodels.formula.api as smf"
   ]
  },
  {
   "cell_type": "markdown",
   "metadata": {
    "heading_collapsed": true,
    "hidden": true
   },
   "source": [
    "## Total Turnout"
   ]
  },
  {
   "cell_type": "markdown",
   "metadata": {
    "hidden": true
   },
   "source": [
    "### Notes"
   ]
  },
  {
   "cell_type": "markdown",
   "metadata": {
    "hidden": true
   },
   "source": [
    "Here, I fit a simple trendline through turnout data. This is done individually for each district and year.\n",
    "\n",
    "This analysis allows us to compare actual turnout to expected turnout. Eventually, this will be used to see if drought leads to changes relative to the trend. \n",
    "\n",
    "Formula is $$\\text{totalturnout} = \\text{year} + \\text{DPres}$$,\n",
    "\n",
    "where $\\text{DPres}=1(\\text{Presidential Election Year})$\n",
    "\n",
    "Using 'HC3' robust standard errors - cite: https://jslsoc.sitehost.iu.edu/files_research/testing_tests/hccm/00TAS.pdf\n",
    "\n",
    "Need to collapse subsets further, since they're now basically weighted by number of contestants in each election (although I've already deleted non-major parties, so weight should be essentially equal over the years at ~2 per year). In sum, not an issue to worry about right now.  \n",
    "* Just to confirm this, $correlation(\\text{\" year of election\"}, \\text{\"turnout - predicted\"}) = 2.951465137113311e-13 \\approx 0$"
   ]
  },
  {
   "cell_type": "markdown",
   "metadata": {
    "heading_collapsed": true,
    "hidden": true
   },
   "source": [
    "### Over all observed years"
   ]
  },
  {
   "cell_type": "code",
   "execution_count": 558,
   "metadata": {
    "code_folding": [],
    "hidden": true
   },
   "outputs": [
    {
     "name": "stderr",
     "output_type": "stream",
     "text": [
      "C:\\Users\\mikha\\Anaconda\\envs\\geopandas_env\\lib\\site-packages\\statsmodels\\regression\\linear_model.py:1908: RuntimeWarning: divide by zero encountered in true_divide\n",
      "  self.het_scale = (self.wresid / (1 - h))**2\n",
      "C:\\Users\\mikha\\Anaconda\\envs\\geopandas_env\\lib\\site-packages\\statsmodels\\regression\\linear_model.py:1908: RuntimeWarning: divide by zero encountered in true_divide\n",
      "  self.het_scale = (self.wresid / (1 - h))**2\n"
     ]
    }
   ],
   "source": [
    "\"\"\"\n",
    "steps in this code cell:\n",
    "1) select subsets of observations by state and district (e.g. MD 8th district over all years observed)\n",
    "2) regress 'totalturnout ~ year + DPres'\n",
    "3) put residuals back into subset\n",
    "\"\"\"\n",
    "\n",
    "elec_df['turnout_minus_predicted_all_years'] = np.nan #will iteratively fill below\n",
    "\n",
    "for state in set(elec_df['state']):\n",
    "    for district in set(elec_df[elec_df['state']==state]['district']):\n",
    "        \n",
    "        subset = elec_df[(elec_df['state']==state) & (elec_df['district'] == district)]\n",
    "        regression_filter = (elec_df['state']==state) & (elec_df['district'] == district)\n",
    "\n",
    "        regression = smf.ols(formula='totalturnout ~ year + DPres', data=subset)\n",
    "        regression_result = regression.fit(cov_type='HC3')\n",
    "\n",
    "        elec_df.loc[regression_filter, 'turnout_minus_predicted_all_years'] = regression_result.resid  #how is this loc correct??!!!!!!!!!!!!!!!!!!!!!!!!!!!!!!!!!      \n",
    "#         elec_df.loc[regression_filter, 'turnout - predicted'] = regression_result.resid"
   ]
  },
  {
   "cell_type": "markdown",
   "metadata": {
    "heading_collapsed": true,
    "hidden": true
   },
   "source": [
    "### ONLY Over years we have drought data for\n",
    "\n",
    "WHY TFFF WON'T THIS WORK?"
   ]
  },
  {
   "cell_type": "code",
   "execution_count": null,
   "metadata": {
    "code_folding": [],
    "hidden": true,
    "scrolled": true
   },
   "outputs": [],
   "source": [
    "\"\"\"\n",
    "identical steps in this cell as the one above\n",
    "\"\"\"\n",
    "\n",
    "elec_df['turnout_-_predicted_(observed_years)'] = np.nan #will iteratively fill below\n",
    "\n",
    "for state in set(elec_df['state']):\n",
    "    for district in set(elec_df[elec_df['state']==state]['district']):\n",
    "        \n",
    "        subset = elec_df[(elec_df['state']==state) & (elec_df['district'] == district) & (elec_df['year'] >= BASE_YEAR)]\n",
    "        regression_filter = (elec_df['state']==state) & (elec_df['district'] == district) & (elec_df['year'] >= BASE_YEAR)\n",
    "\n",
    "        regression = smf.ols(formula='totalturnout ~ year + DPres', data=subset)\n",
    "        regression_result = regression.fit(cov_type='HC3')\n",
    "\n",
    "        elec_df.loc[regression_filter, 'turnout_-_predicted_(observed_years)'] = regression_result.resid"
   ]
  },
  {
   "cell_type": "markdown",
   "metadata": {
    "heading_collapsed": true,
    "hidden": true
   },
   "source": [
    "#### Confirm that this worked\n",
    "\n",
    "looks pretty good - red points are residuals from regression"
   ]
  },
  {
   "cell_type": "code",
   "execution_count": 559,
   "metadata": {
    "hidden": true
   },
   "outputs": [
    {
     "data": {
      "image/png": "[encoded data removed]",
      "text/plain": [
       "<Figure size 432x288 with 1 Axes>"
      ]
     },
     "metadata": {
      "needs_background": "light"
     },
     "output_type": "display_data"
    },
    {
     "data": {
      "image/png": "[encoded data removed]",
      "text/plain": [
       "<Figure size 432x288 with 1 Axes>"
      ]
     },
     "metadata": {
      "needs_background": "light"
     },
     "output_type": "display_data"
    },
    {
     "data": {
      "image/png": "[encoded data removed]",
      "text/plain": [
       "<Figure size 432x288 with 1 Axes>"
      ]
     },
     "metadata": {
      "needs_background": "light"
     },
     "output_type": "display_data"
    },
    {
     "data": {
      "image/png": "[encoded data removed]",
      "text/plain": [
       "<Figure size 432x288 with 1 Axes>"
      ]
     },
     "metadata": {
      "needs_background": "light"
     },
     "output_type": "display_data"
    },
    {
     "data": {
      "image/png": "[encoded data removed]",
      "text/plain": [
       "<Figure size 432x288 with 1 Axes>"
      ]
     },
     "metadata": {
      "needs_background": "light"
     },
     "output_type": "display_data"
    },
    {
     "data": {
      "image/png": "[encoded data removed]",
      "text/plain": [
       "<Figure size 432x288 with 1 Axes>"
      ]
     },
     "metadata": {
      "needs_background": "light"
     },
     "output_type": "display_data"
    },
    {
     "data": {
      "image/png": "[encoded data removed]",
      "text/plain": [
       "<Figure size 432x288 with 1 Axes>"
      ]
     },
     "metadata": {
      "needs_background": "light"
     },
     "output_type": "display_data"
    },
    {
     "data": {
      "image/png": "[encoded data removed]",
      "text/plain": [
       "<Figure size 432x288 with 1 Axes>"
      ]
     },
     "metadata": {
      "needs_background": "light"
     },
     "output_type": "display_data"
    }
   ],
   "source": [
    "for district in set(elec_df[(elec_df['state']=='MARYLAND')]['district']):\n",
    "\n",
    "    plotting_subset = elec_df[(elec_df['state']=='MARYLAND') & (elec_df['district'] == district)]\n",
    "\n",
    "    ax1 = plotting_subset.plot.scatter(x='year', y='totalturnout', color='black')\n",
    "    ax2 = plotting_subset.plot.scatter(x='year', y='turnout_minus_predicted_all_years', color='red', ax=ax1)\n",
    "#     ax1.suptitle(f'actual vs. predicted turnout; residuals from MD district {district}')\n",
    "    ax1.plot()"
   ]
  },
  {
   "cell_type": "markdown",
   "metadata": {
    "heading_collapsed": true,
    "hidden": true
   },
   "source": [
    "## Republican Vote Share"
   ]
  },
  {
   "cell_type": "markdown",
   "metadata": {
    "hidden": true
   },
   "source": [
    "### Over all observed years"
   ]
  },
  {
   "cell_type": "code",
   "execution_count": 669,
   "metadata": {
    "hidden": true,
    "scrolled": true
   },
   "outputs": [
    {
     "name": "stderr",
     "output_type": "stream",
     "text": [
      "C:\\Users\\mikha\\Anaconda\\envs\\geopandas_env\\lib\\site-packages\\statsmodels\\regression\\linear_model.py:1908: RuntimeWarning: divide by zero encountered in true_divide\n",
      "  self.het_scale = (self.wresid / (1 - h))**2\n",
      "C:\\Users\\mikha\\Anaconda\\envs\\geopandas_env\\lib\\site-packages\\statsmodels\\regression\\linear_model.py:1908: RuntimeWarning: divide by zero encountered in true_divide\n",
      "  self.het_scale = (self.wresid / (1 - h))**2\n",
      "C:\\Users\\mikha\\Anaconda\\envs\\geopandas_env\\lib\\site-packages\\statsmodels\\regression\\linear_model.py:1908: RuntimeWarning: divide by zero encountered in true_divide\n",
      "  self.het_scale = (self.wresid / (1 - h))**2\n",
      "C:\\Users\\mikha\\Anaconda\\envs\\geopandas_env\\lib\\site-packages\\statsmodels\\regression\\linear_model.py:1908: RuntimeWarning: divide by zero encountered in true_divide\n",
      "  self.het_scale = (self.wresid / (1 - h))**2\n"
     ]
    },
    {
     "ename": "ValueError",
     "evalue": "zero-size array to reduction operation maximum which has no identity",
     "output_type": "error",
     "traceback": [
      "\u001b[1;31m---------------------------------------------------------------------------\u001b[0m",
      "\u001b[1;31mValueError\u001b[0m                                Traceback (most recent call last)",
      "\u001b[1;32m<ipython-input-669-048d9228d834>\u001b[0m in \u001b[0;36m<module>\u001b[1;34m\u001b[0m\n\u001b[0;32m      9\u001b[0m         \u001b[0mregression_filter\u001b[0m \u001b[1;33m=\u001b[0m \u001b[1;33m(\u001b[0m\u001b[0melec_df\u001b[0m\u001b[1;33m[\u001b[0m\u001b[1;34m'state'\u001b[0m\u001b[1;33m]\u001b[0m\u001b[1;33m==\u001b[0m\u001b[0mstate\u001b[0m\u001b[1;33m)\u001b[0m \u001b[1;33m&\u001b[0m \u001b[1;33m(\u001b[0m\u001b[0melec_df\u001b[0m\u001b[1;33m[\u001b[0m\u001b[1;34m'district'\u001b[0m\u001b[1;33m]\u001b[0m \u001b[1;33m==\u001b[0m \u001b[0mdistrict\u001b[0m\u001b[1;33m)\u001b[0m\u001b[1;33m\u001b[0m\u001b[1;33m\u001b[0m\u001b[0m\n\u001b[0;32m     10\u001b[0m \u001b[1;33m\u001b[0m\u001b[0m\n\u001b[1;32m---> 11\u001b[1;33m         \u001b[0mregression\u001b[0m \u001b[1;33m=\u001b[0m \u001b[0msmf\u001b[0m\u001b[1;33m.\u001b[0m\u001b[0mols\u001b[0m\u001b[1;33m(\u001b[0m\u001b[0mformula\u001b[0m\u001b[1;33m=\u001b[0m\u001b[1;34m'Repub_voteshare ~ year + DPres'\u001b[0m\u001b[1;33m,\u001b[0m \u001b[0mdata\u001b[0m\u001b[1;33m=\u001b[0m\u001b[0msubset\u001b[0m\u001b[1;33m)\u001b[0m\u001b[1;33m\u001b[0m\u001b[1;33m\u001b[0m\u001b[0m\n\u001b[0m\u001b[0;32m     12\u001b[0m         \u001b[0mregression_result\u001b[0m \u001b[1;33m=\u001b[0m \u001b[0mregression\u001b[0m\u001b[1;33m.\u001b[0m\u001b[0mfit\u001b[0m\u001b[1;33m(\u001b[0m\u001b[0mcov_type\u001b[0m\u001b[1;33m=\u001b[0m\u001b[1;34m'HC3'\u001b[0m\u001b[1;33m)\u001b[0m\u001b[1;33m\u001b[0m\u001b[1;33m\u001b[0m\u001b[0m\n\u001b[0;32m     13\u001b[0m \u001b[1;33m\u001b[0m\u001b[0m\n",
      "\u001b[1;32m~\\Anaconda\\envs\\geopandas_env\\lib\\site-packages\\statsmodels\\base\\model.py\u001b[0m in \u001b[0;36mfrom_formula\u001b[1;34m(cls, formula, data, subset, drop_cols, *args, **kwargs)\u001b[0m\n\u001b[0;32m    193\u001b[0m                        \u001b[1;34m'formula'\u001b[0m\u001b[1;33m:\u001b[0m \u001b[0mformula\u001b[0m\u001b[1;33m,\u001b[0m  \u001b[1;31m# attach formula for unpckling\u001b[0m\u001b[1;33m\u001b[0m\u001b[1;33m\u001b[0m\u001b[0m\n\u001b[0;32m    194\u001b[0m                        'design_info': design_info})\n\u001b[1;32m--> 195\u001b[1;33m         \u001b[0mmod\u001b[0m \u001b[1;33m=\u001b[0m \u001b[0mcls\u001b[0m\u001b[1;33m(\u001b[0m\u001b[0mendog\u001b[0m\u001b[1;33m,\u001b[0m \u001b[0mexog\u001b[0m\u001b[1;33m,\u001b[0m \u001b[1;33m*\u001b[0m\u001b[0margs\u001b[0m\u001b[1;33m,\u001b[0m \u001b[1;33m**\u001b[0m\u001b[0mkwargs\u001b[0m\u001b[1;33m)\u001b[0m\u001b[1;33m\u001b[0m\u001b[1;33m\u001b[0m\u001b[0m\n\u001b[0m\u001b[0;32m    196\u001b[0m         \u001b[0mmod\u001b[0m\u001b[1;33m.\u001b[0m\u001b[0mformula\u001b[0m \u001b[1;33m=\u001b[0m \u001b[0mformula\u001b[0m\u001b[1;33m\u001b[0m\u001b[1;33m\u001b[0m\u001b[0m\n\u001b[0;32m    197\u001b[0m \u001b[1;33m\u001b[0m\u001b[0m\n",
      "\u001b[1;32m~\\Anaconda\\envs\\geopandas_env\\lib\\site-packages\\statsmodels\\regression\\linear_model.py\u001b[0m in \u001b[0;36m__init__\u001b[1;34m(self, endog, exog, missing, hasconst, **kwargs)\u001b[0m\n\u001b[0;32m    870\u001b[0m     def __init__(self, endog, exog=None, missing='none', hasconst=None,\n\u001b[0;32m    871\u001b[0m                  **kwargs):\n\u001b[1;32m--> 872\u001b[1;33m         super(OLS, self).__init__(endog, exog, missing=missing,\n\u001b[0m\u001b[0;32m    873\u001b[0m                                   hasconst=hasconst, **kwargs)\n\u001b[0;32m    874\u001b[0m         \u001b[1;32mif\u001b[0m \u001b[1;34m\"weights\"\u001b[0m \u001b[1;32min\u001b[0m \u001b[0mself\u001b[0m\u001b[1;33m.\u001b[0m\u001b[0m_init_keys\u001b[0m\u001b[1;33m:\u001b[0m\u001b[1;33m\u001b[0m\u001b[1;33m\u001b[0m\u001b[0m\n",
      "\u001b[1;32m~\\Anaconda\\envs\\geopandas_env\\lib\\site-packages\\statsmodels\\regression\\linear_model.py\u001b[0m in \u001b[0;36m__init__\u001b[1;34m(self, endog, exog, weights, missing, hasconst, **kwargs)\u001b[0m\n\u001b[0;32m    701\u001b[0m         \u001b[1;32melse\u001b[0m\u001b[1;33m:\u001b[0m\u001b[1;33m\u001b[0m\u001b[1;33m\u001b[0m\u001b[0m\n\u001b[0;32m    702\u001b[0m             \u001b[0mweights\u001b[0m \u001b[1;33m=\u001b[0m \u001b[0mweights\u001b[0m\u001b[1;33m.\u001b[0m\u001b[0msqueeze\u001b[0m\u001b[1;33m(\u001b[0m\u001b[1;33m)\u001b[0m\u001b[1;33m\u001b[0m\u001b[1;33m\u001b[0m\u001b[0m\n\u001b[1;32m--> 703\u001b[1;33m         super(WLS, self).__init__(endog, exog, missing=missing,\n\u001b[0m\u001b[0;32m    704\u001b[0m                                   weights=weights, hasconst=hasconst, **kwargs)\n\u001b[0;32m    705\u001b[0m         \u001b[0mnobs\u001b[0m \u001b[1;33m=\u001b[0m \u001b[0mself\u001b[0m\u001b[1;33m.\u001b[0m\u001b[0mexog\u001b[0m\u001b[1;33m.\u001b[0m\u001b[0mshape\u001b[0m\u001b[1;33m[\u001b[0m\u001b[1;36m0\u001b[0m\u001b[1;33m]\u001b[0m\u001b[1;33m\u001b[0m\u001b[1;33m\u001b[0m\u001b[0m\n",
      "\u001b[1;32m~\\Anaconda\\envs\\geopandas_env\\lib\\site-packages\\statsmodels\\regression\\linear_model.py\u001b[0m in \u001b[0;36m__init__\u001b[1;34m(self, endog, exog, **kwargs)\u001b[0m\n\u001b[0;32m    188\u001b[0m     \"\"\"\n\u001b[0;32m    189\u001b[0m     \u001b[1;32mdef\u001b[0m \u001b[0m__init__\u001b[0m\u001b[1;33m(\u001b[0m\u001b[0mself\u001b[0m\u001b[1;33m,\u001b[0m \u001b[0mendog\u001b[0m\u001b[1;33m,\u001b[0m \u001b[0mexog\u001b[0m\u001b[1;33m,\u001b[0m \u001b[1;33m**\u001b[0m\u001b[0mkwargs\u001b[0m\u001b[1;33m)\u001b[0m\u001b[1;33m:\u001b[0m\u001b[1;33m\u001b[0m\u001b[1;33m\u001b[0m\u001b[0m\n\u001b[1;32m--> 190\u001b[1;33m         \u001b[0msuper\u001b[0m\u001b[1;33m(\u001b[0m\u001b[0mRegressionModel\u001b[0m\u001b[1;33m,\u001b[0m \u001b[0mself\u001b[0m\u001b[1;33m)\u001b[0m\u001b[1;33m.\u001b[0m\u001b[0m__init__\u001b[0m\u001b[1;33m(\u001b[0m\u001b[0mendog\u001b[0m\u001b[1;33m,\u001b[0m \u001b[0mexog\u001b[0m\u001b[1;33m,\u001b[0m \u001b[1;33m**\u001b[0m\u001b[0mkwargs\u001b[0m\u001b[1;33m)\u001b[0m\u001b[1;33m\u001b[0m\u001b[1;33m\u001b[0m\u001b[0m\n\u001b[0m\u001b[0;32m    191\u001b[0m         \u001b[0mself\u001b[0m\u001b[1;33m.\u001b[0m\u001b[0m_data_attr\u001b[0m\u001b[1;33m.\u001b[0m\u001b[0mextend\u001b[0m\u001b[1;33m(\u001b[0m\u001b[1;33m[\u001b[0m\u001b[1;34m'pinv_wexog'\u001b[0m\u001b[1;33m,\u001b[0m \u001b[1;34m'weights'\u001b[0m\u001b[1;33m]\u001b[0m\u001b[1;33m)\u001b[0m\u001b[1;33m\u001b[0m\u001b[1;33m\u001b[0m\u001b[0m\n\u001b[0;32m    192\u001b[0m \u001b[1;33m\u001b[0m\u001b[0m\n",
      "\u001b[1;32m~\\Anaconda\\envs\\geopandas_env\\lib\\site-packages\\statsmodels\\base\\model.py\u001b[0m in \u001b[0;36m__init__\u001b[1;34m(self, endog, exog, **kwargs)\u001b[0m\n\u001b[0;32m    235\u001b[0m \u001b[1;33m\u001b[0m\u001b[0m\n\u001b[0;32m    236\u001b[0m     \u001b[1;32mdef\u001b[0m \u001b[0m__init__\u001b[0m\u001b[1;33m(\u001b[0m\u001b[0mself\u001b[0m\u001b[1;33m,\u001b[0m \u001b[0mendog\u001b[0m\u001b[1;33m,\u001b[0m \u001b[0mexog\u001b[0m\u001b[1;33m=\u001b[0m\u001b[1;32mNone\u001b[0m\u001b[1;33m,\u001b[0m \u001b[1;33m**\u001b[0m\u001b[0mkwargs\u001b[0m\u001b[1;33m)\u001b[0m\u001b[1;33m:\u001b[0m\u001b[1;33m\u001b[0m\u001b[1;33m\u001b[0m\u001b[0m\n\u001b[1;32m--> 237\u001b[1;33m         \u001b[0msuper\u001b[0m\u001b[1;33m(\u001b[0m\u001b[0mLikelihoodModel\u001b[0m\u001b[1;33m,\u001b[0m \u001b[0mself\u001b[0m\u001b[1;33m)\u001b[0m\u001b[1;33m.\u001b[0m\u001b[0m__init__\u001b[0m\u001b[1;33m(\u001b[0m\u001b[0mendog\u001b[0m\u001b[1;33m,\u001b[0m \u001b[0mexog\u001b[0m\u001b[1;33m,\u001b[0m \u001b[1;33m**\u001b[0m\u001b[0mkwargs\u001b[0m\u001b[1;33m)\u001b[0m\u001b[1;33m\u001b[0m\u001b[1;33m\u001b[0m\u001b[0m\n\u001b[0m\u001b[0;32m    238\u001b[0m         \u001b[0mself\u001b[0m\u001b[1;33m.\u001b[0m\u001b[0minitialize\u001b[0m\u001b[1;33m(\u001b[0m\u001b[1;33m)\u001b[0m\u001b[1;33m\u001b[0m\u001b[1;33m\u001b[0m\u001b[0m\n\u001b[0;32m    239\u001b[0m \u001b[1;33m\u001b[0m\u001b[0m\n",
      "\u001b[1;32m~\\Anaconda\\envs\\geopandas_env\\lib\\site-packages\\statsmodels\\base\\model.py\u001b[0m in \u001b[0;36m__init__\u001b[1;34m(self, endog, exog, **kwargs)\u001b[0m\n\u001b[0;32m     75\u001b[0m         \u001b[0mmissing\u001b[0m \u001b[1;33m=\u001b[0m \u001b[0mkwargs\u001b[0m\u001b[1;33m.\u001b[0m\u001b[0mpop\u001b[0m\u001b[1;33m(\u001b[0m\u001b[1;34m'missing'\u001b[0m\u001b[1;33m,\u001b[0m \u001b[1;34m'none'\u001b[0m\u001b[1;33m)\u001b[0m\u001b[1;33m\u001b[0m\u001b[1;33m\u001b[0m\u001b[0m\n\u001b[0;32m     76\u001b[0m         \u001b[0mhasconst\u001b[0m \u001b[1;33m=\u001b[0m \u001b[0mkwargs\u001b[0m\u001b[1;33m.\u001b[0m\u001b[0mpop\u001b[0m\u001b[1;33m(\u001b[0m\u001b[1;34m'hasconst'\u001b[0m\u001b[1;33m,\u001b[0m \u001b[1;32mNone\u001b[0m\u001b[1;33m)\u001b[0m\u001b[1;33m\u001b[0m\u001b[1;33m\u001b[0m\u001b[0m\n\u001b[1;32m---> 77\u001b[1;33m         self.data = self._handle_data(endog, exog, missing, hasconst,\n\u001b[0m\u001b[0;32m     78\u001b[0m                                       **kwargs)\n\u001b[0;32m     79\u001b[0m         \u001b[0mself\u001b[0m\u001b[1;33m.\u001b[0m\u001b[0mk_constant\u001b[0m \u001b[1;33m=\u001b[0m \u001b[0mself\u001b[0m\u001b[1;33m.\u001b[0m\u001b[0mdata\u001b[0m\u001b[1;33m.\u001b[0m\u001b[0mk_constant\u001b[0m\u001b[1;33m\u001b[0m\u001b[1;33m\u001b[0m\u001b[0m\n",
      "\u001b[1;32m~\\Anaconda\\envs\\geopandas_env\\lib\\site-packages\\statsmodels\\base\\model.py\u001b[0m in \u001b[0;36m_handle_data\u001b[1;34m(self, endog, exog, missing, hasconst, **kwargs)\u001b[0m\n\u001b[0;32m     99\u001b[0m \u001b[1;33m\u001b[0m\u001b[0m\n\u001b[0;32m    100\u001b[0m     \u001b[1;32mdef\u001b[0m \u001b[0m_handle_data\u001b[0m\u001b[1;33m(\u001b[0m\u001b[0mself\u001b[0m\u001b[1;33m,\u001b[0m \u001b[0mendog\u001b[0m\u001b[1;33m,\u001b[0m \u001b[0mexog\u001b[0m\u001b[1;33m,\u001b[0m \u001b[0mmissing\u001b[0m\u001b[1;33m,\u001b[0m \u001b[0mhasconst\u001b[0m\u001b[1;33m,\u001b[0m \u001b[1;33m**\u001b[0m\u001b[0mkwargs\u001b[0m\u001b[1;33m)\u001b[0m\u001b[1;33m:\u001b[0m\u001b[1;33m\u001b[0m\u001b[1;33m\u001b[0m\u001b[0m\n\u001b[1;32m--> 101\u001b[1;33m         \u001b[0mdata\u001b[0m \u001b[1;33m=\u001b[0m \u001b[0mhandle_data\u001b[0m\u001b[1;33m(\u001b[0m\u001b[0mendog\u001b[0m\u001b[1;33m,\u001b[0m \u001b[0mexog\u001b[0m\u001b[1;33m,\u001b[0m \u001b[0mmissing\u001b[0m\u001b[1;33m,\u001b[0m \u001b[0mhasconst\u001b[0m\u001b[1;33m,\u001b[0m \u001b[1;33m**\u001b[0m\u001b[0mkwargs\u001b[0m\u001b[1;33m)\u001b[0m\u001b[1;33m\u001b[0m\u001b[1;33m\u001b[0m\u001b[0m\n\u001b[0m\u001b[0;32m    102\u001b[0m         \u001b[1;31m# kwargs arrays could have changed, easier to just attach here\u001b[0m\u001b[1;33m\u001b[0m\u001b[1;33m\u001b[0m\u001b[1;33m\u001b[0m\u001b[0m\n\u001b[0;32m    103\u001b[0m         \u001b[1;32mfor\u001b[0m \u001b[0mkey\u001b[0m \u001b[1;32min\u001b[0m \u001b[0mkwargs\u001b[0m\u001b[1;33m:\u001b[0m\u001b[1;33m\u001b[0m\u001b[1;33m\u001b[0m\u001b[0m\n",
      "\u001b[1;32m~\\Anaconda\\envs\\geopandas_env\\lib\\site-packages\\statsmodels\\base\\data.py\u001b[0m in \u001b[0;36mhandle_data\u001b[1;34m(endog, exog, missing, hasconst, **kwargs)\u001b[0m\n\u001b[0;32m    670\u001b[0m \u001b[1;33m\u001b[0m\u001b[0m\n\u001b[0;32m    671\u001b[0m     \u001b[0mklass\u001b[0m \u001b[1;33m=\u001b[0m \u001b[0mhandle_data_class_factory\u001b[0m\u001b[1;33m(\u001b[0m\u001b[0mendog\u001b[0m\u001b[1;33m,\u001b[0m \u001b[0mexog\u001b[0m\u001b[1;33m)\u001b[0m\u001b[1;33m\u001b[0m\u001b[1;33m\u001b[0m\u001b[0m\n\u001b[1;32m--> 672\u001b[1;33m     return klass(endog, exog=exog, missing=missing, hasconst=hasconst,\n\u001b[0m\u001b[0;32m    673\u001b[0m                  **kwargs)\n",
      "\u001b[1;32m~\\Anaconda\\envs\\geopandas_env\\lib\\site-packages\\statsmodels\\base\\data.py\u001b[0m in \u001b[0;36m__init__\u001b[1;34m(self, endog, exog, missing, hasconst, **kwargs)\u001b[0m\n\u001b[0;32m     85\u001b[0m         \u001b[0mself\u001b[0m\u001b[1;33m.\u001b[0m\u001b[0mconst_idx\u001b[0m \u001b[1;33m=\u001b[0m \u001b[1;32mNone\u001b[0m\u001b[1;33m\u001b[0m\u001b[1;33m\u001b[0m\u001b[0m\n\u001b[0;32m     86\u001b[0m         \u001b[0mself\u001b[0m\u001b[1;33m.\u001b[0m\u001b[0mk_constant\u001b[0m \u001b[1;33m=\u001b[0m \u001b[1;36m0\u001b[0m\u001b[1;33m\u001b[0m\u001b[1;33m\u001b[0m\u001b[0m\n\u001b[1;32m---> 87\u001b[1;33m         \u001b[0mself\u001b[0m\u001b[1;33m.\u001b[0m\u001b[0m_handle_constant\u001b[0m\u001b[1;33m(\u001b[0m\u001b[0mhasconst\u001b[0m\u001b[1;33m)\u001b[0m\u001b[1;33m\u001b[0m\u001b[1;33m\u001b[0m\u001b[0m\n\u001b[0m\u001b[0;32m     88\u001b[0m         \u001b[0mself\u001b[0m\u001b[1;33m.\u001b[0m\u001b[0m_check_integrity\u001b[0m\u001b[1;33m(\u001b[0m\u001b[1;33m)\u001b[0m\u001b[1;33m\u001b[0m\u001b[1;33m\u001b[0m\u001b[0m\n\u001b[0;32m     89\u001b[0m         \u001b[0mself\u001b[0m\u001b[1;33m.\u001b[0m\u001b[0m_cache\u001b[0m \u001b[1;33m=\u001b[0m \u001b[1;33m{\u001b[0m\u001b[1;33m}\u001b[0m\u001b[1;33m\u001b[0m\u001b[1;33m\u001b[0m\u001b[0m\n",
      "\u001b[1;32m~\\Anaconda\\envs\\geopandas_env\\lib\\site-packages\\statsmodels\\base\\data.py\u001b[0m in \u001b[0;36m_handle_constant\u001b[1;34m(self, hasconst)\u001b[0m\n\u001b[0;32m    129\u001b[0m             \u001b[1;31m# detect where the constant is\u001b[0m\u001b[1;33m\u001b[0m\u001b[1;33m\u001b[0m\u001b[1;33m\u001b[0m\u001b[0m\n\u001b[0;32m    130\u001b[0m             \u001b[0mcheck_implicit\u001b[0m \u001b[1;33m=\u001b[0m \u001b[1;32mFalse\u001b[0m\u001b[1;33m\u001b[0m\u001b[1;33m\u001b[0m\u001b[0m\n\u001b[1;32m--> 131\u001b[1;33m             \u001b[0mexog_max\u001b[0m \u001b[1;33m=\u001b[0m \u001b[0mnp\u001b[0m\u001b[1;33m.\u001b[0m\u001b[0mmax\u001b[0m\u001b[1;33m(\u001b[0m\u001b[0mself\u001b[0m\u001b[1;33m.\u001b[0m\u001b[0mexog\u001b[0m\u001b[1;33m,\u001b[0m \u001b[0maxis\u001b[0m\u001b[1;33m=\u001b[0m\u001b[1;36m0\u001b[0m\u001b[1;33m)\u001b[0m\u001b[1;33m\u001b[0m\u001b[1;33m\u001b[0m\u001b[0m\n\u001b[0m\u001b[0;32m    132\u001b[0m             \u001b[1;32mif\u001b[0m \u001b[1;32mnot\u001b[0m \u001b[0mnp\u001b[0m\u001b[1;33m.\u001b[0m\u001b[0misfinite\u001b[0m\u001b[1;33m(\u001b[0m\u001b[0mexog_max\u001b[0m\u001b[1;33m)\u001b[0m\u001b[1;33m.\u001b[0m\u001b[0mall\u001b[0m\u001b[1;33m(\u001b[0m\u001b[1;33m)\u001b[0m\u001b[1;33m:\u001b[0m\u001b[1;33m\u001b[0m\u001b[1;33m\u001b[0m\u001b[0m\n\u001b[0;32m    133\u001b[0m                 \u001b[1;32mraise\u001b[0m \u001b[0mMissingDataError\u001b[0m\u001b[1;33m(\u001b[0m\u001b[1;34m'exog contains inf or nans'\u001b[0m\u001b[1;33m)\u001b[0m\u001b[1;33m\u001b[0m\u001b[1;33m\u001b[0m\u001b[0m\n",
      "\u001b[1;32m<__array_function__ internals>\u001b[0m in \u001b[0;36mamax\u001b[1;34m(*args, **kwargs)\u001b[0m\n",
      "\u001b[1;32m~\\Anaconda\\envs\\geopandas_env\\lib\\site-packages\\numpy\\core\\fromnumeric.py\u001b[0m in \u001b[0;36mamax\u001b[1;34m(a, axis, out, keepdims, initial, where)\u001b[0m\n\u001b[0;32m   2703\u001b[0m     \u001b[1;36m5\u001b[0m\u001b[1;33m\u001b[0m\u001b[1;33m\u001b[0m\u001b[0m\n\u001b[0;32m   2704\u001b[0m     \"\"\"\n\u001b[1;32m-> 2705\u001b[1;33m     return _wrapreduction(a, np.maximum, 'max', axis, None, out,\n\u001b[0m\u001b[0;32m   2706\u001b[0m                           keepdims=keepdims, initial=initial, where=where)\n\u001b[0;32m   2707\u001b[0m \u001b[1;33m\u001b[0m\u001b[0m\n",
      "\u001b[1;32m~\\Anaconda\\envs\\geopandas_env\\lib\\site-packages\\numpy\\core\\fromnumeric.py\u001b[0m in \u001b[0;36m_wrapreduction\u001b[1;34m(obj, ufunc, method, axis, dtype, out, **kwargs)\u001b[0m\n\u001b[0;32m     85\u001b[0m                 \u001b[1;32mreturn\u001b[0m \u001b[0mreduction\u001b[0m\u001b[1;33m(\u001b[0m\u001b[0maxis\u001b[0m\u001b[1;33m=\u001b[0m\u001b[0maxis\u001b[0m\u001b[1;33m,\u001b[0m \u001b[0mout\u001b[0m\u001b[1;33m=\u001b[0m\u001b[0mout\u001b[0m\u001b[1;33m,\u001b[0m \u001b[1;33m**\u001b[0m\u001b[0mpasskwargs\u001b[0m\u001b[1;33m)\u001b[0m\u001b[1;33m\u001b[0m\u001b[1;33m\u001b[0m\u001b[0m\n\u001b[0;32m     86\u001b[0m \u001b[1;33m\u001b[0m\u001b[0m\n\u001b[1;32m---> 87\u001b[1;33m     \u001b[1;32mreturn\u001b[0m \u001b[0mufunc\u001b[0m\u001b[1;33m.\u001b[0m\u001b[0mreduce\u001b[0m\u001b[1;33m(\u001b[0m\u001b[0mobj\u001b[0m\u001b[1;33m,\u001b[0m \u001b[0maxis\u001b[0m\u001b[1;33m,\u001b[0m \u001b[0mdtype\u001b[0m\u001b[1;33m,\u001b[0m \u001b[0mout\u001b[0m\u001b[1;33m,\u001b[0m \u001b[1;33m**\u001b[0m\u001b[0mpasskwargs\u001b[0m\u001b[1;33m)\u001b[0m\u001b[1;33m\u001b[0m\u001b[1;33m\u001b[0m\u001b[0m\n\u001b[0m\u001b[0;32m     88\u001b[0m \u001b[1;33m\u001b[0m\u001b[0m\n\u001b[0;32m     89\u001b[0m \u001b[1;33m\u001b[0m\u001b[0m\n",
      "\u001b[1;31mValueError\u001b[0m: zero-size array to reduction operation maximum which has no identity"
     ]
    }
   ],
   "source": [
    "# same steps as for \"Total Turnout\"\n",
    "\n",
    "elec_df['Republican_pred_voteshare_minus_actual_all_years'] = np.nan #will iteratively fill below\n",
    "\n",
    "for state in set(elec_df['state']):\n",
    "    for district in set(elec_df[elec_df['state']==state]['district']):\n",
    "        \n",
    "        subset = elec_df[(elec_df['state']==state) & (elec_df['district'] == district)]\n",
    "        regression_filter = (elec_df['state']==state) & (elec_df['district'] == district)\n",
    "\n",
    "        regression = smf.ols(formula='Repub_voteshare ~ year + DPres', data=subset)\n",
    "        regression_result = regression.fit(cov_type='HC3')\n",
    "\n",
    "        elec_df.loc[regression_filter, 'Republican_pred_voteshare_minus_actual_all_years'] = regression_result.resid"
   ]
  },
  {
   "cell_type": "markdown",
   "metadata": {
    "heading_collapsed": true,
    "hidden": true
   },
   "source": [
    "### Over drought years"
   ]
  },
  {
   "cell_type": "code",
   "execution_count": null,
   "metadata": {
    "hidden": true
   },
   "outputs": [],
   "source": [
    "# same steps as for \"Total Turnout\"\n",
    "\n",
    "elec_df['Republican_pred_voteshare_minus_actual_observed_years'] = np.nan #will iteratively fill below\n",
    "\n",
    "for state in set(elec_df['state']):\n",
    "    for district in set(elec_df[elec_df['state']==state]['district']):\n",
    "        \n",
    "        subset = elec_df[(elec_df['state']==state) & (elec_df['district'] == district) & (elec_df['year'] >BASE_YEAR)]\n",
    "        regression_filter = (elec_df['state']==state) & (elec_df['district'] == district) & (elec_df['year'] >= BASE_YEAR)\n",
    "\n",
    "        regression = smf.ols(formula='Repub_voteshare ~ year + DPres', data=subset)\n",
    "        regression_result = regression.fit(cov_type='HC3')\n",
    "\n",
    "        elec_df.loc[regression_filter, 'Republican_pred_voteshare_minus_actual_observed_years'] = regression_result.resid"
   ]
  },
  {
   "cell_type": "markdown",
   "metadata": {
    "heading_collapsed": true,
    "hidden": true
   },
   "source": [
    "## Democrat Vote Share"
   ]
  },
  {
   "cell_type": "markdown",
   "metadata": {
    "hidden": true
   },
   "source": [
    "### Over all observed years"
   ]
  },
  {
   "cell_type": "code",
   "execution_count": 561,
   "metadata": {
    "hidden": true,
    "scrolled": true
   },
   "outputs": [
    {
     "ename": "ValueError",
     "evalue": "zero-size array to reduction operation maximum which has no identity",
     "output_type": "error",
     "traceback": [
      "\u001b[1;31m---------------------------------------------------------------------------\u001b[0m",
      "\u001b[1;31mValueError\u001b[0m                                Traceback (most recent call last)",
      "\u001b[1;32m<ipython-input-561-2f8693e1c845>\u001b[0m in \u001b[0;36m<module>\u001b[1;34m\u001b[0m\n\u001b[0;32m      9\u001b[0m         \u001b[0mregression_filter\u001b[0m \u001b[1;33m=\u001b[0m \u001b[1;33m(\u001b[0m\u001b[0melec_df\u001b[0m\u001b[1;33m[\u001b[0m\u001b[1;34m'state'\u001b[0m\u001b[1;33m]\u001b[0m\u001b[1;33m==\u001b[0m\u001b[0mstate\u001b[0m\u001b[1;33m)\u001b[0m \u001b[1;33m&\u001b[0m \u001b[1;33m(\u001b[0m\u001b[0melec_df\u001b[0m\u001b[1;33m[\u001b[0m\u001b[1;34m'district'\u001b[0m\u001b[1;33m]\u001b[0m \u001b[1;33m==\u001b[0m \u001b[0mdistrict\u001b[0m\u001b[1;33m)\u001b[0m\u001b[1;33m\u001b[0m\u001b[1;33m\u001b[0m\u001b[0m\n\u001b[0;32m     10\u001b[0m \u001b[1;33m\u001b[0m\u001b[0m\n\u001b[1;32m---> 11\u001b[1;33m         \u001b[0mregression\u001b[0m \u001b[1;33m=\u001b[0m \u001b[0msmf\u001b[0m\u001b[1;33m.\u001b[0m\u001b[0mols\u001b[0m\u001b[1;33m(\u001b[0m\u001b[0mformula\u001b[0m\u001b[1;33m=\u001b[0m\u001b[1;34m'Dem_voteshare ~ year + DPres'\u001b[0m\u001b[1;33m,\u001b[0m \u001b[0mdata\u001b[0m\u001b[1;33m=\u001b[0m\u001b[0msubset\u001b[0m\u001b[1;33m)\u001b[0m\u001b[1;33m\u001b[0m\u001b[1;33m\u001b[0m\u001b[0m\n\u001b[0m\u001b[0;32m     12\u001b[0m         \u001b[0mregression_result\u001b[0m \u001b[1;33m=\u001b[0m \u001b[0mregression\u001b[0m\u001b[1;33m.\u001b[0m\u001b[0mfit\u001b[0m\u001b[1;33m(\u001b[0m\u001b[0mcov_type\u001b[0m\u001b[1;33m=\u001b[0m\u001b[1;34m'HC3'\u001b[0m\u001b[1;33m)\u001b[0m\u001b[1;33m\u001b[0m\u001b[1;33m\u001b[0m\u001b[0m\n\u001b[0;32m     13\u001b[0m \u001b[1;33m\u001b[0m\u001b[0m\n",
      "\u001b[1;32m~\\Anaconda\\envs\\geopandas_env\\lib\\site-packages\\statsmodels\\base\\model.py\u001b[0m in \u001b[0;36mfrom_formula\u001b[1;34m(cls, formula, data, subset, drop_cols, *args, **kwargs)\u001b[0m\n\u001b[0;32m    193\u001b[0m                        \u001b[1;34m'formula'\u001b[0m\u001b[1;33m:\u001b[0m \u001b[0mformula\u001b[0m\u001b[1;33m,\u001b[0m  \u001b[1;31m# attach formula for unpckling\u001b[0m\u001b[1;33m\u001b[0m\u001b[1;33m\u001b[0m\u001b[0m\n\u001b[0;32m    194\u001b[0m                        'design_info': design_info})\n\u001b[1;32m--> 195\u001b[1;33m         \u001b[0mmod\u001b[0m \u001b[1;33m=\u001b[0m \u001b[0mcls\u001b[0m\u001b[1;33m(\u001b[0m\u001b[0mendog\u001b[0m\u001b[1;33m,\u001b[0m \u001b[0mexog\u001b[0m\u001b[1;33m,\u001b[0m \u001b[1;33m*\u001b[0m\u001b[0margs\u001b[0m\u001b[1;33m,\u001b[0m \u001b[1;33m**\u001b[0m\u001b[0mkwargs\u001b[0m\u001b[1;33m)\u001b[0m\u001b[1;33m\u001b[0m\u001b[1;33m\u001b[0m\u001b[0m\n\u001b[0m\u001b[0;32m    196\u001b[0m         \u001b[0mmod\u001b[0m\u001b[1;33m.\u001b[0m\u001b[0mformula\u001b[0m \u001b[1;33m=\u001b[0m \u001b[0mformula\u001b[0m\u001b[1;33m\u001b[0m\u001b[1;33m\u001b[0m\u001b[0m\n\u001b[0;32m    197\u001b[0m \u001b[1;33m\u001b[0m\u001b[0m\n",
      "\u001b[1;32m~\\Anaconda\\envs\\geopandas_env\\lib\\site-packages\\statsmodels\\regression\\linear_model.py\u001b[0m in \u001b[0;36m__init__\u001b[1;34m(self, endog, exog, missing, hasconst, **kwargs)\u001b[0m\n\u001b[0;32m    870\u001b[0m     def __init__(self, endog, exog=None, missing='none', hasconst=None,\n\u001b[0;32m    871\u001b[0m                  **kwargs):\n\u001b[1;32m--> 872\u001b[1;33m         super(OLS, self).__init__(endog, exog, missing=missing,\n\u001b[0m\u001b[0;32m    873\u001b[0m                                   hasconst=hasconst, **kwargs)\n\u001b[0;32m    874\u001b[0m         \u001b[1;32mif\u001b[0m \u001b[1;34m\"weights\"\u001b[0m \u001b[1;32min\u001b[0m \u001b[0mself\u001b[0m\u001b[1;33m.\u001b[0m\u001b[0m_init_keys\u001b[0m\u001b[1;33m:\u001b[0m\u001b[1;33m\u001b[0m\u001b[1;33m\u001b[0m\u001b[0m\n",
      "\u001b[1;32m~\\Anaconda\\envs\\geopandas_env\\lib\\site-packages\\statsmodels\\regression\\linear_model.py\u001b[0m in \u001b[0;36m__init__\u001b[1;34m(self, endog, exog, weights, missing, hasconst, **kwargs)\u001b[0m\n\u001b[0;32m    701\u001b[0m         \u001b[1;32melse\u001b[0m\u001b[1;33m:\u001b[0m\u001b[1;33m\u001b[0m\u001b[1;33m\u001b[0m\u001b[0m\n\u001b[0;32m    702\u001b[0m             \u001b[0mweights\u001b[0m \u001b[1;33m=\u001b[0m \u001b[0mweights\u001b[0m\u001b[1;33m.\u001b[0m\u001b[0msqueeze\u001b[0m\u001b[1;33m(\u001b[0m\u001b[1;33m)\u001b[0m\u001b[1;33m\u001b[0m\u001b[1;33m\u001b[0m\u001b[0m\n\u001b[1;32m--> 703\u001b[1;33m         super(WLS, self).__init__(endog, exog, missing=missing,\n\u001b[0m\u001b[0;32m    704\u001b[0m                                   weights=weights, hasconst=hasconst, **kwargs)\n\u001b[0;32m    705\u001b[0m         \u001b[0mnobs\u001b[0m \u001b[1;33m=\u001b[0m \u001b[0mself\u001b[0m\u001b[1;33m.\u001b[0m\u001b[0mexog\u001b[0m\u001b[1;33m.\u001b[0m\u001b[0mshape\u001b[0m\u001b[1;33m[\u001b[0m\u001b[1;36m0\u001b[0m\u001b[1;33m]\u001b[0m\u001b[1;33m\u001b[0m\u001b[1;33m\u001b[0m\u001b[0m\n",
      "\u001b[1;32m~\\Anaconda\\envs\\geopandas_env\\lib\\site-packages\\statsmodels\\regression\\linear_model.py\u001b[0m in \u001b[0;36m__init__\u001b[1;34m(self, endog, exog, **kwargs)\u001b[0m\n\u001b[0;32m    188\u001b[0m     \"\"\"\n\u001b[0;32m    189\u001b[0m     \u001b[1;32mdef\u001b[0m \u001b[0m__init__\u001b[0m\u001b[1;33m(\u001b[0m\u001b[0mself\u001b[0m\u001b[1;33m,\u001b[0m \u001b[0mendog\u001b[0m\u001b[1;33m,\u001b[0m \u001b[0mexog\u001b[0m\u001b[1;33m,\u001b[0m \u001b[1;33m**\u001b[0m\u001b[0mkwargs\u001b[0m\u001b[1;33m)\u001b[0m\u001b[1;33m:\u001b[0m\u001b[1;33m\u001b[0m\u001b[1;33m\u001b[0m\u001b[0m\n\u001b[1;32m--> 190\u001b[1;33m         \u001b[0msuper\u001b[0m\u001b[1;33m(\u001b[0m\u001b[0mRegressionModel\u001b[0m\u001b[1;33m,\u001b[0m \u001b[0mself\u001b[0m\u001b[1;33m)\u001b[0m\u001b[1;33m.\u001b[0m\u001b[0m__init__\u001b[0m\u001b[1;33m(\u001b[0m\u001b[0mendog\u001b[0m\u001b[1;33m,\u001b[0m \u001b[0mexog\u001b[0m\u001b[1;33m,\u001b[0m \u001b[1;33m**\u001b[0m\u001b[0mkwargs\u001b[0m\u001b[1;33m)\u001b[0m\u001b[1;33m\u001b[0m\u001b[1;33m\u001b[0m\u001b[0m\n\u001b[0m\u001b[0;32m    191\u001b[0m         \u001b[0mself\u001b[0m\u001b[1;33m.\u001b[0m\u001b[0m_data_attr\u001b[0m\u001b[1;33m.\u001b[0m\u001b[0mextend\u001b[0m\u001b[1;33m(\u001b[0m\u001b[1;33m[\u001b[0m\u001b[1;34m'pinv_wexog'\u001b[0m\u001b[1;33m,\u001b[0m \u001b[1;34m'weights'\u001b[0m\u001b[1;33m]\u001b[0m\u001b[1;33m)\u001b[0m\u001b[1;33m\u001b[0m\u001b[1;33m\u001b[0m\u001b[0m\n\u001b[0;32m    192\u001b[0m \u001b[1;33m\u001b[0m\u001b[0m\n",
      "\u001b[1;32m~\\Anaconda\\envs\\geopandas_env\\lib\\site-packages\\statsmodels\\base\\model.py\u001b[0m in \u001b[0;36m__init__\u001b[1;34m(self, endog, exog, **kwargs)\u001b[0m\n\u001b[0;32m    235\u001b[0m \u001b[1;33m\u001b[0m\u001b[0m\n\u001b[0;32m    236\u001b[0m     \u001b[1;32mdef\u001b[0m \u001b[0m__init__\u001b[0m\u001b[1;33m(\u001b[0m\u001b[0mself\u001b[0m\u001b[1;33m,\u001b[0m \u001b[0mendog\u001b[0m\u001b[1;33m,\u001b[0m \u001b[0mexog\u001b[0m\u001b[1;33m=\u001b[0m\u001b[1;32mNone\u001b[0m\u001b[1;33m,\u001b[0m \u001b[1;33m**\u001b[0m\u001b[0mkwargs\u001b[0m\u001b[1;33m)\u001b[0m\u001b[1;33m:\u001b[0m\u001b[1;33m\u001b[0m\u001b[1;33m\u001b[0m\u001b[0m\n\u001b[1;32m--> 237\u001b[1;33m         \u001b[0msuper\u001b[0m\u001b[1;33m(\u001b[0m\u001b[0mLikelihoodModel\u001b[0m\u001b[1;33m,\u001b[0m \u001b[0mself\u001b[0m\u001b[1;33m)\u001b[0m\u001b[1;33m.\u001b[0m\u001b[0m__init__\u001b[0m\u001b[1;33m(\u001b[0m\u001b[0mendog\u001b[0m\u001b[1;33m,\u001b[0m \u001b[0mexog\u001b[0m\u001b[1;33m,\u001b[0m \u001b[1;33m**\u001b[0m\u001b[0mkwargs\u001b[0m\u001b[1;33m)\u001b[0m\u001b[1;33m\u001b[0m\u001b[1;33m\u001b[0m\u001b[0m\n\u001b[0m\u001b[0;32m    238\u001b[0m         \u001b[0mself\u001b[0m\u001b[1;33m.\u001b[0m\u001b[0minitialize\u001b[0m\u001b[1;33m(\u001b[0m\u001b[1;33m)\u001b[0m\u001b[1;33m\u001b[0m\u001b[1;33m\u001b[0m\u001b[0m\n\u001b[0;32m    239\u001b[0m \u001b[1;33m\u001b[0m\u001b[0m\n",
      "\u001b[1;32m~\\Anaconda\\envs\\geopandas_env\\lib\\site-packages\\statsmodels\\base\\model.py\u001b[0m in \u001b[0;36m__init__\u001b[1;34m(self, endog, exog, **kwargs)\u001b[0m\n\u001b[0;32m     75\u001b[0m         \u001b[0mmissing\u001b[0m \u001b[1;33m=\u001b[0m \u001b[0mkwargs\u001b[0m\u001b[1;33m.\u001b[0m\u001b[0mpop\u001b[0m\u001b[1;33m(\u001b[0m\u001b[1;34m'missing'\u001b[0m\u001b[1;33m,\u001b[0m \u001b[1;34m'none'\u001b[0m\u001b[1;33m)\u001b[0m\u001b[1;33m\u001b[0m\u001b[1;33m\u001b[0m\u001b[0m\n\u001b[0;32m     76\u001b[0m         \u001b[0mhasconst\u001b[0m \u001b[1;33m=\u001b[0m \u001b[0mkwargs\u001b[0m\u001b[1;33m.\u001b[0m\u001b[0mpop\u001b[0m\u001b[1;33m(\u001b[0m\u001b[1;34m'hasconst'\u001b[0m\u001b[1;33m,\u001b[0m \u001b[1;32mNone\u001b[0m\u001b[1;33m)\u001b[0m\u001b[1;33m\u001b[0m\u001b[1;33m\u001b[0m\u001b[0m\n\u001b[1;32m---> 77\u001b[1;33m         self.data = self._handle_data(endog, exog, missing, hasconst,\n\u001b[0m\u001b[0;32m     78\u001b[0m                                       **kwargs)\n\u001b[0;32m     79\u001b[0m         \u001b[0mself\u001b[0m\u001b[1;33m.\u001b[0m\u001b[0mk_constant\u001b[0m \u001b[1;33m=\u001b[0m \u001b[0mself\u001b[0m\u001b[1;33m.\u001b[0m\u001b[0mdata\u001b[0m\u001b[1;33m.\u001b[0m\u001b[0mk_constant\u001b[0m\u001b[1;33m\u001b[0m\u001b[1;33m\u001b[0m\u001b[0m\n",
      "\u001b[1;32m~\\Anaconda\\envs\\geopandas_env\\lib\\site-packages\\statsmodels\\base\\model.py\u001b[0m in \u001b[0;36m_handle_data\u001b[1;34m(self, endog, exog, missing, hasconst, **kwargs)\u001b[0m\n\u001b[0;32m     99\u001b[0m \u001b[1;33m\u001b[0m\u001b[0m\n\u001b[0;32m    100\u001b[0m     \u001b[1;32mdef\u001b[0m \u001b[0m_handle_data\u001b[0m\u001b[1;33m(\u001b[0m\u001b[0mself\u001b[0m\u001b[1;33m,\u001b[0m \u001b[0mendog\u001b[0m\u001b[1;33m,\u001b[0m \u001b[0mexog\u001b[0m\u001b[1;33m,\u001b[0m \u001b[0mmissing\u001b[0m\u001b[1;33m,\u001b[0m \u001b[0mhasconst\u001b[0m\u001b[1;33m,\u001b[0m \u001b[1;33m**\u001b[0m\u001b[0mkwargs\u001b[0m\u001b[1;33m)\u001b[0m\u001b[1;33m:\u001b[0m\u001b[1;33m\u001b[0m\u001b[1;33m\u001b[0m\u001b[0m\n\u001b[1;32m--> 101\u001b[1;33m         \u001b[0mdata\u001b[0m \u001b[1;33m=\u001b[0m \u001b[0mhandle_data\u001b[0m\u001b[1;33m(\u001b[0m\u001b[0mendog\u001b[0m\u001b[1;33m,\u001b[0m \u001b[0mexog\u001b[0m\u001b[1;33m,\u001b[0m \u001b[0mmissing\u001b[0m\u001b[1;33m,\u001b[0m \u001b[0mhasconst\u001b[0m\u001b[1;33m,\u001b[0m \u001b[1;33m**\u001b[0m\u001b[0mkwargs\u001b[0m\u001b[1;33m)\u001b[0m\u001b[1;33m\u001b[0m\u001b[1;33m\u001b[0m\u001b[0m\n\u001b[0m\u001b[0;32m    102\u001b[0m         \u001b[1;31m# kwargs arrays could have changed, easier to just attach here\u001b[0m\u001b[1;33m\u001b[0m\u001b[1;33m\u001b[0m\u001b[1;33m\u001b[0m\u001b[0m\n\u001b[0;32m    103\u001b[0m         \u001b[1;32mfor\u001b[0m \u001b[0mkey\u001b[0m \u001b[1;32min\u001b[0m \u001b[0mkwargs\u001b[0m\u001b[1;33m:\u001b[0m\u001b[1;33m\u001b[0m\u001b[1;33m\u001b[0m\u001b[0m\n",
      "\u001b[1;32m~\\Anaconda\\envs\\geopandas_env\\lib\\site-packages\\statsmodels\\base\\data.py\u001b[0m in \u001b[0;36mhandle_data\u001b[1;34m(endog, exog, missing, hasconst, **kwargs)\u001b[0m\n\u001b[0;32m    670\u001b[0m \u001b[1;33m\u001b[0m\u001b[0m\n\u001b[0;32m    671\u001b[0m     \u001b[0mklass\u001b[0m \u001b[1;33m=\u001b[0m \u001b[0mhandle_data_class_factory\u001b[0m\u001b[1;33m(\u001b[0m\u001b[0mendog\u001b[0m\u001b[1;33m,\u001b[0m \u001b[0mexog\u001b[0m\u001b[1;33m)\u001b[0m\u001b[1;33m\u001b[0m\u001b[1;33m\u001b[0m\u001b[0m\n\u001b[1;32m--> 672\u001b[1;33m     return klass(endog, exog=exog, missing=missing, hasconst=hasconst,\n\u001b[0m\u001b[0;32m    673\u001b[0m                  **kwargs)\n",
      "\u001b[1;32m~\\Anaconda\\envs\\geopandas_env\\lib\\site-packages\\statsmodels\\base\\data.py\u001b[0m in \u001b[0;36m__init__\u001b[1;34m(self, endog, exog, missing, hasconst, **kwargs)\u001b[0m\n\u001b[0;32m     85\u001b[0m         \u001b[0mself\u001b[0m\u001b[1;33m.\u001b[0m\u001b[0mconst_idx\u001b[0m \u001b[1;33m=\u001b[0m \u001b[1;32mNone\u001b[0m\u001b[1;33m\u001b[0m\u001b[1;33m\u001b[0m\u001b[0m\n\u001b[0;32m     86\u001b[0m         \u001b[0mself\u001b[0m\u001b[1;33m.\u001b[0m\u001b[0mk_constant\u001b[0m \u001b[1;33m=\u001b[0m \u001b[1;36m0\u001b[0m\u001b[1;33m\u001b[0m\u001b[1;33m\u001b[0m\u001b[0m\n\u001b[1;32m---> 87\u001b[1;33m         \u001b[0mself\u001b[0m\u001b[1;33m.\u001b[0m\u001b[0m_handle_constant\u001b[0m\u001b[1;33m(\u001b[0m\u001b[0mhasconst\u001b[0m\u001b[1;33m)\u001b[0m\u001b[1;33m\u001b[0m\u001b[1;33m\u001b[0m\u001b[0m\n\u001b[0m\u001b[0;32m     88\u001b[0m         \u001b[0mself\u001b[0m\u001b[1;33m.\u001b[0m\u001b[0m_check_integrity\u001b[0m\u001b[1;33m(\u001b[0m\u001b[1;33m)\u001b[0m\u001b[1;33m\u001b[0m\u001b[1;33m\u001b[0m\u001b[0m\n\u001b[0;32m     89\u001b[0m         \u001b[0mself\u001b[0m\u001b[1;33m.\u001b[0m\u001b[0m_cache\u001b[0m \u001b[1;33m=\u001b[0m \u001b[1;33m{\u001b[0m\u001b[1;33m}\u001b[0m\u001b[1;33m\u001b[0m\u001b[1;33m\u001b[0m\u001b[0m\n",
      "\u001b[1;32m~\\Anaconda\\envs\\geopandas_env\\lib\\site-packages\\statsmodels\\base\\data.py\u001b[0m in \u001b[0;36m_handle_constant\u001b[1;34m(self, hasconst)\u001b[0m\n\u001b[0;32m    129\u001b[0m             \u001b[1;31m# detect where the constant is\u001b[0m\u001b[1;33m\u001b[0m\u001b[1;33m\u001b[0m\u001b[1;33m\u001b[0m\u001b[0m\n\u001b[0;32m    130\u001b[0m             \u001b[0mcheck_implicit\u001b[0m \u001b[1;33m=\u001b[0m \u001b[1;32mFalse\u001b[0m\u001b[1;33m\u001b[0m\u001b[1;33m\u001b[0m\u001b[0m\n\u001b[1;32m--> 131\u001b[1;33m             \u001b[0mexog_max\u001b[0m \u001b[1;33m=\u001b[0m \u001b[0mnp\u001b[0m\u001b[1;33m.\u001b[0m\u001b[0mmax\u001b[0m\u001b[1;33m(\u001b[0m\u001b[0mself\u001b[0m\u001b[1;33m.\u001b[0m\u001b[0mexog\u001b[0m\u001b[1;33m,\u001b[0m \u001b[0maxis\u001b[0m\u001b[1;33m=\u001b[0m\u001b[1;36m0\u001b[0m\u001b[1;33m)\u001b[0m\u001b[1;33m\u001b[0m\u001b[1;33m\u001b[0m\u001b[0m\n\u001b[0m\u001b[0;32m    132\u001b[0m             \u001b[1;32mif\u001b[0m \u001b[1;32mnot\u001b[0m \u001b[0mnp\u001b[0m\u001b[1;33m.\u001b[0m\u001b[0misfinite\u001b[0m\u001b[1;33m(\u001b[0m\u001b[0mexog_max\u001b[0m\u001b[1;33m)\u001b[0m\u001b[1;33m.\u001b[0m\u001b[0mall\u001b[0m\u001b[1;33m(\u001b[0m\u001b[1;33m)\u001b[0m\u001b[1;33m:\u001b[0m\u001b[1;33m\u001b[0m\u001b[1;33m\u001b[0m\u001b[0m\n\u001b[0;32m    133\u001b[0m                 \u001b[1;32mraise\u001b[0m \u001b[0mMissingDataError\u001b[0m\u001b[1;33m(\u001b[0m\u001b[1;34m'exog contains inf or nans'\u001b[0m\u001b[1;33m)\u001b[0m\u001b[1;33m\u001b[0m\u001b[1;33m\u001b[0m\u001b[0m\n",
      "\u001b[1;32m<__array_function__ internals>\u001b[0m in \u001b[0;36mamax\u001b[1;34m(*args, **kwargs)\u001b[0m\n",
      "\u001b[1;32m~\\Anaconda\\envs\\geopandas_env\\lib\\site-packages\\numpy\\core\\fromnumeric.py\u001b[0m in \u001b[0;36mamax\u001b[1;34m(a, axis, out, keepdims, initial, where)\u001b[0m\n\u001b[0;32m   2703\u001b[0m     \u001b[1;36m5\u001b[0m\u001b[1;33m\u001b[0m\u001b[1;33m\u001b[0m\u001b[0m\n\u001b[0;32m   2704\u001b[0m     \"\"\"\n\u001b[1;32m-> 2705\u001b[1;33m     return _wrapreduction(a, np.maximum, 'max', axis, None, out,\n\u001b[0m\u001b[0;32m   2706\u001b[0m                           keepdims=keepdims, initial=initial, where=where)\n\u001b[0;32m   2707\u001b[0m \u001b[1;33m\u001b[0m\u001b[0m\n",
      "\u001b[1;32m~\\Anaconda\\envs\\geopandas_env\\lib\\site-packages\\numpy\\core\\fromnumeric.py\u001b[0m in \u001b[0;36m_wrapreduction\u001b[1;34m(obj, ufunc, method, axis, dtype, out, **kwargs)\u001b[0m\n\u001b[0;32m     85\u001b[0m                 \u001b[1;32mreturn\u001b[0m \u001b[0mreduction\u001b[0m\u001b[1;33m(\u001b[0m\u001b[0maxis\u001b[0m\u001b[1;33m=\u001b[0m\u001b[0maxis\u001b[0m\u001b[1;33m,\u001b[0m \u001b[0mout\u001b[0m\u001b[1;33m=\u001b[0m\u001b[0mout\u001b[0m\u001b[1;33m,\u001b[0m \u001b[1;33m**\u001b[0m\u001b[0mpasskwargs\u001b[0m\u001b[1;33m)\u001b[0m\u001b[1;33m\u001b[0m\u001b[1;33m\u001b[0m\u001b[0m\n\u001b[0;32m     86\u001b[0m \u001b[1;33m\u001b[0m\u001b[0m\n\u001b[1;32m---> 87\u001b[1;33m     \u001b[1;32mreturn\u001b[0m \u001b[0mufunc\u001b[0m\u001b[1;33m.\u001b[0m\u001b[0mreduce\u001b[0m\u001b[1;33m(\u001b[0m\u001b[0mobj\u001b[0m\u001b[1;33m,\u001b[0m \u001b[0maxis\u001b[0m\u001b[1;33m,\u001b[0m \u001b[0mdtype\u001b[0m\u001b[1;33m,\u001b[0m \u001b[0mout\u001b[0m\u001b[1;33m,\u001b[0m \u001b[1;33m**\u001b[0m\u001b[0mpasskwargs\u001b[0m\u001b[1;33m)\u001b[0m\u001b[1;33m\u001b[0m\u001b[1;33m\u001b[0m\u001b[0m\n\u001b[0m\u001b[0;32m     88\u001b[0m \u001b[1;33m\u001b[0m\u001b[0m\n\u001b[0;32m     89\u001b[0m \u001b[1;33m\u001b[0m\u001b[0m\n",
      "\u001b[1;31mValueError\u001b[0m: zero-size array to reduction operation maximum which has no identity"
     ]
    }
   ],
   "source": [
    "# same steps as for \"Total Turnout\"\n",
    "\n",
    "elec_df['Democrat_pred_voteshare_minus_actual_all_years'] = np.nan #will iteratively fill below\n",
    "\n",
    "for state in set(elec_df['state']):\n",
    "    for district in set(elec_df[elec_df['state']==state]['district']):\n",
    "        \n",
    "        subset = elec_df[(elec_df['state']==state) & (elec_df['district'] == district)]\n",
    "        regression_filter = (elec_df['state']==state) & (elec_df['district'] == district)\n",
    "\n",
    "        regression = smf.ols(formula='Dem_voteshare ~ year + DPres', data=subset)\n",
    "        regression_result = regression.fit(cov_type='HC3')\n",
    "\n",
    "        elec_df.loc[regression_filter, 'Democrat_pred_voteshare_minus_actual_all_years'] = regression_result.resid"
   ]
  },
  {
   "cell_type": "markdown",
   "metadata": {
    "hidden": true
   },
   "source": [
    "### Over drought years"
   ]
  },
  {
   "cell_type": "code",
   "execution_count": null,
   "metadata": {
    "hidden": true
   },
   "outputs": [],
   "source": [
    "# same steps as for \"Total Turnout\"\n",
    "\n",
    "elec_df['Democrat_pred_voteshare_minus_actual_(observed_years)'] = np.nan #will iteratively fill below\n",
    "\n",
    "for state in set(elec_df['state']):\n",
    "    for district in set(elec_df[elec_df['state']==state]['district']):\n",
    "        \n",
    "        subset = elec_df[(elec_df['state']==state) & (elec_df['district'] == district) & (elec_df['year'] >= BASE_YEAR)]\n",
    "        regression_filter = (elec_df['state']==state) & (elec_df['district'] == district) & (elec_df['year'] >= BASE_YEAR)\n",
    "\n",
    "        regression = smf.ols(formula='Dem_voteshare ~ year + DPres', data=subset)\n",
    "        regression_result = regression.fit(cov_type='HC3')\n",
    "\n",
    "        elec_df.loc[regression_filter, 'Democrat_pred_voteshare_minus_actual_(observed_years)'] = regression_result.resid"
   ]
  },
  {
   "cell_type": "markdown",
   "metadata": {
    "heading_collapsed": true
   },
   "source": [
    "# Combine county and district data (independent var)\n",
    "\n",
    "i.e. bring county drought data to congressional districts"
   ]
  },
  {
   "cell_type": "markdown",
   "metadata": {
    "heading_collapsed": true,
    "hidden": true
   },
   "source": [
    "## Create dictionary matching districts and drought by period"
   ]
  },
  {
   "cell_type": "code",
   "execution_count": 562,
   "metadata": {
    "hidden": true,
    "scrolled": true
   },
   "outputs": [
    {
     "name": "stdout",
     "output_type": "stream",
     "text": [
      "('MO', 2000, 'STE. GENEVIEVE')\n",
      "('MO', 2000, 'STE. GENEVIEVE')\n",
      "('MO', 2002, 'STE. GENEVIEVE')\n",
      "('MO', 2002, 'STE. GENEVIEVE')\n",
      "('MO', 2004, 'STE. GENEVIEVE')\n",
      "('MO', 2004, 'STE. GENEVIEVE')\n",
      "('MO', 2006, 'STE. GENEVIEVE')\n",
      "('MO', 2006, 'STE. GENEVIEVE')\n",
      "('MO', 2008, 'STE. GENEVIEVE')\n",
      "('MO', 2008, 'STE. GENEVIEVE')\n",
      "('MO', 2010, 'STE. GENEVIEVE')\n",
      "('MO', 2010, 'STE. GENEVIEVE')\n",
      "('MO', 2012, 'STE. GENEVIEVE')\n",
      "('MO', 2014, 'STE. GENEVIEVE')\n",
      "('NM', 2000, 'DE BACA')\n",
      "('NM', 2000, 'DE BACA')\n",
      "('NM', 2002, 'DE BACA')\n",
      "('NM', 2002, 'DE BACA')\n",
      "('NM', 2004, 'DE BACA')\n",
      "('NM', 2004, 'DE BACA')\n",
      "('NM', 2006, 'DE BACA')\n",
      "('NM', 2006, 'DE BACA')\n",
      "('NM', 2008, 'DE BACA')\n",
      "('NM', 2008, 'DE BACA')\n",
      "('NM', 2010, 'DE BACA')\n",
      "('NM', 2010, 'DE BACA')\n",
      "('NM', 2012, 'DE BACA')\n",
      "('NM', 2012, 'DE BACA')\n",
      "('NM', 2014, 'DE BACA')\n",
      "('NM', 2014, 'DE BACA')\n"
     ]
    }
   ],
   "source": [
    "district_drought_dict = {}\n",
    "\n",
    "for state in counties_in_district_dict:\n",
    "    district_drought_dict[state] = {}\n",
    "    \n",
    "    for year in counties_in_district_dict[state]:\n",
    "        district_drought_dict[state][year] = {}\n",
    "        \n",
    "        for district in counties_in_district_dict[state][year]:\n",
    "            try:\n",
    "                avg_drought_over_period = sum(drought_df.loc[state_abbrev_dict[state.upper()], year, county[0]]*county[1] for county in counties_in_district_dict[state][year][district])  #this is weighted by the percent of a district each county accounts for. e.g. if 1/4 of a district is a county in full drought, and the other 3/4 is a county with no drought, the district ends up with 1/4 drought (roughly speaking) \n",
    "\n",
    "                district_drought_dict[state][year][int(district)] = avg_drought_over_period\n",
    "\n",
    "            except Exception as e:\n",
    "                if 'St.' not in str(e):\n",
    "                \n",
    "                    print(e)\n",
    "#                     print(state,year,district)\n",
    "                \n",
    "            "
   ]
  },
  {
   "cell_type": "markdown",
   "metadata": {
    "hidden": true
   },
   "source": [
    "need to remove 'city', st.-->saint, et.c from counties_in_district_dict.\n",
    "\n",
    "to do this, will need to change df it's generated from:\n",
    "\n",
    "* so both merged_district_df and county_shp"
   ]
  },
  {
   "cell_type": "markdown",
   "metadata": {
    "heading_collapsed": true,
    "hidden": true
   },
   "source": [
    "## Turn this into a dataframe"
   ]
  },
  {
   "cell_type": "code",
   "execution_count": 563,
   "metadata": {
    "hidden": true,
    "scrolled": true
   },
   "outputs": [],
   "source": [
    "district_drought_df = pd.DataFrame.from_dict({(state,year,district): district_drought_dict[state][year][district] \n",
    "                           for state in district_drought_dict.keys() \n",
    "                           for year in district_drought_dict[state].keys()\n",
    "                           for district in district_drought_dict[state][year].keys()},\n",
    "                       orient='index')\n",
    "\n",
    "district_drought_df.index.names = ['state', 'year', 'district']"
   ]
  },
  {
   "cell_type": "markdown",
   "metadata": {
    "heading_collapsed": true,
    "hidden": true
   },
   "source": [
    "## Merge this dataframe with elec_df\n",
    "\n",
    "note that this drops observations before 2000"
   ]
  },
  {
   "cell_type": "code",
   "execution_count": 564,
   "metadata": {
    "hidden": true
   },
   "outputs": [],
   "source": [
    "elec_df = elec_df.set_index(['state', 'year', 'district']).merge(district_drought_df, on=['state', 'year', 'district']).reset_index()"
   ]
  },
  {
   "cell_type": "markdown",
   "metadata": {
    "heading_collapsed": true
   },
   "source": [
    "# Analysis\n",
    "\n",
    "\\begin{equation} \\text{turnout - expected}_{it} = Drought_{it} + Drought_{it} \\times D_{agricultural} + ... \\end{equation}\n",
    "\n",
    "\\begin{equation} D_{\\text{incumbent lost}, it} = Drought_{it} + Drought_{it} \\times D_{agricultural} + ...  \\end{equation}\n",
    "\n",
    "\\begin{equation} \\text{R vote share}_{it} = Drought_{it} + Drought_{it} \\times D_{agricultural} + ... \\end{equation}\n",
    "\n",
    "need to convert drought vars to dummies and/or other more agricultural forms\n",
    "\n",
    "**need to collapse onto minimal repeated values for correct standard errors (otherwise variance of coeff will be underestimated)**\n",
    "\n",
    "**need to add district fixed effects**\n",
    "\n",
    "**need to cluster at district or state level?**\n",
    "\n",
    "**add an average drought term for each district?**\n",
    "\n",
    "**NEED TO FIGURE OUT CLUSTERING**"
   ]
  },
  {
   "cell_type": "markdown",
   "metadata": {
    "heading_collapsed": true,
    "hidden": true
   },
   "source": [
    "## Create a few more necessary variables"
   ]
  },
  {
   "cell_type": "markdown",
   "metadata": {
    "hidden": true
   },
   "source": [
    "### Create Average Drought var\n",
    "\n",
    "Should I also create a var for the biggest drought that they've seen? (averaging over future years too doesn't make much sense)"
   ]
  },
  {
   "cell_type": "code",
   "execution_count": 620,
   "metadata": {
    "hidden": true
   },
   "outputs": [],
   "source": [
    "# elec_df = elec_df.reset_index()\n",
    "state_set = set(elec_df['state'])\n",
    "year_set = set(elec_df['year'])\n",
    "\n",
    "levels_of_drought = ['No_drought', 'D0', 'D1', 'D2', 'D3', 'D4']\n",
    "\n",
    "for level in levels_of_drought:\n",
    "    elec_df[level + '_avg'] = np.nan\n",
    "#     elec_df[level + 'vs_avg'] = np.nan\n",
    "\n",
    "for state in state_set:\n",
    "    for district in set(elec_df[elec_df['state']==state]['district']):\n",
    "        state_district_filter = (elec_df['state']==state) & (elec_df['district']==district)\n",
    "        \n",
    "        for level in levels_of_drought:\n",
    "            \n",
    "            elec_df.loc[state_district_filter, str(level + '_avg')] = elec_df[state_district_filter][level].mean()  #take average\n",
    "            \n",
    "            \n",
    "for level in levels_of_drought:\n",
    "    elec_df[level + '_vs_avg'] = elec_df[level] - elec_df[level + '_avg']"
   ]
  },
  {
   "cell_type": "markdown",
   "metadata": {
    "hidden": true
   },
   "source": [
    "### Classify major droughts\n",
    "\n",
    "note: this is arbitrary - see if there's an official definition"
   ]
  },
  {
   "cell_type": "code",
   "execution_count": 636,
   "metadata": {
    "hidden": true,
    "scrolled": true
   },
   "outputs": [
    {
     "name": "stdout",
     "output_type": "stream",
     "text": [
      "there are 240 observations of major_drought\n",
      "there are 421 observations of major_unexpected_drought\n"
     ]
    }
   ],
   "source": [
    "major_drought_filter = (elec_df['D3'] >= 40)\n",
    "major_unexpected_drought_filter = elec_df['D3_vs_avg'] >= 20\n",
    "\n",
    "elec_df[\"major_drought\"] = major_drought_filter\n",
    "elec_df['major_unexpected_drought'] = major_unexpected_drought_filter\n",
    "\n",
    "print(f'there are {sum(major_drought_filter)} observations of major_drought')\n",
    "print(f'there are {sum(major_unexpected_drought_filter)} observations of major_unexpected_drought')"
   ]
  },
  {
   "cell_type": "code",
   "execution_count": 634,
   "metadata": {
    "hidden": true
   },
   "outputs": [
    {
     "data": {
      "text/plain": [
       "241"
      ]
     },
     "execution_count": 634,
     "metadata": {},
     "output_type": "execute_result"
    }
   ],
   "source": [
    "len(elec_df[elec_df['major_unexpected_drought']==1])"
   ]
  },
  {
   "cell_type": "markdown",
   "metadata": {
    "hidden": true
   },
   "source": [
    "### Convert year to str (for dummy vars)"
   ]
  },
  {
   "cell_type": "code",
   "execution_count": 626,
   "metadata": {
    "hidden": true
   },
   "outputs": [],
   "source": [
    "elec_df['year'] = elec_df['year'].astype(str)"
   ]
  },
  {
   "cell_type": "markdown",
   "metadata": {
    "hidden": true
   },
   "source": [
    "### Incumbent Lost"
   ]
  },
  {
   "cell_type": "code",
   "execution_count": 578,
   "metadata": {
    "hidden": true
   },
   "outputs": [],
   "source": [
    "elec_df['incumbent_lost'] = elec_df['incumbent'] * (1 - elec_df['winner'])"
   ]
  },
  {
   "cell_type": "markdown",
   "metadata": {
    "hidden": true
   },
   "source": [
    "### Set of independent variables"
   ]
  },
  {
   "cell_type": "code",
   "execution_count": 641,
   "metadata": {
    "hidden": true
   },
   "outputs": [],
   "source": [
    "indep_var_str = 'major_unexpected_drought*agricultural*DPres + state + year'"
   ]
  },
  {
   "cell_type": "markdown",
   "metadata": {
    "hidden": true
   },
   "source": [
    "### Set SE type"
   ]
  },
  {
   "cell_type": "markdown",
   "metadata": {
    "hidden": true
   },
   "source": [
    "## \\begin{equation} \\text{turnout - expected}_{it} = Drought_{it} + Drought_{it} \\times D_{agricultural} + ... \\end{equation}"
   ]
  },
  {
   "cell_type": "code",
   "execution_count": 664,
   "metadata": {
    "hidden": true,
    "scrolled": true
   },
   "outputs": [
    {
     "name": "stdout",
     "output_type": "stream",
     "text": [
      "                                    OLS Regression Results                                   \n",
      "=============================================================================================\n",
      "Dep. Variable:     turnout_minus_predicted_all_years   R-squared:                       0.228\n",
      "Model:                                           OLS   Adj. R-squared:                  0.221\n",
      "Method:                                Least Squares   F-statistic:                 9.544e-17\n",
      "Date:                               Thu, 04 Mar 2021   Prob (F-statistic):               1.00\n",
      "Time:                                       19:45:04   Log-Likelihood:                -87964.\n",
      "No. Observations:                               7536   AIC:                         1.761e+05\n",
      "Df Residuals:                                   7474   BIC:                         1.765e+05\n",
      "Df Model:                                         61                                         \n",
      "Covariance Type:                             cluster                                         \n",
      "===============================================================================================================================\n",
      "                                                                  coef    std err          z      P>|z|      [0.025      0.975]\n",
      "-------------------------------------------------------------------------------------------------------------------------------\n",
      "Intercept                                                    8.825e+15   8.68e+23   1.02e-08      1.000    -1.7e+24     1.7e+24\n",
      "major_unexpected_drought[T.True]                            -6365.9637   3.59e+09  -1.77e-06      1.000   -7.03e+09    7.03e+09\n",
      "DPres[T.True]                                               -8.825e+15   1.01e+24  -8.71e-09      1.000   -1.99e+24    1.99e+24\n",
      "state[T.ARIZONA]                                            -3215.8411   5.97e+09  -5.39e-07      1.000   -1.17e+10    1.17e+10\n",
      "state[T.ARKANSAS]                                            -983.4775   6.09e+09  -1.61e-07      1.000   -1.19e+10    1.19e+10\n",
      "state[T.CALIFORNIA]                                         -3566.2555   2.25e+09  -1.59e-06      1.000   -4.41e+09    4.41e+09\n",
      "state[T.COLORADO]                                           -5869.9135   3.32e+09  -1.77e-06      1.000   -6.51e+09    6.51e+09\n",
      "state[T.CONNECTICUT]                                         2796.5851   4.26e+08   6.57e-06      1.000   -8.34e+08    8.34e+08\n",
      "state[T.DELAWARE]                                            3491.2930    2.6e+09   1.34e-06      1.000    -5.1e+09     5.1e+09\n",
      "state[T.FLORIDA]                                            -1382.1179   2.86e+09  -4.83e-07      1.000    -5.6e+09     5.6e+09\n",
      "state[T.GEORGIA]                                            -2438.9371   3.48e+08  -7.01e-06      1.000   -6.82e+08    6.82e+08\n",
      "state[T.HAWAII]                                              2821.1487   3.01e+09   9.37e-07      1.000    -5.9e+09     5.9e+09\n",
      "state[T.IDAHO]                                              -4710.8421   2.14e+09   -2.2e-06      1.000   -4.19e+09    4.19e+09\n",
      "state[T.ILLINOIS]                                             488.4766   1.75e+09   2.79e-07      1.000   -3.43e+09    3.43e+09\n",
      "state[T.INDIANA]                                            -1075.4290   3.36e+09   -3.2e-07      1.000   -6.59e+09    6.59e+09\n",
      "state[T.IOWA]                                               -5235.0397   1.56e+09  -3.37e-06      1.000   -3.05e+09    3.05e+09\n",
      "state[T.KANSAS]                                               -29.8566   1.74e+09  -1.72e-08      1.000   -3.41e+09    3.41e+09\n",
      "state[T.KENTUCKY]                                            7057.4324   2.16e+09   3.27e-06      1.000   -4.22e+09    4.22e+09\n",
      "state[T.LOUISIANA]                                           1.178e+04    2.9e+09   4.06e-06      1.000   -5.68e+09    5.68e+09\n",
      "state[T.MAINE]                                               3283.0922   2.11e+09   1.55e-06      1.000   -4.14e+09    4.14e+09\n",
      "state[T.MARYLAND]                                            1043.5586   1.74e+09   5.99e-07      1.000   -3.41e+09    3.41e+09\n",
      "state[T.MASSACHUSETTS]                                      -1060.4539   1.66e+09  -6.37e-07      1.000   -3.26e+09    3.26e+09\n",
      "state[T.MICHIGAN]                                            5068.8525   3.15e+09   1.61e-06      1.000   -6.18e+09    6.18e+09\n",
      "state[T.MINNESOTA]                                           5040.5810   2.03e+09   2.49e-06      1.000   -3.97e+09    3.97e+09\n",
      "state[T.MISSISSIPPI]                                         8630.1487   2.03e+09   4.25e-06      1.000   -3.98e+09    3.98e+09\n",
      "state[T.MISSOURI]                                           -1001.2128   2.08e+09  -4.82e-07      1.000   -4.07e+09    4.07e+09\n",
      "state[T.MONTANA]                                            -7546.2722   2.91e+09   -2.6e-06      1.000   -5.69e+09    5.69e+09\n",
      "state[T.NEBRASKA]                                           -3677.5582   2.81e+09  -1.31e-06      1.000   -5.51e+09    5.51e+09\n",
      "state[T.NEVADA]                                              4624.0727   2.17e+09   2.13e-06      1.000   -4.25e+09    4.25e+09\n",
      "state[T.NEW HAMPSHIRE]                                       6723.1871   6.54e+08   1.03e-05      1.000   -1.28e+09    1.28e+09\n",
      "state[T.NEW JERSEY]                                         -3676.9030   3.04e+09  -1.21e-06      1.000   -5.95e+09    5.95e+09\n",
      "state[T.NEW MEXICO]                                          7430.6855   1.69e+09   4.39e-06      1.000   -3.31e+09    3.31e+09\n",
      "state[T.NEW YORK]                                            -909.2752   2.47e+09  -3.69e-07      1.000   -4.83e+09    4.83e+09\n",
      "state[T.NORTH CAROLINA]                                     -3394.5738   2.55e+09  -1.33e-06      1.000      -5e+09       5e+09\n",
      "state[T.NORTH DAKOTA]                                       -4263.4409   1.64e+09   -2.6e-06      1.000   -3.22e+09    3.22e+09\n",
      "state[T.OHIO]                                                -342.1688    2.4e+09  -1.43e-07      1.000   -4.71e+09    4.71e+09\n",
      "state[T.OKLAHOMA]                                            2799.2859    2.6e+09   1.08e-06      1.000    -5.1e+09     5.1e+09\n",
      "state[T.OREGON]                                               167.8608   2.79e+09   6.02e-08      1.000   -5.46e+09    5.46e+09\n",
      "state[T.PENNSYLVANIA]                                        2361.4639   1.88e+09   1.26e-06      1.000   -3.68e+09    3.68e+09\n",
      "state[T.RHODE ISLAND]                                        3736.3908   2.31e+09   1.62e-06      1.000   -4.53e+09    4.53e+09\n",
      "state[T.SOUTH CAROLINA]                                      8707.3031   2.38e+09   3.65e-06      1.000   -4.67e+09    4.67e+09\n",
      "state[T.SOUTH DAKOTA]                                        1.002e+04   3.17e+09   3.16e-06      1.000   -6.21e+09    6.21e+09\n",
      "state[T.TENNESSEE]                                           6192.4652    3.2e+09   1.94e-06      1.000   -6.27e+09    6.27e+09\n",
      "state[T.TEXAS]                                              -3500.3759    2.8e+09  -1.25e-06      1.000   -5.49e+09    5.49e+09\n",
      "state[T.UTAH]                                                7277.0410   2.84e+09   2.56e-06      1.000   -5.57e+09    5.57e+09\n",
      "state[T.VERMONT]                                             4773.6256   2.49e+09   1.92e-06      1.000   -4.87e+09    4.87e+09\n",
      "state[T.VIRGINIA]                                           -2932.9780    1.7e+09  -1.72e-06      1.000   -3.34e+09    3.34e+09\n",
      "state[T.WASHINGTON]                                          2772.5904   2.37e+09   1.17e-06      1.000   -4.65e+09    4.65e+09\n",
      "state[T.WEST VIRGINIA]                                       6635.5820   2.44e+09   2.72e-06      1.000   -4.79e+09    4.79e+09\n",
      "state[T.WISCONSIN]                                           1.122e+04   3.11e+09   3.61e-06      1.000    -6.1e+09     6.1e+09\n",
      "state[T.WYOMING]                                             5483.3560   2.33e+09   2.36e-06      1.000   -4.56e+09    4.56e+09\n",
      "year[T.2002]                                                -8.825e+15   9.01e+23  -9.79e-09      1.000   -1.77e+24    1.77e+24\n",
      "year[T.2004]                                                 2.307e+04   2.42e+08   9.55e-05      1.000   -4.74e+08    4.74e+08\n",
      "year[T.2006]                                                -8.825e+15   8.17e+23  -1.08e-08      1.000    -1.6e+24     1.6e+24\n",
      "year[T.2008]                                                 3.224e+04   2.88e+08      0.000      1.000   -5.65e+08    5.65e+08\n",
      "year[T.2010]                                                -8.825e+15   8.52e+23  -1.04e-08      1.000   -1.67e+24    1.67e+24\n",
      "year[T.2012]                                                 1.963e+04   3.86e+08   5.09e-05      1.000   -7.57e+08    7.57e+08\n",
      "year[T.2014]                                                -8.825e+15   8.67e+23  -1.02e-08      1.000    -1.7e+24     1.7e+24\n",
      "major_unexpected_drought[T.True]:DPres[T.True]               3374.2225    1.3e+09   2.59e-06      1.000   -2.55e+09    2.55e+09\n",
      "agricultural                                                 4792.3959    1.1e+08   4.35e-05      1.000   -2.16e+08    2.16e+08\n",
      "major_unexpected_drought[T.True]:agricultural               -5263.8381   1.06e+08  -4.95e-05      1.000   -2.09e+08    2.09e+08\n",
      "agricultural:DPres[T.True]                                  -4282.3924   9.36e+07  -4.57e-05      1.000   -1.83e+08    1.83e+08\n",
      "major_unexpected_drought[T.True]:agricultural:DPres[T.True]  7799.6895   1.56e+09   5.01e-06      1.000   -3.05e+09    3.05e+09\n",
      "==============================================================================\n",
      "Omnibus:                     3063.081   Durbin-Watson:                   0.941\n",
      "Prob(Omnibus):                  0.000   Jarque-Bera (JB):            59788.711\n",
      "Skew:                          -1.459   Prob(JB):                         0.00\n",
      "Kurtosis:                      16.487   Cond. No.                     8.19e+14\n",
      "==============================================================================\n",
      "\n",
      "Notes:\n",
      "[1] Standard Errors are robust to cluster correlation (cluster)\n",
      "[2] The smallest eigenvalue is 1.68e-26. This might indicate that there are\n",
      "strong multicollinearity problems or that the design matrix is singular.\n"
     ]
    },
    {
     "name": "stderr",
     "output_type": "stream",
     "text": [
      "C:\\Users\\mikha\\Anaconda\\envs\\geopandas_env\\lib\\site-packages\\statsmodels\\base\\model.py:1832: ValueWarning: covariance of constraints does not have full rank. The number of constraints is 62, but rank is 1\n",
      "  warnings.warn('covariance of constraints does not have full '\n"
     ]
    }
   ],
   "source": [
    "turnout_change_regression = smf.ols(formula='turnout_minus_predicted_all_years ~ major_unexpected_drought*agricultural*DPres + state + year', data=elec_df)\n",
    "turnout_change_regression_result = turnout_change_regression.fit(cov_type='cluster', cov_kwds={'groups':elec_df['state']}) #this might not be the right kind of standard error\n",
    "print(turnout_change_regression_result.summary())"
   ]
  },
  {
   "cell_type": "markdown",
   "metadata": {
    "hidden": true
   },
   "source": [
    "### Idea: *collect major_unexpected_drought[T.True]:agricultural:DPres[T.True]* coefficients as I change drought classification"
   ]
  },
  {
   "cell_type": "markdown",
   "metadata": {
    "hidden": true
   },
   "source": [
    "## \\begin{equation} D_{\\text{incumbent lost}, it} = Drought_{it} + Drought_{it} \\times D_{agricultural} + ...  \\end{equation}"
   ]
  },
  {
   "cell_type": "code",
   "execution_count": 667,
   "metadata": {
    "hidden": true,
    "scrolled": true
   },
   "outputs": [
    {
     "name": "stdout",
     "output_type": "stream",
     "text": [
      "                            OLS Regression Results                            \n",
      "==============================================================================\n",
      "Dep. Variable:         incumbent_lost   R-squared:                       0.027\n",
      "Model:                            OLS   Adj. R-squared:                  0.019\n",
      "Method:                 Least Squares   F-statistic:                     1.496\n",
      "Date:                Thu, 04 Mar 2021   Prob (F-statistic):              0.221\n",
      "Time:                        19:47:29   Log-Likelihood:                -672.34\n",
      "No. Observations:                7536   AIC:                             1469.\n",
      "Df Residuals:                    7474   BIC:                             1898.\n",
      "Df Model:                          61                                         \n",
      "Covariance Type:                  HC0                                         \n",
      "===============================================================================================================================\n",
      "                                                                  coef    std err          z      P>|z|      [0.025      0.975]\n",
      "-------------------------------------------------------------------------------------------------------------------------------\n",
      "Intercept                                                    1.735e+11   1.42e+11      1.223      0.221   -1.05e+11    4.51e+11\n",
      "major_unexpected_drought[T.True]                               -0.0194      0.023     -0.835      0.404      -0.065       0.026\n",
      "DPres[T.True]                                               -1.735e+11   1.42e+11     -1.223      0.221   -4.51e+11    1.05e+11\n",
      "state[T.ARIZONA]                                                0.0766      0.031      2.460      0.014       0.016       0.138\n",
      "state[T.ARKANSAS]                                               0.0021      0.030      0.068      0.945      -0.057       0.061\n",
      "state[T.CALIFORNIA]                                             0.0409      0.021      1.927      0.054      -0.001       0.083\n",
      "state[T.COLORADO]                                               0.0306      0.029      1.057      0.290      -0.026       0.087\n",
      "state[T.CONNECTICUT]                                            0.0604      0.037      1.617      0.106      -0.013       0.134\n",
      "state[T.DELAWARE]                                               0.0886      0.073      1.206      0.228      -0.055       0.233\n",
      "state[T.FLORIDA]                                                0.0194      0.023      0.834      0.404      -0.026       0.065\n",
      "state[T.GEORGIA]                                               -0.0069      0.023     -0.300      0.764      -0.052       0.038\n",
      "state[T.HAWAII]                                                -0.0187      0.031     -0.599      0.549      -0.080       0.042\n",
      "state[T.IDAHO]                                                  0.0266      0.041      0.646      0.518      -0.054       0.107\n",
      "state[T.ILLINOIS]                                               0.0235      0.024      0.989      0.323      -0.023       0.070\n",
      "state[T.INDIANA]                                                0.0368      0.027      1.372      0.170      -0.016       0.089\n",
      "state[T.IOWA]                                                   0.0374      0.033      1.127      0.260      -0.028       0.103\n",
      "state[T.KANSAS]                                                 0.0290      0.033      0.892      0.373      -0.035       0.093\n",
      "state[T.KENTUCKY]                                               0.0259      0.031      0.831      0.406      -0.035       0.087\n",
      "state[T.LOUISIANA]                                             -0.0040      0.024     -0.163      0.871      -0.052       0.044\n",
      "state[T.MAINE]                                                 -0.0425      0.020     -2.137      0.033      -0.081      -0.004\n",
      "state[T.MARYLAND]                                               0.0249      0.028      0.891      0.373      -0.030       0.080\n",
      "state[T.MASSACHUSETTS]                                         -0.0258      0.023     -1.124      0.261      -0.071       0.019\n",
      "state[T.MICHIGAN]                                               0.0592      0.025      2.335      0.020       0.010       0.109\n",
      "state[T.MINNESOTA]                                              0.0469      0.037      1.274      0.203      -0.025       0.119\n",
      "state[T.MISSISSIPPI]                                            0.0456      0.037      1.230      0.219      -0.027       0.118\n",
      "state[T.MISSOURI]                                               0.1091      0.034      3.224      0.001       0.043       0.175\n",
      "state[T.MONTANA]                                                0.1239      0.077      1.604      0.109      -0.027       0.275\n",
      "state[T.NEBRASKA]                                               0.0599      0.044      1.354      0.176      -0.027       0.147\n",
      "state[T.NEVADA]                                                 0.0899      0.044      2.023      0.043       0.003       0.177\n",
      "state[T.NEW HAMPSHIRE]                                          0.0010      0.046      0.022      0.982      -0.089       0.091\n",
      "state[T.NEW JERSEY]                                            -0.0021      0.024     -0.090      0.928      -0.049       0.044\n",
      "state[T.NEW MEXICO]                                             0.0199      0.063      0.313      0.754      -0.104       0.144\n",
      "state[T.NEW YORK]                                               0.1548      0.028      5.626      0.000       0.101       0.209\n",
      "state[T.NORTH CAROLINA]                                         0.0221      0.025      0.892      0.372      -0.026       0.071\n",
      "state[T.NORTH DAKOTA]                                           0.0196      0.063      0.314      0.753      -0.103       0.142\n",
      "state[T.OHIO]                                                   0.0218      0.024      0.919      0.358      -0.025       0.068\n",
      "state[T.OKLAHOMA]                                              -0.0102      0.026     -0.396      0.692      -0.061       0.040\n",
      "state[T.OREGON]                                                 0.0621      0.036      1.718      0.086      -0.009       0.133\n",
      "state[T.PENNSYLVANIA]                                           0.0323      0.025      1.303      0.193      -0.016       0.081\n",
      "state[T.RHODE ISLAND]                                           0.0546      0.056      0.976      0.329      -0.055       0.164\n",
      "state[T.SOUTH CAROLINA]                                         0.0331      0.033      1.004      0.315      -0.032       0.098\n",
      "state[T.SOUTH DAKOTA]                                           0.0066      0.052      0.128      0.898      -0.095       0.108\n",
      "state[T.TENNESSEE]                                              0.0079      0.027      0.294      0.769      -0.045       0.060\n",
      "state[T.TEXAS]                                                  0.0412      0.022      1.877      0.060      -0.002       0.084\n",
      "state[T.UTAH]                                                   0.0164      0.035      0.472      0.637      -0.052       0.084\n",
      "state[T.VERMONT]                                                0.1460      0.100      1.455      0.146      -0.051       0.343\n",
      "state[T.VIRGINIA]                                              -0.0074      0.024     -0.303      0.762      -0.055       0.040\n",
      "state[T.WASHINGTON]                                            -0.0056      0.025     -0.228      0.820      -0.054       0.043\n",
      "state[T.WEST VIRGINIA]                                          0.0406      0.045      0.905      0.366      -0.047       0.129\n",
      "state[T.WISCONSIN]                                              0.0321      0.029      1.091      0.275      -0.026       0.090\n",
      "state[T.WYOMING]                                                0.0847      0.070      1.205      0.228      -0.053       0.222\n",
      "year[T.2002]                                                -1.735e+11   1.42e+11     -1.223      0.221   -4.51e+11    1.05e+11\n",
      "year[T.2004]                                                    0.0198      0.012      1.661      0.097      -0.004       0.043\n",
      "year[T.2006]                                                -1.735e+11   1.42e+11     -1.223      0.221   -4.51e+11    1.05e+11\n",
      "year[T.2008]                                                    0.0232      0.012      1.910      0.056      -0.001       0.047\n",
      "year[T.2010]                                                -1.735e+11   1.42e+11     -1.223      0.221   -4.51e+11    1.05e+11\n",
      "year[T.2012]                                                   -0.0249      0.010     -2.515      0.012      -0.044      -0.006\n",
      "year[T.2014]                                                -1.735e+11   1.42e+11     -1.223      0.221   -4.51e+11    1.05e+11\n",
      "major_unexpected_drought[T.True]:DPres[T.True]                  0.0194      0.028      0.682      0.495      -0.036       0.075\n",
      "agricultural                                                   -0.0151      0.013     -1.169      0.242      -0.041       0.010\n",
      "major_unexpected_drought[T.True]:agricultural                  -0.0068      0.047     -0.146      0.884      -0.099       0.085\n",
      "agricultural:DPres[T.True]                                     -0.0002      0.016     -0.014      0.989      -0.032       0.031\n",
      "major_unexpected_drought[T.True]:agricultural:DPres[T.True]     0.0121      0.062      0.195      0.845      -0.109       0.133\n",
      "==============================================================================\n",
      "Omnibus:                     4543.499   Durbin-Watson:                   2.066\n",
      "Prob(Omnibus):                  0.000   Jarque-Bera (JB):            29338.498\n",
      "Skew:                           3.025   Prob(JB):                         0.00\n",
      "Kurtosis:                      10.538   Cond. No.                     8.19e+14\n",
      "==============================================================================\n",
      "\n",
      "Notes:\n",
      "[1] Standard Errors are heteroscedasticity robust (HC0)\n",
      "[2] The smallest eigenvalue is 1.68e-26. This might indicate that there are\n",
      "strong multicollinearity problems or that the design matrix is singular.\n"
     ]
    },
    {
     "name": "stderr",
     "output_type": "stream",
     "text": [
      "C:\\Users\\mikha\\Anaconda\\envs\\geopandas_env\\lib\\site-packages\\statsmodels\\base\\model.py:1832: ValueWarning: covariance of constraints does not have full rank. The number of constraints is 62, but rank is 1\n",
      "  warnings.warn('covariance of constraints does not have full '\n"
     ]
    }
   ],
   "source": [
    "incumbent_lost_ols_regression = smf.ols(formula=f'incumbent_lost ~ {indep_var_str}', data=elec_df)\n",
    "incumbent_lost_ols_regression_result = incumbent_lost_ols_regression.fit(cov_type='HC0')\n",
    "# incumbent_lost_ols_regression_result = incumbent_lost_ols_regression.fit(cov_type='cluster', cov_kwds={'groups':elec_df['state']})\n",
    "print(incumbent_lost_ols_regression_result.summary())"
   ]
  },
  {
   "cell_type": "code",
   "execution_count": 665,
   "metadata": {
    "hidden": true,
    "scrolled": true
   },
   "outputs": [
    {
     "name": "stdout",
     "output_type": "stream",
     "text": [
      "Warning: Maximum number of iterations has been exceeded.\n",
      "         Current function value: 0.261028\n",
      "         Iterations: 35\n",
      "                           Logit Regression Results                           \n",
      "==============================================================================\n",
      "Dep. Variable:         incumbent_lost   No. Observations:                 7536\n",
      "Model:                          Logit   Df Residuals:                     7474\n",
      "Method:                           MLE   Df Model:                           61\n",
      "Date:                Thu, 04 Mar 2021   Pseudo R-squ.:                 0.04707\n",
      "Time:                        19:46:49   Log-Likelihood:                -1967.1\n",
      "converged:                      False   LL-Null:                       -2064.3\n",
      "Covariance Type:                  HC0   LLR p-value:                 8.074e-16\n",
      "===============================================================================================================================\n",
      "                                                                  coef    std err          z      P>|z|      [0.025      0.975]\n",
      "-------------------------------------------------------------------------------------------------------------------------------\n",
      "Intercept                                                      -2.5952   5.04e+06  -5.15e-07      1.000   -9.88e+06    9.88e+06\n",
      "major_unexpected_drought[T.True]                               -0.2861      0.363     -0.788      0.431      -0.998       0.425\n",
      "DPres[T.True]                                                  -0.7857        nan        nan        nan         nan         nan\n",
      "state[T.ARIZONA]                                                1.1721      0.567      2.065      0.039       0.060       2.284\n",
      "state[T.ARKANSAS]                                              -0.0458      0.893     -0.051      0.959      -1.797       1.705\n",
      "state[T.CALIFORNIA]                                             0.7775      0.531      1.465      0.143      -0.263       1.818\n",
      "state[T.COLORADO]                                               0.6241      0.616      1.014      0.311      -0.583       1.831\n",
      "state[T.CONNECTICUT]                                            1.0002      0.626      1.597      0.110      -0.228       2.228\n",
      "state[T.DELAWARE]                                               1.2838      0.820      1.566      0.117      -0.323       2.891\n",
      "state[T.FLORIDA]                                                0.4491      0.565      0.795      0.427      -0.658       1.556\n",
      "state[T.GEORGIA]                                               -0.1761      0.659     -0.267      0.789      -1.468       1.115\n",
      "state[T.HAWAII]                                                -0.5303      1.140     -0.465      0.642      -2.765       1.704\n",
      "state[T.IDAHO]                                                  0.5399      0.897      0.602      0.547      -1.219       2.298\n",
      "state[T.ILLINOIS]                                               0.5071      0.571      0.888      0.374      -0.612       1.626\n",
      "state[T.INDIANA]                                                0.7232      0.584      1.239      0.215      -0.421       1.868\n",
      "state[T.IOWA]                                                   0.7320      0.674      1.086      0.277      -0.589       2.053\n",
      "state[T.KANSAS]                                                 0.5979      0.694      0.862      0.389      -0.762       1.958\n",
      "state[T.KENTUCKY]                                               0.5520      0.653      0.845      0.398      -0.728       1.832\n",
      "state[T.LOUISIANA]                                             -0.0616      0.663     -0.093      0.926      -1.362       1.238\n",
      "state[T.MAINE]                                                -11.0944      0.550    -20.156      0.000     -12.173     -10.016\n",
      "state[T.MARYLAND]                                               0.5317      0.618      0.860      0.390      -0.679       1.743\n",
      "state[T.MASSACHUSETTS]                                         -0.9160      0.885     -1.035      0.301      -2.651       0.819\n",
      "state[T.MICHIGAN]                                               0.9948      0.550      1.809      0.070      -0.083       2.073\n",
      "state[T.MINNESOTA]                                              0.8553      0.658      1.300      0.193      -0.434       2.144\n",
      "state[T.MISSISSIPPI]                                            0.8465      0.675      1.255      0.210      -0.476       2.169\n",
      "state[T.MISSOURI]                                               1.4811      0.565      2.620      0.009       0.373       2.589\n",
      "state[T.MONTANA]                                                1.5647      0.745      2.102      0.036       0.106       3.024\n",
      "state[T.NEBRASKA]                                               1.0406      0.704      1.477      0.140      -0.340       2.421\n",
      "state[T.NEVADA]                                                 1.3011      0.627      2.076      0.038       0.073       2.529\n",
      "state[T.NEW HAMPSHIRE]                                          0.0699      1.138      0.061      0.951      -2.160       2.300\n",
      "state[T.NEW JERSEY]                                             0.0023      0.622      0.004      0.997      -1.217       1.221\n",
      "state[T.NEW MEXICO]                                             0.4583      1.160      0.395      0.693      -1.814       2.731\n",
      "state[T.NEW YORK]                                               1.7710      0.535      3.310      0.001       0.722       2.820\n",
      "state[T.NORTH CAROLINA]                                         0.4837      0.585      0.827      0.408      -0.663       1.630\n",
      "state[T.NORTH DAKOTA]                                           0.4526      1.146      0.395      0.693      -1.793       2.698\n",
      "state[T.OHIO]                                                   0.4839      0.568      0.852      0.394      -0.630       1.597\n",
      "state[T.OKLAHOMA]                                              -0.3916      0.881     -0.445      0.657      -2.118       1.335\n",
      "state[T.OREGON]                                                 1.0380      0.620      1.675      0.094      -0.177       2.252\n",
      "state[T.PENNSYLVANIA]                                           0.6515      0.566      1.151      0.250      -0.458       1.760\n",
      "state[T.RHODE ISLAND]                                           0.9409      0.796      1.182      0.237      -0.619       2.501\n",
      "state[T.SOUTH CAROLINA]                                         0.6643      0.647      1.027      0.304      -0.604       1.932\n",
      "state[T.SOUTH DAKOTA]                                           0.2111      1.142      0.185      0.853      -2.028       2.450\n",
      "state[T.TENNESSEE]                                              0.2342      0.645      0.363      0.717      -1.030       1.499\n",
      "state[T.TEXAS]                                                  0.7820      0.538      1.454      0.146      -0.272       1.836\n",
      "state[T.UTAH]                                                   0.3984      0.734      0.543      0.587      -1.040       1.837\n",
      "state[T.VERMONT]                                                1.7251      0.842      2.049      0.040       0.075       3.375\n",
      "state[T.VIRGINIA]                                              -0.1301      0.666     -0.195      0.845      -1.436       1.176\n",
      "state[T.WASHINGTON]                                            -0.1392      0.691     -0.201      0.840      -1.493       1.215\n",
      "state[T.WEST VIRGINIA]                                          0.7675      0.745      1.031      0.303      -0.692       2.227\n",
      "state[T.WISCONSIN]                                              0.6483      0.627      1.034      0.301      -0.580       1.877\n",
      "state[T.WYOMING]                                                1.2545      0.811      1.547      0.122      -0.335       2.844\n",
      "year[T.2002]                                                   -0.7124        nan        nan        nan         nan         nan\n",
      "year[T.2004]                                                    0.2954      0.176      1.677      0.093      -0.050       0.641\n",
      "year[T.2006]                                                   -0.2625        nan        nan        nan         nan         nan\n",
      "year[T.2008]                                                    0.3429      0.177      1.940      0.052      -0.003       0.689\n",
      "year[T.2010]                                                   -0.3069        nan        nan        nan         nan         nan\n",
      "year[T.2012]                                                   -0.5251      0.211     -2.483      0.013      -0.940      -0.111\n",
      "year[T.2014]                                                   -0.5278        nan        nan        nan         nan         nan\n",
      "major_unexpected_drought[T.True]:DPres[T.True]                  0.2432      0.464      0.524      0.600      -0.666       1.152\n",
      "agricultural                                                   -0.2048      0.197     -1.041      0.298      -0.590       0.181\n",
      "major_unexpected_drought[T.True]:agricultural                  -0.2704      1.097     -0.247      0.805      -2.420       1.879\n",
      "agricultural:DPres[T.True]                                     -0.0876      0.280     -0.313      0.754      -0.636       0.461\n",
      "major_unexpected_drought[T.True]:agricultural:DPres[T.True]     0.2498      1.559      0.160      0.873      -2.807       3.306\n",
      "===============================================================================================================================\n"
     ]
    },
    {
     "name": "stderr",
     "output_type": "stream",
     "text": [
      "C:\\Users\\mikha\\Anaconda\\envs\\geopandas_env\\lib\\site-packages\\statsmodels\\base\\model.py:566: ConvergenceWarning: Maximum Likelihood optimization failed to converge. Check mle_retvals\n",
      "  warnings.warn(\"Maximum Likelihood optimization failed to \"\n"
     ]
    }
   ],
   "source": [
    "incumbent_lost_logit_regression = smf.logit(formula=f'incumbent_lost ~ {indep_var_str}', data=elec_df)\n",
    "incumbent_lost_logit_regression_result = incumbent_lost_logit_regression.fit(cov_type = 'HC0')\n",
    "print(incumbent_lost_logit_regression_result.summary())"
   ]
  },
  {
   "cell_type": "markdown",
   "metadata": {
    "hidden": true
   },
   "source": [
    "## \\begin{equation} \\text{R vote share}_{it} = Drought_{it} + Drought_{it} \\times D_{agricultural} + ... \\end{equation}"
   ]
  },
  {
   "cell_type": "code",
   "execution_count": 670,
   "metadata": {
    "hidden": true
   },
   "outputs": [
    {
     "data": {
      "text/html": [
       "<div>\n",
       "<style scoped>\n",
       "    .dataframe tbody tr th:only-of-type {\n",
       "        vertical-align: middle;\n",
       "    }\n",
       "\n",
       "    .dataframe tbody tr th {\n",
       "        vertical-align: top;\n",
       "    }\n",
       "\n",
       "    .dataframe thead th {\n",
       "        text-align: right;\n",
       "    }\n",
       "</style>\n",
       "<table border=\"1\" class=\"dataframe\">\n",
       "  <thead>\n",
       "    <tr style=\"text-align: right;\">\n",
       "      <th></th>\n",
       "      <th>level_0</th>\n",
       "      <th>index</th>\n",
       "      <th>state</th>\n",
       "      <th>district</th>\n",
       "      <th>year</th>\n",
       "      <th>state_po</th>\n",
       "      <th>state_fips</th>\n",
       "      <th>state_cen</th>\n",
       "      <th>state_ic</th>\n",
       "      <th>stage</th>\n",
       "      <th>runoff</th>\n",
       "      <th>special</th>\n",
       "      <th>candidate</th>\n",
       "      <th>party</th>\n",
       "      <th>writein</th>\n",
       "      <th>candidatevotes</th>\n",
       "      <th>totalvotes</th>\n",
       "      <th>unofficial</th>\n",
       "      <th>fusion_ticket</th>\n",
       "      <th>DPres</th>\n",
       "      <th>agricultural</th>\n",
       "      <th>agricultural_gdp</th>\n",
       "      <th>num_farms</th>\n",
       "      <th>farm_size</th>\n",
       "      <th>winner</th>\n",
       "      <th>incumbent</th>\n",
       "      <th>share_diff</th>\n",
       "      <th>voteshare</th>\n",
       "      <th>totalturnout</th>\n",
       "      <th>Dem_voteshare</th>\n",
       "      <th>Repub_voteshare</th>\n",
       "      <th>turnout_minus_predicted_all_years</th>\n",
       "      <th>Republican_pred_voteshare_minus_actual_all_years</th>\n",
       "      <th>Democrat_predicted_voteshare_all_years</th>\n",
       "      <th>No_drought</th>\n",
       "      <th>D0</th>\n",
       "      <th>D1</th>\n",
       "      <th>D2</th>\n",
       "      <th>D3</th>\n",
       "      <th>D4</th>\n",
       "      <th>major_drought</th>\n",
       "      <th>incumbent_lost</th>\n",
       "      <th>No_drought_avg</th>\n",
       "      <th>No_droughtvs_avg</th>\n",
       "      <th>D0_avg</th>\n",
       "      <th>D0vs_avg</th>\n",
       "      <th>D1_avg</th>\n",
       "      <th>D1vs_avg</th>\n",
       "      <th>D2_avg</th>\n",
       "      <th>D2vs_avg</th>\n",
       "      <th>D3_avg</th>\n",
       "      <th>D3vs_avg</th>\n",
       "      <th>D4_avg</th>\n",
       "      <th>D4vs_avg</th>\n",
       "      <th>No_drought_vs_avg</th>\n",
       "      <th>D0_vs_avg</th>\n",
       "      <th>D1_vs_avg</th>\n",
       "      <th>D2_vs_avg</th>\n",
       "      <th>D3_vs_avg</th>\n",
       "      <th>D4_vs_avg</th>\n",
       "      <th>major_unexpected_drought</th>\n",
       "      <th>Republican_pred_voteshare_minus_actual_all_years</th>\n",
       "    </tr>\n",
       "  </thead>\n",
       "  <tbody>\n",
       "    <tr>\n",
       "      <th>0</th>\n",
       "      <td>0</td>\n",
       "      <td>0</td>\n",
       "      <td>ALABAMA</td>\n",
       "      <td>1</td>\n",
       "      <td>2000</td>\n",
       "      <td>AL</td>\n",
       "      <td>1</td>\n",
       "      <td>63</td>\n",
       "      <td>41</td>\n",
       "      <td>GEN</td>\n",
       "      <td>False</td>\n",
       "      <td>False</td>\n",
       "      <td>SONNY CALLAHAN</td>\n",
       "      <td>REPUBLICAN</td>\n",
       "      <td>False</td>\n",
       "      <td>151188</td>\n",
       "      <td>165669</td>\n",
       "      <td>False</td>\n",
       "      <td>False</td>\n",
       "      <td>True</td>\n",
       "      <td>0</td>\n",
       "      <td>0.00</td>\n",
       "      <td>0.00</td>\n",
       "      <td>0.00</td>\n",
       "      <td>1</td>\n",
       "      <td>1</td>\n",
       "      <td>-0.08</td>\n",
       "      <td>0.91</td>\n",
       "      <td>165669</td>\n",
       "      <td>NaN</td>\n",
       "      <td>0.91</td>\n",
       "      <td>-42002.10</td>\n",
       "      <td>0.18</td>\n",
       "      <td>NaN</td>\n",
       "      <td>0.01</td>\n",
       "      <td>99.97</td>\n",
       "      <td>76.87</td>\n",
       "      <td>64.36</td>\n",
       "      <td>44.37</td>\n",
       "      <td>21.53</td>\n",
       "      <td>True</td>\n",
       "      <td>0</td>\n",
       "      <td>54.24</td>\n",
       "      <td>NaN</td>\n",
       "      <td>45.73</td>\n",
       "      <td>NaN</td>\n",
       "      <td>24.78</td>\n",
       "      <td>NaN</td>\n",
       "      <td>15.10</td>\n",
       "      <td>NaN</td>\n",
       "      <td>7.70</td>\n",
       "      <td>NaN</td>\n",
       "      <td>3.21</td>\n",
       "      <td>NaN</td>\n",
       "      <td>-54.23</td>\n",
       "      <td>54.24</td>\n",
       "      <td>52.09</td>\n",
       "      <td>49.26</td>\n",
       "      <td>36.67</td>\n",
       "      <td>18.32</td>\n",
       "      <td>True</td>\n",
       "      <td>0.00</td>\n",
       "    </tr>\n",
       "    <tr>\n",
       "      <th>1</th>\n",
       "      <td>1</td>\n",
       "      <td>1</td>\n",
       "      <td>ALABAMA</td>\n",
       "      <td>1</td>\n",
       "      <td>2000</td>\n",
       "      <td>AL</td>\n",
       "      <td>1</td>\n",
       "      <td>63</td>\n",
       "      <td>41</td>\n",
       "      <td>GEN</td>\n",
       "      <td>False</td>\n",
       "      <td>False</td>\n",
       "      <td>DICK COFFEE</td>\n",
       "      <td>LIBERTARIAN</td>\n",
       "      <td>False</td>\n",
       "      <td>14031</td>\n",
       "      <td>165669</td>\n",
       "      <td>False</td>\n",
       "      <td>False</td>\n",
       "      <td>True</td>\n",
       "      <td>0</td>\n",
       "      <td>0.00</td>\n",
       "      <td>0.00</td>\n",
       "      <td>0.00</td>\n",
       "      <td>0</td>\n",
       "      <td>0</td>\n",
       "      <td>NaN</td>\n",
       "      <td>0.08</td>\n",
       "      <td>165669</td>\n",
       "      <td>NaN</td>\n",
       "      <td>0.91</td>\n",
       "      <td>-42002.10</td>\n",
       "      <td>0.18</td>\n",
       "      <td>NaN</td>\n",
       "      <td>0.01</td>\n",
       "      <td>99.97</td>\n",
       "      <td>76.87</td>\n",
       "      <td>64.36</td>\n",
       "      <td>44.37</td>\n",
       "      <td>21.53</td>\n",
       "      <td>True</td>\n",
       "      <td>0</td>\n",
       "      <td>54.24</td>\n",
       "      <td>NaN</td>\n",
       "      <td>45.73</td>\n",
       "      <td>NaN</td>\n",
       "      <td>24.78</td>\n",
       "      <td>NaN</td>\n",
       "      <td>15.10</td>\n",
       "      <td>NaN</td>\n",
       "      <td>7.70</td>\n",
       "      <td>NaN</td>\n",
       "      <td>3.21</td>\n",
       "      <td>NaN</td>\n",
       "      <td>-54.23</td>\n",
       "      <td>54.24</td>\n",
       "      <td>52.09</td>\n",
       "      <td>49.26</td>\n",
       "      <td>36.67</td>\n",
       "      <td>18.32</td>\n",
       "      <td>True</td>\n",
       "      <td>0.00</td>\n",
       "    </tr>\n",
       "    <tr>\n",
       "      <th>2</th>\n",
       "      <td>2</td>\n",
       "      <td>2</td>\n",
       "      <td>ALABAMA</td>\n",
       "      <td>2</td>\n",
       "      <td>2000</td>\n",
       "      <td>AL</td>\n",
       "      <td>1</td>\n",
       "      <td>63</td>\n",
       "      <td>41</td>\n",
       "      <td>GEN</td>\n",
       "      <td>False</td>\n",
       "      <td>False</td>\n",
       "      <td>TERRY EVERETT</td>\n",
       "      <td>REPUBLICAN</td>\n",
       "      <td>False</td>\n",
       "      <td>151830</td>\n",
       "      <td>222636</td>\n",
       "      <td>False</td>\n",
       "      <td>False</td>\n",
       "      <td>True</td>\n",
       "      <td>0</td>\n",
       "      <td>0.00</td>\n",
       "      <td>0.00</td>\n",
       "      <td>0.00</td>\n",
       "      <td>1</td>\n",
       "      <td>1</td>\n",
       "      <td>-0.01</td>\n",
       "      <td>0.68</td>\n",
       "      <td>222636</td>\n",
       "      <td>0.29</td>\n",
       "      <td>0.68</td>\n",
       "      <td>-7227.24</td>\n",
       "      <td>0.06</td>\n",
       "      <td>-0.09</td>\n",
       "      <td>0.01</td>\n",
       "      <td>99.99</td>\n",
       "      <td>82.60</td>\n",
       "      <td>65.84</td>\n",
       "      <td>43.50</td>\n",
       "      <td>22.07</td>\n",
       "      <td>True</td>\n",
       "      <td>0</td>\n",
       "      <td>43.65</td>\n",
       "      <td>NaN</td>\n",
       "      <td>56.35</td>\n",
       "      <td>NaN</td>\n",
       "      <td>38.23</td>\n",
       "      <td>NaN</td>\n",
       "      <td>25.28</td>\n",
       "      <td>NaN</td>\n",
       "      <td>13.45</td>\n",
       "      <td>NaN</td>\n",
       "      <td>5.33</td>\n",
       "      <td>NaN</td>\n",
       "      <td>-43.64</td>\n",
       "      <td>43.65</td>\n",
       "      <td>44.37</td>\n",
       "      <td>40.56</td>\n",
       "      <td>30.04</td>\n",
       "      <td>16.74</td>\n",
       "      <td>True</td>\n",
       "      <td>-0.00</td>\n",
       "    </tr>\n",
       "    <tr>\n",
       "      <th>3</th>\n",
       "      <td>3</td>\n",
       "      <td>3</td>\n",
       "      <td>ALABAMA</td>\n",
       "      <td>2</td>\n",
       "      <td>2000</td>\n",
       "      <td>AL</td>\n",
       "      <td>1</td>\n",
       "      <td>63</td>\n",
       "      <td>41</td>\n",
       "      <td>GEN</td>\n",
       "      <td>False</td>\n",
       "      <td>False</td>\n",
       "      <td>WALLACE B. MCGAHAN</td>\n",
       "      <td>LIBERTARIAN</td>\n",
       "      <td>False</td>\n",
       "      <td>4111</td>\n",
       "      <td>222636</td>\n",
       "      <td>False</td>\n",
       "      <td>False</td>\n",
       "      <td>True</td>\n",
       "      <td>0</td>\n",
       "      <td>0.00</td>\n",
       "      <td>0.00</td>\n",
       "      <td>0.00</td>\n",
       "      <td>0</td>\n",
       "      <td>0</td>\n",
       "      <td>NaN</td>\n",
       "      <td>0.02</td>\n",
       "      <td>222636</td>\n",
       "      <td>0.29</td>\n",
       "      <td>0.68</td>\n",
       "      <td>-7227.24</td>\n",
       "      <td>0.06</td>\n",
       "      <td>-0.09</td>\n",
       "      <td>0.01</td>\n",
       "      <td>99.99</td>\n",
       "      <td>82.60</td>\n",
       "      <td>65.84</td>\n",
       "      <td>43.50</td>\n",
       "      <td>22.07</td>\n",
       "      <td>True</td>\n",
       "      <td>0</td>\n",
       "      <td>43.65</td>\n",
       "      <td>NaN</td>\n",
       "      <td>56.35</td>\n",
       "      <td>NaN</td>\n",
       "      <td>38.23</td>\n",
       "      <td>NaN</td>\n",
       "      <td>25.28</td>\n",
       "      <td>NaN</td>\n",
       "      <td>13.45</td>\n",
       "      <td>NaN</td>\n",
       "      <td>5.33</td>\n",
       "      <td>NaN</td>\n",
       "      <td>-43.64</td>\n",
       "      <td>43.65</td>\n",
       "      <td>44.37</td>\n",
       "      <td>40.56</td>\n",
       "      <td>30.04</td>\n",
       "      <td>16.74</td>\n",
       "      <td>True</td>\n",
       "      <td>-0.00</td>\n",
       "    </tr>\n",
       "    <tr>\n",
       "      <th>4</th>\n",
       "      <td>4</td>\n",
       "      <td>4</td>\n",
       "      <td>ALABAMA</td>\n",
       "      <td>2</td>\n",
       "      <td>2000</td>\n",
       "      <td>AL</td>\n",
       "      <td>1</td>\n",
       "      <td>63</td>\n",
       "      <td>41</td>\n",
       "      <td>GEN</td>\n",
       "      <td>False</td>\n",
       "      <td>False</td>\n",
       "      <td>CHARLES WOODS</td>\n",
       "      <td>DEMOCRAT</td>\n",
       "      <td>False</td>\n",
       "      <td>64958</td>\n",
       "      <td>222636</td>\n",
       "      <td>False</td>\n",
       "      <td>False</td>\n",
       "      <td>True</td>\n",
       "      <td>0</td>\n",
       "      <td>0.00</td>\n",
       "      <td>0.00</td>\n",
       "      <td>0.00</td>\n",
       "      <td>0</td>\n",
       "      <td>0</td>\n",
       "      <td>NaN</td>\n",
       "      <td>0.29</td>\n",
       "      <td>222636</td>\n",
       "      <td>0.29</td>\n",
       "      <td>0.68</td>\n",
       "      <td>-7227.24</td>\n",
       "      <td>0.06</td>\n",
       "      <td>-0.09</td>\n",
       "      <td>0.01</td>\n",
       "      <td>99.99</td>\n",
       "      <td>82.60</td>\n",
       "      <td>65.84</td>\n",
       "      <td>43.50</td>\n",
       "      <td>22.07</td>\n",
       "      <td>True</td>\n",
       "      <td>0</td>\n",
       "      <td>43.65</td>\n",
       "      <td>NaN</td>\n",
       "      <td>56.35</td>\n",
       "      <td>NaN</td>\n",
       "      <td>38.23</td>\n",
       "      <td>NaN</td>\n",
       "      <td>25.28</td>\n",
       "      <td>NaN</td>\n",
       "      <td>13.45</td>\n",
       "      <td>NaN</td>\n",
       "      <td>5.33</td>\n",
       "      <td>NaN</td>\n",
       "      <td>-43.64</td>\n",
       "      <td>43.65</td>\n",
       "      <td>44.37</td>\n",
       "      <td>40.56</td>\n",
       "      <td>30.04</td>\n",
       "      <td>16.74</td>\n",
       "      <td>True</td>\n",
       "      <td>-0.00</td>\n",
       "    </tr>\n",
       "    <tr>\n",
       "      <th>...</th>\n",
       "      <td>...</td>\n",
       "      <td>...</td>\n",
       "      <td>...</td>\n",
       "      <td>...</td>\n",
       "      <td>...</td>\n",
       "      <td>...</td>\n",
       "      <td>...</td>\n",
       "      <td>...</td>\n",
       "      <td>...</td>\n",
       "      <td>...</td>\n",
       "      <td>...</td>\n",
       "      <td>...</td>\n",
       "      <td>...</td>\n",
       "      <td>...</td>\n",
       "      <td>...</td>\n",
       "      <td>...</td>\n",
       "      <td>...</td>\n",
       "      <td>...</td>\n",
       "      <td>...</td>\n",
       "      <td>...</td>\n",
       "      <td>...</td>\n",
       "      <td>...</td>\n",
       "      <td>...</td>\n",
       "      <td>...</td>\n",
       "      <td>...</td>\n",
       "      <td>...</td>\n",
       "      <td>...</td>\n",
       "      <td>...</td>\n",
       "      <td>...</td>\n",
       "      <td>...</td>\n",
       "      <td>...</td>\n",
       "      <td>...</td>\n",
       "      <td>...</td>\n",
       "      <td>...</td>\n",
       "      <td>...</td>\n",
       "      <td>...</td>\n",
       "      <td>...</td>\n",
       "      <td>...</td>\n",
       "      <td>...</td>\n",
       "      <td>...</td>\n",
       "      <td>...</td>\n",
       "      <td>...</td>\n",
       "      <td>...</td>\n",
       "      <td>...</td>\n",
       "      <td>...</td>\n",
       "      <td>...</td>\n",
       "      <td>...</td>\n",
       "      <td>...</td>\n",
       "      <td>...</td>\n",
       "      <td>...</td>\n",
       "      <td>...</td>\n",
       "      <td>...</td>\n",
       "      <td>...</td>\n",
       "      <td>...</td>\n",
       "      <td>...</td>\n",
       "      <td>...</td>\n",
       "      <td>...</td>\n",
       "      <td>...</td>\n",
       "      <td>...</td>\n",
       "      <td>...</td>\n",
       "      <td>...</td>\n",
       "      <td>...</td>\n",
       "    </tr>\n",
       "    <tr>\n",
       "      <th>7531</th>\n",
       "      <td>7531</td>\n",
       "      <td>7531</td>\n",
       "      <td>INDIANA</td>\n",
       "      <td>2</td>\n",
       "      <td>2002</td>\n",
       "      <td>IN</td>\n",
       "      <td>18</td>\n",
       "      <td>32</td>\n",
       "      <td>22</td>\n",
       "      <td>GEN</td>\n",
       "      <td>False</td>\n",
       "      <td>False</td>\n",
       "      <td>CHRIS CHOCOLA</td>\n",
       "      <td>REPUBLICAN</td>\n",
       "      <td>False</td>\n",
       "      <td>95081</td>\n",
       "      <td>188458</td>\n",
       "      <td>False</td>\n",
       "      <td>False</td>\n",
       "      <td>False</td>\n",
       "      <td>0</td>\n",
       "      <td>0.00</td>\n",
       "      <td>0.00</td>\n",
       "      <td>0.00</td>\n",
       "      <td>1</td>\n",
       "      <td>0</td>\n",
       "      <td>NaN</td>\n",
       "      <td>0.50</td>\n",
       "      <td>188458</td>\n",
       "      <td>0.46</td>\n",
       "      <td>0.50</td>\n",
       "      <td>9046.32</td>\n",
       "      <td>0.01</td>\n",
       "      <td>NaN</td>\n",
       "      <td>76.80</td>\n",
       "      <td>23.19</td>\n",
       "      <td>10.23</td>\n",
       "      <td>1.55</td>\n",
       "      <td>0.00</td>\n",
       "      <td>0.00</td>\n",
       "      <td>False</td>\n",
       "      <td>0</td>\n",
       "      <td>73.59</td>\n",
       "      <td>NaN</td>\n",
       "      <td>26.41</td>\n",
       "      <td>NaN</td>\n",
       "      <td>13.11</td>\n",
       "      <td>NaN</td>\n",
       "      <td>4.34</td>\n",
       "      <td>NaN</td>\n",
       "      <td>0.43</td>\n",
       "      <td>NaN</td>\n",
       "      <td>0.00</td>\n",
       "      <td>NaN</td>\n",
       "      <td>3.21</td>\n",
       "      <td>-3.21</td>\n",
       "      <td>-2.88</td>\n",
       "      <td>-2.79</td>\n",
       "      <td>-0.43</td>\n",
       "      <td>0.00</td>\n",
       "      <td>False</td>\n",
       "      <td>NaN</td>\n",
       "    </tr>\n",
       "    <tr>\n",
       "      <th>7532</th>\n",
       "      <td>7532</td>\n",
       "      <td>7532</td>\n",
       "      <td>COLORADO</td>\n",
       "      <td>7</td>\n",
       "      <td>2006</td>\n",
       "      <td>CO</td>\n",
       "      <td>8</td>\n",
       "      <td>84</td>\n",
       "      <td>62</td>\n",
       "      <td>GEN</td>\n",
       "      <td>False</td>\n",
       "      <td>False</td>\n",
       "      <td>RICK O'DONNELL</td>\n",
       "      <td>REPUBLICAN</td>\n",
       "      <td>False</td>\n",
       "      <td>79571</td>\n",
       "      <td>189170</td>\n",
       "      <td>False</td>\n",
       "      <td>False</td>\n",
       "      <td>False</td>\n",
       "      <td>0</td>\n",
       "      <td>0.00</td>\n",
       "      <td>0.00</td>\n",
       "      <td>0.00</td>\n",
       "      <td>0</td>\n",
       "      <td>0</td>\n",
       "      <td>NaN</td>\n",
       "      <td>0.42</td>\n",
       "      <td>189170</td>\n",
       "      <td>0.55</td>\n",
       "      <td>0.42</td>\n",
       "      <td>-6901.10</td>\n",
       "      <td>-0.03</td>\n",
       "      <td>0.04</td>\n",
       "      <td>48.19</td>\n",
       "      <td>51.81</td>\n",
       "      <td>31.26</td>\n",
       "      <td>16.25</td>\n",
       "      <td>0.00</td>\n",
       "      <td>0.00</td>\n",
       "      <td>False</td>\n",
       "      <td>0</td>\n",
       "      <td>47.02</td>\n",
       "      <td>NaN</td>\n",
       "      <td>52.98</td>\n",
       "      <td>NaN</td>\n",
       "      <td>33.22</td>\n",
       "      <td>NaN</td>\n",
       "      <td>18.42</td>\n",
       "      <td>NaN</td>\n",
       "      <td>5.00</td>\n",
       "      <td>NaN</td>\n",
       "      <td>0.00</td>\n",
       "      <td>NaN</td>\n",
       "      <td>1.17</td>\n",
       "      <td>-1.17</td>\n",
       "      <td>-1.96</td>\n",
       "      <td>-2.17</td>\n",
       "      <td>-5.00</td>\n",
       "      <td>-0.00</td>\n",
       "      <td>False</td>\n",
       "      <td>0.00</td>\n",
       "    </tr>\n",
       "    <tr>\n",
       "      <th>7533</th>\n",
       "      <td>7533</td>\n",
       "      <td>7533</td>\n",
       "      <td>COLORADO</td>\n",
       "      <td>7</td>\n",
       "      <td>2006</td>\n",
       "      <td>CO</td>\n",
       "      <td>8</td>\n",
       "      <td>84</td>\n",
       "      <td>62</td>\n",
       "      <td>GEN</td>\n",
       "      <td>False</td>\n",
       "      <td>False</td>\n",
       "      <td>ED PERLMUTTER</td>\n",
       "      <td>DEMOCRAT</td>\n",
       "      <td>False</td>\n",
       "      <td>103918</td>\n",
       "      <td>189170</td>\n",
       "      <td>False</td>\n",
       "      <td>False</td>\n",
       "      <td>False</td>\n",
       "      <td>0</td>\n",
       "      <td>0.00</td>\n",
       "      <td>0.00</td>\n",
       "      <td>0.00</td>\n",
       "      <td>1</td>\n",
       "      <td>0</td>\n",
       "      <td>NaN</td>\n",
       "      <td>0.55</td>\n",
       "      <td>189170</td>\n",
       "      <td>0.55</td>\n",
       "      <td>0.42</td>\n",
       "      <td>-6901.10</td>\n",
       "      <td>-0.03</td>\n",
       "      <td>0.04</td>\n",
       "      <td>48.19</td>\n",
       "      <td>51.81</td>\n",
       "      <td>31.26</td>\n",
       "      <td>16.25</td>\n",
       "      <td>0.00</td>\n",
       "      <td>0.00</td>\n",
       "      <td>False</td>\n",
       "      <td>0</td>\n",
       "      <td>47.02</td>\n",
       "      <td>NaN</td>\n",
       "      <td>52.98</td>\n",
       "      <td>NaN</td>\n",
       "      <td>33.22</td>\n",
       "      <td>NaN</td>\n",
       "      <td>18.42</td>\n",
       "      <td>NaN</td>\n",
       "      <td>5.00</td>\n",
       "      <td>NaN</td>\n",
       "      <td>0.00</td>\n",
       "      <td>NaN</td>\n",
       "      <td>1.17</td>\n",
       "      <td>-1.17</td>\n",
       "      <td>-1.96</td>\n",
       "      <td>-2.17</td>\n",
       "      <td>-5.00</td>\n",
       "      <td>-0.00</td>\n",
       "      <td>False</td>\n",
       "      <td>0.00</td>\n",
       "    </tr>\n",
       "    <tr>\n",
       "      <th>7534</th>\n",
       "      <td>7534</td>\n",
       "      <td>7534</td>\n",
       "      <td>CONNECTICUT</td>\n",
       "      <td>3</td>\n",
       "      <td>2012</td>\n",
       "      <td>CT</td>\n",
       "      <td>9</td>\n",
       "      <td>16</td>\n",
       "      <td>1</td>\n",
       "      <td>GEN</td>\n",
       "      <td>NaN</td>\n",
       "      <td>False</td>\n",
       "      <td>WAYNE WINSLEY</td>\n",
       "      <td>REPUBLICAN</td>\n",
       "      <td>False</td>\n",
       "      <td>73726</td>\n",
       "      <td>291301</td>\n",
       "      <td>False</td>\n",
       "      <td>False</td>\n",
       "      <td>True</td>\n",
       "      <td>0</td>\n",
       "      <td>0.00</td>\n",
       "      <td>0.00</td>\n",
       "      <td>0.00</td>\n",
       "      <td>0</td>\n",
       "      <td>0</td>\n",
       "      <td>NaN</td>\n",
       "      <td>0.25</td>\n",
       "      <td>291301</td>\n",
       "      <td>0.68</td>\n",
       "      <td>0.25</td>\n",
       "      <td>7591.89</td>\n",
       "      <td>-0.01</td>\n",
       "      <td>-0.01</td>\n",
       "      <td>78.52</td>\n",
       "      <td>21.39</td>\n",
       "      <td>8.69</td>\n",
       "      <td>4.34</td>\n",
       "      <td>0.00</td>\n",
       "      <td>0.00</td>\n",
       "      <td>False</td>\n",
       "      <td>0</td>\n",
       "      <td>77.48</td>\n",
       "      <td>NaN</td>\n",
       "      <td>22.44</td>\n",
       "      <td>NaN</td>\n",
       "      <td>8.03</td>\n",
       "      <td>NaN</td>\n",
       "      <td>3.20</td>\n",
       "      <td>NaN</td>\n",
       "      <td>0.12</td>\n",
       "      <td>NaN</td>\n",
       "      <td>0.00</td>\n",
       "      <td>NaN</td>\n",
       "      <td>1.04</td>\n",
       "      <td>-1.05</td>\n",
       "      <td>0.66</td>\n",
       "      <td>1.13</td>\n",
       "      <td>-0.12</td>\n",
       "      <td>0.00</td>\n",
       "      <td>False</td>\n",
       "      <td>-0.00</td>\n",
       "    </tr>\n",
       "    <tr>\n",
       "      <th>7535</th>\n",
       "      <td>7535</td>\n",
       "      <td>7535</td>\n",
       "      <td>CONNECTICUT</td>\n",
       "      <td>3</td>\n",
       "      <td>2012</td>\n",
       "      <td>CT</td>\n",
       "      <td>9</td>\n",
       "      <td>16</td>\n",
       "      <td>1</td>\n",
       "      <td>GEN</td>\n",
       "      <td>NaN</td>\n",
       "      <td>False</td>\n",
       "      <td>ROSA L. DELAURO</td>\n",
       "      <td>DEMOCRAT</td>\n",
       "      <td>False</td>\n",
       "      <td>197163</td>\n",
       "      <td>291301</td>\n",
       "      <td>False</td>\n",
       "      <td>True</td>\n",
       "      <td>True</td>\n",
       "      <td>0</td>\n",
       "      <td>0.00</td>\n",
       "      <td>0.00</td>\n",
       "      <td>0.00</td>\n",
       "      <td>1</td>\n",
       "      <td>1</td>\n",
       "      <td>0.07</td>\n",
       "      <td>0.68</td>\n",
       "      <td>291301</td>\n",
       "      <td>0.68</td>\n",
       "      <td>0.25</td>\n",
       "      <td>7591.89</td>\n",
       "      <td>-0.01</td>\n",
       "      <td>-0.01</td>\n",
       "      <td>78.52</td>\n",
       "      <td>21.39</td>\n",
       "      <td>8.69</td>\n",
       "      <td>4.34</td>\n",
       "      <td>0.00</td>\n",
       "      <td>0.00</td>\n",
       "      <td>False</td>\n",
       "      <td>0</td>\n",
       "      <td>77.48</td>\n",
       "      <td>NaN</td>\n",
       "      <td>22.44</td>\n",
       "      <td>NaN</td>\n",
       "      <td>8.03</td>\n",
       "      <td>NaN</td>\n",
       "      <td>3.20</td>\n",
       "      <td>NaN</td>\n",
       "      <td>0.12</td>\n",
       "      <td>NaN</td>\n",
       "      <td>0.00</td>\n",
       "      <td>NaN</td>\n",
       "      <td>1.04</td>\n",
       "      <td>-1.05</td>\n",
       "      <td>0.66</td>\n",
       "      <td>1.13</td>\n",
       "      <td>-0.12</td>\n",
       "      <td>0.00</td>\n",
       "      <td>False</td>\n",
       "      <td>-0.00</td>\n",
       "    </tr>\n",
       "  </tbody>\n",
       "</table>\n",
       "<p>7536 rows × 62 columns</p>\n",
       "</div>"
      ],
      "text/plain": [
       "      level_0  index        state  district  year state_po  state_fips  \\\n",
       "0           0      0      ALABAMA         1  2000       AL           1   \n",
       "1           1      1      ALABAMA         1  2000       AL           1   \n",
       "2           2      2      ALABAMA         2  2000       AL           1   \n",
       "3           3      3      ALABAMA         2  2000       AL           1   \n",
       "4           4      4      ALABAMA         2  2000       AL           1   \n",
       "...       ...    ...          ...       ...   ...      ...         ...   \n",
       "7531     7531   7531      INDIANA         2  2002       IN          18   \n",
       "7532     7532   7532     COLORADO         7  2006       CO           8   \n",
       "7533     7533   7533     COLORADO         7  2006       CO           8   \n",
       "7534     7534   7534  CONNECTICUT         3  2012       CT           9   \n",
       "7535     7535   7535  CONNECTICUT         3  2012       CT           9   \n",
       "\n",
       "      state_cen  state_ic stage runoff  special           candidate  \\\n",
       "0            63        41   GEN  False    False      SONNY CALLAHAN   \n",
       "1            63        41   GEN  False    False         DICK COFFEE   \n",
       "2            63        41   GEN  False    False       TERRY EVERETT   \n",
       "3            63        41   GEN  False    False  WALLACE B. MCGAHAN   \n",
       "4            63        41   GEN  False    False       CHARLES WOODS   \n",
       "...         ...       ...   ...    ...      ...                 ...   \n",
       "7531         32        22   GEN  False    False       CHRIS CHOCOLA   \n",
       "7532         84        62   GEN  False    False      RICK O'DONNELL   \n",
       "7533         84        62   GEN  False    False       ED PERLMUTTER   \n",
       "7534         16         1   GEN    NaN    False       WAYNE WINSLEY   \n",
       "7535         16         1   GEN    NaN    False     ROSA L. DELAURO   \n",
       "\n",
       "            party  writein  candidatevotes  totalvotes  unofficial  \\\n",
       "0      REPUBLICAN    False          151188      165669       False   \n",
       "1     LIBERTARIAN    False           14031      165669       False   \n",
       "2      REPUBLICAN    False          151830      222636       False   \n",
       "3     LIBERTARIAN    False            4111      222636       False   \n",
       "4        DEMOCRAT    False           64958      222636       False   \n",
       "...           ...      ...             ...         ...         ...   \n",
       "7531   REPUBLICAN    False           95081      188458       False   \n",
       "7532   REPUBLICAN    False           79571      189170       False   \n",
       "7533     DEMOCRAT    False          103918      189170       False   \n",
       "7534   REPUBLICAN    False           73726      291301       False   \n",
       "7535     DEMOCRAT    False          197163      291301       False   \n",
       "\n",
       "      fusion_ticket  DPres  agricultural  agricultural_gdp  num_farms  \\\n",
       "0             False   True             0              0.00       0.00   \n",
       "1             False   True             0              0.00       0.00   \n",
       "2             False   True             0              0.00       0.00   \n",
       "3             False   True             0              0.00       0.00   \n",
       "4             False   True             0              0.00       0.00   \n",
       "...             ...    ...           ...               ...        ...   \n",
       "7531          False  False             0              0.00       0.00   \n",
       "7532          False  False             0              0.00       0.00   \n",
       "7533          False  False             0              0.00       0.00   \n",
       "7534          False   True             0              0.00       0.00   \n",
       "7535           True   True             0              0.00       0.00   \n",
       "\n",
       "      farm_size  winner  incumbent  share_diff  voteshare  totalturnout  \\\n",
       "0          0.00       1          1       -0.08       0.91        165669   \n",
       "1          0.00       0          0         NaN       0.08        165669   \n",
       "2          0.00       1          1       -0.01       0.68        222636   \n",
       "3          0.00       0          0         NaN       0.02        222636   \n",
       "4          0.00       0          0         NaN       0.29        222636   \n",
       "...         ...     ...        ...         ...        ...           ...   \n",
       "7531       0.00       1          0         NaN       0.50        188458   \n",
       "7532       0.00       0          0         NaN       0.42        189170   \n",
       "7533       0.00       1          0         NaN       0.55        189170   \n",
       "7534       0.00       0          0         NaN       0.25        291301   \n",
       "7535       0.00       1          1        0.07       0.68        291301   \n",
       "\n",
       "      Dem_voteshare  Repub_voteshare  turnout_minus_predicted_all_years  \\\n",
       "0               NaN             0.91                          -42002.10   \n",
       "1               NaN             0.91                          -42002.10   \n",
       "2              0.29             0.68                           -7227.24   \n",
       "3              0.29             0.68                           -7227.24   \n",
       "4              0.29             0.68                           -7227.24   \n",
       "...             ...              ...                                ...   \n",
       "7531           0.46             0.50                            9046.32   \n",
       "7532           0.55             0.42                           -6901.10   \n",
       "7533           0.55             0.42                           -6901.10   \n",
       "7534           0.68             0.25                            7591.89   \n",
       "7535           0.68             0.25                            7591.89   \n",
       "\n",
       "      Republican_pred_voteshare_minus_actual_all_years  \\\n",
       "0                                                 0.18   \n",
       "1                                                 0.18   \n",
       "2                                                 0.06   \n",
       "3                                                 0.06   \n",
       "4                                                 0.06   \n",
       "...                                                ...   \n",
       "7531                                              0.01   \n",
       "7532                                             -0.03   \n",
       "7533                                             -0.03   \n",
       "7534                                             -0.01   \n",
       "7535                                             -0.01   \n",
       "\n",
       "      Democrat_predicted_voteshare_all_years  No_drought    D0    D1    D2  \\\n",
       "0                                        NaN        0.01 99.97 76.87 64.36   \n",
       "1                                        NaN        0.01 99.97 76.87 64.36   \n",
       "2                                      -0.09        0.01 99.99 82.60 65.84   \n",
       "3                                      -0.09        0.01 99.99 82.60 65.84   \n",
       "4                                      -0.09        0.01 99.99 82.60 65.84   \n",
       "...                                      ...         ...   ...   ...   ...   \n",
       "7531                                     NaN       76.80 23.19 10.23  1.55   \n",
       "7532                                    0.04       48.19 51.81 31.26 16.25   \n",
       "7533                                    0.04       48.19 51.81 31.26 16.25   \n",
       "7534                                   -0.01       78.52 21.39  8.69  4.34   \n",
       "7535                                   -0.01       78.52 21.39  8.69  4.34   \n",
       "\n",
       "        D3    D4  major_drought  incumbent_lost  No_drought_avg  \\\n",
       "0    44.37 21.53           True               0           54.24   \n",
       "1    44.37 21.53           True               0           54.24   \n",
       "2    43.50 22.07           True               0           43.65   \n",
       "3    43.50 22.07           True               0           43.65   \n",
       "4    43.50 22.07           True               0           43.65   \n",
       "...    ...   ...            ...             ...             ...   \n",
       "7531  0.00  0.00          False               0           73.59   \n",
       "7532  0.00  0.00          False               0           47.02   \n",
       "7533  0.00  0.00          False               0           47.02   \n",
       "7534  0.00  0.00          False               0           77.48   \n",
       "7535  0.00  0.00          False               0           77.48   \n",
       "\n",
       "      No_droughtvs_avg  D0_avg  D0vs_avg  D1_avg  D1vs_avg  D2_avg  D2vs_avg  \\\n",
       "0                  NaN   45.73       NaN   24.78       NaN   15.10       NaN   \n",
       "1                  NaN   45.73       NaN   24.78       NaN   15.10       NaN   \n",
       "2                  NaN   56.35       NaN   38.23       NaN   25.28       NaN   \n",
       "3                  NaN   56.35       NaN   38.23       NaN   25.28       NaN   \n",
       "4                  NaN   56.35       NaN   38.23       NaN   25.28       NaN   \n",
       "...                ...     ...       ...     ...       ...     ...       ...   \n",
       "7531               NaN   26.41       NaN   13.11       NaN    4.34       NaN   \n",
       "7532               NaN   52.98       NaN   33.22       NaN   18.42       NaN   \n",
       "7533               NaN   52.98       NaN   33.22       NaN   18.42       NaN   \n",
       "7534               NaN   22.44       NaN    8.03       NaN    3.20       NaN   \n",
       "7535               NaN   22.44       NaN    8.03       NaN    3.20       NaN   \n",
       "\n",
       "      D3_avg  D3vs_avg  D4_avg  D4vs_avg  No_drought_vs_avg  D0_vs_avg  \\\n",
       "0       7.70       NaN    3.21       NaN             -54.23      54.24   \n",
       "1       7.70       NaN    3.21       NaN             -54.23      54.24   \n",
       "2      13.45       NaN    5.33       NaN             -43.64      43.65   \n",
       "3      13.45       NaN    5.33       NaN             -43.64      43.65   \n",
       "4      13.45       NaN    5.33       NaN             -43.64      43.65   \n",
       "...      ...       ...     ...       ...                ...        ...   \n",
       "7531    0.43       NaN    0.00       NaN               3.21      -3.21   \n",
       "7532    5.00       NaN    0.00       NaN               1.17      -1.17   \n",
       "7533    5.00       NaN    0.00       NaN               1.17      -1.17   \n",
       "7534    0.12       NaN    0.00       NaN               1.04      -1.05   \n",
       "7535    0.12       NaN    0.00       NaN               1.04      -1.05   \n",
       "\n",
       "      D1_vs_avg  D2_vs_avg  D3_vs_avg  D4_vs_avg  major_unexpected_drought  \\\n",
       "0         52.09      49.26      36.67      18.32                      True   \n",
       "1         52.09      49.26      36.67      18.32                      True   \n",
       "2         44.37      40.56      30.04      16.74                      True   \n",
       "3         44.37      40.56      30.04      16.74                      True   \n",
       "4         44.37      40.56      30.04      16.74                      True   \n",
       "...         ...        ...        ...        ...                       ...   \n",
       "7531      -2.88      -2.79      -0.43       0.00                     False   \n",
       "7532      -1.96      -2.17      -5.00      -0.00                     False   \n",
       "7533      -1.96      -2.17      -5.00      -0.00                     False   \n",
       "7534       0.66       1.13      -0.12       0.00                     False   \n",
       "7535       0.66       1.13      -0.12       0.00                     False   \n",
       "\n",
       "      Republican_pred_voteshare_minus_actual_all_years  \n",
       "0                                                 0.00  \n",
       "1                                                 0.00  \n",
       "2                                                -0.00  \n",
       "3                                                -0.00  \n",
       "4                                                -0.00  \n",
       "...                                                ...  \n",
       "7531                                               NaN  \n",
       "7532                                              0.00  \n",
       "7533                                              0.00  \n",
       "7534                                             -0.00  \n",
       "7535                                             -0.00  \n",
       "\n",
       "[7536 rows x 62 columns]"
      ]
     },
     "execution_count": 670,
     "metadata": {},
     "output_type": "execute_result"
    }
   ],
   "source": [
    "elec_df.rename(columns={'Republican_predicted_voteshare_all_years': 'Republican_pred_voteshare_minus_actual_all_years'})"
   ]
  },
  {
   "cell_type": "code",
   "execution_count": 673,
   "metadata": {
    "hidden": true
   },
   "outputs": [
    {
     "data": {
      "text/plain": [
       "-1.1102230246251565e-15"
      ]
     },
     "execution_count": 673,
     "metadata": {},
     "output_type": "execute_result"
    }
   ],
   "source": [
    "elec_df['Republican_pred_voteshare_minus_actual_all_years'].min()"
   ]
  },
  {
   "cell_type": "code",
   "execution_count": 671,
   "metadata": {
    "hidden": true
   },
   "outputs": [
    {
     "ename": "ValueError",
     "evalue": "endog must be in the unit interval.",
     "output_type": "error",
     "traceback": [
      "\u001b[1;31m---------------------------------------------------------------------------\u001b[0m",
      "\u001b[1;31mValueError\u001b[0m                                Traceback (most recent call last)",
      "\u001b[1;32m<ipython-input-671-97e674440f71>\u001b[0m in \u001b[0;36m<module>\u001b[1;34m\u001b[0m\n\u001b[1;32m----> 1\u001b[1;33m \u001b[0mrep_voteshare_ols_regression\u001b[0m \u001b[1;33m=\u001b[0m \u001b[0msmf\u001b[0m\u001b[1;33m.\u001b[0m\u001b[0mlogit\u001b[0m\u001b[1;33m(\u001b[0m\u001b[0mformula\u001b[0m\u001b[1;33m=\u001b[0m\u001b[1;34mf'Republican_pred_voteshare_minus_actual_all_years ~ {indep_var_str}'\u001b[0m\u001b[1;33m,\u001b[0m \u001b[0mdata\u001b[0m\u001b[1;33m=\u001b[0m\u001b[0melec_df\u001b[0m\u001b[1;33m)\u001b[0m\u001b[1;33m\u001b[0m\u001b[1;33m\u001b[0m\u001b[0m\n\u001b[0m\u001b[0;32m      2\u001b[0m \u001b[0mrep_voteshare_ols_regression_result\u001b[0m \u001b[1;33m=\u001b[0m \u001b[0mrep_voteshare_ols_regression\u001b[0m\u001b[1;33m.\u001b[0m\u001b[0mfit\u001b[0m\u001b[1;33m(\u001b[0m\u001b[0mcov_type\u001b[0m \u001b[1;33m=\u001b[0m \u001b[1;34m'HC0'\u001b[0m\u001b[1;33m)\u001b[0m\u001b[1;33m\u001b[0m\u001b[1;33m\u001b[0m\u001b[0m\n\u001b[0;32m      3\u001b[0m \u001b[0mprint\u001b[0m\u001b[1;33m(\u001b[0m\u001b[0mrep_voteshare_ols_regression_result\u001b[0m\u001b[1;33m.\u001b[0m\u001b[0msummary\u001b[0m\u001b[1;33m(\u001b[0m\u001b[1;33m)\u001b[0m\u001b[1;33m)\u001b[0m\u001b[1;33m\u001b[0m\u001b[1;33m\u001b[0m\u001b[0m\n",
      "\u001b[1;32m~\\Anaconda\\envs\\geopandas_env\\lib\\site-packages\\statsmodels\\base\\model.py\u001b[0m in \u001b[0;36mfrom_formula\u001b[1;34m(cls, formula, data, subset, drop_cols, *args, **kwargs)\u001b[0m\n\u001b[0;32m    193\u001b[0m                        \u001b[1;34m'formula'\u001b[0m\u001b[1;33m:\u001b[0m \u001b[0mformula\u001b[0m\u001b[1;33m,\u001b[0m  \u001b[1;31m# attach formula for unpckling\u001b[0m\u001b[1;33m\u001b[0m\u001b[1;33m\u001b[0m\u001b[0m\n\u001b[0;32m    194\u001b[0m                        'design_info': design_info})\n\u001b[1;32m--> 195\u001b[1;33m         \u001b[0mmod\u001b[0m \u001b[1;33m=\u001b[0m \u001b[0mcls\u001b[0m\u001b[1;33m(\u001b[0m\u001b[0mendog\u001b[0m\u001b[1;33m,\u001b[0m \u001b[0mexog\u001b[0m\u001b[1;33m,\u001b[0m \u001b[1;33m*\u001b[0m\u001b[0margs\u001b[0m\u001b[1;33m,\u001b[0m \u001b[1;33m**\u001b[0m\u001b[0mkwargs\u001b[0m\u001b[1;33m)\u001b[0m\u001b[1;33m\u001b[0m\u001b[1;33m\u001b[0m\u001b[0m\n\u001b[0m\u001b[0;32m    196\u001b[0m         \u001b[0mmod\u001b[0m\u001b[1;33m.\u001b[0m\u001b[0mformula\u001b[0m \u001b[1;33m=\u001b[0m \u001b[0mformula\u001b[0m\u001b[1;33m\u001b[0m\u001b[1;33m\u001b[0m\u001b[0m\n\u001b[0;32m    197\u001b[0m \u001b[1;33m\u001b[0m\u001b[0m\n",
      "\u001b[1;32m~\\Anaconda\\envs\\geopandas_env\\lib\\site-packages\\statsmodels\\discrete\\discrete_model.py\u001b[0m in \u001b[0;36m__init__\u001b[1;34m(self, endog, exog, check_rank, **kwargs)\u001b[0m\n\u001b[0;32m    459\u001b[0m         \u001b[1;32mif\u001b[0m \u001b[1;32mnot\u001b[0m \u001b[0missubclass\u001b[0m\u001b[1;33m(\u001b[0m\u001b[0mself\u001b[0m\u001b[1;33m.\u001b[0m\u001b[0m__class__\u001b[0m\u001b[1;33m,\u001b[0m \u001b[0mMultinomialModel\u001b[0m\u001b[1;33m)\u001b[0m\u001b[1;33m:\u001b[0m\u001b[1;33m\u001b[0m\u001b[1;33m\u001b[0m\u001b[0m\n\u001b[0;32m    460\u001b[0m             \u001b[1;32mif\u001b[0m \u001b[1;32mnot\u001b[0m \u001b[0mnp\u001b[0m\u001b[1;33m.\u001b[0m\u001b[0mall\u001b[0m\u001b[1;33m(\u001b[0m\u001b[1;33m(\u001b[0m\u001b[0mself\u001b[0m\u001b[1;33m.\u001b[0m\u001b[0mendog\u001b[0m \u001b[1;33m>=\u001b[0m \u001b[1;36m0\u001b[0m\u001b[1;33m)\u001b[0m \u001b[1;33m&\u001b[0m \u001b[1;33m(\u001b[0m\u001b[0mself\u001b[0m\u001b[1;33m.\u001b[0m\u001b[0mendog\u001b[0m \u001b[1;33m<=\u001b[0m \u001b[1;36m1\u001b[0m\u001b[1;33m)\u001b[0m\u001b[1;33m)\u001b[0m\u001b[1;33m:\u001b[0m\u001b[1;33m\u001b[0m\u001b[1;33m\u001b[0m\u001b[0m\n\u001b[1;32m--> 461\u001b[1;33m                 \u001b[1;32mraise\u001b[0m \u001b[0mValueError\u001b[0m\u001b[1;33m(\u001b[0m\u001b[1;34m\"endog must be in the unit interval.\"\u001b[0m\u001b[1;33m)\u001b[0m\u001b[1;33m\u001b[0m\u001b[1;33m\u001b[0m\u001b[0m\n\u001b[0m\u001b[0;32m    462\u001b[0m \u001b[1;33m\u001b[0m\u001b[0m\n\u001b[0;32m    463\u001b[0m             if (not self._continuous_ok and\n",
      "\u001b[1;31mValueError\u001b[0m: endog must be in the unit interval."
     ]
    }
   ],
   "source": [
    "rep_voteshare_ols_regression = smf.logit(formula=f'Republican_pred_voteshare_minus_actual_all_years ~ {indep_var_str}', data=elec_df)\n",
    "rep_voteshare_ols_regression_result = rep_voteshare_ols_regression.fit(cov_type = 'HC0')\n",
    "print(rep_voteshare_ols_regression_result.summary())"
   ]
  }
 ],
 "metadata": {
  "author": "m",
  "kernelspec": {
   "display_name": "Python [conda env:geopandas_env]",
   "language": "python",
   "name": "conda-env-geopandas_env-py"
  },
  "language_info": {
   "codemirror_mode": {
    "name": "ipython",
    "version": 3
   },
   "file_extension": ".py",
   "mimetype": "text/x-python",
   "name": "python",
   "nbconvert_exporter": "python",
   "pygments_lexer": "ipython3",
   "version": "3.8.8"
  },
  "latex_envs": {
   "LaTeX_envs_menu_present": true,
   "autoclose": true,
   "autocomplete": true,
   "bibliofile": "biblio.bib",
   "cite_by": "apalike",
   "current_citInitial": 1,
   "eqLabelWithNumbers": true,
   "eqNumInitial": 1,
   "hotkeys": {
    "equation": "Ctrl-E",
    "itemize": "Ctrl-I"
   },
   "labels_anchors": false,
   "latex_user_defs": false,
   "report_style_numbering": false,
   "user_envs_cfg": false
  },
  "toc": {
   "base_numbering": 1,
   "nav_menu": {
    "height": "317.997px",
    "width": "211.989px"
   },
   "number_sections": true,
   "sideBar": true,
   "skip_h1_title": false,
   "title_cell": "Table of Contents",
   "title_sidebar": "Contents",
   "toc_cell": false,
   "toc_position": {},
   "toc_section_display": true,
   "toc_window_display": false
  }
 },
 "nbformat": 4,
 "nbformat_minor": 4
}
