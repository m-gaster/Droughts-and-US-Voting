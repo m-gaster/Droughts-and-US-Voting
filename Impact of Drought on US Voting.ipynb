{
 "cells": [
  {
   "cell_type": "markdown",
   "metadata": {
    "heading_collapsed": true
   },
   "source": [
    "## Notes"
   ]
  },
  {
   "cell_type": "markdown",
   "metadata": {
    "hidden": true
   },
   "source": [
    "* should examine some of the LEAST agricultural districts in contrast to the ~60 MOST (which I have).\n",
    "* To install Geopandas (finally...), you probably need to create a new conda environment and install geopandas there.\n",
    "    * I used the following commands in Anaconda prompt running as admin, on windows: \n",
    "        * \"conda install -n base nb_conda_kernels\"\n",
    "        * \"conda create -n geopandas_env geopandas ipykernel\"\n",
    "            * \"geopandas_env\" (in the above line)) is just what I named my new environment, you can name it whatever you want\n",
    "        * Finally, switch the kernel in your Jupyter notebook"
   ]
  },
  {
   "cell_type": "markdown",
   "metadata": {
    "heading_collapsed": true
   },
   "source": [
    "# Summary:"
   ]
  },
  {
   "cell_type": "markdown",
   "metadata": {
    "hidden": true
   },
   "source": [
    "## \n",
    "\n",
    "This work follows Bruckner and Ciccone (2011), who found that the negative exogenous economic shocks which followed droughts in sub-Saharan Africa were solid contributors to / predictors of democratic revolutions. \n",
    "\n",
    "I attempt to establish a relationship between droughts (again serving as negative exogenous economic shocks) and political change, which might take any of the following forms:\n",
    "* Increased votes for a specific pro-farmer party (will have to investigate whether democrats or republicans are viewed as pro-farmer.)\n",
    "* Increased probability of an incumbent losing\n",
    "* Increased votes for the Democratic party, who generally favor greater redistribution (see: Acemoglu & Robinson)\n",
    "\n",
    "  \n",
    "  \n",
    " newline\n",
    "\n",
    "The equation of interest takes the form \\begin{equation} Y_{i,t} = \\alpha \\, * Drought_{i,t} + \\beta'X_{i,t} + \\phi_{i,t} + \\psi_{i,t} + u_{i,t} \\end{equation}\n",
    "\n",
    "NOTE: will need to include (and interact) a dummy term for presidential election or not that year.\n",
    "\n",
    "where \n",
    "* $Y_{i,t} = $ our outcome of interest - either vote share for a particular party; probability of an incumbent losing; etc.\n",
    "* $\\alpha = $ the effect of drought on the outcome of interest\n",
    "* $X_{i,t} = $ characteristics of the district at time *t*, such as income, farming as a share of GDP, average farm size, etc.\n",
    "* $\\phi_{i,t} = $ district fixed effects\n",
    "* $\\psi_{i,t} = $ time fixed effects\n",
    "* state fixed effects?\n",
    "\n",
    "include willingness to elect other party? years since change of power? avg years for incumbent to stay in power?"
   ]
  },
  {
   "cell_type": "markdown",
   "metadata": {
    "heading_collapsed": true
   },
   "source": [
    "# Non-Geo Data Import and Cleaning"
   ]
  },
  {
   "cell_type": "markdown",
   "metadata": {
    "heading_collapsed": true,
    "hidden": true
   },
   "source": [
    "## Import and Setup"
   ]
  },
  {
   "cell_type": "code",
   "execution_count": 3,
   "metadata": {
    "hidden": true
   },
   "outputs": [],
   "source": [
    "import pandas as pd\n",
    "import numpy as np"
   ]
  },
  {
   "cell_type": "code",
   "execution_count": 4,
   "metadata": {
    "hidden": true
   },
   "outputs": [
    {
     "data": {
      "text/html": [
       "<style>.container { width:95% !important; }</style>"
      ],
      "text/plain": [
       "<IPython.core.display.HTML object>"
      ]
     },
     "metadata": {},
     "output_type": "display_data"
    }
   ],
   "source": [
    "pd.set_option('display.max_columns', 1000)\n",
    "pd.set_option('display.max_rows', 1000)\n",
    "pd.set_option('display.max_colwidth', 199)\n",
    "pd.options.display.float_format = '{:.2f}'.format\n",
    "\n",
    "from IPython.core.display import display, HTML\n",
    "display(HTML(\"<style>.container { width:95% !important; }</style>\"))"
   ]
  },
  {
   "cell_type": "markdown",
   "metadata": {
    "heading_collapsed": true,
    "hidden": true
   },
   "source": [
    "## Create \"BASE_YEAR\" variable\n",
    "\n",
    "This is the first year where we have data available for all datasets in the analysis (with a few years for margin of error)"
   ]
  },
  {
   "cell_type": "code",
   "execution_count": 25,
   "metadata": {
    "hidden": true
   },
   "outputs": [],
   "source": [
    "BASE_YEAR = 1998\n",
    "\n",
    "# currently strictest year limitation comes from the drought dataset "
   ]
  },
  {
   "cell_type": "markdown",
   "metadata": {
    "heading_collapsed": true,
    "hidden": true
   },
   "source": [
    "## Market Value by District Data\n",
    "\n",
    "Note: Due to data/time limitations, I'm assuming that congressional districts that are currently highly agricultural were also highly agricultural over the period I examine. This is one place to expand my analysis when I have more time"
   ]
  },
  {
   "cell_type": "code",
   "execution_count": 5,
   "metadata": {
    "hidden": true
   },
   "outputs": [],
   "source": [
    "# from \n",
    "# https://www.nass.usda.gov/Publications/AgCensus/2012/Online_Resources/Congressional_District_Rankings/ , and\n",
    "# https://www.nass.usda.gov/Publications/AgCensus/2017/Online_Resources/Congressional_District_Rankings/\n",
    "farm_census_2012 = pd.read_csv(r\"C:\\Users\\mikha\\OneDrive\\Desktop\\Dropbox\\MIKHAEL NEW\\mikhael school\\Grad School\\Master's\\Term 2 Classes\\544\\Replication\\My Addition\\Mkt Value of Agr Products Sold\\2012.csv\")\n",
    "farm_census_2017 = pd.read_csv(r\"C:\\Users\\mikha\\OneDrive\\Desktop\\Dropbox\\MIKHAEL NEW\\mikhael school\\Grad School\\Master's\\Term 2 Classes\\544\\Replication\\My Addition\\Mkt Value of Agr Products Sold\\2017.csv\")\n",
    "\n",
    "farm_census_2012['year'] = 2012\n",
    "farm_census_2017['year'] = 2017\n",
    "\n",
    "# merge 2012 and 2017\n",
    "farm_census = pd.concat([farm_census_2012, farm_census_2017])\n",
    "\n",
    "del farm_census_2012, farm_census_2017"
   ]
  },
  {
   "cell_type": "markdown",
   "metadata": {
    "heading_collapsed": true,
    "hidden": true
   },
   "source": [
    "### Some Text Cleaning"
   ]
  },
  {
   "cell_type": "code",
   "execution_count": 6,
   "metadata": {
    "hidden": true
   },
   "outputs": [
    {
     "name": "stderr",
     "output_type": "stream",
     "text": [
      "<ipython-input-6-378df72a3105>:5: FutureWarning: The default value of regex will change from True to False in a future version.\n",
      "  farm_census['state'] = farm_census['state'].str.replace('\\d+', '')\n"
     ]
    }
   ],
   "source": [
    "# upper-case\n",
    "farm_census['state'] = [x.upper() for x in farm_census['state']]\n",
    "\n",
    "#remove non-alphabet characters\n",
    "farm_census['state'] = farm_census['state'].str.replace('\\d+', '')\n",
    "farm_census['state'] = farm_census['state'].str.replace('/', '')"
   ]
  },
  {
   "cell_type": "code",
   "execution_count": 7,
   "metadata": {
    "hidden": true
   },
   "outputs": [],
   "source": [
    "# narrow down districts we can focus the analysis on\n",
    "usable_districts = {state:set() for state in farm_census['state']}"
   ]
  },
  {
   "cell_type": "code",
   "execution_count": 8,
   "metadata": {
    "hidden": true
   },
   "outputs": [],
   "source": [
    "for state_dist in list(zip(farm_census['state'], farm_census['district'])):\n",
    "    if state_dist[1] != 'At Large':\n",
    "        usable_districts[state_dist[0]].add(int(state_dist[1]))\n",
    "    else:\n",
    "        usable_districts[state_dist[0]].add(state_dist[1])"
   ]
  },
  {
   "cell_type": "markdown",
   "metadata": {
    "hidden": true
   },
   "source": [
    "## Election Data (House of Rep's)\n",
    "\n",
    "Include Senate data (same source)? Only catch is it isn't as specific to the agricultural districts. Could still be useful as a baseline.\n",
    "\n",
    "**TO DO**\n",
    "* Denote who won each election\n",
    "    * Create \"years in seat\" variable\n",
    "* Figure out whether to use pre-1998 data for incumbency\n",
    "* Figure out \"At Large\" stuff\n",
    "    * Note: \"At Large\" districts arenare denoted with zeros\n",
    "* There are \"NaNs\" in the data (under candidate name)"
   ]
  },
  {
   "cell_type": "code",
   "execution_count": 9,
   "metadata": {
    "hidden": true
   },
   "outputs": [],
   "source": [
    "# from https://electionlab.mit.edu/data \n",
    "elec_df = pd.read_csv(r\"C:\\Users\\mikha\\OneDrive\\Desktop\\Dropbox\\MIKHAEL NEW\\mikhael school\\Grad School\\Master's\\Term 2 Classes\\544\\Replication\\My Addition\\1976-2018 US House Election Data.csv\", engine='python')"
   ]
  },
  {
   "cell_type": "markdown",
   "metadata": {
    "hidden": true
   },
   "source": [
    "### Drop Unecessary Data Features and Observations"
   ]
  },
  {
   "cell_type": "code",
   "execution_count": 10,
   "metadata": {
    "hidden": true
   },
   "outputs": [],
   "source": [
    "# #drop if before 1998\n",
    "# elec_df = elec_df[elec_df['year'] >= 1998]\n",
    "\n",
    "#drop useless columns (one unique value and/or irrelevant info)\n",
    "elec_df.drop(['office', 'mode', 'version'], axis=1, inplace=True)\n",
    "\n",
    "#drop if not general election (other possibilites are primary or blank). This only drops ~90/30000 obs\n",
    "elec_df = elec_df[elec_df['stage']=='gen']\n",
    "\n",
    "# drop runoffs - only 8 obs. Note that ~9k / 30k obs are \"NA\" under \"runoff\"... data description doesn't say what this means\n",
    "elec_df = elec_df[elec_df['runoff']!='TRUE']"
   ]
  },
  {
   "cell_type": "markdown",
   "metadata": {
    "hidden": true
   },
   "source": [
    "### Denote presidential election years"
   ]
  },
  {
   "cell_type": "code",
   "execution_count": 11,
   "metadata": {
    "hidden": true
   },
   "outputs": [],
   "source": [
    "elec_df['DPres'] = elec_df['year'] % 4 == 0"
   ]
  },
  {
   "cell_type": "markdown",
   "metadata": {
    "hidden": true
   },
   "source": [
    "### Denote election observations corresponding to *agricultural* districts"
   ]
  },
  {
   "cell_type": "code",
   "execution_count": 12,
   "metadata": {
    "hidden": true
   },
   "outputs": [],
   "source": [
    "# DENOTE WHETHER OR NOT IS A BIG AGRICULTURAL DISTRICT (that we have economic/agricultural data for)\n",
    "\n",
    "# this loop just appends 0 or 1 to the vector \"usable_obs\" if we have economic/agricultural data for that district\n",
    "usable_obs = []\n",
    "\n",
    "for i, row in elec_df.iterrows():\n",
    "    if row['state'] in usable_districts and row['district'] in usable_districts[row['state']]:\n",
    "        usable_obs.append(1)\n",
    "    else:\n",
    "        usable_obs.append(0)\n",
    "\n",
    "# here we bring this vector into the df        \n",
    "elec_df['usable'] = usable_obs\n",
    "\n",
    "del usable_obs\n",
    "\n",
    "\n",
    "# COULD drop all observations that don't correspond to \"usable\" districts. but probably best to keep them in the df for now\n",
    "# This would leave us with 2974 election observations, before narrowing it down to winners\n",
    "# elec_df = elec_df[elec_df['usable']==1]"
   ]
  },
  {
   "cell_type": "markdown",
   "metadata": {
    "heading_collapsed": true,
    "hidden": true
   },
   "source": [
    "### Who won, and by how much? Incumbent? Year on year change?\n",
    "\n",
    "end goal - create elec_df variable for time between drought and election or something like that"
   ]
  },
  {
   "cell_type": "code",
   "execution_count": 13,
   "metadata": {
    "hidden": true
   },
   "outputs": [],
   "source": [
    "#voting dict is structured as voting_dict[state][year][district][candidate][votes]\n",
    "\n",
    "def div_by_zero(x,y):\n",
    "    if y!=0:\n",
    "        return x/y\n",
    "    else:\n",
    "        return 0\n",
    "\n",
    "voting_dict = {}\n",
    "for state in set(elec_df['state']):\n",
    "    voting_dict[state] = {}\n",
    "    for year in set(elec_df['year']):\n",
    "        voting_dict[state][year] = {}\n",
    "\n",
    "\n",
    "\n",
    "#do NOT combine following two loops. Otherwise, dict entries are overwritten for every new line that's iterated over\n",
    "for i, row in elec_df.iterrows():\n",
    "    voting_dict[ row['state'] ][ row['year'] ][ row['district'] ] = {}\n",
    "\n",
    "for i, row in elec_df.iterrows():\n",
    "    voting_dict[ row['state'] ][ row['year'] ][ row['district'] ] [row['candidate']] = {'candidatevotes':row['candidatevotes'], 'totalvotes':row['totalvotes'], 'voteshare':div_by_zero(row['candidatevotes'],row['totalvotes'])}\n",
    "\n",
    "    \n",
    "    \n",
    "#find winner of each election\n",
    "for state in voting_dict:\n",
    "    for year in voting_dict[state]:\n",
    "        for district in voting_dict[state][year]:\n",
    "            for candidate in voting_dict[state][year][district]:\n",
    "                if voting_dict[state][year][district][candidate]['voteshare'] == max([voting_dict[state][year][district][can]['voteshare'] for can in voting_dict[state][year][district]]):\n",
    "                    voting_dict[state][year][district][candidate]['winner'] = 1\n",
    "                else:\n",
    "                    voting_dict[state][year][district][candidate]['winner'] = 0\n",
    "                    \n",
    "                    \n",
    "# find change in voting share from last election. also create \"incumbent\" field\n",
    "for state in voting_dict:\n",
    "    for year in voting_dict[state]:\n",
    "        for district in voting_dict[state][year]:\n",
    "            for candidate in voting_dict[state][year][district]:\n",
    "                try: #here I subtract voteshare this year from voteshare in the last election (2 years prior). if this is their first election, var set to nan\n",
    "                    voting_dict[state][year][district][candidate]['votesharediff'] = voting_dict[state][year][district][candidate]['voteshare'] - voting_dict[state][year - 2][district][candidate]['voteshare']\n",
    "                    voting_dict[state][year][district][candidate]['incumbent'] = 1\n",
    "                except:\n",
    "                    voting_dict[state][year][district][candidate]['votesharediff'] = np.nan\n",
    "                    voting_dict[state][year][district][candidate]['incumbent'] = 0\n",
    "                    \n",
    "# find total election turnout\n",
    "for state in voting_dict:\n",
    "    for year in voting_dict[state]:\n",
    "        for district in voting_dict[state][year]:\n",
    "            for candidate in voting_dict[state][year][district]:\n",
    "                voting_dict[state][year][district][candidate]['total turnout'] = sum([voting_dict[state][year][district][can]['totalvotes'] for can in voting_dict[state][year][district]])\n",
    "\n"
   ]
  },
  {
   "cell_type": "markdown",
   "metadata": {
    "hidden": true
   },
   "source": [
    "### Bring \"voting_dict\" info into elec_df"
   ]
  },
  {
   "cell_type": "code",
   "execution_count": 14,
   "metadata": {
    "hidden": true
   },
   "outputs": [],
   "source": [
    "winner = []\n",
    "incumbent = []\n",
    "share_diff = []\n",
    "voteshare = []\n",
    "totalturnout = []\n",
    "\n",
    "for i, row in elec_df.iterrows():\n",
    "    winner.append(voting_dict[row['state']][row['year']][row['district']][row['candidate']]['winner'])\n",
    "    incumbent.append(voting_dict[row['state']][row['year']][row['district']][row['candidate']]['incumbent'])\n",
    "    share_diff.append(voting_dict[row['state']][row['year']][row['district']][row['candidate']]['votesharediff'])\n",
    "    voteshare.append(voting_dict[row['state']][row['year']][row['district']][row['candidate']]['voteshare'])\n",
    "    totalturnout.append(voting_dict[row['state']][row['year']][row['district']][row['candidate']]['totalvotes'])\n",
    "\n",
    "    \n",
    "elec_df['winner'] = winner\n",
    "elec_df['incumbent'] = incumbent\n",
    "elec_df['share_diff'] = share_diff\n",
    "elec_df['voteshare'] = voteshare\n",
    "elec_df['totalturnout'] = totalturnout"
   ]
  },
  {
   "cell_type": "markdown",
   "metadata": {
    "hidden": true
   },
   "source": [
    "### Crucial to drop non-major parties *after* creating \"voting_dict\"\n",
    "\n",
    "Otherwise vote share will be incorrectly totalled"
   ]
  },
  {
   "cell_type": "code",
   "execution_count": 15,
   "metadata": {
    "hidden": true
   },
   "outputs": [],
   "source": [
    "#drop if not Democratic, Republican, or Libertarian candidate\n",
    "elec_df = elec_df[elec_df['party'].isin(['DEMOCRAT','REPUBLICAN', 'LIBERTARIAN'])]"
   ]
  },
  {
   "cell_type": "markdown",
   "metadata": {
    "heading_collapsed": true,
    "hidden": true
   },
   "source": [
    "## Drought Data"
   ]
  },
  {
   "cell_type": "code",
   "execution_count": 16,
   "metadata": {
    "hidden": true
   },
   "outputs": [],
   "source": [
    "# from https://droughtmonitor.unl.edu/Data/DataDownload/ComprehensiveStatistics.aspx\n",
    "# data description here (under \"Excel\") https://droughtmonitor.unl.edu/Data/Metadata.aspx\n",
    "drought_df = pd.read_csv(r\"C:\\Users\\mikha\\OneDrive\\Desktop\\Dropbox\\MIKHAEL NEW\\mikhael school\\Grad School\\Master's\\Term 2 Classes\\544\\Replication\\My Addition\\Drought Data.csv\")"
   ]
  },
  {
   "cell_type": "markdown",
   "metadata": {
    "hidden": true
   },
   "source": [
    "### Create \"year\" var"
   ]
  },
  {
   "cell_type": "code",
   "execution_count": 17,
   "metadata": {
    "hidden": true
   },
   "outputs": [],
   "source": [
    "drought_df['year'] = drought_df['ValidStart'].astype(str).str[:4].astype(int)"
   ]
  },
  {
   "cell_type": "markdown",
   "metadata": {
    "hidden": true
   },
   "source": [
    "### Drop some redundant fields"
   ]
  },
  {
   "cell_type": "code",
   "execution_count": 18,
   "metadata": {
    "hidden": true
   },
   "outputs": [],
   "source": [
    "drought_df.drop(['MapDate', 'FIPS'], axis=1, inplace=True)"
   ]
  },
  {
   "cell_type": "markdown",
   "metadata": {
    "hidden": true
   },
   "source": [
    "### Take yearly averages per county"
   ]
  },
  {
   "cell_type": "code",
   "execution_count": 19,
   "metadata": {
    "hidden": true
   },
   "outputs": [
    {
     "data": {
      "text/html": [
       "<div>\n",
       "<style scoped>\n",
       "    .dataframe tbody tr th:only-of-type {\n",
       "        vertical-align: middle;\n",
       "    }\n",
       "\n",
       "    .dataframe tbody tr th {\n",
       "        vertical-align: top;\n",
       "    }\n",
       "\n",
       "    .dataframe thead th {\n",
       "        text-align: right;\n",
       "    }\n",
       "</style>\n",
       "<table border=\"1\" class=\"dataframe\">\n",
       "  <thead>\n",
       "    <tr style=\"text-align: right;\">\n",
       "      <th></th>\n",
       "      <th></th>\n",
       "      <th></th>\n",
       "      <th>None</th>\n",
       "      <th>D0</th>\n",
       "      <th>D1</th>\n",
       "      <th>D2</th>\n",
       "      <th>D3</th>\n",
       "      <th>D4</th>\n",
       "      <th>StatisticFormatID</th>\n",
       "    </tr>\n",
       "    <tr>\n",
       "      <th>State</th>\n",
       "      <th>County</th>\n",
       "      <th>year</th>\n",
       "      <th></th>\n",
       "      <th></th>\n",
       "      <th></th>\n",
       "      <th></th>\n",
       "      <th></th>\n",
       "      <th></th>\n",
       "      <th></th>\n",
       "    </tr>\n",
       "  </thead>\n",
       "  <tbody>\n",
       "    <tr>\n",
       "      <th rowspan=\"5\" valign=\"top\">AK</th>\n",
       "      <th rowspan=\"5\" valign=\"top\">Aleutians East Borough</th>\n",
       "      <th>2000</th>\n",
       "      <td>99.40</td>\n",
       "      <td>0.60</td>\n",
       "      <td>0.00</td>\n",
       "      <td>0.00</td>\n",
       "      <td>0.00</td>\n",
       "      <td>0.00</td>\n",
       "      <td>1</td>\n",
       "    </tr>\n",
       "    <tr>\n",
       "      <th>2001</th>\n",
       "      <td>100.00</td>\n",
       "      <td>0.00</td>\n",
       "      <td>0.00</td>\n",
       "      <td>0.00</td>\n",
       "      <td>0.00</td>\n",
       "      <td>0.00</td>\n",
       "      <td>1</td>\n",
       "    </tr>\n",
       "    <tr>\n",
       "      <th>2002</th>\n",
       "      <td>100.00</td>\n",
       "      <td>0.00</td>\n",
       "      <td>0.00</td>\n",
       "      <td>0.00</td>\n",
       "      <td>0.00</td>\n",
       "      <td>0.00</td>\n",
       "      <td>1</td>\n",
       "    </tr>\n",
       "    <tr>\n",
       "      <th>2003</th>\n",
       "      <td>100.00</td>\n",
       "      <td>0.00</td>\n",
       "      <td>0.00</td>\n",
       "      <td>0.00</td>\n",
       "      <td>0.00</td>\n",
       "      <td>0.00</td>\n",
       "      <td>1</td>\n",
       "    </tr>\n",
       "    <tr>\n",
       "      <th>2004</th>\n",
       "      <td>100.00</td>\n",
       "      <td>0.00</td>\n",
       "      <td>0.00</td>\n",
       "      <td>0.00</td>\n",
       "      <td>0.00</td>\n",
       "      <td>0.00</td>\n",
       "      <td>1</td>\n",
       "    </tr>\n",
       "    <tr>\n",
       "      <th>...</th>\n",
       "      <th>...</th>\n",
       "      <th>...</th>\n",
       "      <td>...</td>\n",
       "      <td>...</td>\n",
       "      <td>...</td>\n",
       "      <td>...</td>\n",
       "      <td>...</td>\n",
       "      <td>...</td>\n",
       "      <td>...</td>\n",
       "    </tr>\n",
       "    <tr>\n",
       "      <th rowspan=\"5\" valign=\"top\">WY</th>\n",
       "      <th rowspan=\"5\" valign=\"top\">Weston County</th>\n",
       "      <th>2017</th>\n",
       "      <td>30.26</td>\n",
       "      <td>69.74</td>\n",
       "      <td>32.44</td>\n",
       "      <td>1.41</td>\n",
       "      <td>0.00</td>\n",
       "      <td>0.00</td>\n",
       "      <td>1</td>\n",
       "    </tr>\n",
       "    <tr>\n",
       "      <th>2018</th>\n",
       "      <td>88.22</td>\n",
       "      <td>11.78</td>\n",
       "      <td>0.00</td>\n",
       "      <td>0.00</td>\n",
       "      <td>0.00</td>\n",
       "      <td>0.00</td>\n",
       "      <td>1</td>\n",
       "    </tr>\n",
       "    <tr>\n",
       "      <th>2019</th>\n",
       "      <td>99.98</td>\n",
       "      <td>0.02</td>\n",
       "      <td>0.00</td>\n",
       "      <td>0.00</td>\n",
       "      <td>0.00</td>\n",
       "      <td>0.00</td>\n",
       "      <td>1</td>\n",
       "    </tr>\n",
       "    <tr>\n",
       "      <th>2020</th>\n",
       "      <td>40.38</td>\n",
       "      <td>59.62</td>\n",
       "      <td>48.60</td>\n",
       "      <td>1.99</td>\n",
       "      <td>0.00</td>\n",
       "      <td>0.00</td>\n",
       "      <td>1</td>\n",
       "    </tr>\n",
       "    <tr>\n",
       "      <th>2021</th>\n",
       "      <td>0.00</td>\n",
       "      <td>100.00</td>\n",
       "      <td>100.00</td>\n",
       "      <td>53.55</td>\n",
       "      <td>0.00</td>\n",
       "      <td>0.00</td>\n",
       "      <td>1</td>\n",
       "    </tr>\n",
       "  </tbody>\n",
       "</table>\n",
       "<p>70818 rows × 7 columns</p>\n",
       "</div>"
      ],
      "text/plain": [
       "                                    None     D0     D1    D2   D3   D4  \\\n",
       "State County                 year                                        \n",
       "AK    Aleutians East Borough 2000  99.40   0.60   0.00  0.00 0.00 0.00   \n",
       "                             2001 100.00   0.00   0.00  0.00 0.00 0.00   \n",
       "                             2002 100.00   0.00   0.00  0.00 0.00 0.00   \n",
       "                             2003 100.00   0.00   0.00  0.00 0.00 0.00   \n",
       "                             2004 100.00   0.00   0.00  0.00 0.00 0.00   \n",
       "...                                  ...    ...    ...   ...  ...  ...   \n",
       "WY    Weston County          2017  30.26  69.74  32.44  1.41 0.00 0.00   \n",
       "                             2018  88.22  11.78   0.00  0.00 0.00 0.00   \n",
       "                             2019  99.98   0.02   0.00  0.00 0.00 0.00   \n",
       "                             2020  40.38  59.62  48.60  1.99 0.00 0.00   \n",
       "                             2021   0.00 100.00 100.00 53.55 0.00 0.00   \n",
       "\n",
       "                                   StatisticFormatID  \n",
       "State County                 year                     \n",
       "AK    Aleutians East Borough 2000                  1  \n",
       "                             2001                  1  \n",
       "                             2002                  1  \n",
       "                             2003                  1  \n",
       "                             2004                  1  \n",
       "...                                              ...  \n",
       "WY    Weston County          2017                  1  \n",
       "                             2018                  1  \n",
       "                             2019                  1  \n",
       "                             2020                  1  \n",
       "                             2021                  1  \n",
       "\n",
       "[70818 rows x 7 columns]"
      ]
     },
     "execution_count": 19,
     "metadata": {},
     "output_type": "execute_result"
    }
   ],
   "source": [
    "drought_df = drought_df.groupby(['State', 'County', 'year']).mean()\n",
    "drought_df"
   ]
  },
  {
   "cell_type": "markdown",
   "metadata": {},
   "source": [
    "# Geo Data Import and Cleaning"
   ]
  },
  {
   "cell_type": "code",
   "execution_count": null,
   "metadata": {},
   "outputs": [],
   "source": [
    "import geopandas as gpd\n",
    "import shapely\n",
    "from shapely.geometry import Polygon\n",
    "from descartes import PolygonPatch"
   ]
  },
  {
   "cell_type": "markdown",
   "metadata": {
    "heading_collapsed": true
   },
   "source": [
    "## US County Shapefiles\n",
    "\n",
    "from https://www.census.gov/geographies/mapping-files/time-series/geo/carto-boundary-file.html  \n",
    "under \"County\"  \n",
    "filename \"cb_2018_us_county_500k.zip\"  "
   ]
  },
  {
   "cell_type": "code",
   "execution_count": 51,
   "metadata": {
    "hidden": true
   },
   "outputs": [],
   "source": [
    "county_shp = gpd.read_file(r\"C:\\Users\\mikha\\OneDrive\\Desktop\\Dropbox\\MIKHAEL NEW\\mikhael school\\Grad School\\Master's\\Term 2 Classes\\544\\Replication\\My Addition\\County Shapefiles (2018)\\cb_2018_us_county_500k.shp\")"
   ]
  },
  {
   "cell_type": "code",
   "execution_count": 71,
   "metadata": {
    "hidden": true
   },
   "outputs": [],
   "source": [
    "county_shp['STATEFP'] = county_shp['STATEFP'].astype('int64')\n",
    "county_shp['COUNTYFP'] = county_shp['COUNTYFP'].astype('int64')\n",
    "county_shp['COUNTYNS'] = county_shp['COUNTYNS'].astype('int64')\n",
    "county_shp['GEOID'] = county_shp['GEOID'].astype('int64')\n",
    "county_shp['ALAND'] = county_shp['ALAND'].astype('int64')\n",
    "county_shp['AWATER'] = county_shp['AWATER'].astype('int64')\n",
    "\n",
    "#drop DC - it doesn't have any congressional rep's\n",
    "county_shp = county_shp[county_shp['STATEFP'] != 11]"
   ]
  },
  {
   "cell_type": "code",
   "execution_count": 72,
   "metadata": {
    "hidden": true,
    "scrolled": true
   },
   "outputs": [
    {
     "data": {
      "text/html": [
       "<div>\n",
       "<style scoped>\n",
       "    .dataframe tbody tr th:only-of-type {\n",
       "        vertical-align: middle;\n",
       "    }\n",
       "\n",
       "    .dataframe tbody tr th {\n",
       "        vertical-align: top;\n",
       "    }\n",
       "\n",
       "    .dataframe thead th {\n",
       "        text-align: right;\n",
       "    }\n",
       "</style>\n",
       "<table border=\"1\" class=\"dataframe\">\n",
       "  <thead>\n",
       "    <tr style=\"text-align: right;\">\n",
       "      <th></th>\n",
       "      <th>STATEFP</th>\n",
       "      <th>COUNTYFP</th>\n",
       "      <th>COUNTYNS</th>\n",
       "      <th>AFFGEOID</th>\n",
       "      <th>GEOID</th>\n",
       "      <th>NAME</th>\n",
       "      <th>LSAD</th>\n",
       "      <th>ALAND</th>\n",
       "      <th>AWATER</th>\n",
       "      <th>geometry</th>\n",
       "    </tr>\n",
       "  </thead>\n",
       "  <tbody>\n",
       "    <tr>\n",
       "      <th>0</th>\n",
       "      <td>21</td>\n",
       "      <td>7</td>\n",
       "      <td>516850</td>\n",
       "      <td>0500000US21007</td>\n",
       "      <td>21007</td>\n",
       "      <td>Ballard</td>\n",
       "      <td>06</td>\n",
       "      <td>639387454</td>\n",
       "      <td>69473325</td>\n",
       "      <td>POLYGON ((-89.18137 37.04630, -89.17938 37.05301, -89.17572 37.06207, -89.17188 37.06818, -89.16809 37.07422, -89.16703 37.07536, -89.15450 37.08891, -89.15431 37.08900, -89.15129 37.09049, -89.1...</td>\n",
       "    </tr>\n",
       "    <tr>\n",
       "      <th>1</th>\n",
       "      <td>21</td>\n",
       "      <td>17</td>\n",
       "      <td>516855</td>\n",
       "      <td>0500000US21017</td>\n",
       "      <td>21017</td>\n",
       "      <td>Bourbon</td>\n",
       "      <td>06</td>\n",
       "      <td>750439351</td>\n",
       "      <td>4829777</td>\n",
       "      <td>POLYGON ((-84.44266 38.28324, -84.44114 38.28373, -84.43738 38.28361, -84.43305 38.28030, -84.43015 38.28046, -84.42900 38.27967, -84.42469 38.28112, -84.42159 38.28388, -84.42168 38.28556, -84.4...</td>\n",
       "    </tr>\n",
       "    <tr>\n",
       "      <th>2</th>\n",
       "      <td>21</td>\n",
       "      <td>31</td>\n",
       "      <td>516862</td>\n",
       "      <td>0500000US21031</td>\n",
       "      <td>21031</td>\n",
       "      <td>Butler</td>\n",
       "      <td>06</td>\n",
       "      <td>1103571974</td>\n",
       "      <td>13943044</td>\n",
       "      <td>POLYGON ((-86.94486 37.07341, -86.94346 37.07484, -86.94291 37.07675, -86.94109 37.07725, -86.94077 37.07851, -86.93844 37.07768, -86.93714 37.07959, -86.93458 37.07855, -86.92776 37.07898, -86.9...</td>\n",
       "    </tr>\n",
       "    <tr>\n",
       "      <th>3</th>\n",
       "      <td>21</td>\n",
       "      <td>65</td>\n",
       "      <td>516879</td>\n",
       "      <td>0500000US21065</td>\n",
       "      <td>21065</td>\n",
       "      <td>Estill</td>\n",
       "      <td>06</td>\n",
       "      <td>655509930</td>\n",
       "      <td>6516335</td>\n",
       "      <td>POLYGON ((-84.12662 37.64540, -84.12483 37.64613, -84.11904 37.64717, -84.12064 37.64887, -84.11896 37.64888, -84.11787 37.64807, -84.11652 37.64890, -84.11582 37.65082, -84.11300 37.65081, -84.1...</td>\n",
       "    </tr>\n",
       "    <tr>\n",
       "      <th>4</th>\n",
       "      <td>21</td>\n",
       "      <td>69</td>\n",
       "      <td>516881</td>\n",
       "      <td>0500000US21069</td>\n",
       "      <td>21069</td>\n",
       "      <td>Fleming</td>\n",
       "      <td>06</td>\n",
       "      <td>902727151</td>\n",
       "      <td>7182793</td>\n",
       "      <td>POLYGON ((-83.98428 38.44549, -83.98246 38.45003, -83.98282 38.45182, -83.98139 38.45317, -83.97681 38.45433, -83.97610 38.45484, -83.97310 38.45913, -83.97203 38.46154, -83.97026 38.46382, -83.9...</td>\n",
       "    </tr>\n",
       "    <tr>\n",
       "      <th>...</th>\n",
       "      <td>...</td>\n",
       "      <td>...</td>\n",
       "      <td>...</td>\n",
       "      <td>...</td>\n",
       "      <td>...</td>\n",
       "      <td>...</td>\n",
       "      <td>...</td>\n",
       "      <td>...</td>\n",
       "      <td>...</td>\n",
       "      <td>...</td>\n",
       "    </tr>\n",
       "    <tr>\n",
       "      <th>3228</th>\n",
       "      <td>31</td>\n",
       "      <td>73</td>\n",
       "      <td>835858</td>\n",
       "      <td>0500000US31073</td>\n",
       "      <td>31073</td>\n",
       "      <td>Gosper</td>\n",
       "      <td>06</td>\n",
       "      <td>1186616237</td>\n",
       "      <td>11831826</td>\n",
       "      <td>POLYGON ((-100.09510 40.43866, -100.08937 40.43870, -100.08602 40.43895, -100.07574 40.43850, -100.04412 40.43866, -100.03776 40.43854, -100.02843 40.43849, -100.01885 40.43843, -99.98119 40.4382...</td>\n",
       "    </tr>\n",
       "    <tr>\n",
       "      <th>3229</th>\n",
       "      <td>39</td>\n",
       "      <td>75</td>\n",
       "      <td>1074050</td>\n",
       "      <td>0500000US39075</td>\n",
       "      <td>39075</td>\n",
       "      <td>Holmes</td>\n",
       "      <td>06</td>\n",
       "      <td>1094405866</td>\n",
       "      <td>3695230</td>\n",
       "      <td>POLYGON ((-82.22066 40.66758, -82.19327 40.66751, -82.16155 40.66799, -82.15637 40.66794, -82.15476 40.66804, -82.14784 40.66809, -82.12620 40.66823, -82.10673 40.66812, -82.10677 40.66791, -82.0...</td>\n",
       "    </tr>\n",
       "    <tr>\n",
       "      <th>3230</th>\n",
       "      <td>48</td>\n",
       "      <td>171</td>\n",
       "      <td>1383871</td>\n",
       "      <td>0500000US48171</td>\n",
       "      <td>48171</td>\n",
       "      <td>Gillespie</td>\n",
       "      <td>06</td>\n",
       "      <td>2740719114</td>\n",
       "      <td>9012764</td>\n",
       "      <td>POLYGON ((-99.30400 30.49983, -99.28234 30.49967, -99.28158 30.49939, -99.07866 30.49849, -99.02748 30.49822, -99.01117 30.49813, -99.00033 30.49808, -98.99575 30.49839, -98.96423 30.49848, -98.8...</td>\n",
       "    </tr>\n",
       "    <tr>\n",
       "      <th>3231</th>\n",
       "      <td>55</td>\n",
       "      <td>79</td>\n",
       "      <td>1581100</td>\n",
       "      <td>0500000US55079</td>\n",
       "      <td>55079</td>\n",
       "      <td>Milwaukee</td>\n",
       "      <td>06</td>\n",
       "      <td>625440563</td>\n",
       "      <td>2455383635</td>\n",
       "      <td>POLYGON ((-88.06959 42.86726, -88.06959 42.87288, -88.06956 42.89826, -88.06959 42.92195, -88.06959 42.92381, -88.06950 42.92995, -88.06938 42.94453, -88.06929 42.95237, -88.06926 42.95766, -88.0...</td>\n",
       "    </tr>\n",
       "    <tr>\n",
       "      <th>3232</th>\n",
       "      <td>26</td>\n",
       "      <td>139</td>\n",
       "      <td>1623012</td>\n",
       "      <td>0500000US26139</td>\n",
       "      <td>26139</td>\n",
       "      <td>Ottawa</td>\n",
       "      <td>06</td>\n",
       "      <td>1459502408</td>\n",
       "      <td>2765830983</td>\n",
       "      <td>POLYGON ((-86.26432 43.11830, -86.25103 43.11820, -86.21527 43.11787, -86.21006 43.11780, -86.20526 43.11776, -86.18016 43.11768, -86.16818 43.11758, -86.16627 43.11756, -86.14617 43.11739, -86.1...</td>\n",
       "    </tr>\n",
       "  </tbody>\n",
       "</table>\n",
       "<p>3232 rows × 10 columns</p>\n",
       "</div>"
      ],
      "text/plain": [
       "      STATEFP  COUNTYFP  COUNTYNS        AFFGEOID  GEOID       NAME LSAD  \\\n",
       "0          21         7    516850  0500000US21007  21007    Ballard   06   \n",
       "1          21        17    516855  0500000US21017  21017    Bourbon   06   \n",
       "2          21        31    516862  0500000US21031  21031     Butler   06   \n",
       "3          21        65    516879  0500000US21065  21065     Estill   06   \n",
       "4          21        69    516881  0500000US21069  21069    Fleming   06   \n",
       "...       ...       ...       ...             ...    ...        ...  ...   \n",
       "3228       31        73    835858  0500000US31073  31073     Gosper   06   \n",
       "3229       39        75   1074050  0500000US39075  39075     Holmes   06   \n",
       "3230       48       171   1383871  0500000US48171  48171  Gillespie   06   \n",
       "3231       55        79   1581100  0500000US55079  55079  Milwaukee   06   \n",
       "3232       26       139   1623012  0500000US26139  26139     Ottawa   06   \n",
       "\n",
       "           ALAND      AWATER  \\\n",
       "0      639387454    69473325   \n",
       "1      750439351     4829777   \n",
       "2     1103571974    13943044   \n",
       "3      655509930     6516335   \n",
       "4      902727151     7182793   \n",
       "...          ...         ...   \n",
       "3228  1186616237    11831826   \n",
       "3229  1094405866     3695230   \n",
       "3230  2740719114     9012764   \n",
       "3231   625440563  2455383635   \n",
       "3232  1459502408  2765830983   \n",
       "\n",
       "                                                                                                                                                                                                    geometry  \n",
       "0     POLYGON ((-89.18137 37.04630, -89.17938 37.05301, -89.17572 37.06207, -89.17188 37.06818, -89.16809 37.07422, -89.16703 37.07536, -89.15450 37.08891, -89.15431 37.08900, -89.15129 37.09049, -89.1...  \n",
       "1     POLYGON ((-84.44266 38.28324, -84.44114 38.28373, -84.43738 38.28361, -84.43305 38.28030, -84.43015 38.28046, -84.42900 38.27967, -84.42469 38.28112, -84.42159 38.28388, -84.42168 38.28556, -84.4...  \n",
       "2     POLYGON ((-86.94486 37.07341, -86.94346 37.07484, -86.94291 37.07675, -86.94109 37.07725, -86.94077 37.07851, -86.93844 37.07768, -86.93714 37.07959, -86.93458 37.07855, -86.92776 37.07898, -86.9...  \n",
       "3     POLYGON ((-84.12662 37.64540, -84.12483 37.64613, -84.11904 37.64717, -84.12064 37.64887, -84.11896 37.64888, -84.11787 37.64807, -84.11652 37.64890, -84.11582 37.65082, -84.11300 37.65081, -84.1...  \n",
       "4     POLYGON ((-83.98428 38.44549, -83.98246 38.45003, -83.98282 38.45182, -83.98139 38.45317, -83.97681 38.45433, -83.97610 38.45484, -83.97310 38.45913, -83.97203 38.46154, -83.97026 38.46382, -83.9...  \n",
       "...                                                                                                                                                                                                      ...  \n",
       "3228  POLYGON ((-100.09510 40.43866, -100.08937 40.43870, -100.08602 40.43895, -100.07574 40.43850, -100.04412 40.43866, -100.03776 40.43854, -100.02843 40.43849, -100.01885 40.43843, -99.98119 40.4382...  \n",
       "3229  POLYGON ((-82.22066 40.66758, -82.19327 40.66751, -82.16155 40.66799, -82.15637 40.66794, -82.15476 40.66804, -82.14784 40.66809, -82.12620 40.66823, -82.10673 40.66812, -82.10677 40.66791, -82.0...  \n",
       "3230  POLYGON ((-99.30400 30.49983, -99.28234 30.49967, -99.28158 30.49939, -99.07866 30.49849, -99.02748 30.49822, -99.01117 30.49813, -99.00033 30.49808, -98.99575 30.49839, -98.96423 30.49848, -98.8...  \n",
       "3231  POLYGON ((-88.06959 42.86726, -88.06959 42.87288, -88.06956 42.89826, -88.06959 42.92195, -88.06959 42.92381, -88.06950 42.92995, -88.06938 42.94453, -88.06929 42.95237, -88.06926 42.95766, -88.0...  \n",
       "3232  POLYGON ((-86.26432 43.11830, -86.25103 43.11820, -86.21527 43.11787, -86.21006 43.11780, -86.20526 43.11776, -86.18016 43.11768, -86.16818 43.11758, -86.16627 43.11756, -86.14617 43.11739, -86.1...  \n",
       "\n",
       "[3232 rows x 10 columns]"
      ]
     },
     "execution_count": 72,
     "metadata": {},
     "output_type": "execute_result"
    }
   ],
   "source": [
    "county_shp"
   ]
  },
  {
   "cell_type": "markdown",
   "metadata": {
    "hidden": true
   },
   "source": [
    "### Convert county_shp['STATEFP'] to state"
   ]
  },
  {
   "cell_type": "code",
   "execution_count": 69,
   "metadata": {
    "hidden": true
   },
   "outputs": [],
   "source": [
    "state_to_fips = pd.read_csv(r\"C:\\Users\\mikha\\OneDrive\\Desktop\\Dropbox\\MIKHAEL NEW\\mikhael school\\Grad School\\Master's\\Term 2 Classes\\544\\Replication\\My Addition\\State to FIPS Conversion.csv\")"
   ]
  },
  {
   "cell_type": "code",
   "execution_count": 58,
   "metadata": {
    "hidden": true
   },
   "outputs": [],
   "source": [
    "# create a dictionary mapping FIPS codes to US States\n",
    "\n",
    "fips_to_state_dict = {}\n",
    "\n",
    "for i,row in state_to_fips.iterrows():\n",
    "    fips_to_state_dict[row['FIPS']] = row['State']"
   ]
  },
  {
   "cell_type": "code",
   "execution_count": 73,
   "metadata": {
    "hidden": true
   },
   "outputs": [
    {
     "name": "stderr",
     "output_type": "stream",
     "text": [
      "C:\\Users\\mikha\\Anaconda\\envs\\geopandas_env\\lib\\site-packages\\geopandas\\geodataframe.py:853: SettingWithCopyWarning: \n",
      "A value is trying to be set on a copy of a slice from a DataFrame.\n",
      "Try using .loc[row_indexer,col_indexer] = value instead\n",
      "\n",
      "See the caveats in the documentation: https://pandas.pydata.org/pandas-docs/stable/user_guide/indexing.html#returning-a-view-versus-a-copy\n",
      "  super(GeoDataFrame, self).__setitem__(key, value)\n"
     ]
    }
   ],
   "source": [
    "county_shp['state'] = county_shp['STATEFP'].apply(lambda x: fips_to_state_dict[x])"
   ]
  },
  {
   "cell_type": "markdown",
   "metadata": {
    "heading_collapsed": true
   },
   "source": [
    "## Congressional District Shapefiles\n",
    "\n",
    "source: http://cdmaps.polisci.ucla.edu/"
   ]
  },
  {
   "cell_type": "code",
   "execution_count": 36,
   "metadata": {
    "hidden": true
   },
   "outputs": [],
   "source": [
    "congress_2015_2017 = gpd.read_file(r\"C:\\Users\\mikha\\OneDrive\\Desktop\\Dropbox\\MIKHAEL NEW\\mikhael school\\Grad School\\Master's\\Term 2 Classes\\544\\Replication\\My Addition\\Congressional District Shapefiles\\114th - J 2015 - J 2017\\districtShapes\\districts114.shp\")\n",
    "congress_2013_2014 = gpd.read_file(r\"C:\\Users\\mikha\\OneDrive\\Desktop\\Dropbox\\MIKHAEL NEW\\mikhael school\\Grad School\\Master's\\Term 2 Classes\\544\\Replication\\My Addition\\Congressional District Shapefiles\\113th - J 2013 to D 2014\\districtShapes\\districts113.shp\")\n",
    "congress_2011_2013 = gpd.read_file(r\"C:\\Users\\mikha\\OneDrive\\Desktop\\Dropbox\\MIKHAEL NEW\\mikhael school\\Grad School\\Master's\\Term 2 Classes\\544\\Replication\\My Addition\\Congressional District Shapefiles\\112th - J 2011 - J 2013\\districtShapes\\districts112.shp\")\n",
    "congress_2009_2010 = gpd.read_file(r\"C:\\Users\\mikha\\OneDrive\\Desktop\\Dropbox\\MIKHAEL NEW\\mikhael school\\Grad School\\Master's\\Term 2 Classes\\544\\Replication\\My Addition\\Congressional District Shapefiles\\111th - J 2009 - D 2010\\districtShapes\\districts111.shp\")\n",
    "congress_2007_2009 = gpd.read_file(r\"C:\\Users\\mikha\\OneDrive\\Desktop\\Dropbox\\MIKHAEL NEW\\mikhael school\\Grad School\\Master's\\Term 2 Classes\\544\\Replication\\My Addition\\Congressional District Shapefiles\\110th - J 2007 - J 2009\\districtShapes\\districts110.shp\")\n",
    "congress_2005_2006 = gpd.read_file(r\"C:\\Users\\mikha\\OneDrive\\Desktop\\Dropbox\\MIKHAEL NEW\\mikhael school\\Grad School\\Master's\\Term 2 Classes\\544\\Replication\\My Addition\\Congressional District Shapefiles\\109th - J 2005 - D 2006\\districtShapes\\districts109.shp\")\n",
    "congress_2003_2005 = gpd.read_file(r\"C:\\Users\\mikha\\OneDrive\\Desktop\\Dropbox\\MIKHAEL NEW\\mikhael school\\Grad School\\Master's\\Term 2 Classes\\544\\Replication\\My Addition\\Congressional District Shapefiles\\108th -\\districts108.shp\")\n",
    "congress_2001_2002 = gpd.read_file(r\"C:\\Users\\mikha\\OneDrive\\Desktop\\Dropbox\\MIKHAEL NEW\\mikhael school\\Grad School\\Master's\\Term 2 Classes\\544\\Replication\\My Addition\\Congressional District Shapefiles\\107th - J 2001 - N 2002\\districtShapes\\districts107.shp\")\n",
    "congress_1999_2000 = gpd.read_file(r\"C:\\Users\\mikha\\OneDrive\\Desktop\\Dropbox\\MIKHAEL NEW\\mikhael school\\Grad School\\Master's\\Term 2 Classes\\544\\Replication\\My Addition\\Congressional District Shapefiles\\106th - J 1999 - D 2000\\districtShapes\\districts106.shp\")\n",
    "congress_1997_1998 = gpd.read_file(r\"C:\\Users\\mikha\\OneDrive\\Desktop\\Dropbox\\MIKHAEL NEW\\mikhael school\\Grad School\\Master's\\Term 2 Classes\\544\\Replication\\My Addition\\Congressional District Shapefiles\\105th - J 1997 - D 1998\\districtShapes\\districts105.shp\")"
   ]
  },
  {
   "cell_type": "code",
   "execution_count": 39,
   "metadata": {
    "hidden": true
   },
   "outputs": [
    {
     "data": {
      "text/html": [
       "<div>\n",
       "<style scoped>\n",
       "    .dataframe tbody tr th:only-of-type {\n",
       "        vertical-align: middle;\n",
       "    }\n",
       "\n",
       "    .dataframe tbody tr th {\n",
       "        vertical-align: top;\n",
       "    }\n",
       "\n",
       "    .dataframe thead th {\n",
       "        text-align: right;\n",
       "    }\n",
       "</style>\n",
       "<table border=\"1\" class=\"dataframe\">\n",
       "  <thead>\n",
       "    <tr style=\"text-align: right;\">\n",
       "      <th></th>\n",
       "      <th>STATENAME</th>\n",
       "      <th>ID</th>\n",
       "      <th>DISTRICT</th>\n",
       "      <th>STARTCONG</th>\n",
       "      <th>ENDCONG</th>\n",
       "      <th>DISTRICTSI</th>\n",
       "      <th>COUNTY</th>\n",
       "      <th>PAGE</th>\n",
       "      <th>LAW</th>\n",
       "      <th>NOTE</th>\n",
       "      <th>BESTDEC</th>\n",
       "      <th>RNOTE</th>\n",
       "      <th>FROMCOUNTY</th>\n",
       "      <th>LASTCHANGE</th>\n",
       "      <th>FINALNOTE</th>\n",
       "      <th>geometry</th>\n",
       "    </tr>\n",
       "  </thead>\n",
       "  <tbody>\n",
       "    <tr>\n",
       "      <th>0</th>\n",
       "      <td>California</td>\n",
       "      <td>006103107026</td>\n",
       "      <td>26</td>\n",
       "      <td>103</td>\n",
       "      <td>107</td>\n",
       "      <td>None</td>\n",
       "      <td>None</td>\n",
       "      <td>None</td>\n",
       "      <td>None</td>\n",
       "      <td>None</td>\n",
       "      <td>None</td>\n",
       "      <td>None</td>\n",
       "      <td>F</td>\n",
       "      <td>2016-05-29 16:44:10.857626</td>\n",
       "      <td>{\"From US Census website\"}</td>\n",
       "      <td>POLYGON ((-118.50746 34.33478, -118.50661 34.33528, -118.50542 34.33610, -118.50382 34.33670, -118.49345 34.32981, -118.48020 34.32984, -118.46902 34.32990, -118.46098 34.32997, -118.45822 34.330...</td>\n",
       "    </tr>\n",
       "    <tr>\n",
       "      <th>1</th>\n",
       "      <td>California</td>\n",
       "      <td>006103107029</td>\n",
       "      <td>29</td>\n",
       "      <td>103</td>\n",
       "      <td>107</td>\n",
       "      <td>None</td>\n",
       "      <td>None</td>\n",
       "      <td>None</td>\n",
       "      <td>None</td>\n",
       "      <td>None</td>\n",
       "      <td>None</td>\n",
       "      <td>None</td>\n",
       "      <td>F</td>\n",
       "      <td>2016-05-29 16:44:10.857626</td>\n",
       "      <td>{\"From US Census website\"}</td>\n",
       "      <td>POLYGON ((-118.35401 34.16121, -118.35311 34.16111, -118.35221 34.15911, -118.35181 34.15821, -118.35161 34.15761, -118.34965 34.15312, -118.34821 34.14961, -118.34651 34.14561, -118.34511 34.142...</td>\n",
       "    </tr>\n",
       "    <tr>\n",
       "      <th>2</th>\n",
       "      <td>California</td>\n",
       "      <td>006103107030</td>\n",
       "      <td>30</td>\n",
       "      <td>103</td>\n",
       "      <td>107</td>\n",
       "      <td>None</td>\n",
       "      <td>None</td>\n",
       "      <td>None</td>\n",
       "      <td>None</td>\n",
       "      <td>None</td>\n",
       "      <td>None</td>\n",
       "      <td>None</td>\n",
       "      <td>F</td>\n",
       "      <td>2016-05-29 16:44:10.857626</td>\n",
       "      <td>{\"From US Census website\"}</td>\n",
       "      <td>POLYGON ((-118.18398 34.14920, -118.18465 34.14599, -118.18458 34.14579, -118.18401 34.14511, -118.18344 34.14466, -118.18241 34.14383, -118.18201 34.14351, -118.18205 34.14342, -118.18209 34.143...</td>\n",
       "    </tr>\n",
       "    <tr>\n",
       "      <th>3</th>\n",
       "      <td>Florida</td>\n",
       "      <td>012105107013</td>\n",
       "      <td>13</td>\n",
       "      <td>105</td>\n",
       "      <td>107</td>\n",
       "      <td>None</td>\n",
       "      <td>None</td>\n",
       "      <td>None</td>\n",
       "      <td>None</td>\n",
       "      <td>None</td>\n",
       "      <td>None</td>\n",
       "      <td>None</td>\n",
       "      <td>F</td>\n",
       "      <td>2016-05-29 16:44:10.857626</td>\n",
       "      <td>{\"From US Census website\"}</td>\n",
       "      <td>MULTIPOLYGON (((-82.42332 27.78074, -82.42316 27.78092, -82.42258 27.78147, -82.41886 27.77809, -82.41548 27.77634, -82.40935 27.77478, -82.40597 27.77446, -82.40087 27.77439, -82.40081 27.77720,...</td>\n",
       "    </tr>\n",
       "    <tr>\n",
       "      <th>4</th>\n",
       "      <td>Florida</td>\n",
       "      <td>012105107014</td>\n",
       "      <td>14</td>\n",
       "      <td>105</td>\n",
       "      <td>107</td>\n",
       "      <td>None</td>\n",
       "      <td>None</td>\n",
       "      <td>None</td>\n",
       "      <td>None</td>\n",
       "      <td>None</td>\n",
       "      <td>None</td>\n",
       "      <td>None</td>\n",
       "      <td>F</td>\n",
       "      <td>2016-05-29 16:44:10.857626</td>\n",
       "      <td>{\"From US Census website\"}</td>\n",
       "      <td>MULTIPOLYGON (((-82.04014 27.03202, -81.99692 27.03157, -81.99170 27.03337, -81.99112 27.03357, -81.98613 27.03529, -81.96578 27.03485, -81.95946 27.03485, -81.95900 27.03494, -81.77186 27.03392,...</td>\n",
       "    </tr>\n",
       "  </tbody>\n",
       "</table>\n",
       "</div>"
      ],
      "text/plain": [
       "    STATENAME            ID DISTRICT STARTCONG ENDCONG DISTRICTSI COUNTY  \\\n",
       "0  California  006103107026       26       103     107       None   None   \n",
       "1  California  006103107029       29       103     107       None   None   \n",
       "2  California  006103107030       30       103     107       None   None   \n",
       "3     Florida  012105107013       13       105     107       None   None   \n",
       "4     Florida  012105107014       14       105     107       None   None   \n",
       "\n",
       "   PAGE   LAW  NOTE BESTDEC RNOTE FROMCOUNTY                  LASTCHANGE  \\\n",
       "0  None  None  None    None  None          F  2016-05-29 16:44:10.857626   \n",
       "1  None  None  None    None  None          F  2016-05-29 16:44:10.857626   \n",
       "2  None  None  None    None  None          F  2016-05-29 16:44:10.857626   \n",
       "3  None  None  None    None  None          F  2016-05-29 16:44:10.857626   \n",
       "4  None  None  None    None  None          F  2016-05-29 16:44:10.857626   \n",
       "\n",
       "                    FINALNOTE  \\\n",
       "0  {\"From US Census website\"}   \n",
       "1  {\"From US Census website\"}   \n",
       "2  {\"From US Census website\"}   \n",
       "3  {\"From US Census website\"}   \n",
       "4  {\"From US Census website\"}   \n",
       "\n",
       "                                                                                                                                                                                                 geometry  \n",
       "0  POLYGON ((-118.50746 34.33478, -118.50661 34.33528, -118.50542 34.33610, -118.50382 34.33670, -118.49345 34.32981, -118.48020 34.32984, -118.46902 34.32990, -118.46098 34.32997, -118.45822 34.330...  \n",
       "1  POLYGON ((-118.35401 34.16121, -118.35311 34.16111, -118.35221 34.15911, -118.35181 34.15821, -118.35161 34.15761, -118.34965 34.15312, -118.34821 34.14961, -118.34651 34.14561, -118.34511 34.142...  \n",
       "2  POLYGON ((-118.18398 34.14920, -118.18465 34.14599, -118.18458 34.14579, -118.18401 34.14511, -118.18344 34.14466, -118.18241 34.14383, -118.18201 34.14351, -118.18205 34.14342, -118.18209 34.143...  \n",
       "3  MULTIPOLYGON (((-82.42332 27.78074, -82.42316 27.78092, -82.42258 27.78147, -82.41886 27.77809, -82.41548 27.77634, -82.40935 27.77478, -82.40597 27.77446, -82.40087 27.77439, -82.40081 27.77720,...  \n",
       "4  MULTIPOLYGON (((-82.04014 27.03202, -81.99692 27.03157, -81.99170 27.03337, -81.99112 27.03357, -81.98613 27.03529, -81.96578 27.03485, -81.95946 27.03485, -81.95900 27.03494, -81.77186 27.03392,...  "
      ]
     },
     "execution_count": 39,
     "metadata": {},
     "output_type": "execute_result"
    }
   ],
   "source": [
    "congress_2001_2002.head()"
   ]
  },
  {
   "cell_type": "markdown",
   "metadata": {
    "heading_collapsed": true
   },
   "source": [
    "## County boundary changes"
   ]
  },
  {
   "cell_type": "code",
   "execution_count": 43,
   "metadata": {
    "hidden": true
   },
   "outputs": [],
   "source": [
    "county_changes_shp = gpd.read_file(r\"C:\\Users\\mikha\\OneDrive\\Desktop\\Dropbox\\MIKHAEL NEW\\mikhael school\\Grad School\\Master's\\Term 2 Classes\\544\\Replication\\My Addition\\Historical County Shapefiles\\US_AtlasHCB_Counties_Gen001\\US_HistCounties_Gen001_Shapefile\\US_HistCounties_Gen001.shp\")"
   ]
  },
  {
   "cell_type": "code",
   "execution_count": 45,
   "metadata": {
    "hidden": true
   },
   "outputs": [],
   "source": [
    "county_changes_shp['year'] = county_changes_shp['START_DATE'].astype(str).str[:4].astype(int)"
   ]
  },
  {
   "cell_type": "markdown",
   "metadata": {
    "hidden": true
   },
   "source": [
    "### Drop all obs for years we don't have data (pre-BASE_YEAR) "
   ]
  },
  {
   "cell_type": "code",
   "execution_count": 47,
   "metadata": {
    "hidden": true
   },
   "outputs": [],
   "source": [
    "county_changes_shp = county_changes_shp[county_changes_shp['year'] >= BASE_YEAR]"
   ]
  },
  {
   "cell_type": "code",
   "execution_count": 50,
   "metadata": {
    "hidden": true
   },
   "outputs": [
    {
     "name": "stdout",
     "output_type": "stream",
     "text": [
      "There are 41 changes to US Counties from 1998 to present\n"
     ]
    }
   ],
   "source": [
    "print(f\"There are {len(county_changes_shp)} changes to US Counties from {BASE_YEAR} to present\")"
   ]
  },
  {
   "cell_type": "markdown",
   "metadata": {
    "hidden": true
   },
   "source": [
    "### Still have to do something with the changes in county boundaries\n",
    "\n",
    "Maybe just drop them? There are very few, should be fine if it isn't in one of our $\\approx 60$ agricultural congressional districts"
   ]
  },
  {
   "cell_type": "markdown",
   "metadata": {},
   "source": [
    "## Merge Congressional and County data over years\n",
    "\n",
    "make it s.t. county_shp[congress #1xx].loc[county] = list(districts that this county was part of)\n",
    "\n",
    "OR OTHER WAY AROUND - DENOTE COUNTIES THAT MAKE UP A DISTRICT - THIS COULD MAKE MORE SENSE\n",
    "\n",
    "End of the day, I'll need a congress-county dictionary (maybe with percentages of overlap - e.g. 90% of montgomery county is in district 8 in 2018)"
   ]
  },
  {
   "cell_type": "code",
   "execution_count": 120,
   "metadata": {},
   "outputs": [
    {
     "data": {
      "text/html": [
       "<div>\n",
       "<style scoped>\n",
       "    .dataframe tbody tr th:only-of-type {\n",
       "        vertical-align: middle;\n",
       "    }\n",
       "\n",
       "    .dataframe tbody tr th {\n",
       "        vertical-align: top;\n",
       "    }\n",
       "\n",
       "    .dataframe thead th {\n",
       "        text-align: right;\n",
       "    }\n",
       "</style>\n",
       "<table border=\"1\" class=\"dataframe\">\n",
       "  <thead>\n",
       "    <tr style=\"text-align: right;\">\n",
       "      <th></th>\n",
       "      <th>STATENAME</th>\n",
       "      <th>ID</th>\n",
       "      <th>DISTRICT</th>\n",
       "      <th>STARTCONG</th>\n",
       "      <th>ENDCONG</th>\n",
       "      <th>DISTRICTSI</th>\n",
       "      <th>COUNTY</th>\n",
       "      <th>PAGE</th>\n",
       "      <th>LAW</th>\n",
       "      <th>NOTE</th>\n",
       "      <th>BESTDEC</th>\n",
       "      <th>RNOTE</th>\n",
       "      <th>FROMCOUNTY</th>\n",
       "      <th>LASTCHANGE</th>\n",
       "      <th>FINALNOTE</th>\n",
       "      <th>geometry</th>\n",
       "    </tr>\n",
       "  </thead>\n",
       "  <tbody>\n",
       "    <tr>\n",
       "      <th>0</th>\n",
       "      <td>California</td>\n",
       "      <td>006103107026</td>\n",
       "      <td>26</td>\n",
       "      <td>103</td>\n",
       "      <td>107</td>\n",
       "      <td>None</td>\n",
       "      <td>None</td>\n",
       "      <td>None</td>\n",
       "      <td>None</td>\n",
       "      <td>None</td>\n",
       "      <td>None</td>\n",
       "      <td>None</td>\n",
       "      <td>F</td>\n",
       "      <td>2016-05-29 16:44:10.857626</td>\n",
       "      <td>{\"From US Census website\"}</td>\n",
       "      <td>POLYGON ((-118.50746 34.33478, -118.50661 34.33528, -118.50542 34.33610, -118.50382 34.33670, -118.49345 34.32981, -118.48020 34.32984, -118.46902 34.32990, -118.46098 34.32997, -118.45822 34.330...</td>\n",
       "    </tr>\n",
       "    <tr>\n",
       "      <th>1</th>\n",
       "      <td>California</td>\n",
       "      <td>006103107029</td>\n",
       "      <td>29</td>\n",
       "      <td>103</td>\n",
       "      <td>107</td>\n",
       "      <td>None</td>\n",
       "      <td>None</td>\n",
       "      <td>None</td>\n",
       "      <td>None</td>\n",
       "      <td>None</td>\n",
       "      <td>None</td>\n",
       "      <td>None</td>\n",
       "      <td>F</td>\n",
       "      <td>2016-05-29 16:44:10.857626</td>\n",
       "      <td>{\"From US Census website\"}</td>\n",
       "      <td>POLYGON ((-118.35401 34.16121, -118.35311 34.16111, -118.35221 34.15911, -118.35181 34.15821, -118.35161 34.15761, -118.34965 34.15312, -118.34821 34.14961, -118.34651 34.14561, -118.34511 34.142...</td>\n",
       "    </tr>\n",
       "    <tr>\n",
       "      <th>2</th>\n",
       "      <td>California</td>\n",
       "      <td>006103107030</td>\n",
       "      <td>30</td>\n",
       "      <td>103</td>\n",
       "      <td>107</td>\n",
       "      <td>None</td>\n",
       "      <td>None</td>\n",
       "      <td>None</td>\n",
       "      <td>None</td>\n",
       "      <td>None</td>\n",
       "      <td>None</td>\n",
       "      <td>None</td>\n",
       "      <td>F</td>\n",
       "      <td>2016-05-29 16:44:10.857626</td>\n",
       "      <td>{\"From US Census website\"}</td>\n",
       "      <td>POLYGON ((-118.18398 34.14920, -118.18465 34.14599, -118.18458 34.14579, -118.18401 34.14511, -118.18344 34.14466, -118.18241 34.14383, -118.18201 34.14351, -118.18205 34.14342, -118.18209 34.143...</td>\n",
       "    </tr>\n",
       "    <tr>\n",
       "      <th>3</th>\n",
       "      <td>Florida</td>\n",
       "      <td>012105107013</td>\n",
       "      <td>13</td>\n",
       "      <td>105</td>\n",
       "      <td>107</td>\n",
       "      <td>None</td>\n",
       "      <td>None</td>\n",
       "      <td>None</td>\n",
       "      <td>None</td>\n",
       "      <td>None</td>\n",
       "      <td>None</td>\n",
       "      <td>None</td>\n",
       "      <td>F</td>\n",
       "      <td>2016-05-29 16:44:10.857626</td>\n",
       "      <td>{\"From US Census website\"}</td>\n",
       "      <td>MULTIPOLYGON (((-82.42332 27.78074, -82.42316 27.78092, -82.42258 27.78147, -82.41886 27.77809, -82.41548 27.77634, -82.40935 27.77478, -82.40597 27.77446, -82.40087 27.77439, -82.40081 27.77720,...</td>\n",
       "    </tr>\n",
       "    <tr>\n",
       "      <th>4</th>\n",
       "      <td>Florida</td>\n",
       "      <td>012105107014</td>\n",
       "      <td>14</td>\n",
       "      <td>105</td>\n",
       "      <td>107</td>\n",
       "      <td>None</td>\n",
       "      <td>None</td>\n",
       "      <td>None</td>\n",
       "      <td>None</td>\n",
       "      <td>None</td>\n",
       "      <td>None</td>\n",
       "      <td>None</td>\n",
       "      <td>F</td>\n",
       "      <td>2016-05-29 16:44:10.857626</td>\n",
       "      <td>{\"From US Census website\"}</td>\n",
       "      <td>MULTIPOLYGON (((-82.04014 27.03202, -81.99692 27.03157, -81.99170 27.03337, -81.99112 27.03357, -81.98613 27.03529, -81.96578 27.03485, -81.95946 27.03485, -81.95900 27.03494, -81.77186 27.03392,...</td>\n",
       "    </tr>\n",
       "  </tbody>\n",
       "</table>\n",
       "</div>"
      ],
      "text/plain": [
       "    STATENAME            ID DISTRICT STARTCONG ENDCONG DISTRICTSI COUNTY  \\\n",
       "0  California  006103107026       26       103     107       None   None   \n",
       "1  California  006103107029       29       103     107       None   None   \n",
       "2  California  006103107030       30       103     107       None   None   \n",
       "3     Florida  012105107013       13       105     107       None   None   \n",
       "4     Florida  012105107014       14       105     107       None   None   \n",
       "\n",
       "   PAGE   LAW  NOTE BESTDEC RNOTE FROMCOUNTY                  LASTCHANGE  \\\n",
       "0  None  None  None    None  None          F  2016-05-29 16:44:10.857626   \n",
       "1  None  None  None    None  None          F  2016-05-29 16:44:10.857626   \n",
       "2  None  None  None    None  None          F  2016-05-29 16:44:10.857626   \n",
       "3  None  None  None    None  None          F  2016-05-29 16:44:10.857626   \n",
       "4  None  None  None    None  None          F  2016-05-29 16:44:10.857626   \n",
       "\n",
       "                    FINALNOTE  \\\n",
       "0  {\"From US Census website\"}   \n",
       "1  {\"From US Census website\"}   \n",
       "2  {\"From US Census website\"}   \n",
       "3  {\"From US Census website\"}   \n",
       "4  {\"From US Census website\"}   \n",
       "\n",
       "                                                                                                                                                                                                 geometry  \n",
       "0  POLYGON ((-118.50746 34.33478, -118.50661 34.33528, -118.50542 34.33610, -118.50382 34.33670, -118.49345 34.32981, -118.48020 34.32984, -118.46902 34.32990, -118.46098 34.32997, -118.45822 34.330...  \n",
       "1  POLYGON ((-118.35401 34.16121, -118.35311 34.16111, -118.35221 34.15911, -118.35181 34.15821, -118.35161 34.15761, -118.34965 34.15312, -118.34821 34.14961, -118.34651 34.14561, -118.34511 34.142...  \n",
       "2  POLYGON ((-118.18398 34.14920, -118.18465 34.14599, -118.18458 34.14579, -118.18401 34.14511, -118.18344 34.14466, -118.18241 34.14383, -118.18201 34.14351, -118.18205 34.14342, -118.18209 34.143...  \n",
       "3  MULTIPOLYGON (((-82.42332 27.78074, -82.42316 27.78092, -82.42258 27.78147, -82.41886 27.77809, -82.41548 27.77634, -82.40935 27.77478, -82.40597 27.77446, -82.40087 27.77439, -82.40081 27.77720,...  \n",
       "4  MULTIPOLYGON (((-82.04014 27.03202, -81.99692 27.03157, -81.99170 27.03337, -81.99112 27.03357, -81.98613 27.03529, -81.96578 27.03485, -81.95946 27.03485, -81.95900 27.03494, -81.77186 27.03392,...  "
      ]
     },
     "execution_count": 120,
     "metadata": {},
     "output_type": "execute_result"
    }
   ],
   "source": [
    "congress_1997_1998.head()"
   ]
  },
  {
   "cell_type": "code",
   "execution_count": null,
   "metadata": {},
   "outputs": [],
   "source": [
    "# county_in_district_dict[state][year][district] = list of counties in that district\n",
    "\n",
    "county_in_district_dict = {}\n",
    "\n",
    "for state in list(set(congress_1997_1998['STATENAME'])):\n",
    "    county_in_district_dict[state] = {}\n",
    "    \n",
    "    for year in list(set(elec_df['year'])):\n",
    "        county_in_district_dict[state][year] = {}\n",
    "        \n",
    "        for district in merged_district_df[(merged_district_df['state']==state) & (merged_district_df['year']==year)]['district']:\n",
    "            county_in_district_dict[state][year][district] = {}\n",
    "\n",
    "            #iterate only over same state in both dfs, otherwise this would probably take forever\n",
    "            for i1,district in merged_district_df[(merged_district_df['state']==state) & (merged_district_df['year']==year) & (merged_district_df['district']==district)].iterrows(): #doesn't exist yet. will have to merge individual cong. district dfs over the years into one big one. will have to denote years operational\n",
    "                for i2,county in county_shp[county_shp['state']==state].iterrows():\n",
    "\n",
    "                    if district['geometry'].intersects(county['geometry']):\n",
    "                        inter = district['geometry'].intersection(county['geometry']).area\n",
    "                        \n",
    "                        temp_pct_area = inter / district['geometry'].area\n",
    "                        \n",
    "                        county_in_district_dict[state][district['year']][district['DISTRICT']].append(tuple([county['NAME'], temp_pct_area])) #add name, (county overlap area) / (total district area) as tuple. this is the list of counties that are in a district\n",
    "                        "
   ]
  },
  {
   "cell_type": "markdown",
   "metadata": {},
   "source": [
    "## Left off here Feb 25 - next steps:\n",
    "\n",
    "* create \"merged_district_df\" (general idea is in comment, line 15, above cell)\n",
    "* make sure \"county_in_district_dict\" is running smoothly\n",
    "* map counties to congressional districts in the elec_df (will probably end up being final df)\n",
    "     * will need to map drought *and* demographics"
   ]
  },
  {
   "cell_type": "markdown",
   "metadata": {},
   "source": [
    "# Gameplan\n",
    "\n",
    "* Get county shapefiles\n",
    "* Get congressional district shapefiles\n",
    "* map counties (and county-data I have) to their districts in a dataframe"
   ]
  }
 ],
 "metadata": {
  "author": "mes",
  "kernelspec": {
   "display_name": "Python [conda env:geopandas_env]",
   "language": "python",
   "name": "conda-env-geopandas_env-py"
  },
  "language_info": {
   "codemirror_mode": {
    "name": "ipython",
    "version": 3
   },
   "file_extension": ".py",
   "mimetype": "text/x-python",
   "name": "python",
   "nbconvert_exporter": "python",
   "pygments_lexer": "ipython3",
   "version": "3.8.8"
  },
  "latex_envs": {
   "LaTeX_envs_menu_present": true,
   "autoclose": true,
   "autocomplete": true,
   "bibliofile": "biblio.bib",
   "cite_by": "apalike",
   "current_citInitial": 1,
   "eqLabelWithNumbers": true,
   "eqNumInitial": 1,
   "hotkeys": {
    "equation": "Ctrl-E",
    "itemize": "Ctrl-I"
   },
   "labels_anchors": false,
   "latex_user_defs": false,
   "report_style_numbering": false,
   "user_envs_cfg": false
  },
  "toc": {
   "base_numbering": 1,
   "nav_menu": {},
   "number_sections": true,
   "sideBar": true,
   "skip_h1_title": false,
   "title_cell": "Table of Contents",
   "title_sidebar": "Contents",
   "toc_cell": false,
   "toc_position": {},
   "toc_section_display": true,
   "toc_window_display": false
  }
 },
 "nbformat": 4,
 "nbformat_minor": 4
}
