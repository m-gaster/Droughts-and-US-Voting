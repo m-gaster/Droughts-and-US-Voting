{
 "cells": [
  {
   "cell_type": "markdown",
   "metadata": {
    "heading_collapsed": true
   },
   "source": [
    "## Notes for reader"
   ]
  },
  {
   "cell_type": "markdown",
   "metadata": {
    "hidden": true
   },
   "source": [
    "* To install Geopandas (finally...), you probably need to create a new conda environment and install geopandas there.\n",
    "    * I used the following commands in Anaconda prompt running as admin, on windows: \n",
    "        * \"conda install -n base nb_conda_kernels\"\n",
    "        * \"conda create -n geopandas_env geopandas ipykernel\"\n",
    "            * \"geopandas_env\" (in the above line)) is just what I named my new environment, you can name it whatever you want\n",
    "        * Finally, switch the kernel in your Jupyter notebook"
   ]
  },
  {
   "cell_type": "markdown",
   "metadata": {
    "heading_collapsed": true
   },
   "source": [
    "## Notes for me"
   ]
  },
  {
   "cell_type": "markdown",
   "metadata": {
    "hidden": true
   },
   "source": [
    "* From *Weather Anomalies...*:\n",
    "    * \"Farm labor is shielded from agricultural losses as we find an almost one-to-one increase in subsidy payments for weather-induced reduction in agricultural yields.\"\n",
    "    * During years when agriculture is doing well, non-farm employment is also expanding, while years with bad yields coincide with contractions in non-farm employment\n",
    "    * **\"For counties in the Corn Belt, the MEDIAN FRACTION OF EMPLOYMENT IN AGRICULTURE is 4.6% according to the 2000 decennial Census, based on data from Table QT-P30 of the Census 2000 summary file 3 (factfinder.census.gov).\"**\n",
    "    * \"We exclude all counties west of the 100 degree meridian and the state of Florida, as agriculture in those areas is heavily dependent on subsidized irrigation (see Reisner (1993) and Schlenker, Hanemann & Fisher (2005)).\"\n",
    "    * We label counties in the following 13 states Corn Belt counties: Illinois, Indiana, Iowa, Kansas, Kentucky, Michigan, Minnesota, Missouri, Nebraska, North Dakota, Ohio, South Dakota, and Wisconsin. 16 Counties outside these states that lie east of the 100 degree meridian except Florida are labeled the non-Corn Belt areas\n",
    "    \n",
    "* lee butler moretti 2004 \n",
    "    * show that congresspeople have a lot of say in how they vote; are not strictly indebted to / in line with their voters"
   ]
  },
  {
   "cell_type": "markdown",
   "metadata": {
    "heading_collapsed": true
   },
   "source": [
    "## Thoughts"
   ]
  },
  {
   "cell_type": "markdown",
   "metadata": {
    "hidden": true
   },
   "source": [
    "* Compare most agricultural districts to completely non-agricultural ones\n",
    "    * Maybe use corn belt specifically (following *Weather Anomalies, Crop Yields, and Migration in the US Corn Belt*)\n",
    "    \n",
    "* should I cluster my standard errors at the state level?"
   ]
  },
  {
   "cell_type": "markdown",
   "metadata": {
    "heading_collapsed": true
   },
   "source": [
    "# Summary:"
   ]
  },
  {
   "cell_type": "markdown",
   "metadata": {
    "heading_collapsed": true,
    "hidden": true
   },
   "source": [
    "## \n",
    "\n",
    "This work follows Bruckner and Ciccone (2011), who found that the negative exogenous economic shocks which followed droughts in sub-Saharan Africa were solid contributors to / predictors of democratic revolutions. \n",
    "\n",
    "I attempt to establish a relationship between droughts (again serving as negative exogenous economic shocks) and political change, which might take any of the following forms:\n",
    "* Increased votes for a specific pro-farmer party (will have to investigate whether democrats or republicans are viewed as pro-farmer.)\n",
    "* Increased probability of an incumbent losing\n",
    "* Increased votes for the Democratic party, who generally favor greater redistribution (see: Acemoglu & Robinson)\n",
    "\n",
    "  \n",
    "  \n",
    " newline\n",
    "\n",
    "The equation of interest takes the form \\begin{equation} Y_{i,t} = \\alpha \\, * Drought_{i,t} + \\beta'X_{i,t} + \\phi_{i,t} + \\psi_{i,t} + u_{i,t} \\end{equation}\n",
    "\n",
    "where \n",
    "* $Y_{i,t} = $ our outcome of interest - either vote share for a particular party; probability of an incumbent losing; etc.\n",
    "* $\\alpha = $ the effect of drought on the outcome of interest\n",
    "* $X_{i,t} = $ characteristics of the district at time *t*, such as income, farming as a share of GDP, average farm size, etc.\n",
    "* $\\phi_{i,t} = $ district fixed effects\n",
    "* $\\psi_{i,t} = $ time fixed effects\n",
    "\n",
    "include willingness to elect other party? years since change of power? avg years for incumbent to stay in power?"
   ]
  },
  {
   "cell_type": "markdown",
   "metadata": {
    "heading_collapsed": true
   },
   "source": [
    "# Non-Geo Data Import and Cleaning"
   ]
  },
  {
   "cell_type": "markdown",
   "metadata": {
    "heading_collapsed": true,
    "hidden": true
   },
   "source": [
    "## Import and Setup"
   ]
  },
  {
   "cell_type": "code",
   "execution_count": 1,
   "metadata": {
    "hidden": true
   },
   "outputs": [],
   "source": [
    "import pandas as pd\n",
    "import numpy as np"
   ]
  },
  {
   "cell_type": "code",
   "execution_count": 2,
   "metadata": {
    "hidden": true
   },
   "outputs": [
    {
     "data": {
      "text/html": [
       "<style>.container { width:95% !important; }</style>"
      ],
      "text/plain": [
       "<IPython.core.display.HTML object>"
      ]
     },
     "metadata": {},
     "output_type": "display_data"
    }
   ],
   "source": [
    "pd.set_option('display.max_columns', 1000)\n",
    "pd.set_option('display.max_rows', 1000)\n",
    "pd.set_option('display.max_colwidth', 199)\n",
    "pd.options.display.float_format = '{:.2f}'.format\n",
    "\n",
    "from IPython.core.display import display, HTML\n",
    "display(HTML(\"<style>.container { width:95% !important; }</style>\"))"
   ]
  },
  {
   "cell_type": "markdown",
   "metadata": {
    "heading_collapsed": true,
    "hidden": true
   },
   "source": [
    "## Denote \"BASE_YEAR\" variable\n",
    "\n",
    "This is the first year where we have data available for all datasets in the analysis (with a few years for margin of error)"
   ]
  },
  {
   "cell_type": "code",
   "execution_count": 3,
   "metadata": {
    "hidden": true
   },
   "outputs": [],
   "source": [
    "BASE_YEAR = 1998\n",
    "\n",
    "# currently strictest year limitation comes from the drought dataset "
   ]
  },
  {
   "cell_type": "markdown",
   "metadata": {
    "heading_collapsed": true,
    "hidden": true
   },
   "source": [
    "## Market Value by District Data\n",
    "\n",
    "Note: Due to data/time limitations, I'm assuming that congressional districts that are currently highly agricultural were also highly agricultural over the period I examine. This is one place to expand my analysis when I have more time"
   ]
  },
  {
   "cell_type": "code",
   "execution_count": 4,
   "metadata": {
    "hidden": true
   },
   "outputs": [],
   "source": [
    "# from \n",
    "# https://www.nass.usda.gov/Publications/AgCensus/2012/Online_Resources/Congressional_District_Rankings/ , and\n",
    "# https://www.nass.usda.gov/Publications/AgCensus/2017/Online_Resources/Congressional_District_Rankings/\n",
    "farm_census_2012 = pd.read_csv(r\"C:\\Users\\mikha\\OneDrive\\Desktop\\Dropbox\\MIKHAEL NEW\\mikhael school\\Grad School\\Master's\\Term 2 Classes\\544\\Replication\\My Addition\\Mkt Value of Agr Products Sold\\2012.csv\")\n",
    "farm_census_2017 = pd.read_csv(r\"C:\\Users\\mikha\\OneDrive\\Desktop\\Dropbox\\MIKHAEL NEW\\mikhael school\\Grad School\\Master's\\Term 2 Classes\\544\\Replication\\My Addition\\Mkt Value of Agr Products Sold\\2017.csv\")\n",
    "\n",
    "farm_census_2012['year'] = 2012\n",
    "farm_census_2017['year'] = 2017\n",
    "\n",
    "# merge 2012 and 2017\n",
    "farm_census = pd.concat([farm_census_2012, farm_census_2017])\n",
    "\n",
    "del farm_census_2012, farm_census_2017"
   ]
  },
  {
   "cell_type": "markdown",
   "metadata": {
    "heading_collapsed": true,
    "hidden": true
   },
   "source": [
    "### Some Text Cleaning\n",
    "\n",
    "Need to deal with \"At-Large\" here"
   ]
  },
  {
   "cell_type": "code",
   "execution_count": 5,
   "metadata": {
    "hidden": true
   },
   "outputs": [
    {
     "name": "stderr",
     "output_type": "stream",
     "text": [
      "<ipython-input-5-68a453da72a7>:5: FutureWarning: The default value of regex will change from True to False in a future version.\n",
      "  farm_census['state'] = farm_census['state'].str.replace('\\d+', '')\n"
     ]
    }
   ],
   "source": [
    "# upper-case\n",
    "farm_census = farm_census.applymap(lambda s:s.upper() if type(s) == str else s)\n",
    "\n",
    "#remove non-alphabet characters\n",
    "farm_census['state'] = farm_census['state'].str.replace('\\d+', '')\n",
    "farm_census['state'] = farm_census['state'].str.replace('/', '')"
   ]
  },
  {
   "cell_type": "code",
   "execution_count": 6,
   "metadata": {
    "hidden": true
   },
   "outputs": [],
   "source": [
    "# narrow down districts we can focus the analysis on\n",
    "usable_districts = {state.upper():set() for state in farm_census['state']}"
   ]
  },
  {
   "cell_type": "code",
   "execution_count": 7,
   "metadata": {
    "hidden": true
   },
   "outputs": [],
   "source": [
    "for state_dist in list(zip(farm_census['state'], farm_census['district'])):\n",
    "    if state_dist[1] != 'AT LARGE':\n",
    "        usable_districts[state_dist[0]].add(int(state_dist[1]))\n",
    "    else:\n",
    "        usable_districts[state_dist[0]].add(state_dist[1])"
   ]
  },
  {
   "cell_type": "markdown",
   "metadata": {
    "heading_collapsed": true,
    "hidden": true
   },
   "source": [
    "## Election Data (House of Rep's)\n",
    "\n",
    "Include Senate data (same source)? Only catch is it isn't as specific to the agricultural districts. Could still be useful as a baseline.\n",
    "\n",
    "**TO DO**\n",
    "* Denote who won each election\n",
    "    * Create \"years in seat\" variable\n",
    "* Figure out whether to use pre-1998 data for incumbency\n",
    "* Figure out \"At Large\" stuff\n",
    "    * Note: \"At Large\" districts arenare denoted with zeros\n",
    "* There are \"NaNs\" in the data (under candidate name)"
   ]
  },
  {
   "cell_type": "code",
   "execution_count": 8,
   "metadata": {
    "hidden": true
   },
   "outputs": [],
   "source": [
    "# from https://electionlab.mit.edu/data \n",
    "elec_df = pd.read_csv(r\"C:\\Users\\mikha\\OneDrive\\Desktop\\Dropbox\\MIKHAEL NEW\\mikhael school\\Grad School\\Master's\\Term 2 Classes\\544\\Replication\\My Addition\\1976-2018 US House Election Data.csv\", engine='python')"
   ]
  },
  {
   "cell_type": "markdown",
   "metadata": {
    "hidden": true
   },
   "source": [
    "### Uppercase"
   ]
  },
  {
   "cell_type": "code",
   "execution_count": 9,
   "metadata": {
    "hidden": true
   },
   "outputs": [],
   "source": [
    "elec_df = elec_df.applymap(lambda s:s.upper() if type(s) == str else s)"
   ]
  },
  {
   "cell_type": "markdown",
   "metadata": {
    "hidden": true
   },
   "source": [
    "### Drop Unecessary Data Features and Observations"
   ]
  },
  {
   "cell_type": "code",
   "execution_count": 10,
   "metadata": {
    "hidden": true
   },
   "outputs": [],
   "source": [
    "# #drop if before 1998\n",
    "# elec_df = elec_df[elec_df['year'] >= 1998]\n",
    "\n",
    "#drop useless columns (one unique value and/or irrelevant info)\n",
    "elec_df.drop(['office', 'mode', 'version'], axis=1, inplace=True)\n",
    "\n",
    "#drop if not general election (other possibilites are primary or blank). This only drops ~90/30000 obs\n",
    "elec_df = elec_df[elec_df['stage']=='GEN']\n",
    "\n",
    "# drop runoffs - only 8 obs. Note that ~9k / 30k obs are \"NA\" under \"runoff\"\n",
    "elec_df = elec_df[elec_df['runoff']!='TRUE']"
   ]
  },
  {
   "cell_type": "markdown",
   "metadata": {
    "hidden": true
   },
   "source": [
    "### Denote presidential election years"
   ]
  },
  {
   "cell_type": "code",
   "execution_count": 11,
   "metadata": {
    "hidden": true
   },
   "outputs": [],
   "source": [
    "elec_df['DPres'] = elec_df['year'] % 4 == 0"
   ]
  },
  {
   "cell_type": "markdown",
   "metadata": {
    "hidden": true
   },
   "source": [
    "### Denote election observations corresponding to *agricultural* districts\n",
    "\n",
    "Where do I load \"usable_districts\"? How does this even run...?"
   ]
  },
  {
   "cell_type": "code",
   "execution_count": 12,
   "metadata": {
    "hidden": true
   },
   "outputs": [],
   "source": [
    "# DENOTE WHETHER OR NOT IS A BIG AGRICULTURAL DISTRICT (that we have economic/agricultural data for)\n",
    "\n",
    "# this loop just appends 0 or 1 to the vector \"usable_obs\" if we have economic/agricultural data for that district\n",
    "usable_obs = []\n",
    "\n",
    "for i, row in elec_df.iterrows():\n",
    "    if row['state'] in usable_districts and row['district'] in usable_districts[row['state']]:\n",
    "        usable_obs.append(1)\n",
    "    else:\n",
    "        usable_obs.append(0)\n",
    "\n",
    "# here we bring this vector into the df        \n",
    "elec_df['usable'] = usable_obs\n",
    "\n",
    "del usable_obs\n",
    "\n",
    "\n",
    "# COULD drop all observations that don't correspond to \"usable\" districts. but probably best to keep them in the df for now\n",
    "# This would leave us with 2974 election observations, before narrowing it down to winners\n",
    "# elec_df = elec_df[elec_df['usable']==1]"
   ]
  },
  {
   "cell_type": "markdown",
   "metadata": {
    "hidden": true
   },
   "source": [
    "### Who won, and by how much? Incumbent? Year on year change? Party voteshares?"
   ]
  },
  {
   "cell_type": "code",
   "execution_count": 13,
   "metadata": {
    "hidden": true
   },
   "outputs": [],
   "source": [
    "#voting dict is structured as voting_dict[state][year][district][candidate][votes]\n",
    "\n",
    "def div_by_zero(x,y):\n",
    "    if y!=0:\n",
    "        return x/y\n",
    "    else:\n",
    "        return 0\n",
    "\n",
    "voting_dict = {}\n",
    "for state in set(elec_df['state']):\n",
    "    voting_dict[state] = {}\n",
    "    for year in set(elec_df['year']):\n",
    "        voting_dict[state][year] = {}\n",
    "\n",
    "\n",
    "\n",
    "#do NOT combine following two loops into 2 lines. Otherwise, dict entries are overwritten for every new line that's iterated over\n",
    "for i, row in elec_df.iterrows():\n",
    "    voting_dict[ row['state'] ][ row['year'] ][ row['district'] ] = {}\n",
    "\n",
    "for i, row in elec_df.iterrows():\n",
    "    voting_dict[ row['state'] ][ row['year'] ][ row['district'] ] [row['candidate']] = {\n",
    "        'candidatevotes':row['candidatevotes'], 'totalvotes':row['totalvotes'],\n",
    "        'voteshare':div_by_zero(row['candidatevotes'],row['totalvotes']),\n",
    "        'Repub_voteshare':np.nan, 'Dem_voteshare':np.nan,\n",
    "        'D_republican':row['party']=='REPUBLICAN', 'D_democrat':row['party']=='DEMOCRAT'\n",
    "    }\n",
    "\n",
    "    \n",
    "    \n",
    "# note: the following loops look redundant (and maybe are) but need to be run separately so that previous loops can fully finish\n",
    "\n",
    "    \n",
    "#find winner of each election\n",
    "for state in voting_dict:\n",
    "    for year in voting_dict[state]:\n",
    "        for district in voting_dict[state][year]:\n",
    "            for candidate in voting_dict[state][year][district]:\n",
    "                \n",
    "                if voting_dict[state][year][district][candidate]['voteshare'] == max([voting_dict[state][year][district][can]['voteshare'] for can in voting_dict[state][year][district]]):\n",
    "                    voting_dict[state][year][district][candidate]['winner'] = 1\n",
    "                else:\n",
    "                    voting_dict[state][year][district][candidate]['winner'] = 0\n",
    "\n",
    "                    \n",
    "# create dem, repub voteshare entries (useful later) \n",
    "for state in voting_dict:\n",
    "    for year in voting_dict[state]:\n",
    "        for district in voting_dict[state][year]:\n",
    "            for candidate in voting_dict[state][year][district]:\n",
    "                \n",
    "                if voting_dict[state][year][district][candidate]['D_republican'] == 1: \n",
    "                    for cans in voting_dict[state][year][district]: # setting all candidates in this election to have republic voteshare = this candidate's voteshare\n",
    "                        voting_dict[state][year][district][cans]['Repub_voteshare'] = voting_dict[state][year][district][candidate]['voteshare']\n",
    "                \n",
    "                if voting_dict[state][year][district][candidate]['D_democrat'] == 1: \n",
    "                    for cans in voting_dict[state][year][district]: # setting all candidates in this election to have dem voteshare = this candidate's voteshare\n",
    "                        voting_dict[state][year][district][cans]['Dem_voteshare'] = voting_dict[state][year][district][candidate]['voteshare']\n",
    "                    \n",
    "                    \n",
    "# find change in voting share from last election. also create \"incumbent\" field\n",
    "for state in voting_dict:\n",
    "    for year in voting_dict[state]:\n",
    "        for district in voting_dict[state][year]:\n",
    "            for candidate in voting_dict[state][year][district]:\n",
    "                \n",
    "                try: #here I subtract voteshare this year from voteshare in the last election (2 years prior). if this is their first election, var set to nan\n",
    "                    voting_dict[state][year][district][candidate]['votesharediff'] = voting_dict[state][year][district][candidate]['voteshare'] - voting_dict[state][year - 2][district][candidate]['voteshare']\n",
    "                    voting_dict[state][year][district][candidate]['incumbent'] = 1\n",
    "                except:\n",
    "                    voting_dict[state][year][district][candidate]['votesharediff'] = np.nan\n",
    "                    voting_dict[state][year][district][candidate]['incumbent'] = 0\n",
    "                \n",
    "                \n",
    "# find total election turnout\n",
    "for state in voting_dict:\n",
    "    for year in voting_dict[state]:\n",
    "        for district in voting_dict[state][year]:\n",
    "            for candidate in voting_dict[state][year][district]:\n",
    "                \n",
    "                voting_dict[state][year][district][candidate]['total turnout'] = sum([voting_dict[state][year][district][can]['totalvotes'] for can in voting_dict[state][year][district]])"
   ]
  },
  {
   "cell_type": "markdown",
   "metadata": {
    "hidden": true
   },
   "source": [
    "### Bring \"voting_dict\" info into elec_df"
   ]
  },
  {
   "cell_type": "code",
   "execution_count": 14,
   "metadata": {
    "hidden": true
   },
   "outputs": [],
   "source": [
    "winner = []\n",
    "incumbent = []\n",
    "share_diff = []\n",
    "voteshare = []\n",
    "totalturnout = []\n",
    "repub_voteshare = []\n",
    "dem_voteshare = []\n",
    "\n",
    "for i, row in elec_df.iterrows():\n",
    "    winner.append(voting_dict[row['state']][row['year']][row['district']][row['candidate']]['winner'])\n",
    "    incumbent.append(voting_dict[row['state']][row['year']][row['district']][row['candidate']]['incumbent'])\n",
    "    share_diff.append(voting_dict[row['state']][row['year']][row['district']][row['candidate']]['votesharediff'])\n",
    "    voteshare.append(voting_dict[row['state']][row['year']][row['district']][row['candidate']]['voteshare'])\n",
    "    totalturnout.append(voting_dict[row['state']][row['year']][row['district']][row['candidate']]['totalvotes'])\n",
    "    repub_voteshare.append(voting_dict[row['state']][row['year']][row['district']][row['candidate']]['Repub_voteshare'])\n",
    "    dem_voteshare.append(voting_dict[row['state']][row['year']][row['district']][row['candidate']]['Dem_voteshare'])\n",
    "    \n",
    "\n",
    "    \n",
    "elec_df['winner'] = winner\n",
    "elec_df['incumbent'] = incumbent\n",
    "elec_df['share_diff'] = share_diff\n",
    "elec_df['voteshare'] = voteshare\n",
    "elec_df['totalturnout'] = totalturnout\n",
    "elec_df['Dem_voteshare'] = dem_voteshare\n",
    "elec_df['Repub_voteshare'] = repub_voteshare"
   ]
  },
  {
   "cell_type": "markdown",
   "metadata": {
    "hidden": true
   },
   "source": [
    "### Crucial to drop non-major parties *after* creating \"voting_dict\"\n",
    "\n",
    "Otherwise vote share will be incorrectly totalled"
   ]
  },
  {
   "cell_type": "code",
   "execution_count": 15,
   "metadata": {
    "code_folding": [],
    "hidden": true
   },
   "outputs": [],
   "source": [
    "#drop if not Democratic, Republican, or Libertarian candidate\n",
    "elec_df = elec_df[elec_df['party'].isin(['DEMOCRAT','REPUBLICAN', 'LIBERTARIAN'])]"
   ]
  },
  {
   "cell_type": "markdown",
   "metadata": {
    "heading_collapsed": true,
    "hidden": true
   },
   "source": [
    "## Create state to abbreviation dictionary"
   ]
  },
  {
   "cell_type": "code",
   "execution_count": 16,
   "metadata": {
    "hidden": true
   },
   "outputs": [],
   "source": [
    "state_abbrev_dict = {**elec_df.set_index('state')['state_po'].to_dict(), **elec_df.set_index('state_po')['state'].to_dict()}"
   ]
  },
  {
   "cell_type": "markdown",
   "metadata": {
    "heading_collapsed": true,
    "hidden": true
   },
   "source": [
    "## Drought Data"
   ]
  },
  {
   "cell_type": "code",
   "execution_count": 17,
   "metadata": {
    "hidden": true
   },
   "outputs": [],
   "source": [
    "# from https://droughtmonitor.unl.edu/Data/DataDownload/ComprehensiveStatistics.aspx\n",
    "# data description here (under \"Excel\") https://droughtmonitor.unl.edu/Data/Metadata.aspx\n",
    "\n",
    "drought_df = pd.read_csv(r\"C:\\Users\\mikha\\OneDrive\\Desktop\\Dropbox\\MIKHAEL NEW\\mikhael school\\Grad School\\Master's\\Term 2 Classes\\544\\Replication\\My Addition\\Drought Data.csv\")"
   ]
  },
  {
   "cell_type": "markdown",
   "metadata": {
    "hidden": true
   },
   "source": [
    "### Rename column from \"None\" to \"No_drought\" to avoid code issues"
   ]
  },
  {
   "cell_type": "code",
   "execution_count": 18,
   "metadata": {
    "hidden": true
   },
   "outputs": [],
   "source": [
    "drought_df.rename(columns={'None':'No_drought'}, inplace=True)"
   ]
  },
  {
   "cell_type": "markdown",
   "metadata": {
    "hidden": true
   },
   "source": [
    "### Uppercase"
   ]
  },
  {
   "cell_type": "code",
   "execution_count": 19,
   "metadata": {
    "hidden": true
   },
   "outputs": [],
   "source": [
    "drought_df = drought_df.applymap(lambda s:s.upper() if type(s) == str else s)"
   ]
  },
  {
   "cell_type": "markdown",
   "metadata": {
    "hidden": true
   },
   "source": [
    "### Create \"year\" var"
   ]
  },
  {
   "cell_type": "code",
   "execution_count": 20,
   "metadata": {
    "hidden": true
   },
   "outputs": [],
   "source": [
    "drought_df['year'] = drought_df['ValidStart'].astype(str).str[:4].astype(int)"
   ]
  },
  {
   "cell_type": "markdown",
   "metadata": {
    "hidden": true
   },
   "source": [
    "### Convert date strings to datetime objects"
   ]
  },
  {
   "cell_type": "code",
   "execution_count": 21,
   "metadata": {
    "hidden": true
   },
   "outputs": [],
   "source": [
    "drought_df['ValidStart'] = pd.to_datetime(drought_df['ValidStart'])\n",
    "drought_df['ValidEnd'] = pd.to_datetime(drought_df['ValidEnd'])"
   ]
  },
  {
   "cell_type": "markdown",
   "metadata": {
    "hidden": true
   },
   "source": [
    "### Drop some redundant fields"
   ]
  },
  {
   "cell_type": "code",
   "execution_count": 22,
   "metadata": {
    "hidden": true
   },
   "outputs": [],
   "source": [
    "drought_df.drop(['MapDate', 'FIPS', 'StatisticFormatID'], axis=1, inplace=True)"
   ]
  },
  {
   "cell_type": "markdown",
   "metadata": {
    "hidden": true
   },
   "source": [
    "### Replace county name suffixes"
   ]
  },
  {
   "cell_type": "code",
   "execution_count": 23,
   "metadata": {
    "hidden": true
   },
   "outputs": [],
   "source": [
    "county_stopwords = [' COUNTY', ' CENSUS AREA', ' MUNICIPIO', ' PARISH', ' CITY', ' BOROUGH', ' MUNICIPALITY']\n",
    "\n",
    "for word in county_stopwords:\n",
    "    drought_df['County'] = drought_df['County'].str.replace(word,'')"
   ]
  },
  {
   "cell_type": "markdown",
   "metadata": {
    "hidden": true
   },
   "source": [
    "### Create \"next congressional period start year\" var"
   ]
  },
  {
   "cell_type": "code",
   "execution_count": 24,
   "metadata": {
    "hidden": true
   },
   "outputs": [],
   "source": [
    "drought_df['next congressional period start year'] = drought_df['year'] + drought_df['year'] % 2"
   ]
  },
  {
   "cell_type": "markdown",
   "metadata": {
    "hidden": true
   },
   "source": [
    "### Take yearly averages per county"
   ]
  },
  {
   "cell_type": "code",
   "execution_count": 25,
   "metadata": {
    "hidden": true
   },
   "outputs": [],
   "source": [
    "drought_df = drought_df.groupby(['State', 'County', 'next congressional period start year']).mean()\n",
    "del drought_df['year']"
   ]
  },
  {
   "cell_type": "markdown",
   "metadata": {
    "hidden": true
   },
   "source": [
    "### Reset indices so that .loc will work\n",
    "\n",
    "For some reason I have to do this"
   ]
  },
  {
   "cell_type": "code",
   "execution_count": 26,
   "metadata": {
    "hidden": true
   },
   "outputs": [],
   "source": [
    "drought_df.reset_index(inplace=True)\n",
    "\n",
    "drought_df.set_index(['State', 'next congressional period start year', 'County'], inplace=True)"
   ]
  },
  {
   "cell_type": "markdown",
   "metadata": {
    "hidden": true
   },
   "source": [
    "### Confirm that drought is roughly balanced over years"
   ]
  },
  {
   "cell_type": "code",
   "execution_count": 27,
   "metadata": {
    "hidden": true
   },
   "outputs": [
    {
     "data": {
      "text/plain": [
       "<AxesSubplot:xlabel='next congressional period start year'>"
      ]
     },
     "execution_count": 27,
     "metadata": {},
     "output_type": "execute_result"
    },
    {
     "data": {
      "image/png": "[encoded data removed]",
      "text/plain": [
       "<Figure size 432x288 with 1 Axes>"
      ]
     },
     "metadata": {
      "needs_background": "light"
     },
     "output_type": "display_data"
    }
   ],
   "source": [
    "drought_df.reset_index().groupby(['next congressional period start year']).mean().plot()"
   ]
  },
  {
   "cell_type": "markdown",
   "metadata": {
    "hidden": true
   },
   "source": [
    "### Looking at autocorrelation of drought severity"
   ]
  },
  {
   "cell_type": "markdown",
   "metadata": {},
   "source": [
    "# Geo Data Import and Cleaning"
   ]
  },
  {
   "cell_type": "code",
   "execution_count": 28,
   "metadata": {},
   "outputs": [],
   "source": [
    "import geopandas as gpd\n",
    "import shapely\n",
    "from shapely.geometry import Polygon\n",
    "from descartes import PolygonPatch"
   ]
  },
  {
   "cell_type": "markdown",
   "metadata": {},
   "source": [
    "## US County Shapefiles\n",
    "\n",
    "from https://www.census.gov/geographies/mapping-files/time-series/geo/carto-boundary-file.html  \n",
    "under \"County\"  \n",
    "filename \"cb_2018_us_county_500k.zip\"\n",
    "\n",
    "should maybe redo this with higher granularity (but probably won't change much)"
   ]
  },
  {
   "cell_type": "code",
   "execution_count": 29,
   "metadata": {},
   "outputs": [],
   "source": [
    "county_shp = gpd.read_file(r\"C:\\Users\\mikha\\OneDrive\\Desktop\\Dropbox\\MIKHAEL NEW\\mikhael school\\Grad School\\Master's\\Term 2 Classes\\544\\Replication\\My Addition\\County Shapefiles (2018)\\cb_2018_us_county_500k.shp\")"
   ]
  },
  {
   "cell_type": "markdown",
   "metadata": {},
   "source": [
    "### Uppercase"
   ]
  },
  {
   "cell_type": "code",
   "execution_count": 30,
   "metadata": {},
   "outputs": [],
   "source": [
    "county_shp = county_shp.applymap(lambda s:s.upper() if type(s) == str else s)"
   ]
  },
  {
   "cell_type": "code",
   "execution_count": 31,
   "metadata": {},
   "outputs": [],
   "source": [
    "county_shp['STATEFP'] = county_shp['STATEFP'].astype('int64')\n",
    "county_shp['COUNTYFP'] = county_shp['COUNTYFP'].astype('int64')\n",
    "county_shp['COUNTYNS'] = county_shp['COUNTYNS'].astype('int64')\n",
    "county_shp['GEOID'] = county_shp['GEOID'].astype('int64')\n",
    "county_shp['ALAND'] = county_shp['ALAND'].astype('int64')\n",
    "county_shp['AWATER'] = county_shp['AWATER'].astype('int64')\n",
    "\n",
    "#drop DC - it doesn't have any congressional rep's\n",
    "county_shp = county_shp[county_shp['STATEFP'] != 11]"
   ]
  },
  {
   "cell_type": "markdown",
   "metadata": {},
   "source": [
    "### Refine some county name entries"
   ]
  },
  {
   "cell_type": "code",
   "execution_count": 33,
   "metadata": {},
   "outputs": [],
   "source": [
    "# fix some county name problems (e.g. 'st.'-->'saint')\n",
    "\n",
    "county_shp['NAME'] = [x.replace('ST.', 'SAINT').replace('LASALLE','LA SALLE') for x in county_shp['NAME']]\n",
    "\n",
    "county_shp['NAME'] = county_shp['NAME'].astype(str).replace('ST.','SAINT').replace('LASALLE','LA SALLE')\n",
    "\n",
    "for word in county_stopwords:\n",
    "    county_shp['NAME'] = [x.replace(word,'') for x in county_shp['NAME']]"
   ]
  },
  {
   "cell_type": "markdown",
   "metadata": {},
   "source": [
    "### Convert county_shp['STATEFP'] to state"
   ]
  },
  {
   "cell_type": "code",
   "execution_count": 34,
   "metadata": {},
   "outputs": [],
   "source": [
    "state_to_fips = pd.read_csv(r\"C:\\Users\\mikha\\OneDrive\\Desktop\\Dropbox\\MIKHAEL NEW\\mikhael school\\Grad School\\Master's\\Term 2 Classes\\544\\Replication\\My Addition\\State to FIPS Conversion.csv\")"
   ]
  },
  {
   "cell_type": "code",
   "execution_count": 35,
   "metadata": {},
   "outputs": [],
   "source": [
    "# create a dictionary mapping FIPS codes to US States\n",
    "\n",
    "fips_to_state_dict = {}\n",
    "\n",
    "for i,row in state_to_fips.iterrows():\n",
    "    fips_to_state_dict[row['FIPS']] = row['State']"
   ]
  },
  {
   "cell_type": "code",
   "execution_count": 36,
   "metadata": {},
   "outputs": [],
   "source": [
    "county_shp['state'] = county_shp['STATEFP'].apply(lambda x: fips_to_state_dict[x])"
   ]
  },
  {
   "cell_type": "code",
   "execution_count": 37,
   "metadata": {},
   "outputs": [],
   "source": [
    "county_shp = county_shp.applymap(lambda s:s.upper() if type(s) == str else s)"
   ]
  },
  {
   "cell_type": "markdown",
   "metadata": {
    "heading_collapsed": true
   },
   "source": [
    "## Congressional District Shapefiles\n",
    "\n",
    "source: http://cdmaps.polisci.ucla.edu/\n",
    "\n",
    "**NOTE**: AT-LARGE DISTRICTS ARE DENOTED WITH ZEROS - **THESE NEED TO BE DEALT WITH!!!**\n",
    "\n",
    "**NOTE**: TRY TO FIND DATA FOR 2018 AND 2020\n",
    "\n",
    "can get districts back to 2011 here (in R) https://rdrr.io/cran/tigris/man/congressional_districts.html "
   ]
  },
  {
   "cell_type": "markdown",
   "metadata": {
    "hidden": true
   },
   "source": [
    "### Import"
   ]
  },
  {
   "cell_type": "code",
   "execution_count": 38,
   "metadata": {
    "hidden": true
   },
   "outputs": [],
   "source": [
    "congress_2015_2017 = gpd.read_file(r\"C:\\Users\\mikha\\OneDrive\\Desktop\\Dropbox\\MIKHAEL NEW\\mikhael school\\Grad School\\Master's\\Term 2 Classes\\544\\Replication\\My Addition\\Congressional District Shapefiles\\114th - J 2015 - J 2017\\districtShapes\\districts114.shp\")\n",
    "congress_2013_2014 = gpd.read_file(r\"C:\\Users\\mikha\\OneDrive\\Desktop\\Dropbox\\MIKHAEL NEW\\mikhael school\\Grad School\\Master's\\Term 2 Classes\\544\\Replication\\My Addition\\Congressional District Shapefiles\\113th - J 2013 to D 2014\\districtShapes\\districts113.shp\")\n",
    "congress_2011_2013 = gpd.read_file(r\"C:\\Users\\mikha\\OneDrive\\Desktop\\Dropbox\\MIKHAEL NEW\\mikhael school\\Grad School\\Master's\\Term 2 Classes\\544\\Replication\\My Addition\\Congressional District Shapefiles\\112th - J 2011 - J 2013\\districtShapes\\districts112.shp\")\n",
    "congress_2009_2010 = gpd.read_file(r\"C:\\Users\\mikha\\OneDrive\\Desktop\\Dropbox\\MIKHAEL NEW\\mikhael school\\Grad School\\Master's\\Term 2 Classes\\544\\Replication\\My Addition\\Congressional District Shapefiles\\111th - J 2009 - D 2010\\districtShapes\\districts111.shp\")\n",
    "congress_2007_2009 = gpd.read_file(r\"C:\\Users\\mikha\\OneDrive\\Desktop\\Dropbox\\MIKHAEL NEW\\mikhael school\\Grad School\\Master's\\Term 2 Classes\\544\\Replication\\My Addition\\Congressional District Shapefiles\\110th - J 2007 - J 2009\\districtShapes\\districts110.shp\")\n",
    "congress_2005_2006 = gpd.read_file(r\"C:\\Users\\mikha\\OneDrive\\Desktop\\Dropbox\\MIKHAEL NEW\\mikhael school\\Grad School\\Master's\\Term 2 Classes\\544\\Replication\\My Addition\\Congressional District Shapefiles\\109th - J 2005 - D 2006\\districtShapes\\districts109.shp\")\n",
    "congress_2003_2005 = gpd.read_file(r\"C:\\Users\\mikha\\OneDrive\\Desktop\\Dropbox\\MIKHAEL NEW\\mikhael school\\Grad School\\Master's\\Term 2 Classes\\544\\Replication\\My Addition\\Congressional District Shapefiles\\108th -\\districts108.shp\")\n",
    "congress_2001_2002 = gpd.read_file(r\"C:\\Users\\mikha\\OneDrive\\Desktop\\Dropbox\\MIKHAEL NEW\\mikhael school\\Grad School\\Master's\\Term 2 Classes\\544\\Replication\\My Addition\\Congressional District Shapefiles\\107th - J 2001 - N 2002\\districtShapes\\districts107.shp\")\n",
    "congress_1999_2000 = gpd.read_file(r\"C:\\Users\\mikha\\OneDrive\\Desktop\\Dropbox\\MIKHAEL NEW\\mikhael school\\Grad School\\Master's\\Term 2 Classes\\544\\Replication\\My Addition\\Congressional District Shapefiles\\106th - J 1999 - D 2000\\districtShapes\\districts106.shp\")\n",
    "congress_1997_1998 = gpd.read_file(r\"C:\\Users\\mikha\\OneDrive\\Desktop\\Dropbox\\MIKHAEL NEW\\mikhael school\\Grad School\\Master's\\Term 2 Classes\\544\\Replication\\My Addition\\Congressional District Shapefiles\\105th - J 1997 - D 1998\\districtShapes\\districts105.shp\")"
   ]
  },
  {
   "cell_type": "markdown",
   "metadata": {
    "hidden": true
   },
   "source": [
    "### Merge into one DF"
   ]
  },
  {
   "cell_type": "code",
   "execution_count": 39,
   "metadata": {
    "hidden": true
   },
   "outputs": [],
   "source": [
    "congress_2015_2017['election year'] = 2014\n",
    "congress_2013_2014['election year'] = 2012\n",
    "congress_2011_2013['election year'] = 2010\n",
    "congress_2009_2010['election year'] = 2008\n",
    "congress_2007_2009['election year'] = 2006\n",
    "congress_2005_2006['election year'] = 2004\n",
    "congress_2003_2005['election year'] = 2002\n",
    "congress_2001_2002['election year'] = 2000\n",
    "congress_1999_2000['election year'] = 1998\n",
    "congress_1997_1998['election year'] = 1996\n",
    "\n",
    "merged_district_df = pd.concat([congress_1997_1998, congress_1999_2000, congress_2001_2002,\n",
    "                          congress_2003_2005, congress_2005_2006, congress_2007_2009,\n",
    "                          congress_2009_2010, congress_2011_2013, congress_2013_2014,\n",
    "                          congress_2015_2017], ignore_index=True)\n",
    "\n",
    "merged_district_df.columns = ['state',\n",
    " 'ID',\n",
    " 'district',\n",
    " 'STARTCONG',\n",
    " 'ENDCONG',\n",
    " 'DISTRICTSI',\n",
    " 'COUNTY',\n",
    " 'PAGE',\n",
    " 'LAW',\n",
    " 'NOTE',\n",
    " 'BESTDEC',\n",
    " 'RNOTE',\n",
    " 'FROMCOUNTY',\n",
    " 'LASTCHANGE',\n",
    " 'FINALNOTE',\n",
    " 'geometry',\n",
    " 'election year']"
   ]
  },
  {
   "cell_type": "markdown",
   "metadata": {},
   "source": [
    "## Drop districts with invalid geometry"
   ]
  },
  {
   "cell_type": "code",
   "execution_count": 40,
   "metadata": {},
   "outputs": [],
   "source": [
    "# drop NaN geometry\n",
    "merged_district_df = merged_district_df[merged_district_df['geometry'].isna()==False]"
   ]
  },
  {
   "cell_type": "code",
   "execution_count": 41,
   "metadata": {},
   "outputs": [],
   "source": [
    "merged_district_df = merged_district_df[merged_district_df['geometry'].is_valid == True]"
   ]
  },
  {
   "cell_type": "markdown",
   "metadata": {},
   "source": [
    "### Convert district to integer"
   ]
  },
  {
   "cell_type": "code",
   "execution_count": 42,
   "metadata": {},
   "outputs": [],
   "source": [
    "merged_district_df['district'] = merged_district_df['district'].astype(int)"
   ]
  },
  {
   "cell_type": "markdown",
   "metadata": {},
   "source": [
    "### Uppercase"
   ]
  },
  {
   "cell_type": "code",
   "execution_count": 43,
   "metadata": {},
   "outputs": [],
   "source": [
    "merged_district_df = merged_district_df.applymap(lambda s:s.upper() if type(s) == str else s)"
   ]
  },
  {
   "cell_type": "markdown",
   "metadata": {},
   "source": [
    "## County boundary changes\n",
    "\n",
    "Not worrying about these now - 41/3000+ counties changed borders over this 20 year period (roughly 1%)\n",
    "\n",
    "**NOTE:MAYBE SHOULD JUST DROP THESE (AND MAKE A DF OF ALL DROPPED COUNTIES WITH REASONS FOR DROPPING)**"
   ]
  },
  {
   "cell_type": "code",
   "execution_count": 44,
   "metadata": {},
   "outputs": [],
   "source": [
    "county_changes_shp = gpd.read_file(r\"C:\\Users\\mikha\\OneDrive\\Desktop\\Dropbox\\MIKHAEL NEW\\mikhael school\\Grad School\\Master's\\Term 2 Classes\\544\\Replication\\My Addition\\Historical County Shapefiles\\US_AtlasHCB_Counties_Gen001\\US_HistCounties_Gen001_Shapefile\\US_HistCounties_Gen001.shp\")"
   ]
  },
  {
   "cell_type": "code",
   "execution_count": 45,
   "metadata": {},
   "outputs": [],
   "source": [
    "county_changes_shp['year'] = county_changes_shp['START_DATE'].astype(str).str[:4].astype(int)"
   ]
  },
  {
   "cell_type": "markdown",
   "metadata": {},
   "source": [
    "### Drop all obs for years we don't have data (pre-BASE_YEAR) "
   ]
  },
  {
   "cell_type": "code",
   "execution_count": 46,
   "metadata": {},
   "outputs": [],
   "source": [
    "county_changes_shp = county_changes_shp[county_changes_shp['year'] >= BASE_YEAR]"
   ]
  },
  {
   "cell_type": "code",
   "execution_count": 47,
   "metadata": {},
   "outputs": [
    {
     "name": "stdout",
     "output_type": "stream",
     "text": [
      "There are 41 changes to US Counties from 1998 to present\n"
     ]
    }
   ],
   "source": [
    "print(f\"There are {len(county_changes_shp)} changes to US Counties from {BASE_YEAR} to present\")"
   ]
  },
  {
   "cell_type": "markdown",
   "metadata": {
    "heading_collapsed": true
   },
   "source": [
    "### Still have to do something with the changes in county boundaries\n",
    "\n",
    "Maybe just drop them? There are very few, should be fine if it isn't in one of our $\\approx 60$ agricultural congressional districts"
   ]
  },
  {
   "cell_type": "markdown",
   "metadata": {},
   "source": [
    "### Uppercase"
   ]
  },
  {
   "cell_type": "code",
   "execution_count": 48,
   "metadata": {},
   "outputs": [],
   "source": [
    "county_changes_shp = county_changes_shp.applymap(lambda s:s.upper() if type(s) == str else s)"
   ]
  },
  {
   "cell_type": "code",
   "execution_count": 49,
   "metadata": {},
   "outputs": [
    {
     "data": {
      "text/plain": [
       "4284"
      ]
     },
     "execution_count": 49,
     "metadata": {},
     "output_type": "execute_result"
    }
   ],
   "source": [
    "len(merged_district_df)"
   ]
  },
  {
   "cell_type": "code",
   "execution_count": 50,
   "metadata": {
    "scrolled": true
   },
   "outputs": [],
   "source": [
    "# merged_district_df = merged_district_df[merged_district_df['geometry'].is_valid == True]"
   ]
  },
  {
   "cell_type": "markdown",
   "metadata": {},
   "source": [
    "## Create dictionaries for counties in district & districts in county\n",
    "\n",
    "**THIS IS NOT WORKING RIGHT NOW!!!!!!!!!!!!!!!!!!!!!!!!! (see double-checks)**"
   ]
  },
  {
   "cell_type": "code",
   "execution_count": 51,
   "metadata": {},
   "outputs": [],
   "source": [
    "from tqdm import tqdm"
   ]
  },
  {
   "cell_type": "code",
   "execution_count": 52,
   "metadata": {},
   "outputs": [
    {
     "name": "stderr",
     "output_type": "stream",
     "text": [
      "100%|██████████████████████████████████████████████████████████████████████████████████| 49/49 [39:23<00:00, 48.23s/it]\n"
     ]
    }
   ],
   "source": [
    "# counties_in_district_dict[state][year][district] = list of counties in that cong. district. specifically, (county_x, county x as % of district y land area)\n",
    "# districts_from_county_dict[state][year][county] = list of cong. districts that this county is a part of\n",
    "\n",
    "counties_in_district_dict = {}\n",
    "districts_from_county_dict = {}\n",
    "\n",
    "for state in tqdm(list(set(merged_district_df['state']))): #nothing special about this df - it's just a list of states\n",
    "    counties_in_district_dict[state] = {}\n",
    "    districts_from_county_dict[state] = {}\n",
    "    \n",
    "    for year in list(set(elec_df['year'])):\n",
    "        if 2000 <= year <= 2014: #limit to years we have data for\n",
    "            counties_in_district_dict[state][year] = {}\n",
    "            districts_from_county_dict[state][year] = {}\n",
    "\n",
    "            for county in county_shp[county_shp['state']==state]['NAME']:\n",
    "                districts_from_county_dict[state][year][county] = []\n",
    "\n",
    "            for district in list(set(merged_district_df[(merged_district_df['state']==state) & (merged_district_df['election year']==year)]['district'])): #loop over all districts from the state and year\n",
    "                counties_in_district_dict[state][year][district] = []\n",
    "\n",
    "                #iterate only over same state in both dfs (county and district), otherwise this would probably take forever\n",
    "                for i1,district_row in merged_district_df[(merged_district_df['state']==state) & (merged_district_df['election year']==year) & (merged_district_df['district']==district)].iterrows():\n",
    "                    for i2,county_row in county_shp[county_shp['state']==state].iterrows():\n",
    "\n",
    "                        if district_row['geometry'].intersects(county_row['geometry']):\n",
    "                            intersec = district_row['geometry'].intersection(county_row['geometry']).area\n",
    "                            intersection_over_district_area = intersec / district_row['geometry'].area\n",
    "                            intersection_over_county_area = intersec / county_row['geometry'].area\n",
    "\n",
    "                            counties_in_district_dict[state][year][district].append(tuple([county_row['NAME'], intersection_over_district_area])) #add name, (area of county & district overlap) / (total district area) as tuple. this is the list of counties that are in a district, with county overlap as a percentage of district area\n",
    "                            districts_from_county_dict[state][year][county_row['NAME']].append(tuple([district, intersection_over_county_area])) #add name, (area of county & district overlap) / (total county area) as tuple. this is the list of districts that are in a county, with district overlap as a percentage of county area"
   ]
  },
  {
   "cell_type": "markdown",
   "metadata": {},
   "source": [
    "### Double-check that each county's district areas sum to $\\approx$ 1\n",
    "\n",
    "**SHOULD REMOVE THESE FROM ANALYSIS IF I CANT FIGURE OUT WHAT CAUSES THEM**\n",
    "\n",
    "Maybe county shps are less precise than districts'?"
   ]
  },
  {
   "cell_type": "code",
   "execution_count": null,
   "metadata": {
    "scrolled": true
   },
   "outputs": [],
   "source": [
    "counties_that_dont_belong = {'state':[], 'year':[], 'county':[], 'pct coverage':[]}\n",
    "\n",
    "for state in districts_from_county_dict:\n",
    "    for year in districts_from_county_dict[state]:\n",
    "        if 2000 <= year <= 2014:\n",
    "            for county in districts_from_county_dict[state][year]:\n",
    "                if not .95 <= sum([x[1] for x in districts_from_county_dict[state][year][county]]) <= 1.01:\n",
    "#                     print(state, year, county, sum([x[1] for x in districts_from_county_dict[state][year][county]]))\n",
    "                    counties_that_dont_belong['state'].append(state)\n",
    "                    counties_that_dont_belong['year'].append(year)                \n",
    "                    counties_that_dont_belong['county'].append(county)                \n",
    "                    counties_that_dont_belong['pct coverage'].append(sum([x[1] for x in districts_from_county_dict[state][year][county]]))                \n",
    "                \n",
    "messed_up_counties = pd.DataFrame(counties_that_dont_belong)"
   ]
  },
  {
   "cell_type": "code",
   "execution_count": 65,
   "metadata": {},
   "outputs": [
    {
     "name": "stdout",
     "output_type": "stream",
     "text": [
      "there are 961 messed up county observations out of approx 22624, or 4.247701555869873%\n"
     ]
    }
   ],
   "source": [
    "print(f'there are {len(messed_up_counties)} messed up county observations out of approx {round(len(county_shp)*(2014-2000)/2)}, or {100 * len(messed_up_counties) / round(len(county_shp)*(2014-2000)/2)}%')"
   ]
  },
  {
   "cell_type": "markdown",
   "metadata": {},
   "source": [
    "so roughly 2/3 counties are screwed up... weird because counties in districts appear to be totalled up correctly"
   ]
  },
  {
   "cell_type": "markdown",
   "metadata": {
    "heading_collapsed": true
   },
   "source": [
    "### Double-check that each district's counties sum up to $\\approx 1$\n",
    "\n",
    "looks good :)"
   ]
  },
  {
   "cell_type": "code",
   "execution_count": 55,
   "metadata": {
    "hidden": true
   },
   "outputs": [
    {
     "name": "stdout",
     "output_type": "stream",
     "text": [
      "LOUISIANA 2012 1 0.969899242346452\n",
      "LOUISIANA 2014 1 0.969899242346452\n"
     ]
    }
   ],
   "source": [
    "for state in counties_in_district_dict:\n",
    "    for year in counties_in_district_dict[state]:\n",
    "        for district in counties_in_district_dict[state][year]:\n",
    "            if sum([x[1] for x in counties_in_district_dict[state][year][district]]) <= .98 or sum([x[1] for x in counties_in_district_dict[state][year][district]]) > 1.01:\n",
    "                print(state, year, district, sum([x[1] for x in counties_in_district_dict[state][year][district]]))"
   ]
  },
  {
   "cell_type": "markdown",
   "metadata": {
    "heading_collapsed": true
   },
   "source": [
    "## Left off here Feb 25 - next steps:\n",
    "\n",
    "* make sure \"county_in_district_dict\" is running smoothly (will probably take a while))\n",
    "* map counties to congressional districts in the elec_df (will probably end up being final df)\n",
    "     * will need to map drought *and* demographics\n",
    "* get demographic data per county over time\n",
    "* "
   ]
  },
  {
   "cell_type": "markdown",
   "metadata": {},
   "source": [
    "# Combine county and district data (independent var)\n",
    "\n",
    "i.e. bring county drought data to congressional districts\n",
    "\n",
    "\n",
    "* Get county shapefiles\n",
    "* Get congressional district shapefiles\n",
    "* map counties (and county-data I have) to their districts in a dataframe"
   ]
  },
  {
   "cell_type": "markdown",
   "metadata": {},
   "source": [
    "## Create dictionary matching districts and drought by period"
   ]
  },
  {
   "cell_type": "markdown",
   "metadata": {},
   "source": [
    "### "
   ]
  },
  {
   "cell_type": "code",
   "execution_count": null,
   "metadata": {
    "scrolled": true
   },
   "outputs": [],
   "source": [
    "district_drought_dict = {}\n",
    "\n",
    "for state in counties_in_district_dict:\n",
    "    district_drought_dict[state] = {}\n",
    "    \n",
    "    for year in counties_in_district_dict[state]:\n",
    "        district_drought_dict[state][year] = {}\n",
    "        \n",
    "        for district in counties_in_district_dict[state][year]:\n",
    "            try:\n",
    "                avg_drought_over_period = sum(drought_df.loc[state_abbrev_dict[state.upper()], year, county[0]]*county[1] for county in counties_in_district_dict[state][year][district])  #this is weighted by the percent of a district each county accounts for. e.g. if 1/4 of a district is a county in full drought, and the other 3/4 is a county with no drought, the district ends up with 1/4 drought (roughly speaking) \n",
    "\n",
    "                district_drought_dict[state][year][int(district)] = avg_drought_over_period\n",
    "\n",
    "            except Exception as e:\n",
    "                if 'St.' not in str(e):\n",
    "                \n",
    "                    print(e)\n",
    "#                     print(state,year,district)\n",
    "                \n",
    "            "
   ]
  },
  {
   "cell_type": "markdown",
   "metadata": {},
   "source": [
    "need to remove 'city', st.-->saint, et.c from counties_in_district_dict.\n",
    "\n",
    "to do this, will need to change df it's generated from:\n",
    "\n",
    "* so both merged_district_df and county_shp"
   ]
  },
  {
   "cell_type": "markdown",
   "metadata": {},
   "source": [
    "## Turn this into a dataframe"
   ]
  },
  {
   "cell_type": "code",
   "execution_count": 57,
   "metadata": {
    "scrolled": true
   },
   "outputs": [],
   "source": [
    "district_drought_df = pd.DataFrame.from_dict({(state,year,district): district_drought_dict[state][year][district] \n",
    "                           for state in district_drought_dict.keys() \n",
    "                           for year in district_drought_dict[state].keys()\n",
    "                           for district in district_drought_dict[state][year].keys()},\n",
    "                       orient='index')\n",
    "\n",
    "district_drought_df.index.names = ['state', 'year', 'district']"
   ]
  },
  {
   "cell_type": "markdown",
   "metadata": {},
   "source": [
    "## Merge this dataframe with elec_df"
   ]
  },
  {
   "cell_type": "code",
   "execution_count": 58,
   "metadata": {
    "scrolled": true
   },
   "outputs": [],
   "source": [
    "elec_df = elec_df.set_index(['state', 'year', 'district']).merge(district_drought_df, on=['state', 'year', 'district']).reset_index()"
   ]
  },
  {
   "cell_type": "markdown",
   "metadata": {},
   "source": [
    "# Trends in Congressional Voting Analysis (dependent var)\n",
    "\n",
    "Idea: conduct a regression for each district over the years.\n",
    "\n",
    "**Should do this for republican, democrat shares too - will be easy**"
   ]
  },
  {
   "cell_type": "markdown",
   "metadata": {},
   "source": [
    "### Import"
   ]
  },
  {
   "cell_type": "code",
   "execution_count": 59,
   "metadata": {},
   "outputs": [],
   "source": [
    "import statsmodels.api as sm\n",
    "import statsmodels.formula.api as smf"
   ]
  },
  {
   "cell_type": "markdown",
   "metadata": {},
   "source": [
    "## Total Turnout"
   ]
  },
  {
   "cell_type": "markdown",
   "metadata": {
    "heading_collapsed": true
   },
   "source": [
    "### Notes"
   ]
  },
  {
   "cell_type": "markdown",
   "metadata": {
    "hidden": true
   },
   "source": [
    "Here, I fit a simple trendline through turnout data. This is done individually for each district and year.\n",
    "\n",
    "This analysis allows us to compare actual turnout to expected turnout. Eventually, this will be used to see if drought leads to changes relative to the trend. \n",
    "\n",
    "Formula is $$\\text{totalturnout} = \\text{year} + \\text{DPres}$$,\n",
    "\n",
    "where $\\text{DPres}=1(\\text{Presidential Election Year})$\n",
    "\n",
    "Using 'HC3' robust standard errors - cite: https://jslsoc.sitehost.iu.edu/files_research/testing_tests/hccm/00TAS.pdf\n",
    "\n",
    "Need to collapse subsets further, since they're now basically weighted by number of contestants in each election (although I've already deleted non-major parties, so weight should be essentially equal over the years at ~2 per year). In sum, not an issue to worry about right now.  \n",
    "* Just to confirm this, $correlation(\\text{\" year of election\"}, \\text{\"turnout - predicted\"}) = 2.951465137113311e-13 \\approx 0$"
   ]
  },
  {
   "cell_type": "markdown",
   "metadata": {},
   "source": [
    "### Over all observed years"
   ]
  },
  {
   "cell_type": "code",
   "execution_count": 60,
   "metadata": {
    "code_folding": []
   },
   "outputs": [],
   "source": [
    "\"\"\"\n",
    "steps in this code cell:\n",
    "1) select subsets of observations by state and district (e.g. MD 8th district over all years observed)\n",
    "2) regress 'totalturnout ~ year + DPres'\n",
    "3) put residuals back into subset\n",
    "\"\"\"\n",
    "\n",
    "elec_df['turnout_minus_predicted_all_years'] = np.nan #will iteratively fill below\n",
    "\n",
    "for state in set(elec_df['state']):\n",
    "    for district in set(elec_df[elec_df['state']==state]['district']):\n",
    "        \n",
    "        subset = elec_df[(elec_df['state']==state) & (elec_df['district'] == district)]\n",
    "        regression_filter = (elec_df['state']==state) & (elec_df['district'] == district)\n",
    "\n",
    "        regression = smf.ols(formula='totalturnout ~ year + DPres', data=subset)\n",
    "        regression_result = regression.fit(cov_type='HC3')\n",
    "\n",
    "        elec_df.loc[regression_filter, 'turnout_minus_predicted_all_years'] = regression_result.resid        \n",
    "#         elec_df.loc[regression_filter, 'turnout - predicted'] = regression_result.resid"
   ]
  },
  {
   "cell_type": "markdown",
   "metadata": {},
   "source": [
    "### ONLY Over years we have drought data for\n",
    "\n",
    "WHY TFFF WON'T THIS WORK?"
   ]
  },
  {
   "cell_type": "code",
   "execution_count": 61,
   "metadata": {
    "code_folding": [],
    "scrolled": true
   },
   "outputs": [],
   "source": [
    "\"\"\"\n",
    "identical steps in this cell as the one above\n",
    "\"\"\"\n",
    "\n",
    "elec_df['turnout_-_predicted_(observed_years)'] = np.nan #will iteratively fill below\n",
    "\n",
    "for state in set(elec_df['state']):\n",
    "    for district in set(elec_df[elec_df['state']==state]['district']):\n",
    "        \n",
    "        subset = elec_df[(elec_df['state']==state) & (elec_df['district'] == district) & (elec_df['year'] >= BASE_YEAR)]\n",
    "        regression_filter = (elec_df['state']==state) & (elec_df['district'] == district) & (elec_df['year'] >= BASE_YEAR)\n",
    "\n",
    "        regression = smf.ols(formula='totalturnout ~ year + DPres', data=subset)\n",
    "        regression_result = regression.fit(cov_type='HC3')\n",
    "\n",
    "        elec_df.loc[regression_filter, 'turnout_-_predicted_(observed_years)'] = regression_result.resid"
   ]
  },
  {
   "cell_type": "markdown",
   "metadata": {
    "heading_collapsed": true
   },
   "source": [
    "#### Confirm that this worked\n",
    "\n",
    "looks pretty good - red points are residuals from regression"
   ]
  },
  {
   "cell_type": "code",
   "execution_count": 62,
   "metadata": {
    "hidden": true
   },
   "outputs": [
    {
     "ename": "KeyError",
     "evalue": "'turnout - predicted (all years)'",
     "output_type": "error",
     "traceback": [
      "\u001b[1;31m---------------------------------------------------------------------------\u001b[0m",
      "\u001b[1;31mKeyError\u001b[0m                                  Traceback (most recent call last)",
      "\u001b[1;32m~\\Anaconda\\envs\\geopandas_env\\lib\\site-packages\\pandas\\core\\indexes\\base.py\u001b[0m in \u001b[0;36mget_loc\u001b[1;34m(self, key, method, tolerance)\u001b[0m\n\u001b[0;32m   3079\u001b[0m             \u001b[1;32mtry\u001b[0m\u001b[1;33m:\u001b[0m\u001b[1;33m\u001b[0m\u001b[1;33m\u001b[0m\u001b[0m\n\u001b[1;32m-> 3080\u001b[1;33m                 \u001b[1;32mreturn\u001b[0m \u001b[0mself\u001b[0m\u001b[1;33m.\u001b[0m\u001b[0m_engine\u001b[0m\u001b[1;33m.\u001b[0m\u001b[0mget_loc\u001b[0m\u001b[1;33m(\u001b[0m\u001b[0mcasted_key\u001b[0m\u001b[1;33m)\u001b[0m\u001b[1;33m\u001b[0m\u001b[1;33m\u001b[0m\u001b[0m\n\u001b[0m\u001b[0;32m   3081\u001b[0m             \u001b[1;32mexcept\u001b[0m \u001b[0mKeyError\u001b[0m \u001b[1;32mas\u001b[0m \u001b[0merr\u001b[0m\u001b[1;33m:\u001b[0m\u001b[1;33m\u001b[0m\u001b[1;33m\u001b[0m\u001b[0m\n",
      "\u001b[1;32mpandas\\_libs\\index.pyx\u001b[0m in \u001b[0;36mpandas._libs.index.IndexEngine.get_loc\u001b[1;34m()\u001b[0m\n",
      "\u001b[1;32mpandas\\_libs\\index.pyx\u001b[0m in \u001b[0;36mpandas._libs.index.IndexEngine.get_loc\u001b[1;34m()\u001b[0m\n",
      "\u001b[1;32mpandas\\_libs\\hashtable_class_helper.pxi\u001b[0m in \u001b[0;36mpandas._libs.hashtable.PyObjectHashTable.get_item\u001b[1;34m()\u001b[0m\n",
      "\u001b[1;32mpandas\\_libs\\hashtable_class_helper.pxi\u001b[0m in \u001b[0;36mpandas._libs.hashtable.PyObjectHashTable.get_item\u001b[1;34m()\u001b[0m\n",
      "\u001b[1;31mKeyError\u001b[0m: 'turnout - predicted (all years)'",
      "\nThe above exception was the direct cause of the following exception:\n",
      "\u001b[1;31mKeyError\u001b[0m                                  Traceback (most recent call last)",
      "\u001b[1;32m<ipython-input-62-d99d8f477795>\u001b[0m in \u001b[0;36m<module>\u001b[1;34m\u001b[0m\n\u001b[0;32m      4\u001b[0m \u001b[1;33m\u001b[0m\u001b[0m\n\u001b[0;32m      5\u001b[0m     \u001b[0max1\u001b[0m \u001b[1;33m=\u001b[0m \u001b[0mplotting_subset\u001b[0m\u001b[1;33m.\u001b[0m\u001b[0mplot\u001b[0m\u001b[1;33m.\u001b[0m\u001b[0mscatter\u001b[0m\u001b[1;33m(\u001b[0m\u001b[0mx\u001b[0m\u001b[1;33m=\u001b[0m\u001b[1;34m'year'\u001b[0m\u001b[1;33m,\u001b[0m \u001b[0my\u001b[0m\u001b[1;33m=\u001b[0m\u001b[1;34m'totalturnout'\u001b[0m\u001b[1;33m,\u001b[0m \u001b[0mcolor\u001b[0m\u001b[1;33m=\u001b[0m\u001b[1;34m'black'\u001b[0m\u001b[1;33m)\u001b[0m\u001b[1;33m\u001b[0m\u001b[1;33m\u001b[0m\u001b[0m\n\u001b[1;32m----> 6\u001b[1;33m     \u001b[0max2\u001b[0m \u001b[1;33m=\u001b[0m \u001b[0mplotting_subset\u001b[0m\u001b[1;33m.\u001b[0m\u001b[0mplot\u001b[0m\u001b[1;33m.\u001b[0m\u001b[0mscatter\u001b[0m\u001b[1;33m(\u001b[0m\u001b[0mx\u001b[0m\u001b[1;33m=\u001b[0m\u001b[1;34m'year'\u001b[0m\u001b[1;33m,\u001b[0m \u001b[0my\u001b[0m\u001b[1;33m=\u001b[0m\u001b[1;34m'turnout - predicted (all years)'\u001b[0m\u001b[1;33m,\u001b[0m \u001b[0mcolor\u001b[0m\u001b[1;33m=\u001b[0m\u001b[1;34m'red'\u001b[0m\u001b[1;33m,\u001b[0m \u001b[0max\u001b[0m\u001b[1;33m=\u001b[0m\u001b[0max1\u001b[0m\u001b[1;33m)\u001b[0m\u001b[1;33m\u001b[0m\u001b[1;33m\u001b[0m\u001b[0m\n\u001b[0m\u001b[0;32m      7\u001b[0m \u001b[1;31m#     ax1.suptitle(f'actual vs. predicted turnout; residuals from MD district {district}')\u001b[0m\u001b[1;33m\u001b[0m\u001b[1;33m\u001b[0m\u001b[1;33m\u001b[0m\u001b[0m\n\u001b[0;32m      8\u001b[0m     \u001b[0max1\u001b[0m\u001b[1;33m.\u001b[0m\u001b[0mplot\u001b[0m\u001b[1;33m(\u001b[0m\u001b[1;33m)\u001b[0m\u001b[1;33m\u001b[0m\u001b[1;33m\u001b[0m\u001b[0m\n",
      "\u001b[1;32m~\\Anaconda\\envs\\geopandas_env\\lib\\site-packages\\pandas\\plotting\\_core.py\u001b[0m in \u001b[0;36mscatter\u001b[1;34m(self, x, y, s, c, **kwargs)\u001b[0m\n\u001b[0;32m   1617\u001b[0m             ...                       colormap='viridis')\n\u001b[0;32m   1618\u001b[0m         \"\"\"\n\u001b[1;32m-> 1619\u001b[1;33m         \u001b[1;32mreturn\u001b[0m \u001b[0mself\u001b[0m\u001b[1;33m(\u001b[0m\u001b[0mkind\u001b[0m\u001b[1;33m=\u001b[0m\u001b[1;34m\"scatter\"\u001b[0m\u001b[1;33m,\u001b[0m \u001b[0mx\u001b[0m\u001b[1;33m=\u001b[0m\u001b[0mx\u001b[0m\u001b[1;33m,\u001b[0m \u001b[0my\u001b[0m\u001b[1;33m=\u001b[0m\u001b[0my\u001b[0m\u001b[1;33m,\u001b[0m \u001b[0ms\u001b[0m\u001b[1;33m=\u001b[0m\u001b[0ms\u001b[0m\u001b[1;33m,\u001b[0m \u001b[0mc\u001b[0m\u001b[1;33m=\u001b[0m\u001b[0mc\u001b[0m\u001b[1;33m,\u001b[0m \u001b[1;33m**\u001b[0m\u001b[0mkwargs\u001b[0m\u001b[1;33m)\u001b[0m\u001b[1;33m\u001b[0m\u001b[1;33m\u001b[0m\u001b[0m\n\u001b[0m\u001b[0;32m   1620\u001b[0m \u001b[1;33m\u001b[0m\u001b[0m\n\u001b[0;32m   1621\u001b[0m     \u001b[1;32mdef\u001b[0m \u001b[0mhexbin\u001b[0m\u001b[1;33m(\u001b[0m\u001b[0mself\u001b[0m\u001b[1;33m,\u001b[0m \u001b[0mx\u001b[0m\u001b[1;33m,\u001b[0m \u001b[0my\u001b[0m\u001b[1;33m,\u001b[0m \u001b[0mC\u001b[0m\u001b[1;33m=\u001b[0m\u001b[1;32mNone\u001b[0m\u001b[1;33m,\u001b[0m \u001b[0mreduce_C_function\u001b[0m\u001b[1;33m=\u001b[0m\u001b[1;32mNone\u001b[0m\u001b[1;33m,\u001b[0m \u001b[0mgridsize\u001b[0m\u001b[1;33m=\u001b[0m\u001b[1;32mNone\u001b[0m\u001b[1;33m,\u001b[0m \u001b[1;33m**\u001b[0m\u001b[0mkwargs\u001b[0m\u001b[1;33m)\u001b[0m\u001b[1;33m:\u001b[0m\u001b[1;33m\u001b[0m\u001b[1;33m\u001b[0m\u001b[0m\n",
      "\u001b[1;32m~\\Anaconda\\envs\\geopandas_env\\lib\\site-packages\\pandas\\plotting\\_core.py\u001b[0m in \u001b[0;36m__call__\u001b[1;34m(self, *args, **kwargs)\u001b[0m\n\u001b[0;32m    898\u001b[0m         \u001b[1;32mif\u001b[0m \u001b[0mkind\u001b[0m \u001b[1;32min\u001b[0m \u001b[0mself\u001b[0m\u001b[1;33m.\u001b[0m\u001b[0m_dataframe_kinds\u001b[0m\u001b[1;33m:\u001b[0m\u001b[1;33m\u001b[0m\u001b[1;33m\u001b[0m\u001b[0m\n\u001b[0;32m    899\u001b[0m             \u001b[1;32mif\u001b[0m \u001b[0misinstance\u001b[0m\u001b[1;33m(\u001b[0m\u001b[0mdata\u001b[0m\u001b[1;33m,\u001b[0m \u001b[0mABCDataFrame\u001b[0m\u001b[1;33m)\u001b[0m\u001b[1;33m:\u001b[0m\u001b[1;33m\u001b[0m\u001b[1;33m\u001b[0m\u001b[0m\n\u001b[1;32m--> 900\u001b[1;33m                 \u001b[1;32mreturn\u001b[0m \u001b[0mplot_backend\u001b[0m\u001b[1;33m.\u001b[0m\u001b[0mplot\u001b[0m\u001b[1;33m(\u001b[0m\u001b[0mdata\u001b[0m\u001b[1;33m,\u001b[0m \u001b[0mx\u001b[0m\u001b[1;33m=\u001b[0m\u001b[0mx\u001b[0m\u001b[1;33m,\u001b[0m \u001b[0my\u001b[0m\u001b[1;33m=\u001b[0m\u001b[0my\u001b[0m\u001b[1;33m,\u001b[0m \u001b[0mkind\u001b[0m\u001b[1;33m=\u001b[0m\u001b[0mkind\u001b[0m\u001b[1;33m,\u001b[0m \u001b[1;33m**\u001b[0m\u001b[0mkwargs\u001b[0m\u001b[1;33m)\u001b[0m\u001b[1;33m\u001b[0m\u001b[1;33m\u001b[0m\u001b[0m\n\u001b[0m\u001b[0;32m    901\u001b[0m             \u001b[1;32melse\u001b[0m\u001b[1;33m:\u001b[0m\u001b[1;33m\u001b[0m\u001b[1;33m\u001b[0m\u001b[0m\n\u001b[0;32m    902\u001b[0m                 \u001b[1;32mraise\u001b[0m \u001b[0mValueError\u001b[0m\u001b[1;33m(\u001b[0m\u001b[1;34mf\"plot kind {kind} can only be used for data frames\"\u001b[0m\u001b[1;33m)\u001b[0m\u001b[1;33m\u001b[0m\u001b[1;33m\u001b[0m\u001b[0m\n",
      "\u001b[1;32m~\\Anaconda\\envs\\geopandas_env\\lib\\site-packages\\pandas\\plotting\\_matplotlib\\__init__.py\u001b[0m in \u001b[0;36mplot\u001b[1;34m(data, kind, **kwargs)\u001b[0m\n\u001b[0;32m     59\u001b[0m             \u001b[0mkwargs\u001b[0m\u001b[1;33m[\u001b[0m\u001b[1;34m\"ax\"\u001b[0m\u001b[1;33m]\u001b[0m \u001b[1;33m=\u001b[0m \u001b[0mgetattr\u001b[0m\u001b[1;33m(\u001b[0m\u001b[0max\u001b[0m\u001b[1;33m,\u001b[0m \u001b[1;34m\"left_ax\"\u001b[0m\u001b[1;33m,\u001b[0m \u001b[0max\u001b[0m\u001b[1;33m)\u001b[0m\u001b[1;33m\u001b[0m\u001b[1;33m\u001b[0m\u001b[0m\n\u001b[0;32m     60\u001b[0m     \u001b[0mplot_obj\u001b[0m \u001b[1;33m=\u001b[0m \u001b[0mPLOT_CLASSES\u001b[0m\u001b[1;33m[\u001b[0m\u001b[0mkind\u001b[0m\u001b[1;33m]\u001b[0m\u001b[1;33m(\u001b[0m\u001b[0mdata\u001b[0m\u001b[1;33m,\u001b[0m \u001b[1;33m**\u001b[0m\u001b[0mkwargs\u001b[0m\u001b[1;33m)\u001b[0m\u001b[1;33m\u001b[0m\u001b[1;33m\u001b[0m\u001b[0m\n\u001b[1;32m---> 61\u001b[1;33m     \u001b[0mplot_obj\u001b[0m\u001b[1;33m.\u001b[0m\u001b[0mgenerate\u001b[0m\u001b[1;33m(\u001b[0m\u001b[1;33m)\u001b[0m\u001b[1;33m\u001b[0m\u001b[1;33m\u001b[0m\u001b[0m\n\u001b[0m\u001b[0;32m     62\u001b[0m     \u001b[0mplot_obj\u001b[0m\u001b[1;33m.\u001b[0m\u001b[0mdraw\u001b[0m\u001b[1;33m(\u001b[0m\u001b[1;33m)\u001b[0m\u001b[1;33m\u001b[0m\u001b[1;33m\u001b[0m\u001b[0m\n\u001b[0;32m     63\u001b[0m     \u001b[1;32mreturn\u001b[0m \u001b[0mplot_obj\u001b[0m\u001b[1;33m.\u001b[0m\u001b[0mresult\u001b[0m\u001b[1;33m\u001b[0m\u001b[1;33m\u001b[0m\u001b[0m\n",
      "\u001b[1;32m~\\Anaconda\\envs\\geopandas_env\\lib\\site-packages\\pandas\\plotting\\_matplotlib\\core.py\u001b[0m in \u001b[0;36mgenerate\u001b[1;34m(self)\u001b[0m\n\u001b[0;32m    278\u001b[0m         \u001b[0mself\u001b[0m\u001b[1;33m.\u001b[0m\u001b[0m_compute_plot_data\u001b[0m\u001b[1;33m(\u001b[0m\u001b[1;33m)\u001b[0m\u001b[1;33m\u001b[0m\u001b[1;33m\u001b[0m\u001b[0m\n\u001b[0;32m    279\u001b[0m         \u001b[0mself\u001b[0m\u001b[1;33m.\u001b[0m\u001b[0m_setup_subplots\u001b[0m\u001b[1;33m(\u001b[0m\u001b[1;33m)\u001b[0m\u001b[1;33m\u001b[0m\u001b[1;33m\u001b[0m\u001b[0m\n\u001b[1;32m--> 280\u001b[1;33m         \u001b[0mself\u001b[0m\u001b[1;33m.\u001b[0m\u001b[0m_make_plot\u001b[0m\u001b[1;33m(\u001b[0m\u001b[1;33m)\u001b[0m\u001b[1;33m\u001b[0m\u001b[1;33m\u001b[0m\u001b[0m\n\u001b[0m\u001b[0;32m    281\u001b[0m         \u001b[0mself\u001b[0m\u001b[1;33m.\u001b[0m\u001b[0m_add_table\u001b[0m\u001b[1;33m(\u001b[0m\u001b[1;33m)\u001b[0m\u001b[1;33m\u001b[0m\u001b[1;33m\u001b[0m\u001b[0m\n\u001b[0;32m    282\u001b[0m         \u001b[0mself\u001b[0m\u001b[1;33m.\u001b[0m\u001b[0m_make_legend\u001b[0m\u001b[1;33m(\u001b[0m\u001b[1;33m)\u001b[0m\u001b[1;33m\u001b[0m\u001b[1;33m\u001b[0m\u001b[0m\n",
      "\u001b[1;32m~\\Anaconda\\envs\\geopandas_env\\lib\\site-packages\\pandas\\plotting\\_matplotlib\\core.py\u001b[0m in \u001b[0;36m_make_plot\u001b[1;34m(self)\u001b[0m\n\u001b[0;32m   1041\u001b[0m         scatter = ax.scatter(\n\u001b[0;32m   1042\u001b[0m             \u001b[0mdata\u001b[0m\u001b[1;33m[\u001b[0m\u001b[0mx\u001b[0m\u001b[1;33m]\u001b[0m\u001b[1;33m.\u001b[0m\u001b[0mvalues\u001b[0m\u001b[1;33m,\u001b[0m\u001b[1;33m\u001b[0m\u001b[1;33m\u001b[0m\u001b[0m\n\u001b[1;32m-> 1043\u001b[1;33m             \u001b[0mdata\u001b[0m\u001b[1;33m[\u001b[0m\u001b[0my\u001b[0m\u001b[1;33m]\u001b[0m\u001b[1;33m.\u001b[0m\u001b[0mvalues\u001b[0m\u001b[1;33m,\u001b[0m\u001b[1;33m\u001b[0m\u001b[1;33m\u001b[0m\u001b[0m\n\u001b[0m\u001b[0;32m   1044\u001b[0m             \u001b[0mc\u001b[0m\u001b[1;33m=\u001b[0m\u001b[0mc_values\u001b[0m\u001b[1;33m,\u001b[0m\u001b[1;33m\u001b[0m\u001b[1;33m\u001b[0m\u001b[0m\n\u001b[0;32m   1045\u001b[0m             \u001b[0mlabel\u001b[0m\u001b[1;33m=\u001b[0m\u001b[0mlabel\u001b[0m\u001b[1;33m,\u001b[0m\u001b[1;33m\u001b[0m\u001b[1;33m\u001b[0m\u001b[0m\n",
      "\u001b[1;32m~\\Anaconda\\envs\\geopandas_env\\lib\\site-packages\\pandas\\core\\frame.py\u001b[0m in \u001b[0;36m__getitem__\u001b[1;34m(self, key)\u001b[0m\n\u001b[0;32m   3022\u001b[0m             \u001b[1;32mif\u001b[0m \u001b[0mself\u001b[0m\u001b[1;33m.\u001b[0m\u001b[0mcolumns\u001b[0m\u001b[1;33m.\u001b[0m\u001b[0mnlevels\u001b[0m \u001b[1;33m>\u001b[0m \u001b[1;36m1\u001b[0m\u001b[1;33m:\u001b[0m\u001b[1;33m\u001b[0m\u001b[1;33m\u001b[0m\u001b[0m\n\u001b[0;32m   3023\u001b[0m                 \u001b[1;32mreturn\u001b[0m \u001b[0mself\u001b[0m\u001b[1;33m.\u001b[0m\u001b[0m_getitem_multilevel\u001b[0m\u001b[1;33m(\u001b[0m\u001b[0mkey\u001b[0m\u001b[1;33m)\u001b[0m\u001b[1;33m\u001b[0m\u001b[1;33m\u001b[0m\u001b[0m\n\u001b[1;32m-> 3024\u001b[1;33m             \u001b[0mindexer\u001b[0m \u001b[1;33m=\u001b[0m \u001b[0mself\u001b[0m\u001b[1;33m.\u001b[0m\u001b[0mcolumns\u001b[0m\u001b[1;33m.\u001b[0m\u001b[0mget_loc\u001b[0m\u001b[1;33m(\u001b[0m\u001b[0mkey\u001b[0m\u001b[1;33m)\u001b[0m\u001b[1;33m\u001b[0m\u001b[1;33m\u001b[0m\u001b[0m\n\u001b[0m\u001b[0;32m   3025\u001b[0m             \u001b[1;32mif\u001b[0m \u001b[0mis_integer\u001b[0m\u001b[1;33m(\u001b[0m\u001b[0mindexer\u001b[0m\u001b[1;33m)\u001b[0m\u001b[1;33m:\u001b[0m\u001b[1;33m\u001b[0m\u001b[1;33m\u001b[0m\u001b[0m\n\u001b[0;32m   3026\u001b[0m                 \u001b[0mindexer\u001b[0m \u001b[1;33m=\u001b[0m \u001b[1;33m[\u001b[0m\u001b[0mindexer\u001b[0m\u001b[1;33m]\u001b[0m\u001b[1;33m\u001b[0m\u001b[1;33m\u001b[0m\u001b[0m\n",
      "\u001b[1;32m~\\Anaconda\\envs\\geopandas_env\\lib\\site-packages\\pandas\\core\\indexes\\base.py\u001b[0m in \u001b[0;36mget_loc\u001b[1;34m(self, key, method, tolerance)\u001b[0m\n\u001b[0;32m   3080\u001b[0m                 \u001b[1;32mreturn\u001b[0m \u001b[0mself\u001b[0m\u001b[1;33m.\u001b[0m\u001b[0m_engine\u001b[0m\u001b[1;33m.\u001b[0m\u001b[0mget_loc\u001b[0m\u001b[1;33m(\u001b[0m\u001b[0mcasted_key\u001b[0m\u001b[1;33m)\u001b[0m\u001b[1;33m\u001b[0m\u001b[1;33m\u001b[0m\u001b[0m\n\u001b[0;32m   3081\u001b[0m             \u001b[1;32mexcept\u001b[0m \u001b[0mKeyError\u001b[0m \u001b[1;32mas\u001b[0m \u001b[0merr\u001b[0m\u001b[1;33m:\u001b[0m\u001b[1;33m\u001b[0m\u001b[1;33m\u001b[0m\u001b[0m\n\u001b[1;32m-> 3082\u001b[1;33m                 \u001b[1;32mraise\u001b[0m \u001b[0mKeyError\u001b[0m\u001b[1;33m(\u001b[0m\u001b[0mkey\u001b[0m\u001b[1;33m)\u001b[0m \u001b[1;32mfrom\u001b[0m \u001b[0merr\u001b[0m\u001b[1;33m\u001b[0m\u001b[1;33m\u001b[0m\u001b[0m\n\u001b[0m\u001b[0;32m   3083\u001b[0m \u001b[1;33m\u001b[0m\u001b[0m\n\u001b[0;32m   3084\u001b[0m         \u001b[1;32mif\u001b[0m \u001b[0mtolerance\u001b[0m \u001b[1;32mis\u001b[0m \u001b[1;32mnot\u001b[0m \u001b[1;32mNone\u001b[0m\u001b[1;33m:\u001b[0m\u001b[1;33m\u001b[0m\u001b[1;33m\u001b[0m\u001b[0m\n",
      "\u001b[1;31mKeyError\u001b[0m: 'turnout - predicted (all years)'"
     ]
    },
    {
     "data": {
      "image/png": "[encoded data removed]",
      "text/plain": [
       "<Figure size 432x288 with 1 Axes>"
      ]
     },
     "metadata": {
      "needs_background": "light"
     },
     "output_type": "display_data"
    }
   ],
   "source": [
    "for district in set(elec_df[(elec_df['state']=='MARYLAND')]['district']):\n",
    "\n",
    "    plotting_subset = elec_df[(elec_df['state']=='MARYLAND') & (elec_df['district'] == district)]\n",
    "\n",
    "    ax1 = plotting_subset.plot.scatter(x='year', y='totalturnout', color='black')\n",
    "    ax2 = plotting_subset.plot.scatter(x='year', y='turnout - predicted (all years)', color='red', ax=ax1)\n",
    "#     ax1.suptitle(f'actual vs. predicted turnout; residuals from MD district {district}')\n",
    "    ax1.plot()"
   ]
  },
  {
   "cell_type": "markdown",
   "metadata": {
    "heading_collapsed": true
   },
   "source": [
    "## Republican Vote Share"
   ]
  },
  {
   "cell_type": "markdown",
   "metadata": {
    "hidden": true
   },
   "source": [
    "### Over all observed years"
   ]
  },
  {
   "cell_type": "code",
   "execution_count": null,
   "metadata": {
    "hidden": true
   },
   "outputs": [],
   "source": [
    "# same steps as for \"Total Turnout\"\n",
    "\n",
    "elec_df['Republican_predicted_voteshare_all_years'] = np.nan #will iteratively fill below\n",
    "\n",
    "for state in set(elec_df['state']):\n",
    "    for district in set(elec_df[elec_df['state']==state]['district']):\n",
    "        \n",
    "        subset = elec_df[(elec_df['state']==state) & (elec_df['district'] == district)]\n",
    "        regression_filter = (elec_df['state']==state) & (elec_df['district'] == district)\n",
    "\n",
    "        regression = smf.ols(formula='Repub_voteshare ~ year + DPres', data=subset)\n",
    "        regression_result = regression.fit(cov_type='HC3')\n",
    "\n",
    "        elec_df.loc[regression_filter, 'Republican_predicted_voteshare_all_years'] = regression_result.resid"
   ]
  },
  {
   "cell_type": "markdown",
   "metadata": {
    "hidden": true
   },
   "source": [
    "### Over drought years"
   ]
  },
  {
   "cell_type": "code",
   "execution_count": null,
   "metadata": {
    "hidden": true
   },
   "outputs": [],
   "source": [
    "# same steps as for \"Total Turnout\"\n",
    "\n",
    "elec_df['Republican_predicted_voteshare_(observed_years)'] = np.nan #will iteratively fill below\n",
    "\n",
    "for state in set(elec_df['state']):\n",
    "    for district in set(elec_df[elec_df['state']==state]['district']):\n",
    "        \n",
    "        subset = elec_df[(elec_df['state']==state) & (elec_df['district'] == district) & (elec_df['year'] >BASE_YEAR)]\n",
    "        regression_filter = (elec_df['state']==state) & (elec_df['district'] == district) & (elec_df['year'] >= BASE_YEAR)\n",
    "\n",
    "        regression = smf.ols(formula='Repub_voteshare ~ year + DPres', data=subset)\n",
    "        regression_result = regression.fit(cov_type='HC3')\n",
    "\n",
    "        elec_df.loc[regression_filter, 'Republican_predicted_voteshare_(observed_years)'] = regression_result.resid"
   ]
  },
  {
   "cell_type": "markdown",
   "metadata": {
    "heading_collapsed": true
   },
   "source": [
    "## Democrat Vote Share"
   ]
  },
  {
   "cell_type": "markdown",
   "metadata": {
    "hidden": true
   },
   "source": [
    "### Over all observed years"
   ]
  },
  {
   "cell_type": "code",
   "execution_count": null,
   "metadata": {
    "hidden": true
   },
   "outputs": [],
   "source": [
    "# same steps as for \"Total Turnout\"\n",
    "\n",
    "elec_df['Democrat_predicted_voteshare_all_years'] = np.nan #will iteratively fill below\n",
    "\n",
    "for state in set(elec_df['state']):\n",
    "    for district in set(elec_df[elec_df['state']==state]['district']):\n",
    "        \n",
    "        subset = elec_df[(elec_df['state']==state) & (elec_df['district'] == district)]\n",
    "        regression_filter = (elec_df['state']==state) & (elec_df['district'] == district)\n",
    "\n",
    "        regression = smf.ols(formula='Dem_voteshare ~ year + DPres', data=subset)\n",
    "        regression_result = regression.fit(cov_type='HC3')\n",
    "\n",
    "        elec_df.loc[regression_filter, 'Democrat_predicted_voteshare_all_years'] = regression_result.resid"
   ]
  },
  {
   "cell_type": "markdown",
   "metadata": {
    "hidden": true
   },
   "source": [
    "### Over drought years"
   ]
  },
  {
   "cell_type": "code",
   "execution_count": null,
   "metadata": {
    "hidden": true
   },
   "outputs": [],
   "source": [
    "# same steps as for \"Total Turnout\"\n",
    "\n",
    "elec_df['Democrat_predicted_voteshare_(observed_years)'] = np.nan #will iteratively fill below\n",
    "\n",
    "for state in set(elec_df['state']):\n",
    "    for district in set(elec_df[elec_df['state']==state]['district']):\n",
    "        \n",
    "        subset = elec_df[(elec_df['state']==state) & (elec_df['district'] == district) & (elec_df['year'] >= BASE_YEAR)]\n",
    "        regression_filter = (elec_df['state']==state) & (elec_df['district'] == district) & (elec_df['year'] >= BASE_YEAR)\n",
    "\n",
    "        regression = smf.ols(formula='Dem_voteshare ~ year + DPres', data=subset)\n",
    "        regression_result = regression.fit(cov_type='HC3')\n",
    "\n",
    "        elec_df.loc[regression_filter, 'Democrat_predicted_voteshare_(observed_years)'] = regression_result.resid"
   ]
  },
  {
   "cell_type": "code",
   "execution_count": null,
   "metadata": {
    "hidden": true
   },
   "outputs": [],
   "source": [
    "elec_df"
   ]
  },
  {
   "cell_type": "markdown",
   "metadata": {},
   "source": [
    "# Analysis\n",
    "\n",
    "\\begin{equation} \\text{turnout - expected}_{it} = Drought_{it} + Drought_{it} \\times D_{agricultural} + ... \\end{equation}\n",
    "\n",
    "\\begin{equation} D_{\\text{incumbent lost}, it} = Drought_{it} + Drought_{it} \\times D_{agricultural} + ...  \\end{equation}\n",
    "\n",
    "\\begin{equation} \\text{R vote share}_{it} = Drought_{it} + Drought_{it} \\times D_{agricultural} + ... \\end{equation}\n",
    "\n",
    "need to convert drought vars to dummies and/or other more usable forms\n",
    "\n",
    "**need to collapse onto minimal repeated values for correct standard errors (otherwise variance of coeff will be underestimated)**\n",
    "\n",
    "**need to add district fixed effects**\n",
    "\n",
    "**need to cluster at district or state level?**"
   ]
  },
  {
   "cell_type": "markdown",
   "metadata": {},
   "source": [
    "### Classify major droughts\n",
    "\n",
    "note: this is arbitrary - see if there's an official definition"
   ]
  },
  {
   "cell_type": "code",
   "execution_count": 73,
   "metadata": {
    "scrolled": true
   },
   "outputs": [],
   "source": [
    "elec_df[\"major_drought\"] = (elec_df['D4'] >= 40)"
   ]
  },
  {
   "cell_type": "markdown",
   "metadata": {},
   "source": [
    "### Convert year to "
   ]
  },
  {
   "cell_type": "code",
   "execution_count": 75,
   "metadata": {},
   "outputs": [],
   "source": [
    "elec_df['year'] = elec_df['year'].astype(str)"
   ]
  },
  {
   "cell_type": "code",
   "execution_count": 76,
   "metadata": {
    "scrolled": false
   },
   "outputs": [
    {
     "name": "stdout",
     "output_type": "stream",
     "text": [
      "                                    OLS Regression Results                                   \n",
      "=============================================================================================\n",
      "Dep. Variable:     turnout_minus_predicted_all_years   R-squared:                       0.183\n",
      "Model:                                           OLS   Adj. R-squared:                  0.177\n",
      "Method:                                Least Squares   F-statistic:                     30.65\n",
      "Date:                               Thu, 04 Mar 2021   Prob (F-statistic):          1.93e-305\n",
      "Time:                                       02:25:45   Log-Likelihood:                -86531.\n",
      "No. Observations:                               7536   AIC:                         1.732e+05\n",
      "Df Residuals:                                   7476   BIC:                         1.736e+05\n",
      "Df Model:                                         59                                         \n",
      "Covariance Type:                                 HC0                                         \n",
      "==============================================================================================================\n",
      "                                                 coef    std err          z      P>|z|      [0.025      0.975]\n",
      "--------------------------------------------------------------------------------------------------------------\n",
      "Intercept                                  -2662.3416   1412.072     -1.885      0.059   -5429.953     105.270\n",
      "major_drought[T.True]                       9934.8628   1.06e+04      0.933      0.351   -1.09e+04    3.08e+04\n",
      "DPres[T.True]                              -1.428e+04    727.045    -19.645      0.000   -1.57e+04   -1.29e+04\n",
      "state[T.ARIZONA]                           -1553.6716   2958.616     -0.525      0.599   -7352.453    4245.110\n",
      "state[T.ARKANSAS]                            913.4653   6409.493      0.143      0.887   -1.16e+04    1.35e+04\n",
      "state[T.CALIFORNIA]                         -741.3114   1857.113     -0.399      0.690   -4381.187    2898.564\n",
      "state[T.COLORADO]                           -665.8456   2409.474     -0.276      0.782   -5388.329    4056.637\n",
      "state[T.CONNECTICUT]                         -46.9860   2023.557     -0.023      0.981   -4013.085    3919.113\n",
      "state[T.DELAWARE]                           -283.8460   3888.970     -0.073      0.942   -7906.087    7338.395\n",
      "state[T.FLORIDA]                            -708.2618   3395.646     -0.209      0.835   -7363.605    5947.082\n",
      "state[T.GEORGIA]                           -1104.2952   2292.997     -0.482      0.630   -5598.488    3389.897\n",
      "state[T.HAWAII]                             -388.1043   2181.721     -0.178      0.859   -4664.199    3887.991\n",
      "state[T.IDAHO]                              -332.8521   2482.173     -0.134      0.893   -5197.822    4532.118\n",
      "state[T.ILLINOIS]                           -731.8490   1866.096     -0.392      0.695   -4389.330    2925.632\n",
      "state[T.INDIANA]                              73.1653   1967.949      0.037      0.970   -3783.944    3930.274\n",
      "state[T.IOWA]                               -403.2829   2775.028     -0.145      0.884   -5842.239    5035.673\n",
      "state[T.KANSAS]                            -1207.0973   2221.668     -0.543      0.587   -5561.487    3147.292\n",
      "state[T.KENTUCKY]                           -153.3813   2076.666     -0.074      0.941   -4223.571    3916.808\n",
      "state[T.LOUISIANA]                           404.9076   4782.519      0.085      0.933   -8968.658    9778.473\n",
      "state[T.MAINE]                               -46.3433   3005.863     -0.015      0.988   -5937.727    5845.040\n",
      "state[T.MARYLAND]                          -1091.5235   1996.930     -0.547      0.585   -5005.435    2822.388\n",
      "state[T.MASSACHUSETTS]                      -929.5525   2371.164     -0.392      0.695   -5576.948    3717.843\n",
      "state[T.MICHIGAN]                           -547.9038   1932.402     -0.284      0.777   -4335.342    3239.534\n",
      "state[T.MINNESOTA]                           -37.9875   2280.725     -0.017      0.987   -4508.126    4432.151\n",
      "state[T.MISSISSIPPI]                        1058.5378   3143.716      0.337      0.736   -5103.033    7220.108\n",
      "state[T.MISSOURI]                           -317.9422   2151.304     -0.148      0.883   -4534.420    3898.535\n",
      "state[T.MONTANA]                            -577.3281   3940.841     -0.146      0.884   -8301.234    7146.578\n",
      "state[T.NEBRASKA]                            428.0423   2484.246      0.172      0.863   -4440.989    5297.074\n",
      "state[T.NEVADA]                             -535.4781   3735.921     -0.143      0.886   -7857.748    6786.792\n",
      "state[T.NEW HAMPSHIRE]                     -1414.0200   2933.356     -0.482      0.630   -7163.293    4335.253\n",
      "state[T.NEW JERSEY]                         -853.0054   1777.221     -0.480      0.631   -4336.295    2630.285\n",
      "state[T.NEW MEXICO]                         -577.3281   3438.641     -0.168      0.867   -7316.940    6162.284\n",
      "state[T.NEW YORK]                           -751.2808   1802.950     -0.417      0.677   -4284.999    2782.437\n",
      "state[T.NORTH CAROLINA]                     -490.4703   2119.026     -0.231      0.817   -4643.685    3662.744\n",
      "state[T.NORTH DAKOTA]                       -577.3281   3420.275     -0.169      0.866   -7280.944    6126.288\n",
      "state[T.OHIO]                                -74.4541   1892.776     -0.039      0.969   -3784.227    3635.318\n",
      "state[T.OKLAHOMA]                            941.3505   4112.310      0.229      0.819   -7118.629    9001.330\n",
      "state[T.OREGON]                              221.1221   2188.059      0.101      0.920   -4067.395    4509.639\n",
      "state[T.PENNSYLVANIA]                       -647.5010   1934.961     -0.335      0.738   -4439.955    3144.953\n",
      "state[T.RHODE ISLAND]                       -359.5833   2114.105     -0.170      0.865   -4503.152    3783.986\n",
      "state[T.SOUTH CAROLINA]                     1082.0418   2770.710      0.391      0.696   -4348.451    6512.534\n",
      "state[T.SOUTH DAKOTA]                       -480.5232   4231.203     -0.114      0.910   -8773.528    7812.482\n",
      "state[T.TENNESSEE]                           -73.2165   2142.734     -0.034      0.973   -4272.898    4126.465\n",
      "state[T.TEXAS]                              -526.9209   1793.042     -0.294      0.769   -4041.219    2987.377\n",
      "state[T.UTAH]                                201.7120   2906.230      0.069      0.945   -5494.395    5897.819\n",
      "state[T.VERMONT]                            1347.1653   3308.233      0.407      0.684   -5136.852    7831.183\n",
      "state[T.VIRGINIA]                           -344.2450   2190.347     -0.157      0.875   -4637.246    3948.756\n",
      "state[T.WASHINGTON]                          258.3112   2325.158      0.111      0.912   -4298.914    4815.536\n",
      "state[T.WEST VIRGINIA]                       552.2392   2606.930      0.212      0.832   -4557.249    5661.727\n",
      "state[T.WISCONSIN]                           -30.1898   2585.876     -0.012      0.991   -5098.414    5038.034\n",
      "state[T.WYOMING]                            -577.3281   1832.110     -0.315      0.753   -4168.199    3013.542\n",
      "year[T.2002]                                7423.0903    626.006     11.858      0.000    6196.142    8650.039\n",
      "year[T.2004]                                2.218e+04   1140.819     19.438      0.000    1.99e+04    2.44e+04\n",
      "year[T.2006]                                9989.7587    705.949     14.151      0.000    8606.123    1.14e+04\n",
      "year[T.2008]                                3.079e+04   1218.213     25.276      0.000    2.84e+04    3.32e+04\n",
      "year[T.2010]                                1.021e+04    700.853     14.571      0.000    8838.237    1.16e+04\n",
      "year[T.2012]                                1.846e+04   1021.041     18.080      0.000    1.65e+04    2.05e+04\n",
      "year[T.2014]                                 -1.6e+04    731.644    -21.874      0.000   -1.74e+04   -1.46e+04\n",
      "major_drought[T.True]:DPres[T.True]         8.977e-14   5.86e-13      0.153      0.878   -1.06e-12    1.24e-12\n",
      "usable                                       146.7696   1046.920      0.140      0.889   -1905.156    2198.695\n",
      "major_drought[T.True]:usable               -8427.3206   1.17e+04     -0.722      0.470   -3.13e+04    1.44e+04\n",
      "usable:DPres[T.True]                         205.2740   1549.694      0.132      0.895   -2832.071    3242.619\n",
      "major_drought[T.True]:usable:DPres[T.True]          0          0        nan        nan           0           0\n",
      "==============================================================================\n",
      "Omnibus:                     3655.763   Durbin-Watson:                   0.969\n",
      "Prob(Omnibus):                  0.000   Jarque-Bera (JB):           100389.521\n",
      "Skew:                          -1.754   Prob(JB):                         0.00\n",
      "Kurtosis:                      20.533   Cond. No.                     1.22e+16\n",
      "==============================================================================\n",
      "\n",
      "Notes:\n",
      "[1] Standard Errors are heteroscedasticity robust (HC0)\n",
      "[2] The smallest eigenvalue is 7.52e-29. This might indicate that there are\n",
      "strong multicollinearity problems or that the design matrix is singular.\n"
     ]
    },
    {
     "name": "stderr",
     "output_type": "stream",
     "text": [
      "C:\\Users\\mikha\\Anaconda\\envs\\geopandas_env\\lib\\site-packages\\statsmodels\\base\\model.py:1832: ValueWarning: covariance of constraints does not have full rank. The number of constraints is 62, but rank is 60\n",
      "  warnings.warn('covariance of constraints does not have full '\n"
     ]
    }
   ],
   "source": [
    "turnout_change_regression = smf.ols(formula='turnout_minus_predicted_all_years ~ major_drought*usable*DPres + state + year', data=elec_df)\n",
    "turnout_change_regression_result = turnout_change_regression.fit(cov_type='HC0') #this might not be the right kind of standard error\n",
    "print(turnout_change_regression_result.summary())"
   ]
  },
  {
   "cell_type": "code",
   "execution_count": null,
   "metadata": {},
   "outputs": [],
   "source": [
    "elec_df['turnout_minus_predicted_all_years']"
   ]
  },
  {
   "cell_type": "markdown",
   "metadata": {},
   "source": [
    "# TO DO\n",
    "\n",
    "* "
   ]
  }
 ],
 "metadata": {
  "author": "m",
  "kernelspec": {
   "display_name": "Python [conda env:geopandas_env]",
   "language": "python",
   "name": "conda-env-geopandas_env-py"
  },
  "language_info": {
   "codemirror_mode": {
    "name": "ipython",
    "version": 3
   },
   "file_extension": ".py",
   "mimetype": "text/x-python",
   "name": "python",
   "nbconvert_exporter": "python",
   "pygments_lexer": "ipython3",
   "version": "3.8.8"
  },
  "latex_envs": {
   "LaTeX_envs_menu_present": true,
   "autoclose": true,
   "autocomplete": true,
   "bibliofile": "biblio.bib",
   "cite_by": "apalike",
   "current_citInitial": 1,
   "eqLabelWithNumbers": true,
   "eqNumInitial": 1,
   "hotkeys": {
    "equation": "Ctrl-E",
    "itemize": "Ctrl-I"
   },
   "labels_anchors": false,
   "latex_user_defs": false,
   "report_style_numbering": false,
   "user_envs_cfg": false
  },
  "toc": {
   "base_numbering": 1,
   "nav_menu": {
    "height": "317.997px",
    "width": "211.989px"
   },
   "number_sections": true,
   "sideBar": true,
   "skip_h1_title": false,
   "title_cell": "Table of Contents",
   "title_sidebar": "Contents",
   "toc_cell": false,
   "toc_position": {},
   "toc_section_display": true,
   "toc_window_display": false
  }
 },
 "nbformat": 4,
 "nbformat_minor": 4
}
