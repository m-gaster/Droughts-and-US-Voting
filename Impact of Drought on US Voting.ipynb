{
 "cells": [
  {
   "cell_type": "code",
   "execution_count": 114,
   "metadata": {},
   "outputs": [
    {
     "data": {
      "text/plain": [
       "'C:\\\\Users\\\\mikha\\\\Dropbox\\\\mikhael_misc\\\\Projects\\\\544 Replication - Bruckner and Ciccone - Rainfall and Voting'"
      ]
     },
     "execution_count": 114,
     "metadata": {},
     "output_type": "execute_result"
    }
   ],
   "source": [
    "import os\n",
    "os.path.abspath(os.getcwd())"
   ]
  },
  {
   "cell_type": "markdown",
   "metadata": {},
   "source": [
    "# Summary:\n",
    "\n",
    "This work follows Bruckner and Ciccone (2011), who found that the negative exogenous economic shocks which followed droughts in sub-Saharan Africa were solid contributors to / predictors of democratic revolutions. \n",
    "\n",
    "I attempt to establish a relationship between droughts (again serving as negative exogenous economic shocks) and political change, which might take any of the following forms:\n",
    "* Increased votes for a specific pro-farmer party (will have to investigate whether democrats or republicans are viewed as pro-farmer.)\n",
    "* Increased probability of an incumbent losing\n",
    "* Increased votes for the Democratic party, who generally favor greater redistribution (see: Acemoglu & Robinson)\n",
    "\n",
    "  \n",
    "  \n",
    " newline\n",
    "\n",
    "The equation of interest takes the form \\begin{equation} Y_{i,t} = \\alpha \\, * Drought_{i,t} + \\beta'X_{i,t} + \\phi_{i,t} + \\psi_{i,t} + u_{i,t} \\end{equation}\n",
    "\n",
    "NOTE: will need to include (and interact) a dummy term for presidential election or not that year.\n",
    "\n",
    "where \n",
    "* $Y_{i,t} = $ our outcome of interest - either vote share for a particular party; probability of an incumbent losing; etc.\n",
    "* $\\alpha = $ the effect of drought on the outcome of interest\n",
    "* $X_{i,t} = $ characteristics of the district at time *t*, such as income, farming as a share of GDP, average farm size, etc.\n",
    "* $\\phi_{i,t} = $ district fixed effects\n",
    "* $\\psi_{i,t} = $ time fixed effects\n",
    "* state fixed effects?\n",
    "\n",
    "include willingness to elect other party? years since change of power? avg years for incumbent to stay in power?"
   ]
  },
  {
   "cell_type": "markdown",
   "metadata": {},
   "source": [
    "# Data Import and Cleaning"
   ]
  },
  {
   "cell_type": "markdown",
   "metadata": {},
   "source": [
    "## Import and Setup"
   ]
  },
  {
   "cell_type": "code",
   "execution_count": 2,
   "metadata": {},
   "outputs": [],
   "source": [
    "import pandas as pd\n",
    "import numpy as np"
   ]
  },
  {
   "cell_type": "code",
   "execution_count": 14,
   "metadata": {},
   "outputs": [
    {
     "data": {
      "text/html": [
       "<style>.container { width:95% !important; }</style>"
      ],
      "text/plain": [
       "<IPython.core.display.HTML object>"
      ]
     },
     "metadata": {},
     "output_type": "display_data"
    }
   ],
   "source": [
    "pd.set_option('display.max_columns', 1000)\n",
    "pd.set_option('display.max_rows', 1000)\n",
    "pd.set_option('display.max_colwidth', 199)\n",
    "\n",
    "from IPython.core.display import display, HTML\n",
    "display(HTML(\"<style>.container { width:95% !important; }</style>\"))"
   ]
  },
  {
   "cell_type": "markdown",
   "metadata": {},
   "source": [
    "## Market Value by District Data"
   ]
  },
  {
   "cell_type": "code",
   "execution_count": 69,
   "metadata": {},
   "outputs": [],
   "source": [
    "# from \n",
    "# https://www.nass.usda.gov/Publications/AgCensus/2012/Online_Resources/Congressional_District_Rankings/ , and\n",
    "# https://www.nass.usda.gov/Publications/AgCensus/2017/Online_Resources/Congressional_District_Rankings/\n",
    "farm_census_2012 = pd.read_csv(r\"C:\\Users\\mikha\\OneDrive\\Desktop\\Dropbox\\MIKHAEL NEW\\mikhael school\\Grad School\\Master's\\Term 2 Classes\\544\\Replication\\Mkt Value of Agr Products Sold\\2012.csv\")\n",
    "farm_census_2017 = pd.read_csv(r\"C:\\Users\\mikha\\OneDrive\\Desktop\\Dropbox\\MIKHAEL NEW\\mikhael school\\Grad School\\Master's\\Term 2 Classes\\544\\Replication\\Mkt Value of Agr Products Sold\\2017.csv\")\n",
    "\n",
    "farm_census_2012['year'] = 2012\n",
    "farm_census_2017['year'] = 2017\n",
    "\n",
    "# merge 2012 and 2017\n",
    "farm_census = pd.concat([farm_census_2012, farm_census_2017])\n",
    "\n",
    "del farm_census_2012, farm_census_2017"
   ]
  },
  {
   "cell_type": "markdown",
   "metadata": {},
   "source": [
    "### Some Text Cleaning"
   ]
  },
  {
   "cell_type": "code",
   "execution_count": 70,
   "metadata": {},
   "outputs": [],
   "source": [
    "# upper-case\n",
    "farm_census['state'] = [x.upper() for x in farm_census['state']]\n",
    "\n",
    "#remove non-alphabet characters\n",
    "farm_census['state'] = farm_census['state'].str.replace('\\d+', '')\n",
    "farm_census['state'] = farm_census['state'].str.replace('/', '')"
   ]
  },
  {
   "cell_type": "code",
   "execution_count": 71,
   "metadata": {},
   "outputs": [],
   "source": [
    "# narrow down districts we can focus the analysis on\n",
    "usable_districts = {state:set() for state in farm_census['state']}"
   ]
  },
  {
   "cell_type": "code",
   "execution_count": 72,
   "metadata": {},
   "outputs": [],
   "source": [
    "for state_dist in list(zip(farm_census['state'], farm_census['district'])):\n",
    "    if state_dist[1] != 'At Large':\n",
    "        usable_districts[state_dist[0]].add(int(state_dist[1]))\n",
    "    else:\n",
    "        usable_districts[state_dist[0]].add(state_dist[1])"
   ]
  },
  {
   "cell_type": "markdown",
   "metadata": {},
   "source": [
    "## Election Data (House of Rep's)\n",
    "\n",
    "Include Senate data (same source)? Only catch is it isn't as specific to the agricultural districts. Could still be useful as a baseline."
   ]
  },
  {
   "cell_type": "code",
   "execution_count": 109,
   "metadata": {},
   "outputs": [],
   "source": [
    "# from https://electionlab.mit.edu/data \n",
    "elec_df = pd.read_csv(r\"C:\\Users\\mikha\\OneDrive\\Desktop\\Dropbox\\MIKHAEL NEW\\mikhael school\\Grad School\\Master's\\Term 2 Classes\\544\\Replication\\1976-2018 US House Election Data.csv\", engine='python')\n",
    "\n",
    "#drop useless columns (one unique value and/or irrelevant info)\n",
    "elec_df.drop(['office', 'candidate', 'mode', 'version'], axis=1, inplace=True)\n",
    "\n",
    "#drop if not Democratic or Republican candidate (MAYBE KEEP LIBERTARIANS?)\n",
    "elec_df = elec_df[elec_df['party'].isin(['DEMOCRAT','REPUBLICAN', 'LIBERTARIAN'])]"
   ]
  },
  {
   "cell_type": "markdown",
   "metadata": {},
   "source": [
    "### Drop election observations corresponding to *non-agricultural* districts\n",
    "\n",
    "Note that we may need to undo this later to create some sort of baseline"
   ]
  },
  {
   "cell_type": "code",
   "execution_count": 110,
   "metadata": {},
   "outputs": [],
   "source": [
    "# DROP IF NOT A BIG AGRICULTURAL DISTRICT (that we have economic/agricultural data for)\n",
    "\n",
    "# NOTE: still need to sort out \"at large\" stuff\n",
    "\n",
    "# this loop just appends 0 or 1 to the vector \"usable_obs\" if we have economic/agricultural data for that district\n",
    "usable_obs = []\n",
    "for i, row in elec_df.iterrows():\n",
    "    if row['state'] in usable_districts and row['district'] in usable_districts[row['state']]:\n",
    "        usable_obs.append(1)\n",
    "    else:\n",
    "        usable_obs.append(0)\n",
    "\n",
    "# here we bring this vector into the df        \n",
    "elec_df['usable'] = usable_obs\n",
    "\n",
    "del usable_obs\n",
    "\n",
    "# finally, drop all observations that don't correspond to \"usable\" districts. \n",
    "# This leaves us with 2974 election observations\n",
    "elec_df = elec_df[elec_df['usable']==1]"
   ]
  },
  {
   "cell_type": "markdown",
   "metadata": {},
   "source": [
    "# To Do Next!\n",
    "\n",
    "Figure out who won each election, and by how much, and whether they're an incumbent.\n",
    "\n",
    "Then, a ton of data munging to do on Drought data"
   ]
  },
  {
   "cell_type": "code",
   "execution_count": 4,
   "metadata": {},
   "outputs": [],
   "source": [
    "#create a \"winner\" variable\n",
    "#first, create a dict\n",
    "\n",
    "voting_dict\n",
    "\n",
    "#create a \"vote share\" variable\n",
    "\n",
    "\n"
   ]
  },
  {
   "cell_type": "markdown",
   "metadata": {},
   "source": [
    "### Drought Data"
   ]
  },
  {
   "cell_type": "code",
   "execution_count": 112,
   "metadata": {},
   "outputs": [],
   "source": [
    "# from https://droughtmonitor.unl.edu/Data/DataDownload/ComprehensiveStatistics.aspx\n",
    "drought_df = pd.read_csv(r\"C:\\Users\\mikha\\OneDrive\\Desktop\\Dropbox\\MIKHAEL NEW\\mikhael school\\Grad School\\Master's\\Term 2 Classes\\544\\Replication\\Drought Data.csv\")"
   ]
  },
  {
   "cell_type": "code",
   "execution_count": 113,
   "metadata": {},
   "outputs": [
    {
     "data": {
      "text/html": [
       "<div>\n",
       "<style scoped>\n",
       "    .dataframe tbody tr th:only-of-type {\n",
       "        vertical-align: middle;\n",
       "    }\n",
       "\n",
       "    .dataframe tbody tr th {\n",
       "        vertical-align: top;\n",
       "    }\n",
       "\n",
       "    .dataframe thead th {\n",
       "        text-align: right;\n",
       "    }\n",
       "</style>\n",
       "<table border=\"1\" class=\"dataframe\">\n",
       "  <thead>\n",
       "    <tr style=\"text-align: right;\">\n",
       "      <th></th>\n",
       "      <th>MapDate</th>\n",
       "      <th>FIPS</th>\n",
       "      <th>County</th>\n",
       "      <th>State</th>\n",
       "      <th>None</th>\n",
       "      <th>D0</th>\n",
       "      <th>D1</th>\n",
       "      <th>D2</th>\n",
       "      <th>D3</th>\n",
       "      <th>D4</th>\n",
       "      <th>ValidStart</th>\n",
       "      <th>ValidEnd</th>\n",
       "      <th>StatisticFormatID</th>\n",
       "    </tr>\n",
       "  </thead>\n",
       "  <tbody>\n",
       "    <tr>\n",
       "      <th>0</th>\n",
       "      <td>20210209</td>\n",
       "      <td>2013</td>\n",
       "      <td>Aleutians East Borough</td>\n",
       "      <td>AK</td>\n",
       "      <td>100.00</td>\n",
       "      <td>0.00</td>\n",
       "      <td>0.0</td>\n",
       "      <td>0.0</td>\n",
       "      <td>0.0</td>\n",
       "      <td>0.0</td>\n",
       "      <td>2021-02-09</td>\n",
       "      <td>2021-02-15</td>\n",
       "      <td>1</td>\n",
       "    </tr>\n",
       "    <tr>\n",
       "      <th>1</th>\n",
       "      <td>20210202</td>\n",
       "      <td>2013</td>\n",
       "      <td>Aleutians East Borough</td>\n",
       "      <td>AK</td>\n",
       "      <td>100.00</td>\n",
       "      <td>0.00</td>\n",
       "      <td>0.0</td>\n",
       "      <td>0.0</td>\n",
       "      <td>0.0</td>\n",
       "      <td>0.0</td>\n",
       "      <td>2021-02-02</td>\n",
       "      <td>2021-02-08</td>\n",
       "      <td>1</td>\n",
       "    </tr>\n",
       "    <tr>\n",
       "      <th>2</th>\n",
       "      <td>20210126</td>\n",
       "      <td>2013</td>\n",
       "      <td>Aleutians East Borough</td>\n",
       "      <td>AK</td>\n",
       "      <td>100.00</td>\n",
       "      <td>0.00</td>\n",
       "      <td>0.0</td>\n",
       "      <td>0.0</td>\n",
       "      <td>0.0</td>\n",
       "      <td>0.0</td>\n",
       "      <td>2021-01-26</td>\n",
       "      <td>2021-02-01</td>\n",
       "      <td>1</td>\n",
       "    </tr>\n",
       "    <tr>\n",
       "      <th>3</th>\n",
       "      <td>20210119</td>\n",
       "      <td>2013</td>\n",
       "      <td>Aleutians East Borough</td>\n",
       "      <td>AK</td>\n",
       "      <td>100.00</td>\n",
       "      <td>0.00</td>\n",
       "      <td>0.0</td>\n",
       "      <td>0.0</td>\n",
       "      <td>0.0</td>\n",
       "      <td>0.0</td>\n",
       "      <td>2021-01-19</td>\n",
       "      <td>2021-01-25</td>\n",
       "      <td>1</td>\n",
       "    </tr>\n",
       "    <tr>\n",
       "      <th>4</th>\n",
       "      <td>20210112</td>\n",
       "      <td>2013</td>\n",
       "      <td>Aleutians East Borough</td>\n",
       "      <td>AK</td>\n",
       "      <td>100.00</td>\n",
       "      <td>0.00</td>\n",
       "      <td>0.0</td>\n",
       "      <td>0.0</td>\n",
       "      <td>0.0</td>\n",
       "      <td>0.0</td>\n",
       "      <td>2021-01-12</td>\n",
       "      <td>2021-01-18</td>\n",
       "      <td>1</td>\n",
       "    </tr>\n",
       "    <tr>\n",
       "      <th>...</th>\n",
       "      <td>...</td>\n",
       "      <td>...</td>\n",
       "      <td>...</td>\n",
       "      <td>...</td>\n",
       "      <td>...</td>\n",
       "      <td>...</td>\n",
       "      <td>...</td>\n",
       "      <td>...</td>\n",
       "      <td>...</td>\n",
       "      <td>...</td>\n",
       "      <td>...</td>\n",
       "      <td>...</td>\n",
       "      <td>...</td>\n",
       "    </tr>\n",
       "    <tr>\n",
       "      <th>3547333</th>\n",
       "      <td>20000201</td>\n",
       "      <td>56045</td>\n",
       "      <td>Weston County</td>\n",
       "      <td>WY</td>\n",
       "      <td>100.00</td>\n",
       "      <td>0.00</td>\n",
       "      <td>0.0</td>\n",
       "      <td>0.0</td>\n",
       "      <td>0.0</td>\n",
       "      <td>0.0</td>\n",
       "      <td>2000-02-01</td>\n",
       "      <td>2000-02-07</td>\n",
       "      <td>1</td>\n",
       "    </tr>\n",
       "    <tr>\n",
       "      <th>3547334</th>\n",
       "      <td>20000125</td>\n",
       "      <td>56045</td>\n",
       "      <td>Weston County</td>\n",
       "      <td>WY</td>\n",
       "      <td>3.93</td>\n",
       "      <td>96.07</td>\n",
       "      <td>0.0</td>\n",
       "      <td>0.0</td>\n",
       "      <td>0.0</td>\n",
       "      <td>0.0</td>\n",
       "      <td>2000-01-25</td>\n",
       "      <td>2000-01-31</td>\n",
       "      <td>1</td>\n",
       "    </tr>\n",
       "    <tr>\n",
       "      <th>3547335</th>\n",
       "      <td>20000118</td>\n",
       "      <td>56045</td>\n",
       "      <td>Weston County</td>\n",
       "      <td>WY</td>\n",
       "      <td>100.00</td>\n",
       "      <td>0.00</td>\n",
       "      <td>0.0</td>\n",
       "      <td>0.0</td>\n",
       "      <td>0.0</td>\n",
       "      <td>0.0</td>\n",
       "      <td>2000-01-18</td>\n",
       "      <td>2000-01-24</td>\n",
       "      <td>1</td>\n",
       "    </tr>\n",
       "    <tr>\n",
       "      <th>3547336</th>\n",
       "      <td>20000111</td>\n",
       "      <td>56045</td>\n",
       "      <td>Weston County</td>\n",
       "      <td>WY</td>\n",
       "      <td>100.00</td>\n",
       "      <td>0.00</td>\n",
       "      <td>0.0</td>\n",
       "      <td>0.0</td>\n",
       "      <td>0.0</td>\n",
       "      <td>0.0</td>\n",
       "      <td>2000-01-11</td>\n",
       "      <td>2000-01-17</td>\n",
       "      <td>1</td>\n",
       "    </tr>\n",
       "    <tr>\n",
       "      <th>3547337</th>\n",
       "      <td>20000104</td>\n",
       "      <td>56045</td>\n",
       "      <td>Weston County</td>\n",
       "      <td>WY</td>\n",
       "      <td>100.00</td>\n",
       "      <td>0.00</td>\n",
       "      <td>0.0</td>\n",
       "      <td>0.0</td>\n",
       "      <td>0.0</td>\n",
       "      <td>0.0</td>\n",
       "      <td>2000-01-04</td>\n",
       "      <td>2000-01-10</td>\n",
       "      <td>1</td>\n",
       "    </tr>\n",
       "  </tbody>\n",
       "</table>\n",
       "<p>3547338 rows × 13 columns</p>\n",
       "</div>"
      ],
      "text/plain": [
       "          MapDate   FIPS                  County State    None     D0   D1  \\\n",
       "0        20210209   2013  Aleutians East Borough    AK  100.00   0.00  0.0   \n",
       "1        20210202   2013  Aleutians East Borough    AK  100.00   0.00  0.0   \n",
       "2        20210126   2013  Aleutians East Borough    AK  100.00   0.00  0.0   \n",
       "3        20210119   2013  Aleutians East Borough    AK  100.00   0.00  0.0   \n",
       "4        20210112   2013  Aleutians East Borough    AK  100.00   0.00  0.0   \n",
       "...           ...    ...                     ...   ...     ...    ...  ...   \n",
       "3547333  20000201  56045           Weston County    WY  100.00   0.00  0.0   \n",
       "3547334  20000125  56045           Weston County    WY    3.93  96.07  0.0   \n",
       "3547335  20000118  56045           Weston County    WY  100.00   0.00  0.0   \n",
       "3547336  20000111  56045           Weston County    WY  100.00   0.00  0.0   \n",
       "3547337  20000104  56045           Weston County    WY  100.00   0.00  0.0   \n",
       "\n",
       "          D2   D3   D4  ValidStart    ValidEnd  StatisticFormatID  \n",
       "0        0.0  0.0  0.0  2021-02-09  2021-02-15                  1  \n",
       "1        0.0  0.0  0.0  2021-02-02  2021-02-08                  1  \n",
       "2        0.0  0.0  0.0  2021-01-26  2021-02-01                  1  \n",
       "3        0.0  0.0  0.0  2021-01-19  2021-01-25                  1  \n",
       "4        0.0  0.0  0.0  2021-01-12  2021-01-18                  1  \n",
       "...      ...  ...  ...         ...         ...                ...  \n",
       "3547333  0.0  0.0  0.0  2000-02-01  2000-02-07                  1  \n",
       "3547334  0.0  0.0  0.0  2000-01-25  2000-01-31                  1  \n",
       "3547335  0.0  0.0  0.0  2000-01-18  2000-01-24                  1  \n",
       "3547336  0.0  0.0  0.0  2000-01-11  2000-01-17                  1  \n",
       "3547337  0.0  0.0  0.0  2000-01-04  2000-01-10                  1  \n",
       "\n",
       "[3547338 rows x 13 columns]"
      ]
     },
     "execution_count": 113,
     "metadata": {},
     "output_type": "execute_result"
    }
   ],
   "source": [
    "drought_df"
   ]
  }
 ],
 "metadata": {
  "author": "mes",
  "kernelspec": {
   "display_name": "Python 3",
   "language": "python",
   "name": "python3"
  },
  "language_info": {
   "codemirror_mode": {
    "name": "ipython",
    "version": 3
   },
   "file_extension": ".py",
   "mimetype": "text/x-python",
   "name": "python",
   "nbconvert_exporter": "python",
   "pygments_lexer": "ipython3",
   "version": "3.8.5"
  },
  "latex_envs": {
   "LaTeX_envs_menu_present": true,
   "autoclose": true,
   "autocomplete": true,
   "bibliofile": "biblio.bib",
   "cite_by": "apalike",
   "current_citInitial": 1,
   "eqLabelWithNumbers": true,
   "eqNumInitial": 1,
   "hotkeys": {
    "equation": "Ctrl-E",
    "itemize": "Ctrl-I"
   },
   "labels_anchors": false,
   "latex_user_defs": false,
   "report_style_numbering": false,
   "user_envs_cfg": false
  },
  "toc": {
   "base_numbering": 1,
   "nav_menu": {},
   "number_sections": true,
   "sideBar": true,
   "skip_h1_title": false,
   "title_cell": "Table of Contents",
   "title_sidebar": "Contents",
   "toc_cell": false,
   "toc_position": {},
   "toc_section_display": true,
   "toc_window_display": false
  }
 },
 "nbformat": 4,
 "nbformat_minor": 4
}
