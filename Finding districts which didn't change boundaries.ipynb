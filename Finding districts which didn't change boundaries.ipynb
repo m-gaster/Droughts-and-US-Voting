{
 "cells": [
  {
   "cell_type": "code",
   "execution_count": 1,
   "metadata": {},
   "outputs": [
    {
     "data": {
      "text/html": [
       "<style>.container { width:95% !important; }</style>"
      ],
      "text/plain": [
       "<IPython.core.display.HTML object>"
      ]
     },
     "metadata": {},
     "output_type": "display_data"
    }
   ],
   "source": [
    "from IPython.core.display import display, HTML\n",
    "display(HTML(\"<style>.container { width:95% !important; }</style>\"))"
   ]
  },
  {
   "cell_type": "code",
   "execution_count": 2,
   "metadata": {},
   "outputs": [],
   "source": [
    "import pandas as pd\n",
    "import numpy as np\n",
    "import geopandas as gpd\n",
    "import shapely\n",
    "from shapely.geometry import shape\n",
    "from tqdm import tqdm"
   ]
  },
  {
   "cell_type": "code",
   "execution_count": 3,
   "metadata": {},
   "outputs": [],
   "source": [
    "gdf = gpd.read_file(\"2021-04-08 - elec_df.gpkg\")"
   ]
  },
  {
   "cell_type": "code",
   "execution_count": 4,
   "metadata": {},
   "outputs": [],
   "source": [
    "collapsed_elec_gdf = gdf.groupby(by=['state', 'year', 'district']).mean().reset_index()"
   ]
  },
  {
   "cell_type": "markdown",
   "metadata": {},
   "source": [
    "## Identifying districts which don't (or barely) change boundaries from one period to the next\n",
    "\n",
    "Note that I could just "
   ]
  },
  {
   "cell_type": "code",
   "execution_count": 5,
   "metadata": {},
   "outputs": [],
   "source": [
    "district_changing_dict = {}\n",
    "\n",
    "for i,x in gdf[['state', 'year', 'district', 'geometry']].iterrows():\n",
    "    district_changing_dict[ x['state'] ] = {}\n",
    "    \n",
    "for i,x in gdf[['state', 'year', 'district', 'geometry']].iterrows():\n",
    "    district_changing_dict[ x['state'] ][ x['district'] ] = {}\n",
    "    \n",
    "for i,x in gdf[['state', 'year', 'district', 'geometry']].iterrows():\n",
    "    district_changing_dict[ x['state'] ][ x['district'] ][ x['year'] ] = x['geometry']"
   ]
  },
  {
   "cell_type": "code",
   "execution_count": 6,
   "metadata": {},
   "outputs": [],
   "source": [
    "def percent_overlap(area1, area2):\n",
    "    return (area1.intersection(area2).area) / (((area2.area) + (area1.area))/2)"
   ]
  },
  {
   "cell_type": "code",
   "execution_count": 18,
   "metadata": {},
   "outputs": [],
   "source": [
    "# # thresholds = [.8]\n",
    "# thresholds = [.7, .75, .8, .85, .9, .95]\n",
    "# dist_didnt_change_dict = {thresh:{} for thresh in thresholds}\n",
    "\n",
    "# # CURRENT VERSION - MOST PRECISE\n",
    "\n",
    "# for threshold in dist_didnt_change_dict:\n",
    "\n",
    "#     for state in tqdm(district_changing_dict):\n",
    "#         print(state, threshold, '!!!!!!!!!!!!')\n",
    "#         dist_didnt_change_dict[threshold][state] = {}    \n",
    "        \n",
    "#         for district in district_changing_dict[state]:\n",
    "#             dist_didnt_change_dict[threshold][state][district] = {2000: 1}\n",
    "#             print(f'Now attempting {district}:')\n",
    "#             print(dist_didnt_change_dict[threshold][state])\n",
    "#             for year in [2000, 2002, 2004, 2006, 2008, 2010, 2012, 2014, 2016, 2018]:\n",
    "                \n",
    "#                 try:\n",
    "#                     if percent_overlap(district_changing_dict[state][district][year], district_changing_dict[state][district][year + 2]) >= threshold:\n",
    "#                         dist_didnt_change_dict[threshold][state][district][year + 2] = 1\n",
    "#                     else:\n",
    "#                         dist_didnt_change_dict[threshold][state][district][year + 2] = 0\n",
    "\n",
    "#                 except Exception as e:\n",
    "#                     print(e)\n",
    "#                     print(state, district, year)\n",
    "#                     dist_didnt_change_dict[threshold][state][district][year + 2] = 0\n",
    "#             print(f'Just completed {district}:')\n",
    "#             print(dist_didnt_change_dict[threshold][state])"
   ]
  },
  {
   "cell_type": "code",
   "execution_count": null,
   "metadata": {},
   "outputs": [],
   "source": [
    "import json\n",
    "json.dump( dist_didnt_change_dict, open( \"dist_didnt_change_dict.json\", 'w' ) )"
   ]
  },
  {
   "cell_type": "code",
   "execution_count": null,
   "metadata": {},
   "outputs": [],
   "source": [
    "year_to_year_overlap_dict = {}\n",
    "\n",
    "# CURRENT VERSION - MOST PRECISE\n",
    "\n",
    "\n",
    "for state in tqdm(district_changing_dict):\n",
    "    print(state, threshold, '!!!!!!!!!!!!')\n",
    "    year_to_year_overlap_dict[state] = {}    \n",
    "\n",
    "    for district in district_changing_dict[state]:\n",
    "        year_to_year_overlap_dict[state][district] = {2000: 1}\n",
    "        print(f'Now attempting {district}:')\n",
    "        print(year_to_year_overlap_dict[state])\n",
    "        for year in [2000, 2002, 2004, 2006, 2008, 2010, 2012, 2014, 2016, 2018]:\n",
    "\n",
    "            try:\n",
    "                year_to_year_overlap_dict[state][district][year + 2] = percent_overlap(district_changing_dict[state][district][year], district_changing_dict[state][district][year + 2])\n",
    "\n",
    "            except Exception as e:\n",
    "                print(e)\n",
    "                print(state, district, year)\n",
    "                year_to_year_overlap_dict[state][district][year + 2] = 0\n",
    "        print(f'Just completed {district}:')\n",
    "        print(year_to_year_overlap_dict[state])"
   ]
  },
  {
   "cell_type": "code",
   "execution_count": 53,
   "metadata": {},
   "outputs": [],
   "source": [
    "import json\n",
    "json.dump( year_to_year_overlap_dict[.8], open( \"year_to_year_overlap_dict.json\", 'w' ) )\n"
   ]
  },
  {
   "cell_type": "markdown",
   "metadata": {},
   "source": [
    "## Prepare to create a PD df from this dictionary"
   ]
  },
  {
   "cell_type": "code",
   "execution_count": 63,
   "metadata": {},
   "outputs": [],
   "source": [
    "# year_to_year_overlap_dict = year_to_year_overlap_dict[.7]\n",
    "\n",
    "# pre_df_dict = {x:[] for x in [2000, 2002, 2004, 2006, 2008, 2010, 2012, 2014, 2016, 2018, 2020]}\n",
    "# pre_df_dict['state'] = []\n",
    "# pre_df_dict['district'] = []\n",
    "\n",
    "# for state in year_to_year_overlap_dict:\n",
    "#     for district in year_to_year_overlap_dict[state]:\n",
    "#         pre_df_dict['state'].append(state)\n",
    "#         pre_df_dict['district'].append(district)\n",
    "\n",
    "#         for year in year_to_year_overlap_dict[state][district]:\n",
    "#             pre_df_dict[year].append(year_to_year_overlap_dict[state][district][year])\n",
    "\n",
    "\n",
    "# boundary_change_pct_df = pd.DataFrame.from_dict(pre_df_dict)\n",
    "\n",
    "# boundary_change_pct_df.drop([2016, 2018, 2020], axis=1, inplace=True)"
   ]
  },
  {
   "cell_type": "code",
   "execution_count": null,
   "metadata": {},
   "outputs": [],
   "source": []
  },
  {
   "cell_type": "code",
   "execution_count": 83,
   "metadata": {},
   "outputs": [],
   "source": [
    "pre_df_dict_2 = {'year':[], 'state': [], 'district': [], 'area_similarity':[]}\n",
    "\n",
    "for state in year_to_year_overlap_dict:\n",
    "    \n",
    "    for district in year_to_year_overlap_dict[state]:\n",
    "        \n",
    "        for year in year_to_year_overlap_dict[state][district]:\n",
    "            \n",
    "            pre_df_dict_2['year'].append(year)\n",
    "            pre_df_dict_2['state'].append(state)\n",
    "            pre_df_dict_2['district'].append(district)\n",
    "            \n",
    "            pre_df_dict_2['area_similarity'].append(year_to_year_overlap_dict[state][district][year])\n",
    "        "
   ]
  },
  {
   "cell_type": "code",
   "execution_count": 86,
   "metadata": {},
   "outputs": [],
   "source": [
    "boundary_change_pct_df = pd.DataFrame.from_dict(pre_df_dict_2)\n",
    "\n",
    "boundary_change_pct_df['area_difference'] = 1-boundary_change_pct_df['area_similarity']"
   ]
  },
  {
   "cell_type": "code",
   "execution_count": 89,
   "metadata": {},
   "outputs": [],
   "source": [
    "boundary_change_pct_df.to_csv(r\"Year-to-Year Boundary Changes.csv\")"
   ]
  },
  {
   "cell_type": "code",
   "execution_count": 90,
   "metadata": {},
   "outputs": [],
   "source": [
    "gdf = gdf.merge(boundary_change_pct_df, on=['year','state','district'], how='left')"
   ]
  },
  {
   "cell_type": "code",
   "execution_count": 91,
   "metadata": {},
   "outputs": [],
   "source": [
    "gdf.to_file(\"2021-04-08 - elec_df.gpkg\", driver=\"GPKG\")"
   ]
  },
  {
   "cell_type": "code",
   "execution_count": null,
   "metadata": {},
   "outputs": [],
   "source": []
  },
  {
   "cell_type": "code",
   "execution_count": 92,
   "metadata": {},
   "outputs": [],
   "source": [
    "df = pd.DataFrame(gdf.drop('geometry', axis=1))"
   ]
  },
  {
   "cell_type": "code",
   "execution_count": 94,
   "metadata": {},
   "outputs": [],
   "source": [
    "df.to_csv(\"elec_df - 4-13-2021 (with boundary changes).csv\")"
   ]
  },
  {
   "cell_type": "code",
   "execution_count": null,
   "metadata": {},
   "outputs": [],
   "source": []
  },
  {
   "cell_type": "code",
   "execution_count": null,
   "metadata": {},
   "outputs": [],
   "source": []
  },
  {
   "cell_type": "code",
   "execution_count": null,
   "metadata": {},
   "outputs": [],
   "source": []
  }
 ],
 "metadata": {
  "kernelspec": {
   "display_name": "Python [conda env:geopandas_env]",
   "language": "python",
   "name": "conda-env-geopandas_env-py"
  },
  "language_info": {
   "codemirror_mode": {
    "name": "ipython",
    "version": 3
   },
   "file_extension": ".py",
   "mimetype": "text/x-python",
   "name": "python",
   "nbconvert_exporter": "python",
   "pygments_lexer": "ipython3",
   "version": "3.8.8"
  },
  "latex_envs": {
   "LaTeX_envs_menu_present": true,
   "autoclose": true,
   "autocomplete": true,
   "bibliofile": "biblio.bib",
   "cite_by": "apalike",
   "current_citInitial": 1,
   "eqLabelWithNumbers": true,
   "eqNumInitial": 1,
   "hotkeys": {
    "equation": "Ctrl-E",
    "itemize": "Ctrl-I"
   },
   "labels_anchors": false,
   "latex_user_defs": false,
   "report_style_numbering": false,
   "user_envs_cfg": false
  },
  "toc": {
   "base_numbering": 1,
   "nav_menu": {},
   "number_sections": true,
   "sideBar": true,
   "skip_h1_title": false,
   "title_cell": "Table of Contents",
   "title_sidebar": "Contents",
   "toc_cell": false,
   "toc_position": {},
   "toc_section_display": true,
   "toc_window_display": false
  }
 },
 "nbformat": 4,
 "nbformat_minor": 4
}
